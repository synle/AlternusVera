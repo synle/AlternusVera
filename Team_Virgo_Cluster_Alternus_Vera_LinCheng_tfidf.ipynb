{
  "nbformat": 4,
  "nbformat_minor": 0,
  "metadata": {
    "colab": {
      "name": "Team_Virgo_Cluster_Alternus_Vera_LinCheng_tfidf.ipynb",
      "version": "0.3.2",
      "provenance": [],
      "collapsed_sections": []
    },
    "kernelspec": {
      "display_name": "Python 3",
      "language": "python",
      "name": "python3"
    }
  },
  "cells": [
    {
      "metadata": {
        "colab_type": "text",
        "id": "myrJOvEVIhue"
      },
      "cell_type": "markdown",
      "source": [
        "## Team Virgo Cluster - Lin Cheng\n",
        "### Team document link:\n",
        "https://colab.research.google.com/drive/1bOoY6V0ytxSigKuZ6lJntNWJJcTM_6wU\n",
        "\n",
        "### My progress in week#2:\n",
        "- Starting from last week's work in which we got accuracy 0.9 on the LiarLiar dataset, this week I leverage Hyunwook and Yu's data enrichment source, and tried more approaches to enhance the performance.  \n",
        "- With the additional 50K non-fake news samples, I can now make all the LiarLiar data \"bs\" as some types are very few and have close meaning to bs:\n",
        "\"bias            443\n",
        "bs            11492\n",
        "conspiracy      430\n",
        "fake             19\n",
        "hate            246\n",
        "junksci         102\n",
        "satire          146\n",
        "state           121\".  \n",
        "- Calculate TF-IDF scores and get the vectorised doc-word metrix for further modeling.  \n",
        "- Apply differnt ALGs and turn the models, found the best accuracy 95.9% with LogisticRegression(class_weight={\"bs\":5,\"non-bs\":3}, {'C': 1, 'penalty': 'l1'}), which is a notable improvement over last week. \n",
        "- Also played with LDA to see how it works for topic modeling.  \n",
        "\n"
      ]
    },
    {
      "metadata": {
        "colab_type": "text",
        "id": "ebnN4ikZzQtu"
      },
      "cell_type": "markdown",
      "source": [
        "## Datasets\n",
        "Original Kaggle fake news dataset: \n",
        "https://github.com/synle/machine-learning-sample-dataset/raw/master/liar_dataset/kaggle/kaggle-fake.csv\n",
        "\n",
        "Enriched Kaggle news dataset (50,000 verified non-fake news):\n",
        "https://github.com/h7shin/all_news_dataset_kaggle/raw/master/articles1.csv"
      ]
    },
    {
      "metadata": {
        "colab_type": "code",
        "id": "vymCp8X8IHEk",
        "outputId": "0183e459-1f67-4bfb-e52a-dc10e2a5e587",
        "colab": {
          "base_uri": "https://localhost:8080/",
          "height": 108
        }
      },
      "cell_type": "code",
      "source": [
        "# dependencies\n",
        "import pandas as pd\n",
        "import nltk\n",
        "import numpy as np\n",
        "\n",
        "# download nltk stopwords\n",
        "nltk.download('stopwords')\n",
        "nltk.download('wordnet')"
      ],
      "execution_count": 0,
      "outputs": [
        {
          "output_type": "stream",
          "text": [
            "[nltk_data] Downloading package stopwords to /root/nltk_data...\n",
            "[nltk_data]   Unzipping corpora/stopwords.zip.\n",
            "[nltk_data] Downloading package wordnet to /root/nltk_data...\n",
            "[nltk_data]   Unzipping corpora/wordnet.zip.\n"
          ],
          "name": "stdout"
        },
        {
          "output_type": "execute_result",
          "data": {
            "text/plain": [
              "True"
            ]
          },
          "metadata": {
            "tags": []
          },
          "execution_count": 2
        }
      ]
    },
    {
      "metadata": {
        "colab_type": "code",
        "id": "zmVds2371DXz",
        "colab": {}
      },
      "cell_type": "code",
      "source": [
        "import pandas as pd\n",
        "import io\n",
        "import requests\n",
        "\n",
        "def get_parsed_data2(url):\n",
        "    return pd.read_csv(io.StringIO(requests.get(url).content.decode('utf-8')), sep=',', header='infer')\n",
        "\n",
        "# download and parse the dataset...\n",
        "data_kg_fake_news = get_parsed_data2('https://github.com/synle/machine-learning-sample-dataset/raw/master/liar_dataset/kaggle/kaggle-fake.csv')"
      ],
      "execution_count": 0,
      "outputs": []
    },
    {
      "metadata": {
        "id": "3nNG0s4O2bGa",
        "colab_type": "code",
        "colab": {}
      },
      "cell_type": "code",
      "source": [
        "data_kg_nonfake_news = get_parsed_data2('https://github.com/h7shin/all_news_dataset_kaggle/raw/master/articles1.csv')"
      ],
      "execution_count": 0,
      "outputs": []
    },
    {
      "metadata": {
        "id": "tD-Osnm12bGc",
        "colab_type": "code",
        "colab": {}
      },
      "cell_type": "code",
      "source": [
        "data_kg_nonfake_news.rename(columns={\"content\": \"text\"}, inplace=True)\n",
        "data_kg_nonfake_news['type'] = 'non-bs'"
      ],
      "execution_count": 0,
      "outputs": []
    },
    {
      "metadata": {
        "id": "-lsJp6YS2bGf",
        "colab_type": "code",
        "outputId": "3dea8ee3-9d6a-4b99-c17c-808abd7d216f",
        "colab": {
          "base_uri": "https://localhost:8080/",
          "height": 322
        }
      },
      "cell_type": "code",
      "source": [
        "print(data_kg_nonfake_news.shape)\n",
        "data_kg_nonfake_news.head()"
      ],
      "execution_count": 0,
      "outputs": [
        {
          "output_type": "stream",
          "text": [
            "(50000, 11)\n"
          ],
          "name": "stdout"
        },
        {
          "output_type": "execute_result",
          "data": {
            "text/html": [
              "<div>\n",
              "<style scoped>\n",
              "    .dataframe tbody tr th:only-of-type {\n",
              "        vertical-align: middle;\n",
              "    }\n",
              "\n",
              "    .dataframe tbody tr th {\n",
              "        vertical-align: top;\n",
              "    }\n",
              "\n",
              "    .dataframe thead th {\n",
              "        text-align: right;\n",
              "    }\n",
              "</style>\n",
              "<table border=\"1\" class=\"dataframe\">\n",
              "  <thead>\n",
              "    <tr style=\"text-align: right;\">\n",
              "      <th></th>\n",
              "      <th>Unnamed: 0</th>\n",
              "      <th>id</th>\n",
              "      <th>title</th>\n",
              "      <th>publication</th>\n",
              "      <th>author</th>\n",
              "      <th>date</th>\n",
              "      <th>year</th>\n",
              "      <th>month</th>\n",
              "      <th>url</th>\n",
              "      <th>text</th>\n",
              "      <th>type</th>\n",
              "    </tr>\n",
              "  </thead>\n",
              "  <tbody>\n",
              "    <tr>\n",
              "      <th>0</th>\n",
              "      <td>0</td>\n",
              "      <td>17283</td>\n",
              "      <td>House Republicans Fret About Winning Their Hea...</td>\n",
              "      <td>New York Times</td>\n",
              "      <td>Carl Hulse</td>\n",
              "      <td>2016-12-31</td>\n",
              "      <td>2016.0</td>\n",
              "      <td>12.0</td>\n",
              "      <td>NaN</td>\n",
              "      <td>WASHINGTON  —   Congressional Republicans have...</td>\n",
              "      <td>non-bs</td>\n",
              "    </tr>\n",
              "    <tr>\n",
              "      <th>1</th>\n",
              "      <td>1</td>\n",
              "      <td>17284</td>\n",
              "      <td>Rift Between Officers and Residents as Killing...</td>\n",
              "      <td>New York Times</td>\n",
              "      <td>Benjamin Mueller and Al Baker</td>\n",
              "      <td>2017-06-19</td>\n",
              "      <td>2017.0</td>\n",
              "      <td>6.0</td>\n",
              "      <td>NaN</td>\n",
              "      <td>After the bullet shells get counted, the blood...</td>\n",
              "      <td>non-bs</td>\n",
              "    </tr>\n",
              "    <tr>\n",
              "      <th>2</th>\n",
              "      <td>2</td>\n",
              "      <td>17285</td>\n",
              "      <td>Tyrus Wong, ‘Bambi’ Artist Thwarted by Racial ...</td>\n",
              "      <td>New York Times</td>\n",
              "      <td>Margalit Fox</td>\n",
              "      <td>2017-01-06</td>\n",
              "      <td>2017.0</td>\n",
              "      <td>1.0</td>\n",
              "      <td>NaN</td>\n",
              "      <td>When Walt Disney’s “Bambi” opened in 1942, cri...</td>\n",
              "      <td>non-bs</td>\n",
              "    </tr>\n",
              "    <tr>\n",
              "      <th>3</th>\n",
              "      <td>3</td>\n",
              "      <td>17286</td>\n",
              "      <td>Among Deaths in 2016, a Heavy Toll in Pop Musi...</td>\n",
              "      <td>New York Times</td>\n",
              "      <td>William McDonald</td>\n",
              "      <td>2017-04-10</td>\n",
              "      <td>2017.0</td>\n",
              "      <td>4.0</td>\n",
              "      <td>NaN</td>\n",
              "      <td>Death may be the great equalizer, but it isn’t...</td>\n",
              "      <td>non-bs</td>\n",
              "    </tr>\n",
              "    <tr>\n",
              "      <th>4</th>\n",
              "      <td>4</td>\n",
              "      <td>17287</td>\n",
              "      <td>Kim Jong-un Says North Korea Is Preparing to T...</td>\n",
              "      <td>New York Times</td>\n",
              "      <td>Choe Sang-Hun</td>\n",
              "      <td>2017-01-02</td>\n",
              "      <td>2017.0</td>\n",
              "      <td>1.0</td>\n",
              "      <td>NaN</td>\n",
              "      <td>SEOUL, South Korea  —   North Korea’s leader, ...</td>\n",
              "      <td>non-bs</td>\n",
              "    </tr>\n",
              "  </tbody>\n",
              "</table>\n",
              "</div>"
            ],
            "text/plain": [
              "   Unnamed: 0     id                                              title  \\\n",
              "0           0  17283  House Republicans Fret About Winning Their Hea...   \n",
              "1           1  17284  Rift Between Officers and Residents as Killing...   \n",
              "2           2  17285  Tyrus Wong, ‘Bambi’ Artist Thwarted by Racial ...   \n",
              "3           3  17286  Among Deaths in 2016, a Heavy Toll in Pop Musi...   \n",
              "4           4  17287  Kim Jong-un Says North Korea Is Preparing to T...   \n",
              "\n",
              "      publication                         author        date    year  month  \\\n",
              "0  New York Times                     Carl Hulse  2016-12-31  2016.0   12.0   \n",
              "1  New York Times  Benjamin Mueller and Al Baker  2017-06-19  2017.0    6.0   \n",
              "2  New York Times                   Margalit Fox  2017-01-06  2017.0    1.0   \n",
              "3  New York Times               William McDonald  2017-04-10  2017.0    4.0   \n",
              "4  New York Times                  Choe Sang-Hun  2017-01-02  2017.0    1.0   \n",
              "\n",
              "   url                                               text    type  \n",
              "0  NaN  WASHINGTON  —   Congressional Republicans have...  non-bs  \n",
              "1  NaN  After the bullet shells get counted, the blood...  non-bs  \n",
              "2  NaN  When Walt Disney’s “Bambi” opened in 1942, cri...  non-bs  \n",
              "3  NaN  Death may be the great equalizer, but it isn’t...  non-bs  \n",
              "4  NaN  SEOUL, South Korea  —   North Korea’s leader, ...  non-bs  "
            ]
          },
          "metadata": {
            "tags": []
          },
          "execution_count": 6
        }
      ]
    },
    {
      "metadata": {
        "colab_type": "code",
        "id": "wflDgVH289N1",
        "outputId": "f78ade91-3c42-4f79-96af-3704097e8e77",
        "scrolled": true,
        "colab": {
          "base_uri": "https://localhost:8080/",
          "height": 581
        }
      },
      "cell_type": "code",
      "source": [
        "data_kg_fake_news.head()"
      ],
      "execution_count": 0,
      "outputs": [
        {
          "output_type": "execute_result",
          "data": {
            "text/html": [
              "<div>\n",
              "<style scoped>\n",
              "    .dataframe tbody tr th:only-of-type {\n",
              "        vertical-align: middle;\n",
              "    }\n",
              "\n",
              "    .dataframe tbody tr th {\n",
              "        vertical-align: top;\n",
              "    }\n",
              "\n",
              "    .dataframe thead th {\n",
              "        text-align: right;\n",
              "    }\n",
              "</style>\n",
              "<table border=\"1\" class=\"dataframe\">\n",
              "  <thead>\n",
              "    <tr style=\"text-align: right;\">\n",
              "      <th></th>\n",
              "      <th>uuid</th>\n",
              "      <th>ord_in_thread</th>\n",
              "      <th>author</th>\n",
              "      <th>published</th>\n",
              "      <th>title</th>\n",
              "      <th>text</th>\n",
              "      <th>language</th>\n",
              "      <th>crawled</th>\n",
              "      <th>site_url</th>\n",
              "      <th>country</th>\n",
              "      <th>domain_rank</th>\n",
              "      <th>thread_title</th>\n",
              "      <th>spam_score</th>\n",
              "      <th>main_img_url</th>\n",
              "      <th>replies_count</th>\n",
              "      <th>participants_count</th>\n",
              "      <th>likes</th>\n",
              "      <th>comments</th>\n",
              "      <th>shares</th>\n",
              "      <th>type</th>\n",
              "    </tr>\n",
              "  </thead>\n",
              "  <tbody>\n",
              "    <tr>\n",
              "      <th>0</th>\n",
              "      <td>6a175f46bcd24d39b3e962ad0f29936721db70db</td>\n",
              "      <td>0</td>\n",
              "      <td>Barracuda Brigade</td>\n",
              "      <td>2016-10-26T21:41:00.000+03:00</td>\n",
              "      <td>Muslims BUSTED: They Stole Millions In Gov’t B...</td>\n",
              "      <td>Print They should pay all the back all the mon...</td>\n",
              "      <td>english</td>\n",
              "      <td>2016-10-27T01:49:27.168+03:00</td>\n",
              "      <td>100percentfedup.com</td>\n",
              "      <td>US</td>\n",
              "      <td>25689.0</td>\n",
              "      <td>Muslims BUSTED: They Stole Millions In Gov’t B...</td>\n",
              "      <td>0.000</td>\n",
              "      <td>http://bb4sp.com/wp-content/uploads/2016/10/Fu...</td>\n",
              "      <td>0</td>\n",
              "      <td>1</td>\n",
              "      <td>0</td>\n",
              "      <td>0</td>\n",
              "      <td>0</td>\n",
              "      <td>bias</td>\n",
              "    </tr>\n",
              "    <tr>\n",
              "      <th>1</th>\n",
              "      <td>2bdc29d12605ef9cf3f09f9875040a7113be5d5b</td>\n",
              "      <td>0</td>\n",
              "      <td>reasoning with facts</td>\n",
              "      <td>2016-10-29T08:47:11.259+03:00</td>\n",
              "      <td>Re: Why Did Attorney General Loretta Lynch Ple...</td>\n",
              "      <td>Why Did Attorney General Loretta Lynch Plead T...</td>\n",
              "      <td>english</td>\n",
              "      <td>2016-10-29T08:47:11.259+03:00</td>\n",
              "      <td>100percentfedup.com</td>\n",
              "      <td>US</td>\n",
              "      <td>25689.0</td>\n",
              "      <td>Re: Why Did Attorney General Loretta Lynch Ple...</td>\n",
              "      <td>0.000</td>\n",
              "      <td>http://bb4sp.com/wp-content/uploads/2016/10/Fu...</td>\n",
              "      <td>0</td>\n",
              "      <td>1</td>\n",
              "      <td>0</td>\n",
              "      <td>0</td>\n",
              "      <td>0</td>\n",
              "      <td>bias</td>\n",
              "    </tr>\n",
              "    <tr>\n",
              "      <th>2</th>\n",
              "      <td>c70e149fdd53de5e61c29281100b9de0ed268bc3</td>\n",
              "      <td>0</td>\n",
              "      <td>Barracuda Brigade</td>\n",
              "      <td>2016-10-31T01:41:49.479+02:00</td>\n",
              "      <td>BREAKING: Weiner Cooperating With FBI On Hilla...</td>\n",
              "      <td>Red State : \\nFox News Sunday reported this mo...</td>\n",
              "      <td>english</td>\n",
              "      <td>2016-10-31T01:41:49.479+02:00</td>\n",
              "      <td>100percentfedup.com</td>\n",
              "      <td>US</td>\n",
              "      <td>25689.0</td>\n",
              "      <td>BREAKING: Weiner Cooperating With FBI On Hilla...</td>\n",
              "      <td>0.000</td>\n",
              "      <td>http://bb4sp.com/wp-content/uploads/2016/10/Fu...</td>\n",
              "      <td>0</td>\n",
              "      <td>1</td>\n",
              "      <td>0</td>\n",
              "      <td>0</td>\n",
              "      <td>0</td>\n",
              "      <td>bias</td>\n",
              "    </tr>\n",
              "    <tr>\n",
              "      <th>3</th>\n",
              "      <td>7cf7c15731ac2a116dd7f629bd57ea468ed70284</td>\n",
              "      <td>0</td>\n",
              "      <td>Fed Up</td>\n",
              "      <td>2016-11-01T05:22:00.000+02:00</td>\n",
              "      <td>PIN DROP SPEECH BY FATHER OF DAUGHTER Kidnappe...</td>\n",
              "      <td>Email Kayla Mueller was a prisoner and torture...</td>\n",
              "      <td>english</td>\n",
              "      <td>2016-11-01T15:46:26.304+02:00</td>\n",
              "      <td>100percentfedup.com</td>\n",
              "      <td>US</td>\n",
              "      <td>25689.0</td>\n",
              "      <td>PIN DROP SPEECH BY FATHER OF DAUGHTER Kidnappe...</td>\n",
              "      <td>0.068</td>\n",
              "      <td>http://100percentfedup.com/wp-content/uploads/...</td>\n",
              "      <td>0</td>\n",
              "      <td>0</td>\n",
              "      <td>0</td>\n",
              "      <td>0</td>\n",
              "      <td>0</td>\n",
              "      <td>bias</td>\n",
              "    </tr>\n",
              "    <tr>\n",
              "      <th>4</th>\n",
              "      <td>0206b54719c7e241ffe0ad4315b808290dbe6c0f</td>\n",
              "      <td>0</td>\n",
              "      <td>Fed Up</td>\n",
              "      <td>2016-11-01T21:56:00.000+02:00</td>\n",
              "      <td>FANTASTIC! TRUMP'S 7 POINT PLAN To Reform Heal...</td>\n",
              "      <td>Email HEALTHCARE REFORM TO MAKE AMERICA GREAT ...</td>\n",
              "      <td>english</td>\n",
              "      <td>2016-11-01T23:59:42.266+02:00</td>\n",
              "      <td>100percentfedup.com</td>\n",
              "      <td>US</td>\n",
              "      <td>25689.0</td>\n",
              "      <td>FANTASTIC! TRUMP'S 7 POINT PLAN To Reform Heal...</td>\n",
              "      <td>0.865</td>\n",
              "      <td>http://100percentfedup.com/wp-content/uploads/...</td>\n",
              "      <td>0</td>\n",
              "      <td>0</td>\n",
              "      <td>0</td>\n",
              "      <td>0</td>\n",
              "      <td>0</td>\n",
              "      <td>bias</td>\n",
              "    </tr>\n",
              "  </tbody>\n",
              "</table>\n",
              "</div>"
            ],
            "text/plain": [
              "                                       uuid  ord_in_thread  \\\n",
              "0  6a175f46bcd24d39b3e962ad0f29936721db70db              0   \n",
              "1  2bdc29d12605ef9cf3f09f9875040a7113be5d5b              0   \n",
              "2  c70e149fdd53de5e61c29281100b9de0ed268bc3              0   \n",
              "3  7cf7c15731ac2a116dd7f629bd57ea468ed70284              0   \n",
              "4  0206b54719c7e241ffe0ad4315b808290dbe6c0f              0   \n",
              "\n",
              "                 author                      published  \\\n",
              "0     Barracuda Brigade  2016-10-26T21:41:00.000+03:00   \n",
              "1  reasoning with facts  2016-10-29T08:47:11.259+03:00   \n",
              "2     Barracuda Brigade  2016-10-31T01:41:49.479+02:00   \n",
              "3                Fed Up  2016-11-01T05:22:00.000+02:00   \n",
              "4                Fed Up  2016-11-01T21:56:00.000+02:00   \n",
              "\n",
              "                                               title  \\\n",
              "0  Muslims BUSTED: They Stole Millions In Gov’t B...   \n",
              "1  Re: Why Did Attorney General Loretta Lynch Ple...   \n",
              "2  BREAKING: Weiner Cooperating With FBI On Hilla...   \n",
              "3  PIN DROP SPEECH BY FATHER OF DAUGHTER Kidnappe...   \n",
              "4  FANTASTIC! TRUMP'S 7 POINT PLAN To Reform Heal...   \n",
              "\n",
              "                                                text language  \\\n",
              "0  Print They should pay all the back all the mon...  english   \n",
              "1  Why Did Attorney General Loretta Lynch Plead T...  english   \n",
              "2  Red State : \\nFox News Sunday reported this mo...  english   \n",
              "3  Email Kayla Mueller was a prisoner and torture...  english   \n",
              "4  Email HEALTHCARE REFORM TO MAKE AMERICA GREAT ...  english   \n",
              "\n",
              "                         crawled             site_url country  domain_rank  \\\n",
              "0  2016-10-27T01:49:27.168+03:00  100percentfedup.com      US      25689.0   \n",
              "1  2016-10-29T08:47:11.259+03:00  100percentfedup.com      US      25689.0   \n",
              "2  2016-10-31T01:41:49.479+02:00  100percentfedup.com      US      25689.0   \n",
              "3  2016-11-01T15:46:26.304+02:00  100percentfedup.com      US      25689.0   \n",
              "4  2016-11-01T23:59:42.266+02:00  100percentfedup.com      US      25689.0   \n",
              "\n",
              "                                        thread_title  spam_score  \\\n",
              "0  Muslims BUSTED: They Stole Millions In Gov’t B...       0.000   \n",
              "1  Re: Why Did Attorney General Loretta Lynch Ple...       0.000   \n",
              "2  BREAKING: Weiner Cooperating With FBI On Hilla...       0.000   \n",
              "3  PIN DROP SPEECH BY FATHER OF DAUGHTER Kidnappe...       0.068   \n",
              "4  FANTASTIC! TRUMP'S 7 POINT PLAN To Reform Heal...       0.865   \n",
              "\n",
              "                                        main_img_url  replies_count  \\\n",
              "0  http://bb4sp.com/wp-content/uploads/2016/10/Fu...              0   \n",
              "1  http://bb4sp.com/wp-content/uploads/2016/10/Fu...              0   \n",
              "2  http://bb4sp.com/wp-content/uploads/2016/10/Fu...              0   \n",
              "3  http://100percentfedup.com/wp-content/uploads/...              0   \n",
              "4  http://100percentfedup.com/wp-content/uploads/...              0   \n",
              "\n",
              "   participants_count  likes  comments  shares  type  \n",
              "0                   1      0         0       0  bias  \n",
              "1                   1      0         0       0  bias  \n",
              "2                   1      0         0       0  bias  \n",
              "3                   0      0         0       0  bias  \n",
              "4                   0      0         0       0  bias  "
            ]
          },
          "metadata": {
            "tags": []
          },
          "execution_count": 7
        }
      ]
    },
    {
      "metadata": {
        "id": "sScy8EdX2bGp",
        "colab_type": "text"
      },
      "cell_type": "markdown",
      "source": [
        "\n",
        "\n",
        "## Transform data\n",
        "\n",
        "Combine those two datasets, mark data \"bias 443 bs 11492 conspiracy 430 fake 19 hate 246 junksci 102 satire 146 state 121\" to \"bs\"."
      ]
    },
    {
      "metadata": {
        "colab_type": "code",
        "id": "G06Hf4XZPWYW",
        "outputId": "630c7a15-5c06-4345-c62b-71770e320ec2",
        "scrolled": false,
        "colab": {
          "base_uri": "https://localhost:8080/",
          "height": 417
        }
      },
      "cell_type": "code",
      "source": [
        "import nltk\n",
        "from sklearn.feature_extraction.text import TfidfVectorizer\n",
        "from nltk import word_tokenize\n",
        "import numpy as np\n",
        "from nltk.corpus import stopwords\n",
        "from sklearn.pipeline import Pipeline\n",
        "from sklearn.decomposition import TruncatedSVD\n",
        "from string import punctuation\n",
        "from nltk import PorterStemmer\n",
        "import copy \n",
        "import re\n",
        "from sklearn.model_selection import train_test_split\n",
        "\n",
        "nltk.download('punkt')\n",
        "\n",
        "cachedStopWords = set(stopwords.words('english') + list(punctuation) + [''])\n",
        "print(data_kg_fake_news.shape)\n",
        "print(data_kg_fake_news.groupby(['type'])['type'].count())\n",
        "\n",
        "print(data_kg_nonfake_news.shape)\n",
        "print(data_kg_nonfake_news.groupby(['type'])['type'].count())\n",
        "\n",
        "data_kg_fake_news_b=copy.deepcopy(data_kg_fake_news);\n",
        "data_kg_fake_news_b.loc[data_kg_fake_news_b['type']!='non-bs', 'type'] = 'bs'\n",
        "\n",
        "all_data = pd.concat([data_kg_fake_news_b[['text','type']], data_kg_nonfake_news[['text','type']]])\n",
        "\n",
        "print(all_data.groupby(['type'])['type'].count())\n",
        "\n",
        "print(all_data.shape)\n",
        "X=all_data['text'].astype('U')\n",
        "y=all_data['type']"
      ],
      "execution_count": 0,
      "outputs": [
        {
          "output_type": "stream",
          "text": [
            "[nltk_data] Downloading package punkt to /root/nltk_data...\n",
            "[nltk_data]   Unzipping tokenizers/punkt.zip.\n",
            "(12999, 20)\n",
            "type\n",
            "bias            443\n",
            "bs            11492\n",
            "conspiracy      430\n",
            "fake             19\n",
            "hate            246\n",
            "junksci         102\n",
            "satire          146\n",
            "state           121\n",
            "Name: type, dtype: int64\n",
            "(50000, 11)\n",
            "type\n",
            "non-bs    50000\n",
            "Name: type, dtype: int64\n",
            "type\n",
            "bs        12999\n",
            "non-bs    50000\n",
            "Name: type, dtype: int64\n",
            "(62999, 2)\n"
          ],
          "name": "stdout"
        }
      ]
    },
    {
      "metadata": {
        "id": "XQV4Lk1q2bHx",
        "colab_type": "text"
      },
      "cell_type": "markdown",
      "source": [
        "## TF-IDF\n",
        "\n",
        "Now try to use TfidfVectorizer to get a matrix for further classification. Also tried applying SVD for dimension reduction."
      ]
    },
    {
      "metadata": {
        "id": "C-4QbFaK2bH-",
        "colab_type": "code",
        "colab": {}
      },
      "cell_type": "code",
      "source": [
        "from sklearn.feature_extraction.text import TfidfVectorizer\n",
        "from sklearn.pipeline import Pipeline\n",
        "from sklearn.decomposition import TruncatedSVD\n",
        "from sklearn.linear_model import LogisticRegression\n",
        "from sklearn import svm\n",
        "from sklearn.preprocessing import LabelEncoder, Imputer, MaxAbsScaler\n",
        "from sklearn.model_selection import GridSearchCV\n",
        "from sklearn import metrics\n",
        "from sklearn.naive_bayes import MultinomialNB\n",
        "from sklearn.ensemble import RandomForestClassifier\n",
        "\n",
        "X_train, X_test, y_train, y_test = train_test_split(X, y, test_size=0.3)\n",
        "\n",
        "def tokenize2(text):\n",
        "    min_length = 3\n",
        "    words = map(lambda word: word.lower(), word_tokenize(text))\n",
        "    words = [word for word in words if word not in cachedStopWords]\n",
        "    tokens = list(map(lambda token: PorterStemmer().stem(token), words))\n",
        "    p = re.compile('[a-zA-Z]+')\n",
        "    filtered_tokens = list(filter(lambda token: p.match(token) and len(token) >= min_length, tokens))\n",
        "    return filtered_tokens\n",
        "\n",
        "vectorizer = TfidfVectorizer(tokenizer=tokenize2)\n",
        "svd_model = TruncatedSVD(n_components=200,       \n",
        "                         algorithm='randomized',\n",
        "                         n_iter=10)\n",
        "# svd_transformer = Pipeline([('tfidf', vectorizer), \n",
        "#                             ('svd', svd_model)])\n",
        "svd_transformer=vectorizer\n",
        "    \n",
        "vectorised_train_documents = svd_transformer.fit_transform(X_train)\n",
        "vectorised_test_documents = svd_transformer.transform(X_test)"
      ],
      "execution_count": 0,
      "outputs": []
    },
    {
      "metadata": {
        "id": "_U50OMnWIpd1",
        "colab_type": "text"
      },
      "cell_type": "markdown",
      "source": [
        "## Modeling and tuning\n",
        "- Random forest  \n",
        "- SVM  \n",
        "- Logistic Regression"
      ]
    },
    {
      "metadata": {
        "id": "TJ-SHmcsKDlL",
        "colab_type": "code",
        "outputId": "91bc1d80-20fc-4f95-c8ff-fb64f11241b0",
        "colab": {
          "base_uri": "https://localhost:8080/",
          "height": 526
        }
      },
      "cell_type": "code",
      "source": [
        "gs=RandomForestClassifier()\n",
        "gs.fit(vectorised_train_documents, y_train)\n",
        "print(vectorised_train_documents.shape)\n",
        "feature_imp = pd.Series(gs.feature_importances_,index=list(vectorizer.get_feature_names())).sort_values(ascending=False).nlargest(20)\n",
        "print(feature_imp)\n",
        "\n",
        "y_pred=gs.predict(vectorised_test_documents)\n",
        "print(y_test.value_counts(sort=False))\n",
        "print(\"Accuracy:\",metrics.accuracy_score(y_test, y_pred))\n",
        "print(metrics.confusion_matrix(y_test, y_pred))"
      ],
      "execution_count": 0,
      "outputs": [
        {
          "output_type": "stream",
          "text": [
            "(44099, 176955)\n",
            "u.s.        0.009974\n",
            "cnn         0.007602\n",
            "n't         0.006066\n",
            "novemb      0.004985\n",
            "said        0.004946\n",
            "octob       0.004876\n",
            "elect       0.004784\n",
            "so-cal      0.004036\n",
            "follow      0.003978\n",
            "advertis    0.003582\n",
            "presid      0.003561\n",
            "twitter     0.003544\n",
            "told        0.003401\n",
            "http        0.002799\n",
            "last        0.002797\n",
            "ask         0.002714\n",
            "mr.         0.002672\n",
            "year        0.002626\n",
            "oct         0.002598\n",
            "nov         0.002390\n",
            "dtype: float64\n",
            "non-bs    15117\n",
            "bs         3783\n",
            "Name: type, dtype: int64\n",
            "Accuracy: 0.8903174603174603\n",
            "[[ 1936  1847]\n",
            " [  226 14891]]\n"
          ],
          "name": "stdout"
        }
      ]
    },
    {
      "metadata": {
        "id": "HdY5Orq5wJi3",
        "colab_type": "code",
        "colab": {}
      },
      "cell_type": "code",
      "source": [
        "#Caution: SLOW\n",
        "# from sklearn.preprocessing import MaxAbsScaler\n",
        "# from sklearn import svm\n",
        "\n",
        "# scaler = MaxAbsScaler()\n",
        "# vectorised_train_documents = scaler.fit_transform(vectorised_train_documents)\n",
        "\n",
        "# svc = svm.SVC()\n",
        "# parameters = {'kernel':('linear','sigmoid')}\n",
        "# lr_gridCV = GridSearchCV(svc, parameters, cv=5, scoring='accuracy')\n",
        "# lr_gridCV = lr_gridCV.fit(vectorised_train_documents, y_train)\n",
        "\n",
        "# print(lr_gridCV.best_score_)\n",
        "# print(lr_gridCV.best_params_)\n",
        "# y_pred = lr_gridCV.predict(vectorised_test_documents)\n",
        "# print(\"Accuracy:\",metrics.accuracy_score(y_test, y_pred))"
      ],
      "execution_count": 0,
      "outputs": []
    },
    {
      "metadata": {
        "id": "3sw-ehpb0XtA",
        "colab_type": "code",
        "outputId": "aa2c4d54-0bd1-45ee-d190-3601cae3e46a",
        "colab": {
          "base_uri": "https://localhost:8080/",
          "height": 108
        }
      },
      "cell_type": "code",
      "source": [
        "\n",
        "# logistic = LogisticRegression()\n",
        "# logistic = LogisticRegression(class_weight='balanced')\n",
        "logistic = LogisticRegression(class_weight={\"bs\":5,\"non-bs\":3})\n",
        "# C = [0.1, 1]\n",
        "# penalty = ['l1','l2']\n",
        "C = [1]\n",
        "penalty = ['l1']\n",
        "\n",
        "param_grid = dict(C=C, penalty=penalty)\n",
        "gs = GridSearchCV(logistic, param_grid=param_grid, cv= 5, scoring='accuracy')\n",
        "\n",
        "gs.fit(vectorised_train_documents, y_train)\n",
        "print(gs.best_params_)\n",
        "\n",
        "y_pred=gs.predict(vectorised_test_documents)\n",
        "print(\"Accuracy:\",metrics.accuracy_score(y_test, y_pred))\n",
        "print(\"F1:\",metrics.f1_score(y_test, y_pred, pos_label='bs'))\n",
        "print(metrics.confusion_matrix(y_test, y_pred))"
      ],
      "execution_count": 0,
      "outputs": [
        {
          "output_type": "stream",
          "text": [
            "{'C': 1, 'penalty': 'l1'}\n",
            "Accuracy: 0.9566137566137566\n",
            "F1: 0.8913619501854796\n",
            "[[ 3364   419]\n",
            " [  401 14716]]\n"
          ],
          "name": "stdout"
        }
      ]
    },
    {
      "metadata": {
        "id": "mDBzVhtfPE-s",
        "colab_type": "text"
      },
      "cell_type": "markdown",
      "source": [
        "So by trying different algorisms and model tuning, eventually we found weighted LogisticRegression gives pretty good result. And we also learnt data enrichment and data transformation based on proper Interpretation are super crucial for machine learning."
      ]
    },
    {
      "metadata": {
        "id": "G0lgPrthRL5U",
        "colab_type": "code",
        "outputId": "6445a138-7913-416f-d21f-cf2f25e9694f",
        "colab": {
          "base_uri": "https://localhost:8080/",
          "height": 35
        }
      },
      "cell_type": "code",
      "source": [
        "data = np.array([\"Had President Donald Trump been successful in launching prosecutions against Hillary Clinton and James Comey, it could have spelled the end of his presidency, as a clear-cut abuse of power.\\\n",
        "It never happened, apparently thwarted by then-White House Counsel Don McGahn and other senior officials. But that does not mean this is a crisis dodged for Trump and he is now free from fresh legal and political jeopardy. Quite the reverse.\\\n",
        "RELATED: Trump raised prosecuting Clinton with top White House, Justice officials\\\n",
        "At the very least, the latest developments underline how Trump's senior subordinates may have shielded a President unschooled in constitutional norms from disastrous steps that could have put his presidency in peril.\\\n",
        "And it leaves anyone on the outside wondering what other potential disasters top officials like McGahn, former Attorney General Jeff Sessions and current Deputy Attorney General Rod Rosenstein might have prevented.\\\n",
        "They also raise questions about the capacity of a now-understaffed White House and legal counsel's operation to protect the President from current or future transgressions.\\\n",
        "It will be impossible to confirm, given the habitual silence from the special counsel's office, but the revelations hint at the possibility that Robert Mueller knows much more about what went on in the corridors of the West Wing than has been publicly revealed.\\\n",
        "That will play into rising tensions in Washington amid expectations that the endgame of Mueller's probe is in sight and speculation about possible indictments targeting Trump world and the content of his final report.\\\n",
        "Bombshell reports by CNN and The New York Times about the President's intentions emerged on another surreal day in Washington that saw shocking disclosures about Ivanka Trump's emails and a huge foreign policy pivot over Saudi Arabia.\"])\n",
        "s = pd.Series(data)\n",
        "\n",
        "vectorised_test_documents = svd_transformer.transform(s)\n",
        "y_pred=gs.predict(vectorised_test_documents)\n",
        "print(y_pred)"
      ],
      "execution_count": 0,
      "outputs": [
        {
          "output_type": "stream",
          "text": [
            "['non-bs']\n"
          ],
          "name": "stdout"
        }
      ]
    },
    {
      "metadata": {
        "id": "uOqlR8dLS838",
        "colab_type": "text"
      },
      "cell_type": "markdown",
      "source": [
        "## Play with LDA\n"
      ]
    },
    {
      "metadata": {
        "id": "FZYe8WKyZsfT",
        "colab_type": "code",
        "colab": {}
      },
      "cell_type": "code",
      "source": [
        "tokens = data_kg_fake_news['text'].astype('U').apply(tokenize2)"
      ],
      "execution_count": 0,
      "outputs": []
    },
    {
      "metadata": {
        "id": "OTsXQmvdZ0So",
        "colab_type": "code",
        "outputId": "a16cd1ca-7677-431d-95da-8b38f65d8d78",
        "colab": {
          "base_uri": "https://localhost:8080/",
          "height": 53
        }
      },
      "cell_type": "code",
      "source": [
        "print(tokens.__class__)\n",
        "print(tokens.shape)"
      ],
      "execution_count": 0,
      "outputs": [
        {
          "output_type": "stream",
          "text": [
            "<class 'pandas.core.series.Series'>\n",
            "(12999,)\n"
          ],
          "name": "stdout"
        }
      ]
    },
    {
      "metadata": {
        "id": "TtdM-Lq2gaEx",
        "colab_type": "code",
        "outputId": "fa928556-f60e-49fc-c24d-bdc15593fa6f",
        "colab": {
          "base_uri": "https://localhost:8080/",
          "height": 801
        }
      },
      "cell_type": "code",
      "source": [
        "!pip install -U gensim\n",
        "\n",
        "from gensim import corpora, models\n",
        "import gensim\n",
        "\n",
        "dictionary = corpora.Dictionary(tokens)\n",
        "print(dictionary.__class__)\n"
      ],
      "execution_count": 0,
      "outputs": [
        {
          "output_type": "stream",
          "text": [
            "Collecting gensim\n",
            "\u001b[?25l  Downloading https://files.pythonhosted.org/packages/27/a4/d10c0acc8528d838cda5eede0ee9c784caa598dbf40bd0911ff8d067a7eb/gensim-3.6.0-cp36-cp36m-manylinux1_x86_64.whl (23.6MB)\n",
            "\u001b[K    100% |████████████████████████████████| 23.6MB 1.3MB/s \n",
            "\u001b[?25hRequirement already satisfied, skipping upgrade: six>=1.5.0 in /usr/local/lib/python3.6/dist-packages (from gensim) (1.11.0)\n",
            "Requirement already satisfied, skipping upgrade: numpy>=1.11.3 in /usr/local/lib/python3.6/dist-packages (from gensim) (1.14.6)\n",
            "Requirement already satisfied, skipping upgrade: scipy>=0.18.1 in /usr/local/lib/python3.6/dist-packages (from gensim) (1.1.0)\n",
            "Collecting smart-open>=1.2.1 (from gensim)\n",
            "  Downloading https://files.pythonhosted.org/packages/4b/1f/6f27e3682124de63ac97a0a5876da6186de6c19410feab66c1543afab055/smart_open-1.7.1.tar.gz\n",
            "Collecting boto>=2.32 (from smart-open>=1.2.1->gensim)\n",
            "\u001b[?25l  Downloading https://files.pythonhosted.org/packages/23/10/c0b78c27298029e4454a472a1919bde20cb182dab1662cec7f2ca1dcc523/boto-2.49.0-py2.py3-none-any.whl (1.4MB)\n",
            "\u001b[K    100% |████████████████████████████████| 1.4MB 13.1MB/s \n",
            "\u001b[?25hCollecting bz2file (from smart-open>=1.2.1->gensim)\n",
            "  Downloading https://files.pythonhosted.org/packages/61/39/122222b5e85cd41c391b68a99ee296584b2a2d1d233e7ee32b4532384f2d/bz2file-0.98.tar.gz\n",
            "Requirement already satisfied, skipping upgrade: requests in /usr/local/lib/python3.6/dist-packages (from smart-open>=1.2.1->gensim) (2.18.4)\n",
            "Collecting boto3 (from smart-open>=1.2.1->gensim)\n",
            "\u001b[?25l  Downloading https://files.pythonhosted.org/packages/a0/d8/8b000ffeba218d47cd81fbd0bd0b2790742f81ffe116964a298be785a8a4/boto3-1.9.50-py2.py3-none-any.whl (128kB)\n",
            "\u001b[K    100% |████████████████████████████████| 133kB 25.2MB/s \n",
            "\u001b[?25hRequirement already satisfied, skipping upgrade: certifi>=2017.4.17 in /usr/local/lib/python3.6/dist-packages (from requests->smart-open>=1.2.1->gensim) (2018.10.15)\n",
            "Requirement already satisfied, skipping upgrade: chardet<3.1.0,>=3.0.2 in /usr/local/lib/python3.6/dist-packages (from requests->smart-open>=1.2.1->gensim) (3.0.4)\n",
            "Requirement already satisfied, skipping upgrade: urllib3<1.23,>=1.21.1 in /usr/local/lib/python3.6/dist-packages (from requests->smart-open>=1.2.1->gensim) (1.22)\n",
            "Requirement already satisfied, skipping upgrade: idna<2.7,>=2.5 in /usr/local/lib/python3.6/dist-packages (from requests->smart-open>=1.2.1->gensim) (2.6)\n",
            "Collecting botocore<1.13.0,>=1.12.50 (from boto3->smart-open>=1.2.1->gensim)\n",
            "\u001b[?25l  Downloading https://files.pythonhosted.org/packages/82/c1/a26012b4dbca2e2ae06d7b24dc6b4378c0b0544d25f3e3f216612db37033/botocore-1.12.50-py2.py3-none-any.whl (4.9MB)\n",
            "\u001b[K    100% |████████████████████████████████| 4.9MB 6.2MB/s \n",
            "\u001b[?25hCollecting s3transfer<0.2.0,>=0.1.10 (from boto3->smart-open>=1.2.1->gensim)\n",
            "\u001b[?25l  Downloading https://files.pythonhosted.org/packages/d7/14/2a0004d487464d120c9fb85313a75cd3d71a7506955be458eebfe19a6b1d/s3transfer-0.1.13-py2.py3-none-any.whl (59kB)\n",
            "\u001b[K    100% |████████████████████████████████| 61kB 22.4MB/s \n",
            "\u001b[?25hCollecting jmespath<1.0.0,>=0.7.1 (from boto3->smart-open>=1.2.1->gensim)\n",
            "  Downloading https://files.pythonhosted.org/packages/b7/31/05c8d001f7f87f0f07289a5fc0fc3832e9a57f2dbd4d3b0fee70e0d51365/jmespath-0.9.3-py2.py3-none-any.whl\n",
            "Collecting docutils>=0.10 (from botocore<1.13.0,>=1.12.50->boto3->smart-open>=1.2.1->gensim)\n",
            "\u001b[?25l  Downloading https://files.pythonhosted.org/packages/36/fa/08e9e6e0e3cbd1d362c3bbee8d01d0aedb2155c4ac112b19ef3cae8eed8d/docutils-0.14-py3-none-any.whl (543kB)\n",
            "\u001b[K    100% |████████████████████████████████| 552kB 20.0MB/s \n",
            "\u001b[?25hRequirement already satisfied, skipping upgrade: python-dateutil<3.0.0,>=2.1; python_version >= \"2.7\" in /usr/local/lib/python3.6/dist-packages (from botocore<1.13.0,>=1.12.50->boto3->smart-open>=1.2.1->gensim) (2.5.3)\n",
            "Building wheels for collected packages: smart-open, bz2file\n",
            "  Running setup.py bdist_wheel for smart-open ... \u001b[?25l-\b \b\\\b \bdone\n",
            "\u001b[?25h  Stored in directory: /root/.cache/pip/wheels/23/00/44/e5b939f7a80c04e32297dbd6d96fa3065af89ecf57e2b5f89f\n",
            "  Running setup.py bdist_wheel for bz2file ... \u001b[?25l-\b \bdone\n",
            "\u001b[?25h  Stored in directory: /root/.cache/pip/wheels/81/75/d6/e1317bf09bf1af5a30befc2a007869fa6e1f516b8f7c591cb9\n",
            "Successfully built smart-open bz2file\n",
            "Installing collected packages: boto, bz2file, docutils, jmespath, botocore, s3transfer, boto3, smart-open, gensim\n",
            "Successfully installed boto-2.49.0 boto3-1.9.50 botocore-1.12.50 bz2file-0.98 docutils-0.14 gensim-3.6.0 jmespath-0.9.3 s3transfer-0.1.13 smart-open-1.7.1\n",
            "<class 'gensim.corpora.dictionary.Dictionary'>\n"
          ],
          "name": "stdout"
        }
      ]
    },
    {
      "metadata": {
        "id": "6fKoEcXBhNmd",
        "colab_type": "code",
        "outputId": "d37e224c-1347-4158-e015-238d9e971d91",
        "colab": {
          "base_uri": "https://localhost:8080/",
          "height": 126
        }
      },
      "cell_type": "code",
      "source": [
        "print(len(dictionary.token2id))\n",
        "corpus = [dictionary.doc2bow(text) for text in tokens]\n",
        "print(len(corpus))\n",
        "print(data_kg_fake_news['text'][123])\n",
        "print(tokens[123])\n",
        "print(len(corpus[123]))\n",
        "print(corpus[123])"
      ],
      "execution_count": 0,
      "outputs": [
        {
          "output_type": "stream",
          "text": [
            "122005\n",
            "12999\n",
            "Same people all the time , i dont know how you can fix this corruption http://www.fromthewilderness.com/free/ww3/10_09_01_krongard.html\n",
            "['peopl', 'time', 'dont', 'know', 'fix', 'corrupt', 'http']\n",
            "7\n",
            "[(68, 1), (329, 1), (563, 1), (651, 1), (709, 1), (4324, 1), (4846, 1)]\n"
          ],
          "name": "stdout"
        }
      ]
    },
    {
      "metadata": {
        "id": "4tFGyhSujQpo",
        "colab_type": "code",
        "colab": {}
      },
      "cell_type": "code",
      "source": [
        "ldamodel = gensim.models.ldamodel.LdaModel(corpus, num_topics=3, id2word = dictionary, passes=10)\n"
      ],
      "execution_count": 0,
      "outputs": []
    },
    {
      "metadata": {
        "id": "KDzLCRW6kWpY",
        "colab_type": "code",
        "outputId": "e704407a-c8a0-434f-eaab-6b8727d03762",
        "colab": {
          "base_uri": "https://localhost:8080/",
          "height": 55
        }
      },
      "cell_type": "code",
      "source": [
        "print(ldamodel.print_topics(num_topics=-1, num_words=9))"
      ],
      "execution_count": 0,
      "outputs": [
        {
          "output_type": "stream",
          "text": [
            "[(0, '0.006*\"one\" + 0.006*\"peopl\" + 0.005*\"like\" + 0.004*\"time\" + 0.004*\"year\" + 0.004*\"get\" + 0.004*\"use\" + 0.003*\"world\" + 0.003*\"make\"'), (1, '0.010*\"clinton\" + 0.009*\"trump\" + 0.007*\"state\" + 0.006*\"hillari\" + 0.005*\"elect\" + 0.005*\"presid\" + 0.005*\"would\" + 0.004*\"said\" + 0.004*\"war\"'), (2, '0.017*\"que\" + 0.011*\"del\" + 0.006*\"por\" + 0.006*\"die\" + 0.005*\"der\" + 0.005*\"con\" + 0.005*\"para\" + 0.004*\"una\" + 0.004*\"http\"')]\n"
          ],
          "name": "stdout"
        }
      ]
    },
    {
      "metadata": {
        "id": "8SJaCuuqm-Lh",
        "colab_type": "code",
        "outputId": "fc6add7e-2a71-4d8f-b0bd-4b9521857e43",
        "colab": {
          "base_uri": "https://localhost:8080/",
          "height": 35
        }
      },
      "cell_type": "code",
      "source": [
        "print(ldamodel[(68, 1), (329, 1), (563, 1), (651, 1), (709, 1), (4324, 1), (4846, 1)])"
      ],
      "execution_count": 0,
      "outputs": [
        {
          "output_type": "stream",
          "text": [
            "[(0, 0.8871314), (1, 0.05953888), (2, 0.053329725)]\n"
          ],
          "name": "stdout"
        }
      ]
    },
    {
      "metadata": {
        "id": "DozidSlJnfDX",
        "colab_type": "code",
        "outputId": "dd410147-ebe1-41ea-d7ea-75107c523e5b",
        "colab": {
          "base_uri": "https://localhost:8080/",
          "height": 35
        }
      },
      "cell_type": "code",
      "source": [
        "tokens_test = s.astype('U').apply(tokenize2)\n",
        "corpus_test = [dictionary.doc2bow(text) for text in tokens_test]\n",
        "print(ldamodel[corpus_test[0]])"
      ],
      "execution_count": 0,
      "outputs": [
        {
          "output_type": "stream",
          "text": [
            "[(0, 0.06651121), (1, 0.9312997)]\n"
          ],
          "name": "stdout"
        }
      ]
    }
  ]
}