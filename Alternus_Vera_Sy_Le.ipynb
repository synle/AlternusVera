{
  "nbformat": 4,
  "nbformat_minor": 0,
  "metadata": {
    "colab": {
      "name": "Alternus Vera - Sy Le.ipynb",
      "version": "0.3.2",
      "provenance": [],
      "collapsed_sections": []
    },
    "kernelspec": {
      "name": "python3",
      "display_name": "Python 3"
    }
  },
  "cells": [
    {
      "metadata": {
        "id": "Bv3mo_laa54p",
        "colab_type": "text"
      },
      "cell_type": "markdown",
      "source": [
        "This NoteBook Is Part of the Large Alterus Vera Assignment\n",
        "\n",
        "<h1>Alternus Vera - Sy Le</h1>\n",
        "\n",
        "Sy Le - 006088940"
      ]
    },
    {
      "metadata": {
        "id": "jkLuDTOndJYY",
        "colab_type": "text"
      },
      "cell_type": "markdown",
      "source": [
        "# Introduction\n",
        "\n",
        "\n",
        "In this notebook, I will be covering 2 main topics  **context** (where the statements originate from) and **Social Reactions** (how the public react to these news), which combined can be a good collection of tools to identify fake news.\n",
        "\n",
        "| Factor | Rationale |\n",
        "| -- | -- | \n",
        "| Context  | Type  of the medium (e.g. Large media outlet vs. small blog) |\n",
        "\n",
        "\n",
        "#### Motivations:\n",
        "##### Context of a statement\n",
        "The main reason why *context* is extremely important when it comes to identify the integrity of any statements is that certain medium like a TV ad which are could be fully sponsored by a particular party could potentially distort the integrity of a fact. TV Ads are not reliable because they are paid for to convey a message that potentially be beneficial to their sponsors. In this context, we should proceed with cautions.\n",
        "\n",
        "\n",
        "#### Definitions:\n",
        "##### Context\n",
        "We will define `context` as a medium where the news is announced. So this could be a physical in person interview, or simply an online forum / social networks where the news occured\n",
        "\n",
        "\n",
        "#### Dataset\n",
        "##### Core Dataset\n",
        "- **Politifact**: This is our core dataset. This contains statements, contexts along with the label whether the news is fake. This dataset can be downloaded at https://raw.githubusercontent.com/synle/machine-learning-sample-dataset/master/liar_dataset/test.tsv\n",
        "\n",
        "##### Secondary Dataset used for data enrichment\n",
        "- **Kaggle Liar:** This dataset is used for enrichment. This contains social reactions toward a particular statement. This dataset can be downloaded at https://github.com/synle/machine-learning-sample-dataset/raw/master/liar_dataset/kaggle/kaggle-fake.csv\n",
        "\n",
        "\n",
        "### 1. what did you try?\n",
        "First I did some experiments where I tried to find the correlation between context and label.\n",
        "\n",
        "In this notebook, I tried to extract the meaning out of Context in which the news broke using nltk. Then I combine that context with the topics extracted from the statements using gensim and LDA along with the party affiliation. Finally I created a TFIDF matrix with these 3 features and combined them as my core features which then used by 2 classifiers: Logistic Regression and Random Forest to predict whether a news is a fake news\n",
        "\n",
        "\n",
        "### 2. What worked?\n",
        "#### Ngram=2\n",
        "By combining TFIDF matrix of Context (using ngram=2) and the Statement values provided by politifact, I find that our classifier seems to be fairly reliable at deciding whether the news is fake.\n",
        "\n",
        "#### `context + party + statement yields` good results\n",
        "By combining the TFIDF matrix of context, party, and the statement, the result procuded are extremely reliable.\n",
        "\n",
        "\n",
        "\n",
        "### 3. What did not work?\n",
        "#### Stemming causes a lot of truncation\n",
        "Although Stemming is fast, I find it transformed the words into unreadable sentences...\n",
        "\n",
        "#### Loss of meaning using ngram=1\n",
        "Initially when I tried to apply the classifier using ngram=1, the result is fairly skewed. During the transformation, I accidentally lose information provided by combination of word. For example, I couldn't conclude information for **Youtube Celebrity** in the context.\n",
        "\n",
        "#### Loss of contextual data using just the context value alone\n",
        "I found it hard to have a solid classifier based solely on **context**. When we omit the statements / topics made, we lose the context and correlation between the **context** and the **statement** made. For example, Fox News interviews might yield fake news label for non-republic data\n",
        "\n",
        "\n",
        "### 4. what alternatives did you try?\n",
        "#### Use ngram=2 for tfidf\n",
        "As mentioned above, vectorizer of ngram=1 has lost some crucial information in classifiying the dataset. So I begin to experiment with higher value of ngram, namely ngram=2 or bigram tends to provide a more reliable result.\n",
        "\n",
        "#### Use Lemmatization instead of Stemming\n",
        "Use of Lemmatization preserves the words correctly compared with stemming\n",
        "\n",
        "\n",
        "### 5. what did you research, what references (eg code) did you study or leverage (code)?\n",
        "I researched on how to use TFIDF Vectorizer with nltk , and LDA with GenSim\n",
        "\n",
        "#### Sources:\n",
        "- https://towardsdatascience.com/topic-modelling-in-python-with-nltk-and-gensim-4ef03213cd21\n",
        "- https://towardsdatascience.com/topic-modeling-and-latent-dirichlet-allocation-in-python-9bf156893c24\n",
        "- https://github.com/FakeNewsChallenge\n",
        "- https://datascience.stackexchange.com/questions/13120/how-to-overcome-training-examples-different-lengths-when-working-with-word-embe\n",
        "- https://towardsdatascience.com/lda2vec-word-embeddings-in-topic-models-4ee3fc4b2843\n",
        "\n",
        "### 6. what steps did you take as a team to find data enrichment sources, label data, feature engineering (e.g., nlp life cycle : stemming, lemmatization, spelling check, part of speech, classifications, naive bayes, decision tree, svm, td-idf , lda etc)?\n",
        "In the team contribution, I spent most of my time working on stemming, lemmatization, tfidf classification with logistic regression"
      ]
    },
    {
      "metadata": {
        "id": "I_HpR8qCchXO",
        "colab_type": "text"
      },
      "cell_type": "markdown",
      "source": [
        "### Prerequisites:\n",
        "\n",
        "Getting the dataset and downloading some key dependencies such as nltk, panda, etc..."
      ]
    },
    {
      "metadata": {
        "id": "H2qgVPy6cb0o",
        "colab_type": "code",
        "outputId": "34f85d0a-2d25-4ea1-8867-11503f95cc15",
        "colab": {
          "base_uri": "https://localhost:8080/",
          "height": 1299
        }
      },
      "cell_type": "code",
      "source": [
        "%matplotlib inline\n",
        "\n",
        "\n",
        "# dependencies\n",
        "import pandas as pd\n",
        "import nltk\n",
        "\n",
        "# download nltk stopwords\n",
        "nltk.download('stopwords')\n",
        "nltk.download('wordnet')\n",
        "\n",
        "# gensim\n",
        "! pip install gensim\n",
        "! pip install spacy\n",
        "\n",
        "\n",
        "\n",
        "# other imports\n",
        "from gensim import corpora\n",
        "import pickle\n",
        "import pandas as pd\n",
        "import io\n",
        "import requests\n",
        "import re"
      ],
      "execution_count": 0,
      "outputs": [
        {
          "output_type": "stream",
          "text": [
            "[nltk_data] Downloading package stopwords to /root/nltk_data...\n",
            "[nltk_data]   Unzipping corpora/stopwords.zip.\n",
            "[nltk_data] Downloading package wordnet to /root/nltk_data...\n",
            "[nltk_data]   Unzipping corpora/wordnet.zip.\n",
            "Collecting gensim\n",
            "\u001b[?25l  Downloading https://files.pythonhosted.org/packages/27/a4/d10c0acc8528d838cda5eede0ee9c784caa598dbf40bd0911ff8d067a7eb/gensim-3.6.0-cp36-cp36m-manylinux1_x86_64.whl (23.6MB)\n",
            "\u001b[K    100% |████████████████████████████████| 23.6MB 1.4MB/s \n",
            "\u001b[?25hRequirement already satisfied: six>=1.5.0 in /usr/local/lib/python3.6/dist-packages (from gensim) (1.11.0)\n",
            "Requirement already satisfied: scipy>=0.18.1 in /usr/local/lib/python3.6/dist-packages (from gensim) (1.1.0)\n",
            "Collecting smart-open>=1.2.1 (from gensim)\n",
            "  Downloading https://files.pythonhosted.org/packages/4b/1f/6f27e3682124de63ac97a0a5876da6186de6c19410feab66c1543afab055/smart_open-1.7.1.tar.gz\n",
            "Requirement already satisfied: numpy>=1.11.3 in /usr/local/lib/python3.6/dist-packages (from gensim) (1.14.6)\n",
            "Collecting boto>=2.32 (from smart-open>=1.2.1->gensim)\n",
            "\u001b[?25l  Downloading https://files.pythonhosted.org/packages/23/10/c0b78c27298029e4454a472a1919bde20cb182dab1662cec7f2ca1dcc523/boto-2.49.0-py2.py3-none-any.whl (1.4MB)\n",
            "\u001b[K    100% |████████████████████████████████| 1.4MB 13.5MB/s \n",
            "\u001b[?25hCollecting bz2file (from smart-open>=1.2.1->gensim)\n",
            "  Downloading https://files.pythonhosted.org/packages/61/39/122222b5e85cd41c391b68a99ee296584b2a2d1d233e7ee32b4532384f2d/bz2file-0.98.tar.gz\n",
            "Requirement already satisfied: requests in /usr/local/lib/python3.6/dist-packages (from smart-open>=1.2.1->gensim) (2.18.4)\n",
            "Collecting boto3 (from smart-open>=1.2.1->gensim)\n",
            "\u001b[?25l  Downloading https://files.pythonhosted.org/packages/9c/b9/7df67f1775d240ac8d111211f967fa75ecc9968ae79ffa0594e36345445f/boto3-1.9.62-py2.py3-none-any.whl (128kB)\n",
            "\u001b[K    100% |████████████████████████████████| 133kB 28.8MB/s \n",
            "\u001b[?25hRequirement already satisfied: idna<2.7,>=2.5 in /usr/local/lib/python3.6/dist-packages (from requests->smart-open>=1.2.1->gensim) (2.6)\n",
            "Requirement already satisfied: urllib3<1.23,>=1.21.1 in /usr/local/lib/python3.6/dist-packages (from requests->smart-open>=1.2.1->gensim) (1.22)\n",
            "Requirement already satisfied: chardet<3.1.0,>=3.0.2 in /usr/local/lib/python3.6/dist-packages (from requests->smart-open>=1.2.1->gensim) (3.0.4)\n",
            "Requirement already satisfied: certifi>=2017.4.17 in /usr/local/lib/python3.6/dist-packages (from requests->smart-open>=1.2.1->gensim) (2018.11.29)\n",
            "Collecting jmespath<1.0.0,>=0.7.1 (from boto3->smart-open>=1.2.1->gensim)\n",
            "  Downloading https://files.pythonhosted.org/packages/b7/31/05c8d001f7f87f0f07289a5fc0fc3832e9a57f2dbd4d3b0fee70e0d51365/jmespath-0.9.3-py2.py3-none-any.whl\n",
            "Collecting botocore<1.13.0,>=1.12.62 (from boto3->smart-open>=1.2.1->gensim)\n",
            "\u001b[?25l  Downloading https://files.pythonhosted.org/packages/e2/77/35e82076e3beb506280f94213a258819378115f174e516ce69b3a2336e1c/botocore-1.12.62-py2.py3-none-any.whl (5.1MB)\n",
            "\u001b[K    100% |████████████████████████████████| 5.1MB 6.4MB/s \n",
            "\u001b[?25hCollecting s3transfer<0.2.0,>=0.1.10 (from boto3->smart-open>=1.2.1->gensim)\n",
            "\u001b[?25l  Downloading https://files.pythonhosted.org/packages/d7/14/2a0004d487464d120c9fb85313a75cd3d71a7506955be458eebfe19a6b1d/s3transfer-0.1.13-py2.py3-none-any.whl (59kB)\n",
            "\u001b[K    100% |████████████████████████████████| 61kB 22.2MB/s \n",
            "\u001b[?25hRequirement already satisfied: python-dateutil<3.0.0,>=2.1; python_version >= \"2.7\" in /usr/local/lib/python3.6/dist-packages (from botocore<1.13.0,>=1.12.62->boto3->smart-open>=1.2.1->gensim) (2.5.3)\n",
            "Collecting docutils>=0.10 (from botocore<1.13.0,>=1.12.62->boto3->smart-open>=1.2.1->gensim)\n",
            "\u001b[?25l  Downloading https://files.pythonhosted.org/packages/36/fa/08e9e6e0e3cbd1d362c3bbee8d01d0aedb2155c4ac112b19ef3cae8eed8d/docutils-0.14-py3-none-any.whl (543kB)\n",
            "\u001b[K    100% |████████████████████████████████| 552kB 23.9MB/s \n",
            "\u001b[?25hBuilding wheels for collected packages: smart-open, bz2file\n",
            "  Running setup.py bdist_wheel for smart-open ... \u001b[?25l-\b \b\\\b \bdone\n",
            "\u001b[?25h  Stored in directory: /root/.cache/pip/wheels/23/00/44/e5b939f7a80c04e32297dbd6d96fa3065af89ecf57e2b5f89f\n",
            "  Running setup.py bdist_wheel for bz2file ... \u001b[?25l-\b \bdone\n",
            "\u001b[?25h  Stored in directory: /root/.cache/pip/wheels/81/75/d6/e1317bf09bf1af5a30befc2a007869fa6e1f516b8f7c591cb9\n",
            "Successfully built smart-open bz2file\n",
            "Installing collected packages: boto, bz2file, jmespath, docutils, botocore, s3transfer, boto3, smart-open, gensim\n",
            "Successfully installed boto-2.49.0 boto3-1.9.62 botocore-1.12.62 bz2file-0.98 docutils-0.14 gensim-3.6.0 jmespath-0.9.3 s3transfer-0.1.13 smart-open-1.7.1\n",
            "Requirement already satisfied: spacy in /usr/local/lib/python3.6/dist-packages (2.0.18)\n",
            "Requirement already satisfied: cymem<2.1.0,>=2.0.2 in /usr/local/lib/python3.6/dist-packages (from spacy) (2.0.2)\n",
            "Requirement already satisfied: plac<1.0.0,>=0.9.6 in /usr/local/lib/python3.6/dist-packages (from spacy) (0.9.6)\n",
            "Requirement already satisfied: requests<3.0.0,>=2.13.0 in /usr/local/lib/python3.6/dist-packages (from spacy) (2.18.4)\n",
            "Requirement already satisfied: murmurhash<1.1.0,>=0.28.0 in /usr/local/lib/python3.6/dist-packages (from spacy) (1.0.1)\n",
            "Collecting numpy>=1.15.0 (from spacy)\n",
            "\u001b[?25l  Downloading https://files.pythonhosted.org/packages/ff/7f/9d804d2348471c67a7d8b5f84f9bc59fd1cefa148986f2b74552f8573555/numpy-1.15.4-cp36-cp36m-manylinux1_x86_64.whl (13.9MB)\n",
            "\u001b[K    100% |████████████████████████████████| 13.9MB 2.8MB/s \n",
            "\u001b[?25hRequirement already satisfied: ujson>=1.35 in /usr/local/lib/python3.6/dist-packages (from spacy) (1.35)\n",
            "Requirement already satisfied: dill<0.3,>=0.2 in /usr/local/lib/python3.6/dist-packages (from spacy) (0.2.8.2)\n",
            "Requirement already satisfied: regex==2018.01.10 in /usr/local/lib/python3.6/dist-packages (from spacy) (2018.1.10)\n",
            "Requirement already satisfied: thinc<6.13.0,>=6.12.1 in /usr/local/lib/python3.6/dist-packages (from spacy) (6.12.1)\n",
            "Requirement already satisfied: preshed<2.1.0,>=2.0.1 in /usr/local/lib/python3.6/dist-packages (from spacy) (2.0.1)\n",
            "Requirement already satisfied: certifi>=2017.4.17 in /usr/local/lib/python3.6/dist-packages (from requests<3.0.0,>=2.13.0->spacy) (2018.11.29)\n",
            "Requirement already satisfied: chardet<3.1.0,>=3.0.2 in /usr/local/lib/python3.6/dist-packages (from requests<3.0.0,>=2.13.0->spacy) (3.0.4)\n",
            "Requirement already satisfied: idna<2.7,>=2.5 in /usr/local/lib/python3.6/dist-packages (from requests<3.0.0,>=2.13.0->spacy) (2.6)\n",
            "Requirement already satisfied: urllib3<1.23,>=1.21.1 in /usr/local/lib/python3.6/dist-packages (from requests<3.0.0,>=2.13.0->spacy) (1.22)\n",
            "Requirement already satisfied: tqdm<5.0.0,>=4.10.0 in /usr/local/lib/python3.6/dist-packages (from thinc<6.13.0,>=6.12.1->spacy) (4.28.1)\n",
            "Requirement already satisfied: six<2.0.0,>=1.10.0 in /usr/local/lib/python3.6/dist-packages (from thinc<6.13.0,>=6.12.1->spacy) (1.11.0)\n",
            "Requirement already satisfied: msgpack-numpy<0.4.4 in /usr/local/lib/python3.6/dist-packages (from thinc<6.13.0,>=6.12.1->spacy) (0.4.3.2)\n",
            "Requirement already satisfied: wrapt<1.11.0,>=1.10.0 in /usr/local/lib/python3.6/dist-packages (from thinc<6.13.0,>=6.12.1->spacy) (1.10.11)\n",
            "Requirement already satisfied: msgpack<0.6.0,>=0.5.6 in /usr/local/lib/python3.6/dist-packages (from thinc<6.13.0,>=6.12.1->spacy) (0.5.6)\n",
            "Requirement already satisfied: cytoolz<0.10,>=0.9.0 in /usr/local/lib/python3.6/dist-packages (from thinc<6.13.0,>=6.12.1->spacy) (0.9.0.1)\n",
            "Requirement already satisfied: toolz>=0.8.0 in /usr/local/lib/python3.6/dist-packages (from cytoolz<0.10,>=0.9.0->thinc<6.13.0,>=6.12.1->spacy) (0.9.0)\n",
            "Installing collected packages: numpy\n",
            "  Found existing installation: numpy 1.14.6\n",
            "    Uninstalling numpy-1.14.6:\n",
            "      Successfully uninstalled numpy-1.14.6\n",
            "Successfully installed numpy-1.15.4\n"
          ],
          "name": "stdout"
        }
      ]
    },
    {
      "metadata": {
        "id": "N1HW5nFkcX19",
        "colab_type": "code",
        "colab": {}
      },
      "cell_type": "code",
      "source": [
        "import pandas as pd\n",
        "import io\n",
        "import requests\n",
        "import math\n",
        "\n",
        "def get_parsed_data(url):\n",
        "  return pd.read_csv(io.StringIO(requests.get(url, verify=False).content.decode('utf-8')), sep='\\t', header=None)\n",
        "\n",
        "def get_parsed_data2(url):\n",
        "  return pd.read_csv(io.StringIO(requests.get(url, verify=False).content.decode('utf-8')), sep=',', header='infer')\n",
        "\n",
        "\n",
        "columns_politifacts = [\n",
        "  'id',\n",
        "  'label',\n",
        "  'statement',\n",
        "  'subject',\n",
        "  'speaker',\n",
        "  'speakers_job_title',\n",
        "  'state_info',\n",
        "  'party_affiliation',\n",
        "  'barely_true',\n",
        "  'false',\n",
        "  'half_true',\n",
        "  'mostly_true',\n",
        "  'pants_on_fire',\n",
        "  'context',\n",
        "]\n",
        "\n",
        "\n",
        "# download and parse the dataset...\n",
        "data_poli_test  = get_parsed_data('https://raw.githubusercontent.com/synle/machine-learning-sample-dataset/master/liar_dataset/test.tsv')\n",
        "data_poli_train = get_parsed_data('https://raw.githubusercontent.com/synle/machine-learning-sample-dataset/master/liar_dataset/train.tsv')\n",
        "data_poli_valid = get_parsed_data('https://raw.githubusercontent.com/synle/machine-learning-sample-dataset/master/liar_dataset/valid.tsv')\n",
        "data_kg_fake_news = get_parsed_data2('https://github.com/synle/machine-learning-sample-dataset/raw/master/liar_dataset/kaggle/kaggle-fake.csv')\n",
        "\n",
        "# parsed the columns\n",
        "data_poli_test.columns  = columns_politifacts\n",
        "data_poli_train.columns = columns_politifacts\n",
        "data_poli_valid.columns = columns_politifacts\n",
        "\n",
        "\n",
        "#\n",
        "data_to_use_for_test = data_poli_test\n",
        "data_to_use_for_training = data_poli_train"
      ],
      "execution_count": 0,
      "outputs": []
    },
    {
      "metadata": {
        "id": "y8V4ePwte-FQ",
        "colab_type": "text"
      },
      "cell_type": "markdown",
      "source": [
        "#### Clean up the text with Stemming, Lemmatization, and Removal of Stopwords\n",
        "\n",
        "Here we use stemmer and exclude words from english stop words"
      ]
    },
    {
      "metadata": {
        "id": "ORdeYlMrti_o",
        "colab_type": "code",
        "colab": {}
      },
      "cell_type": "code",
      "source": [
        "from sklearn.feature_extraction.text import CountVectorizer\n",
        "import nltk\n",
        "from nltk.corpus import stopwords\n",
        "\n",
        "\n",
        "ps = nltk.PorterStemmer()\n",
        "wn = nltk.WordNetLemmatizer()\n",
        "english_stopwords = stopwords.words('english')\n",
        "\n",
        "def split_text_into_tokens(text):\n",
        "  tokens = re.split('\\W+', text)\n",
        "  return tokens\n",
        "\n",
        "\n",
        "def clean_text_for_string(text):\n",
        "  text = str(text)\n",
        "  text = \"\".join([word.lower() for word in text])\n",
        "  tokens = split_text_into_tokens(text)\n",
        "#   Use Stemming\n",
        "#   tokens = [ps.stem(word) for word in tokens if word not in english_stopwords]\n",
        "\n",
        "#   Use Lemmatization\n",
        "  lemmatize = [wn.lemmatize(word) for word in tokens if word not in english_stopwords]\n",
        "  return \" \".join(tokens).strip()\n",
        "\n",
        "\n",
        "def routine_do_clean_context(current_df):\n",
        "  # clean up text\n",
        "  current_df['cleaned_context'] = current_df['context'].apply(clean_text_for_string)\n",
        "  current_df['cleaned_statement'] = current_df['statement'].apply(clean_text_for_string)\n",
        "  current_df['cleaned_party_affiliation'] = current_df['party_affiliation'].apply(clean_text_for_string)\n",
        "  \n",
        "  \n",
        "routine_do_clean_context(data_to_use_for_training)\n",
        "routine_do_clean_context(data_to_use_for_test)"
      ],
      "execution_count": 0,
      "outputs": []
    },
    {
      "metadata": {
        "id": "-bMX4HoIFkHv",
        "colab_type": "code",
        "outputId": "06747c8e-e8a8-433e-94ca-b70afe77a191",
        "colab": {
          "base_uri": "https://localhost:8080/",
          "height": 34
        }
      },
      "cell_type": "code",
      "source": [
        "# show output of the cleanup with the above lemmatization and cleanup\n",
        "idx_to_print = 200\n",
        "data_to_use_for_training['context'][idx_to_print], data_to_use_for_training['cleaned_context'][idx_to_print]"
      ],
      "execution_count": 0,
      "outputs": [
        {
          "output_type": "execute_result",
          "data": {
            "text/plain": [
              "('a column published on NJ.com', 'a column published on nj com')"
            ]
          },
          "metadata": {
            "tags": []
          },
          "execution_count": 4
        }
      ]
    },
    {
      "metadata": {
        "id": "ZA2vLQHZIGd1",
        "colab_type": "text"
      },
      "cell_type": "markdown",
      "source": [
        "### Understanding the distribution of context and label\n",
        "\n",
        "Here let's look at how the context relates to label and visualize the top context keyword. Below are how I construct the score of fake vs non fake\n",
        "\n",
        "Given a label, and how each are score\n",
        "- true: 1\n",
        "- false: 0\n",
        "- half-true: 0.5\n",
        "- pants-fire: -1\n",
        "- barely-true: 0.6\n",
        "- mostly-true: 0.8"
      ]
    },
    {
      "metadata": {
        "id": "kznVtJvCK1iZ",
        "colab_type": "code",
        "colab": {}
      },
      "cell_type": "code",
      "source": [
        "import matplotlib.pyplot as plt\n",
        "from matplotlib.pyplot import figure\n",
        "\n",
        "\n",
        "def plot_dictionary_bar_chart(D, plot_title, constraint_min = -5, constraing_max = 40):\n",
        "  # only plot the big keys...\n",
        "  D = {k:v for (k,v) in D.items() if v > constraing_max or v < constraint_min}\n",
        "  \n",
        "  # make plot bigger\n",
        "  figure(num=None, figsize=(25, 6), dpi=80, facecolor='w', edgecolor='k')\n",
        "  \n",
        "  # plot title\n",
        "  plt.suptitle(plot_title, fontsize=16)\n",
        "\n",
        "  \n",
        "  # plot\n",
        "  plt.bar(range(len(D)), list(D.values()), align='center')\n",
        "  plt.xticks(range(len(D)), list(D.keys()))\n",
        "  plt.show()\n",
        "\n",
        "\n",
        "def get_label_score_from_string(current_label):\n",
        "  if current_label == 'true':\n",
        "    return 1\n",
        "  if current_label == 'false':\n",
        "    return 0\n",
        "  if current_label == 'half-true':\n",
        "    return 0.5\n",
        "  if current_label == 'pants-fire':\n",
        "    return -1\n",
        "  if current_label == 'barely-true':\n",
        "    return 0.6\n",
        "  if current_label == 'mostly-true':\n",
        "    return 0.8\n",
        "  return 0\n",
        "\n",
        "\n",
        "def get_stats_for_context_from_data_frame(current_df):\n",
        "  stats_context_general_score = {}\n",
        "  stats_context_agg_score = {}\n",
        "  \n",
        "  for current_row_tuple in current_df.iterrows():\n",
        "    current_row = current_row_tuple[1]\n",
        "    current_row_label = current_row['label']\n",
        "    topic_context = current_row['cleaned_context']\n",
        "\n",
        "    if topic_context not in stats_context_general_score.keys():\n",
        "      stats_context_general_score[topic_context] = {\n",
        "        'true': 0,\n",
        "        'false': 0,\n",
        "        'half-true': 0,\n",
        "        'pants-fire': 0,\n",
        "        'barely-true': 0,\n",
        "        'mostly-true': 0\n",
        "      }\n",
        "\n",
        "    stats_context_general_score[topic_context][current_row_label] = stats_context_general_score[topic_context][current_row_label] + 1\n",
        "\n",
        "    if topic_context not in stats_context_agg_score.keys():\n",
        "      stats_context_agg_score[topic_context] = 0\n",
        "\n",
        "    stats_context_agg_score[topic_context] = get_label_score_from_string(current_row_label) + stats_context_agg_score[topic_context]\n",
        "\n",
        "  #\n",
        "  return stats_context_general_score, stats_context_agg_score"
      ],
      "execution_count": 0,
      "outputs": []
    },
    {
      "metadata": {
        "id": "AbUEVXAaIQFx",
        "colab_type": "code",
        "outputId": "44321706-eccc-4b37-96e0-80dd36728527",
        "colab": {
          "base_uri": "https://localhost:8080/",
          "height": 481
        }
      },
      "cell_type": "code",
      "source": [
        "stats_context_general_score, stats_context_agg_score = get_stats_for_context_from_data_frame(data_to_use_for_training)\n",
        "plot_dictionary_bar_chart(stats_context_agg_score, 'Context for All Parties')\n"
      ],
      "execution_count": 0,
      "outputs": [
        {
          "output_type": "display_data",
          "data": {
            "image/png": "[encoded data removed]",
            "text/plain": [
              "<matplotlib.figure.Figure at 0x7fa227fe5f98>"
            ]
          },
          "metadata": {
            "tags": []
          }
        }
      ]
    },
    {
      "metadata": {
        "id": "_UngVRU-jWH7",
        "colab_type": "code",
        "outputId": "9ec7d53b-bec0-4bce-881d-575f35fdc148",
        "colab": {
          "base_uri": "https://localhost:8080/",
          "height": 54
        }
      },
      "cell_type": "code",
      "source": [
        "print(stats_context_agg_score)"
      ],
      "execution_count": 0,
      "outputs": [
        {
          "output_type": "stream",
          "text": [
            "{'a mailer': 1.7000000000000002, 'a floor speech': 6.199999999999999, 'denver': 8.0, 'a news release': 124.69999999999976, 'an interview on cnn': 12.1, 'a an online opinion piece': 1, 'a press release': 141.79999999999987, 'a democratic debate in philadelphia pa': 1.8, 'a website': 8.5, 'an online video': 5.199999999999999, 'a speech': 141.29999999999987, 'a tweet': 81.1999999999999, 'an interview with cbn news': 0, 'a doonesbury strip in the sunday comics': 0.8, 'comments on fox news sunday': 12.700000000000001, 'a town hall in austin texas': 0.5, 'a radio ad': 22.700000000000006, 'a congressional hearing': 3.4000000000000004, 'an interview with bloomberg news': 0.8, 'a campaign debate': 2.8, 'a discussion on fox news the five': 1.8, 'remarks at a kentucky rally': 0.8, 'a campaign tv ad': 11.600000000000001, 'a news conference': 55.89999999999999, 'a speech after a terrorist attack in orlando': 0.8, 'an oped column': 3.9, 'a gubernatorial debate': 1.3, 'a radio talk show': 2.6, 'a campaign ad': 61.700000000000024, 'a speech at an americans for prosperity foundation conference': 0.8, 'a debate': 59.39999999999998, 'a speech at cpac': 3.1, 'his state of the city address': 1, 'a released statement': 1.5, 'the tv show s season finale': -1, 'a town hall meeting in hudson n h': 2, 'a speech at the cpac conference': 0.10000000000000009, 'a tv ad': 101.79999999999987, 'on the rachel maddow show broadcast on msnbc': -1, 'a speech at the texas republican party convention': 0, 'a democratic presidential debate in las vegas': 1.9000000000000001, 'a long running chain email': -1, 'an interview with abc news': 0, 'townhall com': 1, 'a republican presidential debate in iowa': 1.1, 'an ad': 19.200000000000003, 'a conversation with reporters in victor ny': 1, 'a symposium on water hosted by the texas tribune': 1.1, 'on his campaign website': 0.5, 'a state legislative committee meeting': 0.5, 'an interview on fox news': 16.2, 'a rally in bensalem pa': 0, 'an adviser s interview on the colbert report': 0.8, 'an interview with npr': 2.4, 'a debate in boca raton fla': 0.8, 'a web video': 12.5, 'a statement on wpro am': 0, 'a committee hearing': 3.0, 'remarks at the republican national convention in tampa': 1, 'an interview on meet the press': 18.3, 'a youtube ad': 0.6, 'an interview on msnbc s hardball': 2.9, 'a speech during a fix the debt press event': 0.8, 'a speech at northwestern university': 1.3, 'a roundtable discussion on abc s this week': 3.4, 'a law review article': 0, 'a newspaper article': 11.299999999999999, 'a facebook post': 24.40000000000001, 'an editorial board meeting': 1.3, 'an interview on abc s this week with christiane amanpour': 9.4, 'a campaign commercial': 34.80000000000002, 'a speech at the texas democratic party convention': 1.0, 'a radio interview': 53.800000000000004, 'a post on instagram': 1.3, 'vice presidential debate in st louis': 0.6, 'as quoted in a news story': 1.6, 'comments on meet the press': 8.600000000000001, 'texas public policy foundation policy orientation': 1, 'a radio interview broadcast over the internet': 0.8, 'a new hampshire town hall': 0.5, 'an interview on face the nation': 3.7, 'a robocall to 13th congressional district voters': 0.6, 'a board of governors meeting': 0.8, 'the pbs newshour': 1, 'a web post': 2.299999999999999, 'a congressional briefing': 0, 'an interview on cnn s state of the union': 9.1, 'a presidential debate at hofstra university': 2.6, 'an e mail message sent to voters before super tuesday': 1, 'an appearance on 10 news conference': 4.3, 'in fed up our fight to save america from washington': 1, 'a wabe fm 90 1 radio interview': 0.5, 'an interview': 116.59999999999982, 'comments on cnn s state of the union': 13.700000000000001, 'a vice presidential debate': 0.6, 'the state of the union address': 13.700000000000001, 'a press release from the mitt romney campaign': 0.8, 'a statement': 28.700000000000003, 'web pages': -3, 'philadelphia': 2.5, 'remarks in new hampshire': 0, 'remarks in cincinnati ohio': 0.8, 'a press statement': 5.2, 'a newspaper column': 11.600000000000001, 'a fundraising e mail to supporters': 1, 'a conference in silicon valley': 0.8, 'blog posts': -0.19999999999999996, 'a newspaper ad': 0.9000000000000002, 'a broadcast of msnbc s morning joe': 3.8, 'an automated call to voters': 0.8, 'an abc news u s senate debate': 0.8, '2013 14 veto message': 0.6, 'a congressional campaign debate': 1, 'a candidate forum': 2.4, 'a segment of fox news hannity': -1, 'a press conference': 32.30000000000002, 'a campaign news release': 2.7, 'a speech on the house floor': 10.399999999999999, 'a democratic debate in flint mich': 1.6, 'a tv interview': 33.60000000000001, 'an online ad': 0.9000000000000001, 'a speech at the republican national convention in tampa': 2.7, 'on nbc s meet the press': 0.5, 'the first presidential debate in denver': 0.8, 'campaign material': 2.7, 'an email blast': 13.4, 'on the oregon senate floor': -1, 'comments to reporters': 2.2, 'a television ad': 52.500000000000014, 'a newspaper interview': 13.0, 'a democratic presidential debate in des moines iowa': 2.1, 'a blog post': 8.1, 'the vice presidential debate': 4.5, 'a chain e mail': -16.400000000000002, 'remarks to the milwaukee common council': 0.5, 'an interview on nbc s meet the press': 23.700000000000006, 'a presidential debate': 7.6, 'a newspaper commentary': 9.4, 'st petersburg fla': 3.4, 'an article posted on one new jersey s website': 0.5, 'a televison advertisement': 0.5, 'a meeting with wansley walters florida department of juvenile justice secretary': 0.5, 'house of representatives floor speech': 0.5, 'messages on twitter': 0, 'comments on the hannity show': 0.8, 'a letter': 12.5, 'a meme shared on social media': -0.5, 'a column in time magazine': 1, 'a posting on the clinton website': 0.8, 'a fox news interview': 7.299999999999999, 'a democratic debate in new hampshire': 1.6, 'a political ad': 2.9000000000000004, 'a handout': 0, 'a column published on nj com': 0.8, 'an interview on the ed show': 0.6, 'a telephone town hall meeting': 0.6, 'a speech in charlotte': 0.6, 'a statement on campaign web site': 2.2, 'a website posting': 2.8000000000000003, 'a column': 5.499999999999999, 'st louis mo': 1, 'a cnn interview': 8.299999999999999, 'a speech at a campaign fund raiser for tom barrett s gubernatorial campaign': 0.6, 'an interview with democracy now': 1, 'his state of the union speech': 1.8, 'a floor speech in the house': 1.6, 'an interview on abc news i this week i': 1, 'remarks to texas delegates to the democratic national convention': 0.6, 'abc s this week': 6.3, 'a leaflet': 0.8, 'an advertisement': 8.2, 'an article': 16.1, 'in the cnn debate in las vegas': -1, 'a guest column': 5.6, 'letter to a constituent': 0.8, 'a mailer to pennsylvania voters': 0.5, 'a press release from assembly speaker sheila oliver d essex': 0.5, 'the nbc commander in chief forum': 2.0, 'comments during the south carolina democratic presidential debate': 2.2, 'an interview on abc s this week': 19.900000000000002, 'in his movie capitalism a love story': 0.8, 'an interview with george stephanopoulos': 0.8, 'a debate in las vegas': 2.1, 'an interview on fox': 1.2000000000000002, 'opening remarks at a senate committee hearing': 0.5, 'a television interview': 38.30000000000002, 'a web ad': 16.6, 'a post on facebook': 2.5, 'radio interview': 2.3, 'his radio show': 1.7, 'a campaign website': 6.1, 'a providence journal commentary': 4.0, 'the biography on his campaign web site': 1, 'multiple posts': -1, 'an e mail': 4.299999999999999, 'an instagram post': 0.5, 'a letter to congressional leadership': 0.8, 'an interview on telemundo': 0.5, 'commentary piece': 1, 'houston texas': 0.5, 'an oregonian article': 0.5, 'an interview on msnbc s the dylan ratigan show': 0, 'remarks to reporters': 5.5, 'a speech to supporters in carlstadt': 0.5, 'a blog post on redstate com': 0.6, 'talking about his budget proposal': 0, 'in a ohio senatorial candidate debate': 0.5, 'a television commercial': 3.6, 'a keynote speech to the democratic national convention in charlotte n c': 0.8, 'a legislative floor speech': 0, 'a speech on the floor of the u s senate': 4.4, 'a message via the internet': -5.5, 'a town hall in st petersburg fla': 2, 'valedictory speech as governor to the texas legislature': 0.8, 'a press availability following a policy luncheon': 0.6, 'a debate in new hampshire': 1.6, 'a republican debate in orlando fla': 2.9, 'an interview on klbj am in austin': -1, 'nan': 39.50000000000001, 'a speech at the faith and freedom coalition conference': 0.8, 'a television advertisement': 2.8000000000000003, 'an online campaign video': 0.8, 'a twitter post': 13.700000000000001, 'a i meet the press i interview': 0.8, 'a petition against president obama s plan to close guantanamo bay': 0, 'a shelby county commission meeting': 0.5, 'a chain e mail and blog and facebook posts': 1, 'a campaign commerical': 0.09999999999999998, 'his radio program': 2.5, 'comments on the glenn beck show': 0.5, 'in a tweet': 1.5, 'a radio show': 6.6, 'a robocall': 0.09999999999999998, 'a fundraising letter': 6.799999999999999, 'her book drift': 0.6, 'a roundtable discussion on cnn s state of the union': 0.5, 'a speech at the state democratic convention': -0.5, 'an interview as quoted in a news story': 0.5, 'a youtube video': 6.699999999999999, 'the first gop primary debate': 0.6, 'a video': 7.299999999999999, 'responding to an audience member s question at the texas tribune festival': 0, 'article': 2, 'an email to supporters': 5.799999999999999, 'a campaign speech': 13.200000000000003, 'a speech to business leaders': 0.8, 'a town hall meeting': 5.6, 'appearance on bill maher show on oct 7 2011': 1, 'an interview on msnbc': 17.500000000000004, 'a televised address': 3.1, 'an interview on msnbc s the rachel maddow show': 1.5, 'a funnyordie com between two ferns interview with zach galifianakis': 0, 'a meme on social media': 4.199999999999999, 'an interview with cnn s wolf blitzer': -2, 'cnn youtube debate in charleston s c': 1, 'a mayoral forum': 2.3, 'an episode of the rachel maddow show': 0.8, 'facebook and twitter posts': 0.8, 'an op ed': 19.400000000000002, 'an interview with watchdog org': 1, 'remarks in san antonio': 0.8, 'a statement made after he filed for re election at the n h secretary of state s office': 0.6, 'a meme supposedly quoting sheila jackson lee': -1, 'an opinion article': 6.3999999999999995, 'the 2016 republican national convention': 1.6, 'comments on cnn': 2.5, 'an executive order': 0.6, 'a speech at the white house': 2.8, 'a letter posted on his campaign web site': 0.8, 'an interview with the telegraph': 1.5, 'talking to florida legislators': 0.5, 'comments on the house floor': 1.1, 'an interview on njtoday': 6.599999999999999, 'a house floor debate': 1.5, 'speaking to reporters': 0.30000000000000004, 'a tampa bay times editorial meeting': 0.6, 'a widely circulated e mail': -1.5, 'a conference call': 1, 'campaign website': 2.5, 'an interview on fox news sunday': 13.899999999999999, 'an online petition': 0.20000000000000018, 'msnbc': 0.5, 'a mailing to rhode island voters': 0, 'a comment to reporters in london': -1, 'a meet the press pundit panel': 0.6, 'in comments on comedy central s the daily show': 1, 'an interview on msnbc s the daily rundown': 1.6, 'tv ad': 0.6000000000000001, 'a campaign rally in alexandria va': 1.8, 'comments on abc s this week': 23.500000000000007, 'remarks at a texas capitol rally': 1, 'an op ed in the austin american statesman': 0.8, 'in a facebook posting': 0, 'a roundtable segment on abc s this week with christiane amanpour': 2.6, 'a chain email and briefly a union web site': -1, 'st paul minn': 1.1, 'a speech in laconia new hampshire': 0.5, 'a press conference in trenton': 0.8, 'a meeting': 10.5, 'a speech to the republican party of texas convention in fort worth': 2.6, 'comments on msnbc s morning joe': 2.3, 'in a television ad': 7.599999999999999, 'an interview with democracy now an independent radio program': 1.4, 'a debate in austin': 0.5, 'wabe': 0.5, 'an msnbc segment': 0.6, 'the state of the union speech': 2.3, 'an interview on capital tonight': 1, 'a web item': 0, 'a panel discussion on abc this week': 0.8, 'a segment of the daily show': -1, 'statements to reporters': -1, 'a fundraising email': 8.499999999999998, 'a debate in nashville tenn': 5.8999999999999995, 'in a campaign video advertisement': 0.5, 'an interview on the john gambling radio program': 2, 'a texas tribune interview': 2.7, 'a campaign mailer': 23.90000000000001, 'tampa fla': 2, 'a cnn town hall': 0.0, 'a post election interview': 0.8, 'chariton iowa': 0, 'a speech after several primaries concluded': -1, 'an msnbc interview': 5.5, 'an interview on this week': 6.6, 'a newsletter': 3.8, 'comments to hbo host bill maher': 0, 'a speech at the democratic convention': 5.699999999999999, 'a victory speech in las vegas on feb 4 2012': 0.6, 'his state of the state address': 8.599999999999998, 'in a debate': 1.5, 'a republican presidential primary debate': 3.2, 'a speech at the republican nationention in st paul minn': 0.5, 'a website statement': 4.0, 'a column in townhall com': 0, 'interview while promoting book': 0.5, 'an online debate': -0.5, 'online campaign materials': 1, 'an interview with a las vegas news network': 1.4, 'the second presidential debate': 8.299999999999999, 'an op ed column': 4.699999999999999, 'a u s senate campaign video ad': 0.5, 'a speech in the ohio house': 0.8, 'a tampa bay times interview': 0.5, 'a statement during a candidates forum at nashua city hall': 1, 'elko nev': 1.5, 'a roundtable discussion on nbc s meet the press': 1, 'an advertisement veterans': 0, 'washington d c': 2.2, 'an ohio house committee hearing': 1.8, 'televised interviews': 0, 'a senate education committee meeting': 0.8, 'an interview with cnn': 4.3, 'a speech to organizing for action': -1, 'a democratic presidential debate in miami': 0.8, 'on the about page of mcginty s campaign website': -1, 'a campaign statement': 4.6000000000000005, 'in a comment on twitter': 1, 'an interview on wpri tv s newsmakers': 2.3, 'a speech in the rose garden': 1, 'a letter to aarp': 0.5, 'a speech at a gop dinner': 1, 'statements to the public': 1, 'in the third presidential debate': 0.5, 'a community forum': 1, 'an appearance at the plain dealer': 1.4, 'an interview on hannity on fox news': 0.8, 'an appearance on a tv interview program': -0.19999999999999996, 'remarks to u s conference of mayors': 0.5, 'an email through protect internet freedom': 0.5, 'a speech to the new hampshire institute of politics': 1.6, 'a fact sheet': 0.8, 'an interview with fox news sunday': 0.8, 'a speech at the united states military academy': 0.8, 'dayton ohio': 2, 'a speech in chattanooga tenn': 0.8, 'a debate on the state house floor': 0, 'a republican presidential primary debate in tampa fla': 0.8, 'a campaign mailing': 1.3, 'an editorial meeting': 1, 'an interview on cbs face the nation': 8.6, 'various blogs and internet comments': 1, 'associated press annual legislative meeting': 0.8, 'a campaign flier': 5.5, 'remarks to the senate tea party caucus meeting': 0.6, 'remarks on the house floor': 1.2000000000000002, 'his 2016 state of the state address': 1.0, 'a statement on his campaign website': 4.7, 'a broadcast of outnumbered on fox news': 0.5, 'an e mail message': 5.8, 'a statement on his website': 1.6, 'an opinion column': 13.899999999999999, 'a campaign style ad': 0, 'the rachel maddow show': 2.0, 'a mock debate': 0.6, 'the second 2016 presidential debate': 3.1, 'an opinion piece in the saporta report': 1, 'his autobiography': 0.8, 'a speech at the harvard graduate school of education': 0.8, 'an interview with fox news greta van susteren': 0, 'a page on the hospital s website': 0.5, 'a commentary in the providence journal': 3.7, 'a u s senate debate': 5.0, 'senate floor remarks': 1, 'a posting on many blogs': -1, 'an article posted on the group s website': 0.5, 'a web site': 1.3, 'a campaign speech in scranton pa': 0.5, 'in a hearing': 0, 'a speech at the dnc': 0.5, 'a campaign mail piece': 1.2000000000000002, 'a flyer sent prior to super tuesday': 0.8, 'the third republican presidential debate': 0.5, 'statements on her campaign website': 0.5, 'a debate in johnston iowa': 1.6, 'a radio interview on the brian lehrer show': 0, 'a report': 2.2, 'comments on nbc s meet the press': 10.8, 'a comment on meet the press': 1.8, 'interview with canal plus television': -1, 'a newspaper op ed': 2.2, 'a campaign email': 5.2, 'countdown with keith olbermann': 0.8, 'a press conference with gov rick perry april 15 2013': 0.8, 'on cnn s state of the union': 1.1, 'an online blog post': 0.5, 'a video ad posted on youtube': 0.5, 'a legislative hearing': 5.6000000000000005, 'a televised interview': 1.8, 'a rally in tampa fla': 0.5, 'a rally outside cleveland': 0, 'an interview with the texas tribune and newsweek': 1.1, 'a town meeting in la grande': 1, 'a radio show broadcast': -1, 'an editorial board meeting with the austin american statesman': 0.5, 'an interview on abc s the view': 0.8, 'various statements': 1.0, 'a speech to a manchester n h rotary club': 0.8, 'a committee hearing on sb 1636': 0, 'a blog': 2.6, 'television ad': 2.1, 'her campaign website': -1, 'legislative testimony': 1.4, 'an opinion article in the dallas morning news': 0.8, 'a speech at keene state college': 0.8, 'remarks on fox s hannity': 0, 'a talk show discussion': 0.8, 'a facebook posting': 0.3999999999999999, 'an opinion column in the austin american statesman': 1.9, 'an instagram meme': 0, 'a campaign email blast': 0.10000000000000009, 'a speech on the senate floor': 12.500000000000002, 'an interview on fox news on the record with greta van susteren': 0.19999999999999996, 'interviews and testimony about the bill': 0.6, 'a speech in youngstown ohio': 0.8, 'a flier': 1.8000000000000003, 'a campaign event': 0.30000000000000004, 'a speech in scranton pa': 1.6, 'a meeting with the st petersburg times editorial board': 1.3, 'a posting on twitter': 0.8, 'a viral tweet': -1, 'on the internet': 2.3000000000000003, 'the republican response to the state of the union': 1.5, 'a video posted on youtube': 3.7, 'a headline on the website newsexaminer': -1, 'a debate on njtv': 3.0999999999999996, 'an interview on abc': 0, 'a senate budget hearing': 1, 'a speech in philadelphia': 0.6, 'the u s senate debate in cleveland': 0.6, 'viral posts on the internet': -1.4, 'a flier mailed to constituents': 0.8, 'an interview on the ask the governor monthly radio call in program': 0.5, 'a story on 630wpro com': 1, 'an appearance on the rachel maddow show': 0, 'comments on fox s fox news sunday': 1.5, 'a debate in boca raton': 1.6, 'a house finance committee hearing': 0, 'n opinion column in the gloucester county times': 0.5, 'a speech at the iowa faith and freedom summit': 0, 'a roundtable with texas businesses': 0, 'a speech at notre dame s law school': 0.8, 'the video when mitt romney came to town': 2.0, 'an austin city council meeting': 1.9, 'his website': 0.30000000000000004, 'an interview with the plain dealer': 5, 'an interview on cnn s new day': -1, 'an email from a reader': 0.8, 'a meeting with business leaders in portsmouth n h': 1, 'an introduction to a radio interview': 0.6, 'an episode of redacted tonight': 0.5, 'a speech in sioux city iowa': 1, 'a commentary on fox news': 0.6, 'an e mail blast': 2.4000000000000004, 'a convention speech': 0.5, 'website materials': 0.8, 'statement': 2, 'an interview on the rachel maddow show': 0.8, 'in an ongoing radio commercial': 0, 'an online post about global warming': 0.6, 'a meeting with republicans in portsmouth n h': 0.8, 'an appearance on abc s this week': 2, 'a statement posted on a website': 0.6, 'the cnn republican debate': 1.6, 'a published piece on their web site': 1, 'a video shown at the democratic national convention': 0.8, 'a republican presidential debate in manchester n h': 0.09999999999999998, 'a speech at the heritage foundation': 0.6, 'an online post': 0.9, 'remarks from the white house': 1.5, 'a post on riley s facebook campaign page': 0.5, 'a tv ad airing in florida': 0, 'a video ad': 8.1, 'remarks at a bill signing': 0.8, 'a bloggingblackmiami blog post': 0.8, 'a debate in cleveland ohio': -1, 'a speech at the california republican party convention': 0.8, 'a campaign statement to a local newspaper': 0, 'news release': 2.4000000000000004, 'a voter mailer': 0.6, 'a post on medium': 4.7, 'a debate in denver': 0.5, 'a political advertisement': 4.8, 'a campaign event in robstown texas': 0, 'a hillary clinton press conference': 0.6, 'a segment about bail on last week tonight': 0.5, 'an email to constituents': 1.2, 'remarks in atlanta': -1, 'a hearing in tallahassee': 0, 'an article on his website': 0.5, 'a house floor speech': 7.599999999999999, 'a fundraising event in san jose calif': 0.5, 'mailer': 0.6, 'conservative blogs': -2, 'a speech at the democratic national convention in philadelphia': 2.0, 'an email': 4.9, 'remarks in borden ind': 1, 'a real time with bill maher episode': 0.5, 'a campaign press release': 4.6, 'a video statement on facebook': 1, 'her book hard choices': 3.6, 'an interview on wnd radio': 0.6, 'a press conference after the g20 summit': 0.5, 'a rumor widely discussed on the internet': -1, 'a speech to the nra': 2.7, 'an appearance on nbc s meet the press': 2.9000000000000004, 'an appearance at marquette university': 1.3, 'the dec 19 democratic presidential debate': 1.5, 'an interview with cnn s erin burnett after the orlando shooting': 0.6, 'a newsletter to constituents': 0, 'a radio commentary': 0.6, 'a news conference in a staples store in columbia s c': 0, 'a miami herald op ed': 0.8, 'a newspaper story': 1.6, 'the fox news google debate in orlando': 0, 'statements to the media': 2.3, 'the third presidential debate': 0.8, 'a republican u s senate debate in houston': 0.8, 'an interview on this week with christiane amanpour': 5.7, 'an email to the news media': 0.6, 'an interview with foxnews com': 0, 'an interview on espn s mike and mike': 0.8, 'a video advertisement': 1.1, 'an interview with townsquare media new jersey': 0, 'a campaign advertisement': 0.8, 'a speech at temple university': 0, 'as quoted by politico': 0.5, 'campaign tv and radio ads': 0.6, 'a speech at the democratic national convention': 10.4, 'an interview with panama city radio station wfla 94 5': 0, 'a speech to the national urban league in fort lauderdale fla': 1, 'an infographic on the addicting info website': 0, 'a letter to the editor': 2.8, 'a campaign rally in houston texas': 0.8, 'an interview with world net daily': -1, 'an interview on cbs news face the nation': 2.0, 'at a commission meeting': 0.5, 'a presentation': 3.0, 'a prepared statement': 2.6, 'a letter from the ohio congressional delegation to nasa': 0.5, 'a political advertisement that aired in arizona': 0.8, 'a candidate debate': 0.8, 'an e mail circulated to many people': -2, 'a republican debate in washington': 0.6, 'an interview on cnn s out front': 0.8, 'a miami herald newspaper ad': 0, 'an interview with the texas tribune s evan smith': 0.6, 'a twitter town hall': 2.3, 'emails circulating on the internet': 0, 'a republican presidential debate in las vegas': 3.7, 'u s senate forum': 1, 'a guest blog post': 0.5, 'an email to party supporters': -1, 'a mayoral debate': 1.3, 'the brooklyn presidential debate': 1.4, 'a republican presidential debate in south carolina': 0.8, 'an ad campaign': 0.5, 'an interview posted on bluejersey com': 0.6, 'campaign literature': 0.5, 'a debate in manchester n h': 2.1, 'a republican presidential debate in tampa': 1.8, 'a comment on his television show': 1, 'a public appearance and an op ed': 0, 'the florida u s senate debate': 1.1, 'in a video': -1, 'comments at a bill signing ceremony': 0, 'a story about taxes from associated press': 0.5, 'an op ed on northjersey com': 1.0, 'a house committee hearing': 4.8, 'a radio address': 2.5, 'in a univision debate in miami': 0.5, 'a video with the human rights campaign': 0, 'youtube video of a floor speech': -1, 'television attack ad': 3.3, 'data on its web site': 0.6, 'a press release announcing her vote against the independent payments advisory board': 0, 'a tweet on twitter': 2.9000000000000004, 'a speech in detroit': 1.9, 'a fox business interview': 0, 'a conference call with reporters': 2.9, 'a speech on the senate floor by sen michael doherty r warren': 0, 'an interview with pbs s tavis smiley': 0, 'in a post on twitter': 0.5, 'in a speech at the republican convention': 1.3, 'campaign literature mailed to state residents': 0.6, 'an address to the nation': 0.5, 'a billboard': 3.3000000000000003, 'a senate floor speech': 6.8999999999999995, 'debate comments': 1.6, 'golden colo': 1.6, 'a tv show': 1.3, 'bill signing ceremony': 0.8, 'an interview with the austin american statesman': 1.6, 'a brochure': 1.6, 'floor debate on may 5 2011': 1, 'a newspaper advertisement': 0.6, 'comments on cbs face the nation': 3.5999999999999996, 'in a radio interview': -0.5, 'the first presidential debate': 2.8, 'a mailer from the romney campaign to iowans': 0.8, 'a republican presidential debate in hanover n h': 2.9, 'a speech in orlando at presidency 5': 1, 'in a press release': 7.4, 'an event at the rockefeller center': 0.6, 'a statement from the campaign': 0, 'rick perry s book fed up our fight to save america from washington': 0, 'comments on fox news channel s the five': -1, 'in a study': 0.5, 'sioux falls s d': 0.6, 'a visit to deerfield nh': 0.6, 'an e mail to reporters': 0.8, 'an interview with rachel maddow': 1.6, 'a book': 4.7, 'a rally': 1.6, 'his speech at texas democratic party state convention in houston': 0.5, 'a constituent survey': 0, 'his television show countdown': 0.5, 'a tv show appearance': 1, 'a debate in austin texas': 3.5999999999999996, 'in a statement published in the rome news tribune': 0.6, 'radio ad': 0, 'an interview with greta van susteren of fox news': -1, 'an interview with fox news bill o reilly': -0.4, 'comments on espn s mike mike': 0.8, 'a meet the press interview': 0.6, 'reading pa': 0.6, 'a speech to the chamber of commerce': 0.8, 'referring to a youtube video': -1, 'a campaign video': 13.4, 'a red carpet interview before the golden globes': 0.6, 'comments during the president s speech': 0.6, 'a senate committee hearing': 2, 'atlanta press conference': 0.8, 'a newspaper opinion piece': 1, 'an interview on the fox news channel': -1.2, 'a web video advertisement': 1.0, 'in a radio ad': 1.2, 'remarks at the democratic national convention in philadelphia': 2.1, 'a speech to the southern republican leadership conference': 0, 'a campaign appearance': 1.3, 'an emailed news release': -1, 'a speech in concord n c': 0.5, 'a speech in the ohio senate': 3.8, 'a speech before the greater north fulton chamber of commerce': 0, 'in a town hall debate in long island n y': 1, 'an online campaign commercial': 0.5, 'as part of a philadelphia inquirer editorial': 0.5, 'an interview on wcpn 90 3 fm': -0.19999999999999996, 'gop press release': 0.6, 'tweets': -1.2, 'a tweet during the state of the union address': 0.5, 'his speech at the state convention of the republican party of texas': 0, 'a panel debate on cnn tonight with don lemon': 0, 'a television election ad': 1.9, 'the jan 14 gop gubernatorial debate': 0.5, 'an atlanta journal constitution story': 2.4000000000000004, 'the gop primary debate in new hampshire': 0, 'the first presidential debate at hofstra university': 0.6, 'a news conference with mitt romney': 0.6, 'a mailing to 13th congressional district voters': 0.8, 'portland maine': 0, 'the democratic debate at miami dade college': 0.8, 'an interview on this week with george stephanopolous': 2.3, 'a stump speech in las vegas': 0.6, 'an e mailed campaign letter': 0.5, 'an article in politico': 1.4, 'in a fundraising email to supporters': -1, 'an interview with msnbc s chuck todd': 0.8, 'a news story': 6.8, 'a debate with assemblyman vince polistina': 0.5, 'in a press statement': 0.8, 'a speech at a cato institute event': 1, 'a symposium': 0.6, 'a broadcast of the ed show': 0.09999999999999998, 'a news report': 1.7999999999999998, 'an online column': 0, 'a broadcast of msnbc s hardball': 0, 'a campaign mail flier': 0.8, 'news television interview': 1, 'a speech in dunedin fla': 0.6, 'an opinion piece in the times of trenton': 0.6, 'as quoted in a stateimpact texas news story': 1, 'letters to constituents': 0, 'newspaper article': 2.3, 'a tv commercial': 3.6, 'the third 2016 presidential debate': 5.3, 'an interview on wsb tv': 0.6, 'a tv ad airing in iowa and new hampshire': 3.8999999999999995, 'a website alert': 2.4000000000000004, 'the state of the state address': 2.6, 'an economic issues statement': 0, 'remarks to reporters at nfl annual meeting': -1, 'a gop debate hosted by fox': 0.8, 'an interview with hugh hewitt': 1.9000000000000001, 'internet posts': -2, 'public statements': 0, 'a chain email': -17.4, 'a column on the national rifle association institute for legislative action website': 0.8, 'a vice presidential debate in virginia': 0.5, 'the republican debate in charleston s c': 0.8, 'a debate on fox news sunday': 0.8, 'an interview on comedy central s the colbert report': 1, 'website posting': 0, 'comments on msnbc s all in with chris hayes': 1, 'a speech at the city club of cleveland': 1.5, 'an interview on nbc': 0, 'a comment quoted in the washington post': 0.8, 'a speech in nashville tenn': 1, 'a speech in phoenix': 1, 'web spend o meter': 0.8, 'dearborn mich': 1.3, 'a wpri channel 12 debate': -1, 'remarks at a news conference': 2.2, 'an attachment to a lawsuit': -1, 'comments on espn': 0, 'an interview with msnbc': 5.6, 'a statement during a press briefing': 1, 'her speech at a rally for ted cruz in the woodlands': 1, 'a web posting': -0.19999999999999996, 'greensdale wis': 0.6, 'a republican gubernatorial debate': 1.9, 'web posts': -0.4, 'an editorial': 5.4, 'an interview on cnn s state of the union with candy crowley': 0.5, 'a broadcast of the daily show': 2.9, 'remarks at politico breakfastt': 1, 'an interview on pbs newshour': -0.19999999999999996, 'tv interview': 2.9, 'posts': -1, 'a presentation at a panel discussion': 0.8, 'an interview in concord n h': 1, 'a meeting with reporters': 0.8, 'a debate on the senate floor': 0.5, 'posts on twitter': -0.4, 'a chain email forwarded by a reader': 0.6, 'an interview with the guardian': -1, 'an austin american statesman news story': 0.6, 'posting on his website': -1, 'a speech in new hampshire': 2.5, 'posts on social media': -0.4, 'in an msnbc interview': 0, 'in an interview with the philadelphia inquirer': 0.6, 'in a republican presidential debate': 0, 'an interview on nbc s meet the press daily': 0, 'an immigration policy speech in phoenix': -1, 'an interview on the fox business network': 0.10000000000000009, 'his budget speech': 3.0999999999999996, 'an editorial board interview': 0.5, 'a segment on nbc s today show': 0.8, 'a statement by obama spokesman hari sevugan': 1, 'remarks at politics eggs forum in manchester n h': 0.8, 'a conference call by a campaign spokesman with new hampshire reporters': 0.8, 'state of the state address': 3.8, 'a statement on this week': 0.5, 'a white house press conference': 1.3, 'website article': 0.8, 'an interview on nbc nightly news': 0.8, 'a new york times op ed': 2.6, 'a huffington post column': 1.4, 'an interview on state of the union': 1.0, 'an article in the daily caller': 0.6, 'a tv advertisement': 2.1, 'a response to the release of employment data by the state labor department': 0.8, 'a speech at the white house summit on working families': 0.8, 'a television interview with las vegas political analyst jon ralston': 0, 'an interview in st petersburg fla aboard his campaign bus': 0.6, 'a letter to a constituent': 0.6, 'the cnn debate in las vegas': 0.6, 'a radio interview on new jersey 101 5 s ask the governor': 0.8, 'comments on face the nation': 1.8, 'tv advertisement for msnbc s the last word': 0.6, 'a town hall style meeting': 1.8, 'a comment to reporters in tampa': 0, 'a candidates forum': 3.9, 'a meeting with reporters in tallahassee': -0.19999999999999996, 'an op ed in the atlanta journal constitution': 2.3, 'an interview with the concord monitor at her concord office': 0.5, 'a comment while attending the democratic national convention': 0, 'a speech from the white house rose garden': 1, 'in a tv ad': 3.4, 'remarks at a campaign office opening for hillary clinton': 1, 'an episode of meet the press': 0.8, 'a letter to education commissioner tony bennett': 0.8, 'a campaign rally in harrisburg pa': 0.6, 'pennsylvania': 1.5, 'an interview with the st petersburg times': 0.8, 'a republican presidental primary debate': 0.5, 'a speech to young republicans in tampa': 0.5, 'press release': 15.200000000000001, 'a speech at the american enterprise institute': 2.8, 'an interview on rhode island public radio': 1, 'a tv news show': 2.5, 'an online video ad': 1.3, 'a speech at national right to life convention grapevine texas': 0.5, 'a graphical tool on the campaign website': 1.4, 'an interview on the newshour with jim lehrer': 1, 'a column on the party s website': 0.5, 'a resolution': 0.5, 'a hearing on the supreme court nomination of elena kagan': 0.5, 'a letter forwarded to politifact': 0, 'a rally announcing his candidacy for governor': 1, 'a speech to the florida press association': 1.6, 'a speech at the republican convention': 6.999999999999999, 'an interview with the providence journal': 0.5, 'a campaign speech in phoenix': 0.8, 'in a new ad': 0.5, 'a speech before congress': 0, 'a youtube attack ad': 1.1, 'a speech at rider university': 0.8, 'a panel discussion on hbo s real time with bill maher': 1, 'blog': 0, 'a debate in milwaukee wis': 0.6, 'a debate on the house floor': 0, 'as a candidate in 2016 and as a possible hopeful in 2000': 0, 'a twitter message': 1.6, 'a web ad posted on youtube': 1, 'remarks in reno': 0.8, 'various comments over the past few months': 0, 'a video shown on cable news shows': 0.6, 'a campaign fund raising letter': 0, 'a video shared on social media': -1, 'a town hall meeting in nashville tenn': 0.5, 'a newspaper column and blog post': 0, 'a mailing': 1.1, 'an interview with the french television network france 24': -1, 'his campaign website': 4.6, 'a graphic on the internet': 0.5, 'addressing a rally outside the texas capitol': 1, 'an article for time magazine': 1, 'during a u s senate debate': 0.5, 'a speech on the state senate floor': 1.8, 'an op ed in the washington post': 4.6, 'a letter to policy holders': 1, 'interview by obama campaign strategist david axelrod': 0.8, 'hershey pa': 0.8, 'a segment of fox news sunday': 0.8, 'an announcement': 0.5, 'response to subpoenas being sent out over a bridge lane closure controversy': -1, 'a platform on his campaign website': 1, 'an interview on msnbc s morning joe': 9.9, 'talking with reporters': -1, 'a blog post and subsequently reposted on facebook': -1, 'oped commentary': -1, 'comments on his fox news show': 0.5, 'a house resolution': -1, 'radio ads and direct mail pieces': -1, 'leadership forum': 0.8, 'an online campaign ad': 0.6, 'a radio debate': 0.6, 'a comment on his radio show': -1, 'a campaign rally in albuquerque': -1, 'a blog post on his campaign website': 0.6, 'a cnn st petersburg times debate': 1.8, 'a message on twitter': 5.199999999999999, 'his fox news program': 2.8, 'a donation web page': 0.5, 'remarks made in the senate': 0.6, 'a speech in arizona': 0.5, 'interviews': 2, 'a pamphlet mailed to voters': 0.6, 'a commentary on msnbc s the ed show': -1, 'a speech at the republican national convention in cleveland': 1.3, 'a broadcast of cnn s the lead': 0.8, 'an interview about his city budget proposal': 0.8, 'a press conference at the georgia state capitol': 1, 'campaign mailer': 1.1, 'a televised speech': 0.6, 'a website post': 4.5, 'springfield ill': 0.8, 'abc news 27 interview': 1, 'social media posts': 3.2, 'comments': 0.8, 'various internet postings': 1.2, 'a statement in a seattle times article': 0.5, 'an episode of fox friends': -1, 'a live blog post during the state of the union address': 1.4, 'an interview with the i philadelphia daily news i editorial board': 0.6, 'an interview with the mcallen monitor': 1, 'a republican debate in south carolina': 0.6, 'a rally in cincinnati': 1, 'an interview with the editorial board of the telegraph': 1.5, 'comments announcing a budget deal with the florida house of representatives': 0, 'values voter summit': 0.6, 'a state of the union speech': 2.3, 'a community meeting': 0.6, 'an interview on wjar tv': 0.6, 'a debate in myrtle beach s c': 3.8, 'a roundtable in new hampshire': 0.6, 'remarks in st petersburg fla': 0.8, 'a debate on wpri com': 0.8, 'on a ticket': 1, 'oxford miss': 2.7, 'a speech at the chicago council on global affairs': 1, 'a rally at the democratic national convention': 1, 'comments at a public form': 0.6, 'a meeting with journal sentinel reporters and editors': 1.3, 'a speech in columbus ohio': 1, 'in an online post': 0.6, 'a congressional subcommittee hearing': 1, 'in a campaign appearance in nashville': 0.5, 'a blog comment': 0.5, 'a washington post profile': 1, 'a posting on facebook': -2, 'a question to san antonio mayor julian castro': 1, 'an interview on wpri s newsmakers program': 0.10000000000000009, 'a republican presidential debate in cleveland': 0.8, 'a plain dealer article': 1, 'a get out the vote rally in north carolina': 0.5, 'a snapchat': 0, 'david jolly in a mailer to 13th congressional district voters': 0.6, 'house floor remarks': 2.1, 'a state senate committee hearing': 2.3, 'a meeting of the simpson bowles deficit commission': 0.8, 'a debate in hempstead n y': 2, 'a town hall in grand junction colo': 0.5, 'a written statement': 4.7, 'a speech in nashua n h': 1, 'a senate speech rebroadcast on abc s this week': 1, 'a public meeting': 1.0, 'a youtube campaign announcement': 0.5, 'a speech on labor day': 0.5, 'a city council presentation on the memphis budget': -1, 'a speech at the national press club in washington d c': 0, 'an interview with the new york times': 1.9, 'presidential debate': 0.8, 'an interview on cnn s anderson cooper': 0.8, 'a commentary': 3.2, 'a speech in tampa': 1.4, 'an online statement': 1.5, 'a debate in jacksonville fla': 0, 'an interview on fox news with bill o reilly': 0, 'a statement on candidate s web site': 0.5, 'msnbc s the ed show aug 25 2011': 0.5, 'the 2016 vice presidential debate': 2.2, 'a presidential debate in denver': 1.8, 'campaign email': 0.6, 'comments on his radio show': -0.6, 'a hillary for america campaign ad': 0.8, 'an email announcing redistricting maps': 0, 'a roundtable on abc s this week': 1.3, 'a campaign announcement video': 0.8, 'a statement posted to his website': 3.8, 'a debate over immigration issues with state sen dan patrick': 0.8, 'a u s senate primary debate on fox news sunday': 3, 'remarks to the newspaper association of america': 1.8, 'in a chain email': -1, 'an email to voters': 1.4, 'a republican presidential debate in charleston s c': 0.5, 'a campaign speech in cobb county': 0, 'a segment on fox friends': 0.6, 'republican presidential primary debate': 1, 'an op ed in the tampa bay times': 2.6, 'her state of the state speech': 0, 'an mrctv post': 0.8, 'emails and social media posts circulating on the internet': -2, 'campaign website and youtube video': 0.5, 'legal filings': 0, 'a fund raising email': -1, 'a wall street journal ceo council event': 1, 'debate in johnston iowa': 2.5, 'a post on his campaign s facebook page': -0.19999999999999996, 'at a romney campaign rally': -1, 'a newspaper editorial': 1.2, 'in a speech': 0.9, 'news reports': 2, 'democratic debate in philadephia': 2, 'an interview on abc news this week': 2.4, 'nbc s meet the press': 1, 'a radio show appearance': -1, 'an interview with politico s burgess everett': -1, 'in a political ad': 1.6, 'an opinion piece': 7.5, 'the kagan confirmation hearing': 0.5, 'comments on the hugh hewitt radio show': 0.5, 'video remarks to the family research council': 0.5, 'an interview with al sharpton on msnbc s politicsnation': 0, 'a column posted on medium': 1.6, 'in a mailer': 1.9, 'press conference': 2, 'a column on politickernj com': 0.5, 'an interview with reporters': -1, 'comments at a campaign event': 0.6, 'a column in politico': 1.6, 'a segment on ronan farrow daily': 0.6, 'an interview with dick ellis koke fm austin': 0.8, 'an appearance on msnbc s hardball': 1, 'a widely circulated posting': -1, 'a u s house floor speech': 0.8, 'a campaign brochure': 0.8, 'a letter to fellow members of congress': 0, 'a story making the rounds on social media': -1, 'the cnn democratic presidential debate in las vegas': 0.8, 'a rally at the statehouse': 0.8, 'comments at the launch of the nolabels org website': 0.8, 'a broadcast of the o reilly factor': 1.5, 'remarks at a committee hearing': 0.6, 'a pundit panel segment on meet the press': 1, 'an interview on the daily show with jon stewart': 0.6, 'an interview with the miami herald': 0, 'in a press interview': 1, 'a budget hearing': 0, 'a guest column published in the st petersburg times': 0.6, 'a tv ad airing on cable networks such as fox and mtv': 1.5, 'davenport iowa': 1, 'an appearance on meet the press': 3.7, 'an e mail newsletter': 2.3, 'the campaign film the road we ve traveled': 1.4, 'the last word with lawrence o donnell': 0.8, 'a speech in manchester n h': 2.6, 'a statement on campaign website': 0, 'a draft report': 0, 'a speech at the jefferson jackson dinner': 1.6, 'a debate in los angeles': 0.8, 'a chart': 1.3, 'in a tv interview as well as other venues': -1, 'a broadcast of the rush limbaugh show': -2, 'an interview on sean hannity s show on the fox news channel': -0.5, 'an episode of his radio show': 0.5, 'a town hall in fort lauderdale fla': 0.6, 'facebook posts': -1.4, 'a speech in orlando': 1.3, 'an op ed in the wall street journal': -0.5, 'his msnbc countdown program': 0, 'a speech in miami': 1.3, 'a website claim': 0, 'an online article': -1, 'a secretly recorded prank telephone call': 0, 'remarks to hispanic caucus at texas democratic party convention in houston': 1, 'des moines iowa': 2.3, 'a broadcast of msnbc s the rachel maddow show': 0.8, 'a speech on immigration in phoenix': 0.5, 'fox news sunday': 1.5, 'a republican presidential debate in sioux city iowa': -1.4, 'comments published in the new york times': 0.6, 'a speech before the greater philadelphia chamber of commerce': 0.5, 'a web commentary': 1.3, 'a tv ad pointed out to politifact texas': 0.6, 'a social media post': 1.6, 'a campaign event for hillary clinton': 0.6, 'the group s website': 1.3, 'a video press release': 1, 'a republican presidential debate in washington d c': 0.5, 'an interview with nbc s katy tur': -1, 'an interview with am750 and 95 5 fm news talk wsb radio': 0.5, 'a memo on behalf of the new jersey democratic state committee': 0, 'a hearing': 1.8, 'a foreign policy debate': 0.6, 'on fox news the o reilly factor': 0.8, 'a segment on the rachel maddow show': 1.2, 'a snopes com tweet recapping a facebook post': 1, 'a position paper on his campaign website': 0, 'a saturday radio address': 0.8, 'the college s website': 0.8, 'a speech in sunrise fla': -1, 'remarks during a campaign stop': 0.8, 'an episode of hbo s real sports with bryant gumbel': 0.5, 'a taped debate on state of the state': 0, 'a syndicated column': 0, 'his book this is herman cain my journey to the white house': 0, 'a talk radio comment': -1, 'a speech in galesburg ill': 2.3, 'a speech at democratic national convention': 1, 'an interview before a speech in winston salem nc': 0.8, 'a budget meeting': 0, 'cnn s state of the union': 1, 'philadelphia pa': 0, 'a tweet announcing new display signage at airports and houston s city hall': 0.8, 'a public presentation': 0.8, 'an interview with cnn s anderson cooper': 1.8, 'comments before a state senate committee': 0.8, 'the blooomberg washington post republican presidential debate': 0.6, 'an ad in the washington post': 1.2, 'fundraising letter': 0, 'a speech in iowa': 1.5, 'an interview on real time with bill maher': 0, 'an appearance on rhode island pbs s a lively experiment': 0, 'a speech to the american legion': 0.5, 'a segment on his radio show': 1.1, 'the third presidential debate in boca raton fla': 3.0999999999999996, 'in a letter': -0.19999999999999996, 'a telephone interview': 0, 'remarks in clinton tenn': 0.8, 'an interview on npr': 2.4, 'an interview with cnn s carol costello': 0, 'columbia s c': 0, 'a statement e mailed to reporters': 0.6, 'a tweet after the shootings at an oregon community college': 1, 'instagram posts': 0, 'a u s senate democratic primary debate': 0.6, 'a republican debate in tampa': 1, 'a speech in gresham ore': 0.6, 'in a debate in ames iowa': 0, 'a campaign stop at miami children s hospital': 0.5, 'a speech to congress': 1, 'remarks at a campaign event': 0.8, 'chicago': 1, 'a press releaase': 1.8, 'a campaign rally in pensacola': 0, 'a speech in exeter n h': 0.5, 'a letter to the editor of the st petersburg times': 0, 'remarks': 2.3, 'a voters pamphlet statement': 0, 'a tweet that linked to the claim in a newsday article': 0, 'yard signs posted anonymously opposing a proposed office park redevelopment in northwest austin': 0.8, 'a republican national convention video': 0, 'a prepared speech': 0.6, 'an interview with the washington post': 0.19999999999999996, 'an open letter to donald trump': 0.8, 'a rally in washington': 0, 'his year in review speech': 1, 'a candidate questionnaire': 0.6, 'the state of union address': 1, 'a post on the internet': -0.5, 'a meme on the internet': -1, 'a speech at the democratic national convention in denver': 3.6, 'addressing the republican party of texas state convention': -1, 'an op ed article in the washington post': 0.8, 'an opinion column in fort worth star telegram': 0, 'written testimony to a wisconsin senate committee': 0.8, 'in an interview on the tonight show': 0.6, 'hanover n h': 1, 'a statement on their website': 0.8, 'a special order speech on the u s house floor': 0, 'a mailer to voters': 0.30000000000000004, 'a republican presidential debate in orlando': 2.0, 'television interview': 1.5, 'a democratic national committee reception': 0.8, 'a radio interview on focal point with bryan fischer': 0.5, 'a speech in florissant mo': 0.8, 'a news conference call': 0.8, 'an interview on sean hannity s show on fox news': 0.5, 'comments at the missouri state fair': 0.6, 'a rhode island news channel debate': 0, 'a press availability': 0.8, 'a forum': 4.5, 'an interview on msnbc s countdown with keith olbermann': 1.3, 'remarks in dallas at a democratic national committee reception': 1, 'u s house floor debate': 0.6, 'interviews with reporters': 0, 'an email statement': -0.5, 'a u s senate committee hearing': 0.5, 'a statement by sen claire mccaskill in a tv ad': 0.5, 'an interview with treasury secretary timothy geithner on nbc s meet the press': 0.6, 'in an e mail message from campaign spokesman brian rogers': 0, 'a breitbart article': 0, 'a newsmax tv interview': 0, 'an analysis of obama s speech': 1, 'an article on nj com': 1, 'a billboard advertisement': 0.6, 'a 60 minutes interview': 1.0, 'an austin mayoral candidate debate': 0.5, 'a republican debate on fox business network in south carolina on fox business network': 0, 'an interview on cbs this morning': 0, 'a u s congressional campaign debate': 1.3, 'the cnbc gop presidential debate': 1.6, 'an essay': 0.5, 'a news article': 4.8999999999999995, 'a statement reacting to the supreme court decision upholding the law': 1, 'a republican presidential debate in mesa ariz': 0.8, 'st louis': 2.0, 'an interview with gloria steinem': 0.5, 'a discussion at a town hall meeting': 0.5, 'a speech in san diego': 1.0, 'a political debate': 0.5, 'las vegas': 3.3, 'a speech in the house of representatives': 7.6, 'a response to league of women voters of texas': 0, 'a weekly newsletter': 1, 'a comment to reporters': 0, 'his book decision points': 1.5, 'a columbia boone county league of women voters town hall': 0.8, 'a press conference and several other recent public appearances': 0.8, 'a fox television interview': 0, 'voters guide league of women voters of the austin area': 1.8, 'a ceremony to introduce new local transit authority chairman': 0, 'a facebook graphic': 0.8, 'a speech at the 2016 american israel public affairs committee conference in washington': 0, 'a presidential campaign stop in decorah iowa': 0.8, 'an appearance on fox news sunday': 1.4, 'his keynote address at the republican party of texas convention': 1, 'the second presidential debate at hofstra university': 0.5, 'an austin city council candidate forum': 0.8, 'an edited facebook post': -1, 'a candidates debate': 1.6, 'a texas tribune festival panel': 0.6, 'a house ways and means hearing': 1.6, 'an interview on nfl com': 1, 'a campaign rally': 4.3, 'an interview on new jersey 101 5 fm': 0.6, 'a debate in st louis mo': 1, 'a republican presidential debate in myrtle beach s c': 0.0, 'a message forwarded to many people': -1, 'an interview on america s newsroom': 0.6, 'a speech in manor texas': 0.5, 'manchester n h': 0, 'in an interview with city state pa': 1, 'a magazine profile': 1, 'comments on fox news business': 0.6, 'a phoenix rally': 0.5, 'a column in the new york times': 3, 'a vote in the u s house on repeal of health care reform': 0, 'his acceptance speech at the republican national convention in tampa': 0.5, 'his presidential announcement speech': 2.3, 'a meme on facebook': 0, 'an op ed on townhall com': 0.6, 'website article emails direct mail': 0.5, 'a statement on a website': -0.19999999999999996, 'comments on msnbc s hardball': 0, 'the second gop debate': 0, 'an interview on msnbc s hardball with chris matthews': -1, 'mass email': 1.8, 'an interview on fox news i america s election hq i': 0.8, 'in a news release': 4.2, 'an email to campaign supporters': -1, 'an interview on fox friends': 2.1, 'an interview on nbc s today show': 0.30000000000000004, 'a statement during opb s think out loud': 0.6, 'an interview on fox news the neil cavuto show about u s sen john kerry s boat': 0.5, 'a tv ad airing in iowa and florida': 0.5, 'prepared remarks': 0, 'a report on abc news this week with christiane amanpour': 0.5, 'a fox and friends interview': 0, 'debate on the senate floor': 1, 'an opinion article at huffingtonpost com': 0.6, 'an appearance on fox news': 0.5, 'a video promo for jersey shore': 1, 'a web post aug 1 2011': 0.8, 'a letter sent to union members': 0.8, 'an interview on npr s tell me more with michel martin': 0.8, 'an editorial cartoon': 0.8, 'the governor s state of the state address': 1.8, 'an op ed in the rochester business journal': 0.8, 'as quoted in a commentary by ken herman of the austin american statesman': 0, 'a democratic debate in miami': 0.8, 'a cpac conference': 0.5, 'a video on his campaign website': 0, 'comments on fox news america s newsroom': 0, 'an article on the heritage foundation website': 0.5, 'a radio interview on wbgo s newark today': 0.8, 'a tweet from barack obama s twitter feed': 1, 'an article on the wnd website': -1, 'a speech in st paul minn': 0.5, 'a speech to the american association of state highway and transportation officials': 0.5, 'comments in various media outlets': 0, 'an email newsletter': 0.6, 'a speech in chicago ill': 1, 'an op ed in the des moines register': 1, 'a campaign tv advertisement': 0.8, 'a campaign web page': 1.3, 'an ad titled hiding': 0.5, 'a speech in las vegas nev on feb 4 2012': 1, 'as quoted in a newspaper article': 1, 'a tampa bay times op ed': 1.5, 'an internet ad': 2.3, 'a speech on health care reform': 0.8, 'blog postings responding to a news video showing the flag': -1, 'a segment of cnn s crossfire': 0.5, 'an interview on the daily show': 3.5999999999999996, 'a statement on the house floor': 0.8, 'multiple speeches and interviews': -1, 'a campaign website statement': 2.7, 'an interview with espn aired jan 9 2015': 0, 'a cover story in the austin chronicle': 0.6, 'an interview on cnn s american morning': 2.1, 'a statement on her legislative website': 0.6, 'a hillary for america ad': 0.8, 'a dallas press conference': -1, 'his state of the state speech': 2.4, 'remarks made during a state senate education committee meeting': 0.8, 'a fox news interview with greta van susteren': 0.5, 'comments on his campaign website': 1, 'tweet and blogs': 0.6, 'various websites': -1, 'a broadcast of fox news the kelly file': 0, 'an interview on abc s this week with george stephanopoulos': 2.4, 'a website ad': 0, 'a speech on the floor of the rhode island house which was transmitted electronically': 1, 'a youtube com video': 1, 'an interview with the mtvu editorial board': 2, 'an appearance on late night with jimmy fallon': 1, 'in a broadcast of fox news hannity': 0, 'a city council meeting': 1.4, 'comments at a gop debate in cleveland': 2.0, 'an interview with laura ingraham': 1, 'a speech on energy policy at university of new hampshire': 0.5, 'super bowl bid': 0.5, 'remarks on the floor of the texas senate': 1.3, 'on the fred thompson radio show': -1, 'a floor speech in the house of representatives': 1.6, 'an interview on c span s washington journal': 0.5, 'various web pages': -1, 'a web news story': 0, 'a press gaggle': 0.8, 'a debate of democratic primary runoff candidates for u s senate in dallas': 0.8, 'a press release and web post': -1, 'an interview on hannity': -0.4, 'a rally at the state capitol': 0.8, 'new york city': 0.8, 'a broadcast on fox news': 0, 'remarks in the white house rose garden': 2.3, 'a weekly address': 0.6, 'a tv interview and multiple other sources': -1, 'an appearance on face the nation on cbs': 1, 'a tv debate': 3.6, 'remarks at the white house': 2.2, 'an interview with the huffington post': -1, 'a letter to members': 0.6, 'a local radio interview': 0, 'interviews and news releases': 0, 'an automated call': -1, 'fox news channel s on the record with greta van susteren': 0.5, 'a republican retreat in baltimore': 1, 'a broadcast of abc s this week': 2.4, 'sean hannity s show on fox news': 0.5, 'fox news republican presidential debate in sioux city iowa': -1, 'a democratic primary u s senate seat campaign tv ad': 0.5, 'a political mailer': -0.4, 'in debate in oxford miss': 1.6, 'a panel discussion': 2.5, 'a forum on faith related issues at messiah college in grantham penn': 1, 'the cnn tea party express debate in tampa': 1.6, 'a panel on meet the press': 0.6, 'a blog post by the texas tribune': 1, 'in an interview with fox 13': 0.8, 'testimony before the r i senate judiciary committee': 1, 'a gop debate on cnn': 1.2, 'washington dc': 2.8, 'a video clip aired on nbc s meet the press': 0.5, 'a press conference in havana': 0, 'a term review document': 0.5, 'the cnn debate': 3.4000000000000004, 'a gubernatorial campaign tv ad': 1.6, 'an interview for wfaa tv s inside texas politics': 0.6, 'a pundit panel on face the nation': 1, 'a campaign web post': 0, 'an announcement video': 0.8, 'boca raton': 2, 'a city mailer': 0.5, 'a white house press briefing': 1.6, 'in campaign literature distributed at a candidate forum': 0.8, 'following a missouri senate budget committee hearing': 0.5, 'an interview with the irish times': 0.8, 'a senate hearing': 2.2, 'a budget address to city council': 1, 'newspaper story': 1, 'an opinion piece in the austin american statesman': 1, 'hbo s real time with bill maher': 0, 'a meme first posted on facebook': 0.5, 'a speech in davie fla': 0.6, 'a radio appearance': 1.2, 'a broadcast of nbc s meet the press': 2.1, 'the texas debate hosted by kera tv channel 13 in dallas': 0.8, 'blog posts and links on the internet': 0, 'a private campaign fundraiser': 1.4, 'the fourth gop primary debate': 0, 'a white house conference on health care': 1, 'an election flier': 2.2, 'an e mail to supporters from campaign manager eric eikenberg': 1, 'a senate filibuster': 1, 'a tv ad airing in michigan': 1, 'flip o meter': 2.5, 'an online chat with the washington post': 0.6, 'the bloomberg washington post republican presidential debate': 0.5, 'a press conference in buffalo before signing legislation to combat heroin addiction': 0.6, 'a republican presidential debate in jacksonville fla': 1.9000000000000001, 'a widely circulated chain e mail': 0.8, 'newspaper column': 1.3, 'a republican presidential debate in boulder colo': -0.29999999999999993, 'an interview on central florida news 13': 0.5, 'an interview on wor 710 am s the john gambling show': 0.8, 'a campaign memo': 0, 'a house education committee meeting': 0, 'the democratic debate in durham n h': 0.8, 'a comment on cnn s crossfire': 0.5, 'a discussion on cnn s crossfire': 4.199999999999999, 'an interview aired by austin s ktbc tv channel 7': 0.6, 'a facebook post and video': 0.6, 'state of the city address': 1, 'the web': 1, 'a speech on homeownership': 1, 'a statement on central florida news 13 s political connections': -1, 'a news conference announcing his candidacy for milwaukee county executive': 0.6, 'a web video ad': 1, 'a campaign web site': 0.5, 'remarks to reporters in south carolina': 0, 'an assertion on his wpro radio show': -1, 'a texas capitol press conference': 0.6, 'a forum in hampton n h': 0.6, 'a dallas morning news blog post': 0.8, 'americans for prosperity florida rally': 0.6, 'a speech to house democrats': 0.8, 'remarks on msnbc s morning joe': 0.5, 'remarks by chief strategist steve schmidt': 0, 'an interview on the today show': -0.19999999999999996, 'a twc news debate': 0.6, 'a comment on fox news the o reilly factor': 0, 'an interview with reporters at william paterson university': 0, 'an appearance on this week': 0.8, 'in a campaign tweet': 0.6, 'an interview with president obama': 0.5, 'a talk at a conservative think tank': -1, 'a commentary in the new england journal of medicine': 0.8, 'a gubernatorial debate in jacksonville': 0.6, 'in campaign mail piece': 0, 'in a speech at texas southern university': 0.8, 'a politico column': -1, 'a broadcast of the five on fox news': 1.1, 'an interview on the fox 13 news program memphis in the morning': 1, 'campaign speeches': 0, 'a broadcast of hannity on fox news': 0.8, 'a web site list': -1, 'a segment on the kelly file': 0, 'in the first democratic debate': 1, 'a speech announcing the moral monday march': 0.8, 'an interview with the hill newspaper': 0, 'comments on hbo s real time with bill maher': 1.3, 'a television ad that ran through may 20': 0.5, 'a republican presidential debate in michigan': 1.0, 'a u s senate debate in orlando': 0, 'an npr interview': 0.8, 'a debate on new jersey 101 5 fm': 0, 'an article on its web site': 0, 'an interview with his brother former president george w bush on cnn': 0.6, 'a speech in springfield mo': -1, 'remarks on the senate floor': 2.6, 'a speech announcing his 2016 presidential campaign': 0, 'as quoted in an associated press news story': 0.6, 'various posts on the internet': -1, 'an interview on national public radio': 1, 'an interview on the fox business channel': 1, 'a debate on wral': 1.1, 'in an e mail message': 0.8, 'a political mail piece': 0.6, 'an interview with springfield mo news leader': 1, 'the majority texas supreme court opinion in texas school finance case': 1, 'a graphic on the rnc website': 0.5, 'a campaign fundraising letter': -0.4, 'a speech in cleveland': 0.8, 'a video news release': 1, 'remarks at a campaign fundraiser': 1.8, 'a spanish language radio ad': 1.4, 'remarks in the state legislature': 0, 'an interview on 10 news conference': 2.4000000000000004, 'a fund raising letter': -2, 'his annual state of the city address': 0.6, 'a press conference in beijing': 0.6, 'a speech at the manhattan institute': 0.8, 'a letter to state health officials': 0.6, 'a news show': 1.6, 'a broadcast of the laura ingraham show': 0.6, 'the republican debate in milwaukee wis': 0, 'a hillary for america television ad': 1, 'a speech at dartmouth college': 1.0, 'testimony before a u s house committee': 1, 'on facebook': 1, 'his announcement speech at miami dade college': 0.5, 'a campaign event in ames iowa': 0.8, 'a statement on the portland water bureau website': 0, 'comments on the cnn debate': 0.5, 'a houston press conference': 0.8, 'a town hall in underwood iowa': 0.8, 'for dubose porter s gubernatorial campaign': 1, 'an interview with nbc news': 1, 'a legislative debate': 0, 'an interview with nbc': 0, 'florida senate floor debate': 0.8, 'her budget address': 0.8, 'a speech in green bay wisconsin': -1, 'comments made on the house floor': 1, 'a u s senate campaign debate': 0, 'in a campaign mailer': 1.7, 'a virtual town hall meeting': 1, 'a speech to pinellas county republicans': -1, 'a campaign brochure distributed door to door': 0.8, 'a statement of policy from the executive office of the president': 0.5, 'cnn s state of the union with john king': 1.3, 'a rebuttal to the state of the union address': 0.5, 'a speech in alaska': 0, 'his farewell u s house speech': 0.8, 'his weekly radio address': 1.8, 'a news interview': 1.3, 'an opinion column in the lakeland ledger': 0.6, 'a news conference in israel': 0, 'an interview before the cnn tea party express presidential debate': 0, 'an interview with cbs stephen colbert': 0.6, 'a speech at north carolina state university': 1, 'an interview with msnbc s ed schultz': 0.5, 'a speech in dayton ohio': 0.8, 'an opinion piece in the wall street journal': 0, 'his speech at the state convention of the texas democratic party': 0, 'in a campaign ad': 1.5, 'comments at the republican party of florida s annual meeting': 0, 'the 2015 state of the county address': 1.6, 'an annual study': 1, 'a nevada u s senate race campaign commercial': 0.8, 'campaign web site': 1.5, 'comments on real time with bill maher': -1, 'a debate in st petersburg': 1.6, 'a comment on her talk show': 0, 'a voter forum hosted by the league of women voters of the austin area': -1, 'a speech at the university of pennsylvania': 1, 'a radio interview on wnyc': 1, 'an interview with njtv s michael aron for on the record': 0.8, 'in a senior center address': 0.5, 'his speech at the texas democratic party state convention in houston': 0.5, 'a white house news conference': 0.5, 'an interview with the new york times magazine': 0, 'a texas house floor debate': 0.8, 'during a news conference': 0, 'a statement on her campaign website': 1.8, 'comments on various local blogs': 0, 'a campaign blog post': 0, 'a campaign rally in cleveland': -2, 'a wpri providence journal debate': 0, 'an interview with cnbc': 0, 'a meme on twitter': 0.5, 'austin texas': 0, 'a speech at a labor day rally in milwaukee': 0, 'the second presidential debate in st louis': 0, 'a web ad supporting amendment 4': 0.5, 'an opinion column on nj com': 1, 'a speech in clayton n c': 0, 'a cameo interview': 0.5, 'a television web ad': 0, 'his television program': 0.5, 'in a tea party meeting': 0.8, 'the democratic debate in flint': 0.5, 'a history on team website': 1, 'a letter to jeb bush': 0.8, 'a video statement': 0.6, 'an interview with a south african journalist': 0.8, 'a gop presidential debate on cnn': 0, 'in a debate in davie fla': 1.4, 'a discussion on msnbc': 0, 'an audio recording described as a radio ad': 0, 'a rally in tampa': 0.6, 'an interview on cbs s face the nation': 3.5, 'his fox news channel show': 0, 'an abc radio commentary': 0.5, 'a speech in tallahassee': 0.8, 'a letter to the minnesota delegation in washington': 0, 'speech at the lyndon b johnson library': 1, 'a speech in moscow': -1, 'a tweet to politifact georgia': -1, 'a fox news debate': 0.6, 'a campaign ad in idaho': -0.4, 'in a speech in orlando fla': 0.6, 'the book no apology': 1, 'a rally in tempe ariz': 0.5, 'dartmouth n h': 0.5, 'comments during a speech': -1, 'a town meeting in new hampshire': 1, 'a website story': 0.5, 'a republican presidential debate in tampa florida': 0.6, 'a tweet and chart': 0.6, 'the central texas democratic forum': 0, 'an article in the atlanta journal constitution': 0.8, 'in a campaign tv advertisement': 0, 'remarks at mandester n h campaign headquarters': 0, 'a republican presidential debate in des moines iowa': 0, 'in an opinion column in usa today': 0.5, 'comments on the mike huckabee show': 0.5, 'a political action committee report': 0.5, 'a republican presidential debate in detroit': 1.3, 'an interview with the new york daily news': 1, 'a statement on the human events web site': 0, 'remarks from the senate floor': 1, 'a white house briefing': 1, 'a campaign speech in grand junction colo': 0, 'a statement at a candidate forum': -0.6, 'a comment on newsweek magazine s web site': -1, 'a speech in san antonio': 0.8, 'in an interview': 2.0, 'a republican presidential debate in tampa fla': 0.6, 'an interview on comedy central s daily show with jon stewart': 0.5, 'state of the judiciary address': 1, 'news report': 0.6, 'ottumwa iowa on nbc s meet the press': 0, 'innovators in action magazine': 0.5, 'a viral meme on social media': -1, 'town hall meeting': 1, 'a house of representatives floor speech': 2.4000000000000004, 'the oba s 2014 work plan': 0.5, 'a tweet about the nfl draft': 0.8, 'an abc this week interview': 0.8, 'a news release issued by the group s john muir chapter in wisconsin': 0.6, 'a talk with the pennsylvania press club': 0.6, 'a statement on his campaign web site': 1.5, 'answer to questions': 0.5, 'a tv campaign commercial': 0.5, 'a press conference at the white house': 1.3, 'a speech at george washington university': 1.3, 'a meet the candidates forum': 0, 'a press conference at autonation in fort lauderdale': 0.6, 'a campaign stop in concord n h': 0, 'his weekly address': 1.7000000000000002, 'the realrickscott com website': 0.6, 'an op ed in the new york post': -1, 'an interview with the texas tribune and washington post': 0, 'a daily summary of news fox news first': 0.5, 'news conference': 0.5, 'a statement to politico': -1, 'fundraising email': 1, 'at media symposium': 0.8, 'an interview on politicsnation with al sharpton on msnbc': 1, 'a speech to the business roundtable in frankenmuth mich': 0, 'a state senate budget committee hearing': 0, 'department blog post': 0.8, 'campaign video': 2.1, 'a video shown at the democratic convention': 0.6, 'the democratic debate in brooklyn n y': 0.5, 'the fourth gop undercard debate': 0.5, 'an appearance on comedy central s the daily show': 0.5, 'flint mich': 1.1, 'a campaign event in hanging rock ohio': 0, 'his debut senate floor speech': 1.0, 'an email campaign statement': 0, 'an interview with wesh tv': 0, 'an orlando debate': 2.1, 'a capital public radio interview': -1, 'an interview on the o reilly factor on fox news': 0.5, 'a letter to the editor of the san antonio express news': 0.5, 'a speech at a press conference': 0.5, 'a speech at the texas democratic convention': 1, 'a speech at a house party in new hampshire': -1, 'a speech at the conservative principles pac conference': -1, 'a gop survey': 0, 'a legislative meeting': 1.3, 'nashua n h': 0.5, 'a television ad first airing on july 1': 0.6, 'the first in the south democratic presidential forum': 0.5, 'a letter and news release': 0.6, 'on this week with christiane amanpour': 1.0, 'a web advertisement titled college vs smokes': 0.6, 'a television campaign ad': 2.6, 'house debate': 0.8, 'an interview on alex jones radio show': -1, 'a column posted on medium com': 2.3, 'a republican candidates forum in south carolina': -1, 'an interview with tv station wjac': 0.6, 'an interview on msnbc s jansing and co': 0.6, 'an interview with texas monthly': 0.8, 'a graphic during the daily rundown': -1, 'a florida house discussion of sb 392': 0.5, 'an emailed statement': 0.5, 'an open letter': 1.9, 'comments on the subject over the past 10 years': 0.5, 'press conference in the texas house speaker s committee room': 0.5, 'comments before a state house subcommittee': 0.8, 'public remarks': 1.6, 'email to supporters': 0.5, 'an interview on cnn reliable sources': 0, 'a roll call interview': 0.5, 'a robocall from the pink slip rick website played on msnbc s rachel maddow show': 0.8, 'an interview with fox news': 9.6, 'a speech in des moines iowa': 2.3, 'remarks during the gop debate at the university of houston': 0.6, 'remarks at a florida campaign stop': 0.6, 'a retweet': 0.5, 'a chicago sun times editorial board debate': 0.5, 'comments on msnbc s daily rundown': 0.8, 'a breakfast at the texas tribune festival': 1.3, 'a press release touting a state tourism program': 1, 'a medium post': 2.8, 'department of homeland security hearing': 1, 'an appearance at the brookings institution': 0, 'a speech in lower manhattan': 1, 'an appearance on wpro': 1, 'las vegas nev': 2.6, 'a rally in charlotte n c': 0.5, 'a voters guide': 1.0, 'a chain e mail circulated on the internet': 0, 'an interview on cnbc': 1.1, 'posts on the internet': -2.4, 'an online news story': 0.6, 'an interview with the columbus dispatch': 1.6, 'a democratic debate': 0, 'a speech at the conservative cpac conference': -0.5, 'a republican presidential debate': 4.199999999999999, 'an issue statement posted to his website': -1, 'a county commission meeting': 0, 'campaign literature distributed by an outside group': 0.09999999999999998, 'a press conference by austin democrats': 0, 'opinion piece': 0.5, 'postings on facebook blogs and social media sites': 0, 'answering a reporter in iowa': 0.5, 'comments on this week in missouri politics': 0.8, 'an interview with kera news': 0, 'a rally in cleveland ohio': 0, 'a segment on outnumbered': 0.6, 'comments on the state senate floor': 0.5, 'a supreme court hearing on health care law': 0.8, 'the state of the state speech': 1.5, 'a chain email apparently focused on wisconsin corrections workers': 0, 'a saturday address': 1, 'remarks at the democratic national convention in charlotte n c': 0.5, 'speeches': 0, 'comments to reporters in tampa fla': 0.5, 'an ad debt released sept 18 2012': 0.6, 'a rally at a phoenix high school': 0.5, 'a tv ad airing colorado nevada and new mexico': 1, 'a debate in ames iowa': 1, 'a budget presentation': 1, 'a fundraising appeal': 1.3, 'a radio discussion': 1, 'an interview on the charlie rose show': 0.6, 'a news conference in washington d c': 0.8, 'a discussion with black lawmakers': 0.8, 'in tv ads': -1, 'a house hearing on immigration': 0.8, 'a mass e mail': 1, 'a viral video': 0, 'a media conference call': 0.8, 'an e mail received by many people': -2, 'a debate in tampa fla': 0.5, 'a comment by husband bill clinton on larry king live': 1, 'a cnn crossfire segment': 0.5, 'during a public hearing': 0, 'lansing mi': 0, 'a speech at the ronald reagan presidential library': 1.1, 'a tv ad in iowa': 0.8, 'a robo call and video': 0.5, 'a meeting with the milwaukee journal sentinel editorial board': 0, 'in an interview on wedu tv': 0.5, 'an interview on super bowl sunday': 0.8, 'the new york times': 0.5, 'coburn s wastebook 2013': 0.6, 'a discussion on cnn s state of the union': 1.8, 'a stockman campaign web page': 0, 'an interview with georgia public broadcasting': 0.6, 'a statement on a web page': 0, 'an article written by tom minnery': 1, 'an interview with the pittsburgh tribune review': 1, 'a speech at the university of texas at austin': 1, 'a tweet by post': -1, 'coral gables fla': 1.4, 'a roundtable discussion on fox news sunday': 0.6, 'a posting on his website': 1, 'a news release about tax reform': 0.8, 'a redistricting meeting in panama city': 0, 'a recent report': 1.2, 'an interview on msnbc s up': 0.5, 'an op ed in the new hampshire union leader': 1.8, 'an interview on cnn s larry king live': 0.8, 'a response to a question after a town hall meeting': 0.6, 'an interview on oregon public broadcasting': 0, 'a tv appearance': 2.8, 'a business roundtable in new hampshire': 0.8, 'a twitter messaging campaign': 1, 'a speech to the austin oak hill rotary club': 1, 'a broadcast of fox and friends weekend': -1, 'an op ed in the huffington post': 1.8, 'an interview with wfaa tv': 0, 'a speech in boston': 0.8, 'a mailer spotted by an austin voter': 0.5, 'a meme on a facebook page': -1, 'a speech on the floor of the house of representatives': -1, 'a town hall in san juan': 0.5, 'a guest lecture': 0.8, 'a tv airing in florida': 0.8, 'stories': -1, 'stratham n h': 2.3, 'a foreign policy speech': 3.0999999999999996, 'a statement from his campaign': 1, 'in an interview on abc news this week': 1, 'education conference': 0.8, 'a speech to house republicans': -1, 'its website': 1.1, 'an atlanta journal constitution blog post': 1, 'a facebook meme': 1.4, 'interview on late night with david letterman': 1, 'an interview on cbs 60 minutes': 0.8, 'an interview on msnbc s all in with chris hayes': 0.8, 'a speech after the iowa caucuses': 0, 'the glenn beck show': 0, 'a guest column for the oregonian': 0.8, 'an abc republican debate in new hampshire': 0, 'a press release from may 26 2009': 0.5, 'a statement at the white house': 1, 'a republican us senate debate': 1, 'a column in the washington post': 2.0, 'a broadcast of the glenn beck program': 0.5, 'a town hall meeting in new hampshire': 0, 'an interview on fox 13': 0.8, 'a gop u s senate candidates debate': 0.5, 'an interview with judy woodruff': 0.5, 'an open letter to floridians': 0.5, 'a comment made during his radio show': -1, 'a republican us senate debate at wfaa tv channel 8 in dallas': 1, 'a test conducted on an obscure politifact site': 1, 'a news release blog': 0.8, 'a post on her website': 1, 'a comment to a reporter': 1.5, 'appearance on cbs s face the nation': 1, 'an interview on nbc s today': 0.5, 'a commentary posted on the fox news website': 1, 'a post on his website': 0.8, 'an interview on this week with george stephanopoulos': 1.3, 'an appearance on msnbc s the last word with lawrence o donnell': 0.6, 'a debate in cleveland': 1, 'the kgw the oregonian debate': 0.8, 'a segement on the colbert report': 0.8, 'a fundraiser invitation': 0.6, 'a debate in durham n h': 3.4000000000000004, 'a billboard ad': 0.8, 'as quoted during a school visit': 0.8, 'a star ledger column': 0.8, 'an interview with the associated press': 1.1, 'a broadcast of msnbc s the ed show': 2.3, 'a town hall conversation': 1, 'an interview after a town hall meeting': 0.6, 'an interview with vox': 0.8, 'a u s senate debate on cnn s state of the union': 1, 'a viral internet post': -1, 'a new york times column': 2.8, 'a democratic primary forum': 0.8, 'his movie capitalism a love story': 1.4, 'a tv ad in an endorsement by illinois state sen kirk dillard': 1, 'the first democratic presidential debate': 0.6, 'an interview with waywire': 1, 'a web page': 0.6, 'a fox news sunday debate': 0, 'cedar rapids iowa': 0.8, 'a speech to the hispanic business expo in detroit': 0.5, 'his declaration for president': 0.8, 'a tv interview on nbc': 0.5, 'a statement on his television talk show': 0, 'the new york sun': 0, 'a statement on cicilline s website': 0, 'a speech at the republican national convention': 5.0, 'an interview with howard kurtz': 0.8, 'a news conference announcing his libertarian candidacy in washington d c': 0.8, 'a video attack advertisement': 0.6, 'an interview with this week host george stephanopoulos': 0.8, 'missouri': 1, 'a meeting of the rhode island public transit authority board': 0.8, 'an njtoday interview': 1.6, 'an alert to members': 1, 'introduction to online petition to lower state s grocery taxes': 1, 'a talk show': 0.5, 'a surreptitiously recorded speech to donors at a fundraiser': 0, 'a news release reacting to fitzgerald s run for governor': -1, 'a speech on the floor of the rhode island house of representatives': -0.4, 'a broadcast of fox news sunday': 1.5, 'a speech at the rising tide summit in cedar rapids iowa': 0.6, 'a segment on the o reilly factor': 1.6, 'an interview with reporters at her ceremonial swearing in event in fort lauderdale': 0.6, 'a keynote address': 0.5, 'a political talk show': 0.5, 'comments to reuters': 1, 'a senate resolution': 0.8, 'a speech at the brookings institution': 0, 'a forum at huston tillotson university': 0, 'a speech by husband bill clinton at a concord n h rally': 0.8, 'a blog post on breitbart': -1, 'a rally in rome n y': 0, 'a speech at gov rick scott s economic growth summit in orlando': 1.5, 'an event to promote the keystone xl pipeline': -1, 'a segment on cnn': 0.8, 'announcing 615 million in budget vetoes': 0.8, 'newspaper interview': 1.6, 'on up to date': 0.6, 'fox s the o reilly factor': 1, 'a speech at his economic summit for presidential candidates': -1, 'campaign ad beltway rob': 0, 'an interview on pbs': 0.8, 'an episode of the daily show': 0.8, 'an interview on cbs late show with david letterman': 0, 'a campaign commercial principle about u s rep charlie bass r nh airing in new hampshire': 0.6, 'a white paper on proposition 6': 0.8, 'an interview with blue jersey': 0.5, 'an op ed in the statesman journal': 0.6, 'at the missouri state fair': 1, 'a debate in oxford miss': 2.3, 'a panel discussion on cnn': 1.8, 'an interview with austin s kut 90 5 fm': 0.6, 'a panel on fox news sunday': 0.8, 'a newsletter update': 0.6, 'associated press annual meeting washington d c': 0, 'the florida state of the state address': 0.8, 'a television forum': 0.8, 'a graphic on cnn newsroom': 0.6, 'an interview on abc s good morning america': 0.6, 'a speech at women s health roundtable discussion': 1, 'his radio commentary': 0.6, 'in various posts on the web': 0.5, 'an article published by politico': 0, 'remarks at journalists convention': 0.5, 'an interview on 6abc s inside story': -1, 'a letter to president barack obama': 2.1, 'remarks at a capitol budget hearing': 0, 'the 2016 budget resolution from house budget committee': 1, 'a broadcast of cashin in on fox news': -1, 'a debate at dartmouth college in hanover n h': 0.8, 'a washington post article': 1, 'republican presidential debate in north charleston s c': 0.8, 'an interview with bill maher': 0, 'a chain e mail sent to many people': 0, 'to the media': 0, 'a speech announcing her candidacy': 1, 'a town hall in broward county': 0.6, 'an email interview with the tampa bay times': 1, 'a telephone call to the allen texas police department': 0, 'a post on infowars com': 0.5, 'a political mailing': 0.5, 'in official ballot argument': 0.5, 'an interview with the st petersburg times editorial board': 1.3, 'a posting on various websites': 0, 'on support for the export import bank': 0, 'his democratic national convention speech': 1.3, 'in an interview with the commercial appeal': -1, 'a speech in fishkill ny': 1, 'an interview on cnn s the situation room': -1, 'on his television show': 0.8, 'an event to launch her reelection bid': 0.8, 'a media availability in columbus ohio': -1, 'a speech welcoming home troops at fort bragg': 0.5, 'comments made on the senate floor': 1, 'tv niterview': 0, 'in a story in the chattanooga times free press': 0.8, 'school board testimony': 0.8, 'her speech at texas democratic party state convention in houston': 0.5, 'a townhall com guest blog post': -1, 'candidate s forum in bedford n h': 0.5, 'a petition on the white house website': -1, 'a campaign e mail': -1, 'a speech at milwaukee s master lock plant': 0, 'appearance on abc s this week': 0.8, 'a fund raising letter from female supporters': 0.5, 'a meeting with the palm beach post editorial board': 0, 'a telephone news conference': 0.8, 'a statement on his show on fox news channel': 0, 'an interview on fox news hannity': 1.4, 'the republican response to the state of the union address': 3.1, 'a speech at the alfred e smith memorial dinner': 0.5, 'an interview on the o reilly factor': 0.9999999999999999, 'a video to supporters': 0.6, 'several media interviews': 0, 'a plan on his campaign website': 0.5, 'an appearance on wpri tv s newsmakers program': 1, 'a hearing before congress': 0.6, 'an atlanta press club debate': 0.5, 'a breakfast with journalists in washington d c': 0, 'a speech to democratic governors': 0, 'an article posted on medium': 0.8, 'an article on the frontpage website': -1, 'in an interview with cnn': 0.8, 'a debate in south carolina': 0.5, 'a commercial': 0.8, 'in a newspaper article': 0.8, 'a statement at a hearing of a house energy and commerce subcommittee': 0.5, 'a speech to the center for security policy': 1, 'a public forum': 0.5, 'an address to a joint session of congress': 0.6, 'remarks at a dallas synagogue': 1, 'msnbc s countdown with keith olbermann': 0.5, 'comments on the msnbc show countdown': 0.5, 'her acceptance speech at the democratic convention': 1.3, 'a north carolina governor s race debate': 0.6, 'an online community forum': 1, 'his book a more perfect union': 0, 'an opinion article published in the tampa tribune': 0, 'a speech in the ohio house of representatives': -0.4, 'a statement during a state house finance and appropriations committee hearing': 0, 'a statment on his website': 0, 'e mail and blog postings': -1, 'a roundtable segment on abc s this week': 1, 'this week with christiane amanpour': 0.8, 'a town hall in derry n h': 0.5, 'an op ed in the pittsburgh post gazette': 0, 'a direct mail piece': 0.6, 'a web banner ad': 0.8, 'an oped article in the austin american statesman': 0.8, 'a shareable graphic on the web': 0, 'prepared remarks in a written speech': 0.6, 'a response to the state of the union': 0.6, 'new york n y': 1, 'a primary debate in arizona': 0, 'an interview with pajamas media': -1, 'an interview with fox news sean hannity': 0.6, 'a statement to the journal sentinel': 0.5, 'a mailing to austin s bob cole': 0.8, 'his speech declaring his candidacy for president': 1.4, 'an appearance in milwaukee': 0.8, 'on meet the press': 0, 'a speech on the floor of the u s house of representatives': 2, 'a speech in knoxville iowa': 0.5, 'a speech to the toledo regional chamber of commerce': 1, 'a speech introducing ted cruz at liberty university': 1, 'a speech in phoenix ariz': 0.8, 'her book going rogue': 0, 'msnbc s morning meeting with dylan ratigan': 0, 'an interview with the new hampshire business review': 0.5, 'his first speech on the u s senate floor': 0.8, 'a speech at the convention of the georgia republican party': 0.8, 'a speech in roanoke va': 0, 'an internet radio interview': 0, 'comments on fox news': 1.3, 'a joint select committee on deficit reduction hearing': 0.8, 'an assembly budget committee hearing': 0.5, 'a video advertisement fight': 0, 'an interview with on njtv s on the record': 1, 'a providence journal story': 1.8, 'the ohio senate debate': 0.8, 'springfield mo': 2.8, 'a statement read on the i laura ingraham show i': 1, 'an episode of the rush limbaugh show': -1, 'a town hall in wolfeboro n h': 1.2, 'an interview with mcclatchy s washington bureau': 0.6, 'a new hampshire town hall with voters': 0.5, 'a jobs proposal': -1, 'an e mail to supporters': 2.7, 'a republican debate': 2.0, 'a broadcast of the ed schultz show': 0.5, 'an op ed article': 5.1, 'a column in national review': 0.5, 'pete gallego campaign press release': 0.5, 'a town hall meeting in milford nh': 0, 'a speech on the floor of the rhode island house': 1, 'an e mail press release': 1, 'a segment on msnbc s morning joe': -0.19999999999999996, 'a tallahassee press conference': 1, 'a speech to the greater houston partnership': 0, 'nbc s today show': 0.5, 'as quoted in a midland reporter telegram news story': -1, 'an editorial board meeting with the nashua telegraph': 0.6, 'a debate on state of the state': 0.6, 'an ap interview': 1, 'a 90 page manifesto decrying federal overreach': -1, 'a broadcast of the tonight show': 0.6, 'a fox sports panel about super bowl xlviii': 0.5, 'his education plan': 0.8, 'a letter to florida s u s senators': 0.8, 'a statement on the georgia farm bureau website': 0.8, 'a campaign rally in boca raton fla': 0.6, 'an appearance on wpri tv s newsmakers': 1.3, 'various interviews': 0.5, 'comments at a speech': 0, 'an advertisement against hillary clinton': 0.6, 'a senate rules committee meeting': 0.8, 'an msnbc telemundo town hall': 0, 'a speech at the democratic national convention in charlotte n c': 3.6, 'a blog post on his website': 0.8, 'a facebook image': 0.6, 'his 2015 state of the union address': 2.3, 'an interview with mike huckabee': 0, 'a radio interview on wfla am 970': 0, 'a blog posting': 1.8, 'an interview on msnbc s melissa harris perry': 0.8, 'a texas capitol rally': 1.5, 'remarks in austin texas': 0, 'a speech in austin': 0.5, 'his energy plan': 1, 'an episode of this week in missouri politics': 0.5, 'comments to reporters on texas senate floor': 0.8, 'a speech in ann arbor mich': -1, 'a speech in chicago': 0.8, 'a letter to congress': 0.5, 'a capitol hill press conference': 0.5, 'a new york times news story': 0, 'a debate in miami fla': 3.3, 'a dissenting opinion in burwell vs hobby lobby': 0.8, 'a speech in north carolina': 0, 'a recall debate': 0.8, 'a speech during a rally on homelessness': 0, 'a speech in falmouth maine': -1, 'a democratic national convention speech': 0.8, 'the fox business network debate': 1.9, 'an interview with msnbc s morning joe': 0, 'news media reports': 1, 'camp david': 0, 'a speech at ohio state university': 0.8, 'a press call': 1, 'in a fundraising email': -1, 'an interview of gov rick perry': 0.5, 'a broadcast of the kelly file on fox news': 0.5, 'a speech in seminole fla': 0.6, 'a speech on capitol hill': 2.1, 'a commentary in the austin american statesman': 1.4, 'a speech to the afl cio convention': 0.6, 'an interview on njtv s on the record': 0, 'an editorial board interview with the concord monitor': 2.4000000000000004, 'a talk on msnbc s the cycle': 0.5, 'tv and newspaper interviews': 0, 'a radio interview in new hampshire': 0.5, 'in an interview on fox s hannity': 0.5, 'a speech in council bluffs iowa': -1, 'a town hall meeting in peterborough n h': 0.5, 'an interview on npr s morning edition': 0.8, 'a panel discussion on abc news this week with george stephanopoulos': 1.3, 'an article in the weekly standard': 0.5, 'a vote': 0, 'a post on its website': 0.5, 'a talking points memo': 0.5, 'a segment on nancy grace': 0.6, 'a speech at a tea party rally in boston': 0.8, 'a broadcast of msnbc s andrea mitchell reports': 0.5, 'an announcement on his website': 1, 'a campaing mailer': 0.5, 'a news conference with reporters': 1, 'a post on her campaign website': 1.1, 'an interview with cigar aficianado': 0, 'attack ad for tv': 0.8, 'a congressional web page': -1, 'the fourth gop debate': 0, 'a post on the weekly sift blog': 1, 'telephone press conference': 0.6, 'an election ad': 0.6, 'a statement by a spokeswoman': 0, 'a public appearance': -0.5, 'a rally in new hampshire': 0.8, 'a candidates forum in dunedin': 0, 'an austin mayoral debate on kxan tv': 1, 'knoxville iowa': 0.5, 'speeches and on his campaign website': 0.5, 'an interview on msnbc s the cycle': 0.8, 'his second inaugural address': 0.6, 'comments during the cnbc debate': 0, 'an interview on a radio show': 0, 'comments during house floor debate': 1, 'a republican response to the state of the union address': -1, 'a post on his blog': 0, 'a posting on the conservative web site townhall com': 0.8, 'a republican presidential debate in north charleston s c': 1.1, 'a response at a legislative hearing on water quality and contamination': 0, 'an opinion piece in the star ledger': 1, 'a campaign event outside speaker john boehner press conference in derry nh': -1, 'her speech to the texas democratic party state convention': 1.8, 'an interview on the kelly file': 1.1, 'in a fundraising e mail': -1, 'a broadcast of fox news the real story': 0.6, 'an online chat': -1, 'an email to subscribers': 0, 'an interview on fox and friends': 0.6, 'in an article': 0.8, 'a campaign email to new hampshire press aug 21': 0.8, 'in reaction to president barack obama s state of the union address': 0.6, 'an interview on msnbc s morning joe program': 0.5, 'a note on facebook': 0, 'map': 0.8, 'an interview on the rachel maddow show on msnbc': 0.5, 'a statement on twitter': 0.5, 'blog postings': 0.6, 'website comments': 0, 'at suncoast tiger bay luncheon': 0, 'a speech at the conservative political action conference': 0.8, 'video': -0.4, 'an interview with sarah palin': 0, 'a letter to the the postal regulatory commission chairwoman': 0.8, 'a saturday broadcast address': 0.6, 'speech to the nra convention': 0, 'in a tv interview': 1, 'an interview on live from the state capitol': 0.6, 'detroit': 0.6, 'the cnbc debate': 0.6, 'an interview on the colbert report': 1.5, 'an online interview with the daily show': 0.8, 'a house debate': 0, 'a congressional candidate forum in pahrump nev': 0.8, 'a senate tea party caucus meeting': 0.8, 'an interview with indiana public media': 0.6, 'remarks at the national press club': 2, 'a news release following a candidate debate': 0.8, 'a speech in portsmouth n h': 0.5, 'a town hall meeting in reno nev': 1, 'a speech at the new america foundation': 0.8, 'a broadcast of cnn s the lead with jake tapper': 1, 'liberal blogs': 0.8, 'interviews on four sunday morning news shows': 1, 'an appearance on the ohio news network': -1, 'a television news interview': 1, 'comments during the cnn debate': 0.8, 'a statement responding to gov rick scott s state of the state speech': 0.5, 'an opinion piece in the washington examiner': 0.6, 'a web page post': 0.6, 'story in the providence journal': 0.5, 'a washington post op ed': 2, 'the doonesbury comic strip': 0.5, 'a speech at a texas public policy foundation forum': 0.8, 'several blog and social media posts': 0, 'an economic forum': 0.5, 'an appearance on msnbc': 0, 'a video briefing': -1, 'the democratic debate in flint mich': 0.6, 'a robo call': 0.6, 'a public hearing about redistricting': 1.6, 'a telephone campaign': 0, 'a statement to press': 0.6, 'a rose garden press conference': 0, 'clinton iowa': 1.5, 'a private meeting with supporters': 0.8, 'an opinion article in the new york post': 0, 'state of state': 0.5, 'a speech at his swearing in ceremony': 0, 'a spanish language television ad': 0.6, 'chain e mail': -1, 'an interview on the view': 0.8, 'a roundtable debate with state sen dan patrick': -1, 'comments during the houston gop debate': -0.4, 'a today show interview': 0, 'an address at the tea party convention': 0.5, 'a forum on the state budget': 2.8, 'an interview on nbc s the daily rundown': 0.5, 'a speech at the congressional hispanic caucus institute': 0.5, 'in a fox news interview': 1.3, 'a runoff night statement': 0.6, 'a meeting with state legislators': 1.3, 'his talk show': -1, 'a segment on the ed show': 0.6, 'a press conference in australia': 0, 'interviews with various media outlets': -1, 'an episode of inside amy schumer': 0.5, 'an interview on good morning america': -2, 'a debate at the reagan library': 0.5, 'the cnn gop presidential debate': -1, 'news story': 1.0, 'an interview with msnbc s al sharpton': 0.5, 'a broadcast of fox and friends': 0, 'a speech posted on medium': 1, 'a speech in elyria ohio': 0.5, 'a chain e mail based on an article written by dick morris': 1.6, 'a speech by wayne lapierre at the conservative political action conference': 0, 'in a speech at the democratic national convention': 1.6, 'comments to the st petersburg times and miami herald': 0.8, 'fox s o reilly factor': 0.6, 'women s conference session': 0.6, 'a blog on his campaign website': 1.0, 'campaign mailers': 0.6, 'a facebook post of photo and caption on miller s fan page': 0, 'an interview of greg abbott texas governor elect': 0.5, 'a letter with other florida lawmakers to hhs secretary kathleen sebelius': 1, 'house judiciary committee hearing on his bill allowing concealed carry on college campuses': 0.6, 'testimony before the senate judiciary committee': -0.5, 'an interview on morning joe': 1.6, 'at a rally at the ohio statehouse': 1, 'a speech in the villages fla': 0.6, 'a tv broadcast': -1, 'a tv interviews': -1, 'statements to the press': -1, 'a speech in milwaukee': 1, 'an interview on ynn s capital tonight': 0.8, 'an assembly session': 1, 'a speech in delaware': 0.8, 'comments to the media': 0, 'a column on bluejersey com': 1.3, 'a segment on last week tonight': 1.5, 'the vice presidential debate in danville ky': 1.5, 'a statement in the congressional record': 1, 'guest column': 0.6, 'campaign website statements': 0, 'comments from sports pundits and fans on twitter': 0.8, 'a town hall meeting in merrimack n h': 0.8, 'comments at the senate budget committee': 1, 'a bill introduced on the house floor': 0, 'in comments on real time with bill maher': 1.6, 'an internet meme': -1, 'a talk in austin': 0.8, 'msnbc s the ed show': 1.4, 'an interview with a new hampshire radio station': 0.6, 'a video ad on his campaign website': 0.6, 'interview on msnbc s morning joe': 0, 'his syndicated radio show': -1, 'her facebook page': 0, 'a debate at the salem city club': 0.5, 'a speech in tampa fla': 1.6, 'an interview on wlne s on the record': 0.8, 'prepared remarks at a congressional field hearing': 1, 'a public address': 2.1, 'a letter to taxpayers': 0.8, 'a speech before the east jersey tea party': 0, 'a u s senate debate hosted by empower texans and the texas public policy foundation': -0.19999999999999996, 'remarks at the better bike share conference': 0.6, 'tennessee republican party web site posting': 0.5, 'an op ed published in the austin american statesman': 0, 'comments on abc s this week with george stephanopoulos': 0.5, 'an interview on fox business news': 2.8, 'facebook post by liberals are cool': 0.6, 'a speech in cincinnati ohio': 0.5, 'a speech before the atlanta press club': 1.9, 'the fourth republican presidential debate': 0.5, 'a speech to protesters in madison wisconsin': 1, 'a speech to newspaper editors': 0.6, 'in a tweet online post': 0.8, 'a speech at princeton university': 0.6, 'a series of tweets': 0.5, 'a speech at a political rally in phoenix': 0, 'an interview on the daily rundown on msnbc': 0.5, 'a senate filibuster speech': 0.5, 'a senate speech': 1, 'a conversation with the buffalo news at the republican national convention': 0, 'a policy plan on immigration': 0.5, 'keynote address to the democratic national convention in charlotte n c': 1, 'a pre debate appearance in virginia': 0.5, 'in the 2016 vice presidential debate': 0.6, 'a campaign event carried on cnn': 0.5, 'remarks after winning the south carolina republican presidential primary': 0.5, 'a campaign proposal': 0.6, 'flush a campaign ad': -1, 'a campaign handout': 0.6, 'the republican debate in ames iowa': 0.6000000000000001, 'an interview on cnn and a posting on twitter': 0.6, 'an interview for inside texas politics on wfaa tv channel 8 in dallas': 1, 'a broadcast of fox and friends on fox news': -1, 'his inaugural address': 1, 'an interview with russell moore president of the southern baptist convention': 0.5, 'njea s website': 1, 'a statement to alexandria city council': 0.6, 'a response to the state of the union address': 1, 'a commentary published in education week': 0, 'a republican debate in iowa on fox news': 1.3, 'an interview on c span': 1, 'newspaper ads': 1, 'a campaign rally in alexandra va': 0, 'in a radio debate': 0.8, 'an interview with the wall street journal': 0.5, 'a floor debate': 0, 'an interview on newsmax tv': 0.5, 'an interview with the fox news network': 0.6, 'comments on his television show': 1, 'a campaign document': 0.8, 'a segment on the view': 0.6, 'an interview with nbc s meet the press': 1.4, 'a mailed flier': 0.6, 'the campaign s website': 0.5, 'a speech on the floor of the rhode island senate': 0.8, 'comments on fox business network': -1, 'an interview on cnn s i american morning i': 1.1, 'on their website': 0.5, 'his campaign website asking supporters to sign a petition to oppose offshore oil drilling': 0.8, 'a graphic released by his campaign': 0.6, 'an interview on njtv': 2.4000000000000004, 'a new book': 0, 'a speech at the center for american progress': 0.5, 'her opinion column': 0.6, 'a town hall in manchester n h': 1, 'an internet graphic': 0.8, 'a speech to ohio college democrats': 0.6, 'a posting to the state s office of management and budget website': 0, 'his book courage to stand an american story': 2.9000000000000004, 'a usa today column': 1, 'the state of the city address': 0.5, 'a gubernatorial debate in miramar': 0.5, 'a senate health policy committee hearing': 0.8, 'a milwaukee press club appearance': 0.5, 'a tv ad that ran mostly in iowa': 0.6, 'speech on the ri house floor': 1, 'a white house announcement': 0.5, 'a speech to the naacp convention in houston': 0.8, 'a rally in cincinnati ohio': 0.5, 'a speech at a campaign rally': 0.5, 'a speech on climate change': 0.8, 'a speech about the affordable care act': 1.6, 'an interview with anderson cooper': 1, 'a panel on abc s this week': 0.5, 'a debate at howard university': -1, 'a speech at the afl cio national summit on raising wages': 0.8, 'a segment on lou dobbs tonight': 0, 'his campaign web site': 0.5, 'a story': -1, 'a speech in syracuse n y': 0.6, 'an op ed in usa today': 2.2, 'a debate in st petersburg fla': 1, 'the democratic debate in iowa': 0.6, 'a speech at stanford university': 1, 'an address at the eisenhower executive office building': 0.5, 'a special broadcast on fox': 0.6, 'a debate at broward college': 1.1, 'a speech transcript on medium': 0.5, 'comments at a campaign organizing event': 0, 'an opinion colulmn': 0, 'an editorial board meeting with the st louis post dispatch': -1, 'an interview with charlie rose': -1, 'an austin city council meeting about the city budget': 0, 'an interview with central florida news 13': 0.5, 'an interview on cnn s fareed zakaria gps': 0.8, 'a campaign biography': 0, 'a committee hearing on domestic partnerships': 0.6, 'the gop primary debate in texas': 0.5, 'a radio advertisement': 1, 'statement to reporters': 0.8, 'an interview with laura rice for the texas standard': 1, 'her campaign web site': 0.8, 'a commentary on cnn': 1, 'a gubernatorial campaign forum': 0.5, 'a rally in columbus ohio': 1.8, 'a response to the president s saturday address': 1, 'an interview with the texas tribune': 0.8, 'a pinellas county commission meeting and web comments': -1, 'the third gop primary debate': 0, 'the senate floor': 0.5, 'in a facebook post and video': 0.5, 'a speech at the citadel': 0.8, 'a statement from the minority leader s office': 1, 'a speech at the 2016 democratic national convention': 0.8, 'an internet message': 0.5, 'his primary victory speech': 1, 'an economic address in detroit': 0, 'a tampa bay times bay news 9 debate': 0.8, 'a questionnaire': 1.6, 'a debate in the rio grande valley': 1.9000000000000001, 'south bend ind': 2, 'comments on his blog': 0.5, 'a speech in cincinnati': 1, 'its platform': 1, 'his book clinton cash': 1, 'an email to politifact texas': 0.8, 'nbc s commander in chief forum': 0.6, 'television advertisement': 1.3, 'testimony at general assembly': 0.6, 'in a post on facebook': -1, 'an interview posted on medium': 0.8, 'an interview on fox s hannity': 0.6, 'overhead sign on i 85 south': 1, 'an interview with fox s the kelly file': 0.6, 'a town hall meeting in concord n h': 0.5, 'a statement published in the bakersfield californian': 0, 'a washington post column': 1.6, 'a league of women voters guide for texas and austin voters': 1.4, 'a speech at a trump rally': 0, 'an election night interview': 0.6, 'a forum hosted by slate yahoo huffington post': 1, 'an interview on abc this week': 0.6, 'a roundtable discussion on abc s this week with christiane amanpour': 2.1, 'a statement on fox and friends': 0, 'a statement on the u s senate floor': 1, 'a press release from the communication workers of america': 0.5, 'a republican presidential debate in milwaukee': -0.5, 'msnbc s morning joe': 2.3, 'a conversation with reporters aboard plane': 0.6, 'a broadcast of cnn s piers morgan live': 0.5, 'in an interview on this week': 0.5, 'an interview on ralston live': 0.6, 'comments on his radio program': 0.8, 'a broadcast of the last word with lawrence o donnell': 0.8, 'a web post and email blast': 1, 'e mail to supporters and media': 0, 'an interview on msnbc s the ed show': 0.8, 'a broadcast': 0.6, 'a speech at a state democratic party dinner': 0, 'comments announcing florida would reject federal dollars for a tampa orlando high speed rail line': 0.5, 'a campaign news release and platform document': 0.6, 'a donald trump rally in indiana': 0.5, 'a comment made on 10 news conference': 0.5, 'a post on his campaign website about releasing his tax returns': 0.5, 'a gas station advertisement': 0.6, 'a speech at politics and eggs': 0.6, 'a speech in madison wisc': 0.5, 'a widely distributed email memo': 0.8, 'a myth and fact news release': 0.5, 'a talk radio show': 1, 'house floor debate': 0.6, 'a rally in north carolina': 0.5, 'a website article': -1, 'a tampa tribune blog': 0.5, 'bay news 9 show political connections': 0, 'campaign mail': 0, 'an interview on cnn s i larry king live i': 0.8, 'a segment on his show last week tonight': 1, 'at a meeting arranged by the small business caucus at the kimball jenkins house in concord n h': 0, 'a town hall meeting in denver': 0, 'a speech in new york attacking hillary clinton': -1, 'a graphic': 0.8, 'testimony to florida house business and consumer affairs subcommittee': 1, 'an interview with interview with the st petersburg times miami herald': 0, 'a press conference on fire season': 0.5, 'speech at florida democratic party 2011 convention': 0.8, 'a house party in new hampshire': 0.8, 'a speech at politics and eggs in bedford n h': 0, 'an interview on the alan colmes show on fox news': -1, 'a speech in buffalo': 1, 'an interview with politico': 1.1, 'a newsletter to milwaukee residents': 0.8, 'x': 1, 'the presidential debate in hempstead n y': 0.6, 'a memo pre butting the state of the state address': -1, 'as quoted by the texas tribune': 1, 'an interview with the tampa bay times': 1.1, 'the gop debate in ames iowa': 0, 'a radio interview with democracy now': 1, 'in the democratic debate in florida': 0, 'the second gop primary debate': 0.8, 'an interview on fox business network': 0.6, 'at a news conference': 0.6, 'a speech at the americans for prosperity foundation summit': 0.6, 'a syndicated cartoon': 0.8, 'in comments at a gop debate in cleveland': 0.8, 'a speech to a joint session of congress': 1, 'a tv ad better schools': 0.6, 'a campaign event in new hampshire': 1.0, 'a campaign launch message on his website': 0.6, 'an interview with the state newspaper': 0.6, 'the gop convention in cleveland': 0.6, 'a campaign fundraising e mail': -1, 'an interview with the daily news journal of murfreesboro': 0.6, 'a radio broadcast': -1, 'an interview with cbs news': 1.4, 'an online comment': 0, 'new york': 0, 'a roundtable section of the hbo show real time with bill maher': 1, 'an email and social media posts': -1, 'an interview with neil cavuto of fox news': -1, 'a memo on campaign web site': 0.5, 'an interview with cnn s piers morgan': 0.8, 'a wall street journal column': 0.8, 'during a campaign stop in philadelphia': 0.6, 'stockman s campaign website': 0, 'a health and human services appropriations committee meeting': 0.8, 'in clackamas county board of commissioners hearing': 0.5, 'a public hearing in tampa': 0.5, 'an atlanta campaign stop': 0.5, 'a tv ad airing in iowa': 1, 'the republican primary presidential debate in manchester nh': 0.6, 'cbs s face the nation': 0, 'a speech announcing new immigration actions': 0.5, 'a comment to a tampa bay times reporter': 0.8, 'messages on the internet': -2, 'campaign press statement': 0, 'comments during the iowa republican presidential debate': -0.4, 'cleveland ohio': 1, 'a town hall on health care': 0.6, 'a speech in tyler texas': -1, 'an op ed for usa today': 0, 'report': 0, 'an opinion piece published in the austin american statesman': 0, 'national review online': 1, 'a speech in raleigh n c': 0.8, 'in the georgia bulletin the catholic newspaper': 0.8, 'an article on his web site ronpaul com': 0.6, 'a u s senate hearing': 0, 'cnn s the situation room': 0, 'a graphic posted on his website': 1.3, 'a statement for twitter': 0.6, 'a letter to portlanders': 1, 'a leadership florida florida press association debate': 0, 'a speech to the iowa faith and freedom coalition': -1, 'abc s this week with george stephanopoulos': 0.8, 'the white house summit on working families': 0.5, 'an appearance on hannity': 0.6, 'an interview with c span': 1, 'an interview about wtvf tv s ghost voting story': 0.5, 'picket signs at a parade': -1, 'comments at the white house': 0, 'a broadcast of the kelly file': 0.5, 'this week with george stephanopoulos': 0.5, 'lincoln chafee a posting on his website chafee for governor': 0.8, 'a campaign stop in exeter n h': 0, 'an address to the central texas democratic forum': 0.6, 'a conference': 2, 'a talk at the atlanta press club': 2, 'a memo to the media': 0.8, 'a press conference at new york city hall': 0.6, 'a letter to treasury secretary timothy geithner': 0, 'a broadcast of msnbc s politics nation': 0.6, 'a republican debate in boca raton': 0.5, 'a speech in el paso': 1.6, 'a radio interview on wnyc s brian lehrer show': 0, 'an op ed in politico': 0.5, 'in email exchange with reporter': 0.5, 'an interview with the union city daily messenger': 0, 'a post on the organization s website': 0.8, 'columbus ohio': 1, 'remarks to the ohio league of women voters': -1, 'a speech at georgetown university': 1.6, 'an article on the breitbart website': -1, 'an op ed published on northjersey com': 0.6, 'an interview with the boston globe': 0, 'a forum on casino gambling': 0.8, 'a blog post on the party s web site on april 25 2012': 0.6, 'an interview on cnn tonight': 0.8, 'an obama campaign film': 0.8, 'an internet post': -1, 'eugene ore': 0, 'comments to tallahassee residents': 1, 'his campaign blog': 1.6, 'a rally in wilkes barre pa': 0, 'college station texas': 0.6, 'a comment on this week with christiane amanpour': 0.8, 'a letter from tampa bay group chairman kent bailey to hillsborough county commissioners': 0.8, 'a speech announcing his presidential campaign': -1.5, 'a republican presidential debate in orlando fla': 0, 'the commencement address at hillsdale college': 0.5, 'an article from wbfo': 0.8, 'state dot road signs': 1, 'the south carolina democratic debate': 0.8, 'a rally in ambridge pa': -0.4, 'an ad during the super bowl': 0.8, 'a fundraiser in florida': 0, 'an op ed for pennlive': 0.5, 'a campaign event in fla': 0.8, 'an appearance on the helen glover showv': 1, 'a broadcast of the greg gutfeld show': 0, 'the south carolina presidential debate': 0, 'an interview on abc s top line': 0.6, 'a fundraising e mail': -0.5, 'a discussion on fox friends': 0, 'a panel discussion on msnbc s the last word with lawrence o donnell': 0, 'a speech in concord n h': 0.6, 'a discussion on fox news sunday': 0.5, 'a petition on change org': 0.5, 'a speech in the u s senate': 2, 'a column in the newspaper roll call': 0.5, 'a debate in davie fla': 1, 'the cnn tea party express debate': -1, 'a redstate com column': 0, 'the televised health care summit': 1.0, 'in an el nuevo herald editorial': 0.6, 'a campaign rally for hillary clinton': 0.8, 'the miami gop debate': 0, 'a column by the texas republican on the web site of the christian coalition of america': 0, 'an organization web page': 1, 'a speech in madison wisconsin': 0.6, 'a cnn town hall in milwaukee': 0.6, 'an interview with sean hannity on fox news': 1.3, 'a column by victoria jackson': -1, 'press statement': 1, 'appearance on msnbc s up w chris hayes': -1, 'at the republican national convention in tampa': -1, 'a telephone appearance with florida voters': 0, 'a green party rally at huston tillotson university in austin': 1, 'an interview on wnyc s the brian lehrer show': 1, 'comments at the missouri state fair as quoted by the columbia daily tribune': 0.8, 'an image shared on social media from naturalnews com': 0, 'in many blogs and an email sent to many people': -1, 'the fourth undercard gop debate': 0.6, 'arguments before the u s supreme court': 0.5, 'an info graphic tweet': -1, 'the new york post': -1, 'the group s web site': 0.5, 'interview on abc s this week': 0, 'responding to reporters': -1, 'a memo': 0.8, 'a campaign video and numerous other campaign statements': 1, 'an episode of his tv program': 0.8, 'a roundtable with small business leaders in salem n h': 0.8, 'statements during a rally at st anselm college in manchester nh': 1, 'a radio interview with hugh hewitt': 0.6, 'a press release sept 19 2012': 0.5, 'a radio talk show appearance on the john boy and billy big show': -1, 'an appearance in ankeny iowa': 1, 'the republican debate in las vegas': 0, 'appearance on fox business channel s varney co': 0.6, 'jekyll island gubernatorial debate': 1, 'an op ed piece': 1.6, 'in a medium post': 0.8, 'an interview on msnbc s the last word with lawrence o donell': 0.6, 'a campaign event in fairfield conn': 0.8, 'a hearing on economic development in albany ny': 0, 'comments on social media': 0.6, 'a speech in new york': 0, 'a wall street journal interview': 0.5, 'announcing his campaign for governor': 1, 'a foreign policy speech in washington': 0.5, 'a protest sign': 0, 'an opinion column in the washington examiner': 0.6, 'an endorsement letter': 0, 'an east texas campaign stop': 0.5, 'a clinton campaign tweet': 0.8, 'a letter to milwaukee county supervisors': 0.5, 'cnn': 0.8, 'the republican gubernatorial debate in denton': 0.5, 'a speech to the heritage foundation': 0.5, 'comments on cbs s face the nation': 0, 'a series of campaign tv ads': 0.6, 'a twitter image': 1, 'a house finance and tax committee meeting': 0.5, 'a speech to announce his presidential candidacy': 0.5, 'a press release in response to a lawsuit': 0.8, 'the texas patriots pac debate in the woodlands texas': 0.5, 'in a weekly youtube and radio address': 0.5, 'an opinion article in the wall street journal': 0.8, 'an interview with fox business': 0.6, 'in an episode of unbreakable kimmy schmidt': 0, 'a speech announcing his presidential run': 0.8, 'an arkansas flyer': 0.6, 'his state of the union address': 0.5, 'a wall street journal op ed piece': 0.8, 'a column in the wall street journal': 1.1, 'an interview posted online by wfaa tv in dallas': 0.8, 'a statement at a committee meeting': 1, 'a supreme court oral argument': 0.5, 'a spanish language tv commercial': 0.5, 'an interview on comedy central s the daily show': 1.8, 'a speech to the americans for prosperity michigan summit in livonia mich': 0.5, 'a gubernatorial debate in davie': 0, 'an interview with reporters at the north carolina gop headquarters': 0.8, 'the republican weekly radio tv address': 0.8, 'a white house news release': 0.6, 'a message on facebook': 0.5, 'a petition': 1.1, 'in a news release announcing support for the sportsmen s bill': 0, 'an interview with sean hannity of fox news': 0.5, 'comments during an appearance on the rachel maddow show on msnbc': 0, 'an interview with a newspaper editorial board': 0, 'the first republican debate': 0.5, 'testimoney to the u s senate education committee': 1, 'pledge': 0, 'an online op ed column': 0.6, 'a documentary': 0, 'a speech in las vegas': 0.5, 'a trusted leadership pac ad': 0, 'an op ed published in florida newspapers': 1, 'a democratic debate in new york': 1.3, 'on msnbc s morning joe': 0, 'a webcast': 0, 'an interview with newsmax': 0.6, 'a good morning america town hall': 0.6, 'a republican lieutenant governor candidate forum': 0.6, 'a speech in albany n y': 0, 'a post on his campaign website': 1, 'a campaign radio advertisement': 0.8, 'an e mail message circulated by many people': 0, 'an interview with jon stewart of the daily show': 0.6, 'former president jimmy carter sept 20 during an nbc interview about his latest book': 0.5, 'a report linked to on a website': -1, 'a talking points memo article': 0, 'an attack ad': 0.6, 'her column': 1, 'in a blog post': 1, 'a letter to the state s acting education commissioner': 0.8, 'a tv interview on cbs': 1, 'his congressional website': 1, 'nh senate debate': 0.8, 'a story by reuters wire service': 1, 'multiple pieces of campaign literature': 0, 'comments on youtube': -1, 'remaks made at an electric car testing center': 0.8, 'a meeting with reporters and editors': 0.8, 'an nbc facebook debate in concord n h': 0.8, 'an interview on the laura ingraham show': 0, 'remarks at a white house summit': -1, 'an interview with sean hannity on fox': 0, 'a speech in aston pa': -1, 'the cnn republican presidential debate': 1.6, 'comments on this week with george stephanopoulos': 0.6, 'a presidential campaign announcement video': 0, 'in a statement to philadelphia magazine': 1, 'a legislative hearing tweet': 0, 'a panel on real time with bill maher': 0, 'an interview with iowa public radio': 0.6, 'albuquerque n m': 0.5, 'in editorials and op ed articles': 1, 'a paper for the oregon business plan': 0, 'a discussion on abc s this week': 0, 'testimony given at a public hearing': 1, 'the libertarian party of broward website': 0, 'media appearances': 0.8, 'a republican presidential debate in arizona': 0.8, 'a story in the clarksville leaf chronicle': 0, 'a campaign blog entry during the gop gubernatorial debate': 0.8, 'miami herald editorial board interview': 1, 'a rally in beaumont texas': -1, 'signing new schools legislation': 0, 'a speech to the pa delegation at the rnc': 0.6, 'a town hall held by donald trump in rochester n h': -1, 'remarks on nbc s meet the press': 0, 'an interview on wpri s newsmakers': 0, 'comments to fox news': -1, 'a message to viewers': 1, 'comments on msnbc': 3.0, 'a chart posted on her flickr account': -1, 'the vice presidential debate in farmville va': 1.0, 'in a letter to president barack obama': 0.6, 'the gop response to the state of the union address': 0.5, 'an online op ed': 0, 'social media sites': -1, 'a voter mailer noted by a reader': 0, 'an ask me anything session on reddit': 0.5, 'article on his campaign web site': 0.5, 'her inauguration speech becoming nh governor': 1, 'in a gop debate in miami': 0.5, 'an opinion article in the mcallen monitor': 1, 'email blast from progress texas': 1, 'a press release from sen steve oroho r sussex': 0.6, 'a journal commentary': 0, 'an campaign e mail': 0, 'presentations rolling out his budget': 0.6, 'a speech in brooklyn n y': 0.6, 'cnn s lou dobbs tonight': 0.5, 'interview on wnyc s the brian lehrer show': 0.8, 'speech at red state gathering in fort worth': 0.6, 'a press conference in mexico': 0.8, 'email': 1, 'a civic summit': 1, 'an interview on cnn s crossfire': 1.3, 'twitter': 0.8, 'a speech at the commerce club': 0.8, 'a speech at a political rally': 0, 'a press conference announcing new chairman of transit authority': 0, 'a debate in arizona': -1, 'an interview on wbgo s newark today': 0, 'a letter to a senate committee': 1, 'a speech to the conservative political action conference': 0, 'a speech in charleston w va': 1, 'a speech at the cuban club in elizabeth': 0, 'flier to supporters': 1, 'a report on his past accomplishments as tampa mayor': 0.5, 'remarks inserted into the congressional record': 0.6, 'a democratic u s senate debate against rep kendrick meek': 0.6, 'a marketplace segment': 0, 'an interview on laura ingraham s radio show': -1, 'saddleback valley community church in orange county calif': 0.8, 'a comment to reporters aboard air force one': 0.6, 'comments on his msnbc show': 0.5, 'an interview with inc magazine': 0.8, 'comments at the liberty county chamber of commerce annual dinner': 0, 'a telephone conference call with reporters': 0.5, 'speech to the nashua rotary club': 0.5, 'a new york times article': 1.6, 'a television interview on on the line': 0, 'remarks on the floor of the texas house': 0.6, 'an interview with bob cole on austin s koke fm': 0, 'a yard on route 12 near keene n h': 1, 'remarks on first day of session': 0.5, 'a televised debate disputing a claim by republican christine o donnell': 1, 'a television ad posted on youtube': 0.6, 'in a press conference announcing veto of sb 6': 0.5, 'a statement to reporters': 1, 'a speech in washington d c': 1.6, 'an appearance on newsmakers': 0.5, 'remarks in raleigh n c': 0.5, 'a commentary article': 0, 'a debate on wpri s newsmakers': 0.5, 'an email to a constituent': 0.5, 'a letter to principals': 0, 'a discussion on fox news hannity': 1, 'a speech in st petersburg fla': 0.5, 'a mailer posted on bluejersey com': 0, 'a cpac speech': 0.6, 'a fundraiser letter': 1, 'comments during the pbs democratic debate': 1.5, 'a report issued by the house budget committee republican staff': 1, 'comments at a rally': -1, 'a tv campaign ad': 0.6, 'a georgia s win list press release': -1, 'at a campaign stop': 0, 'a post on twitter': -1.2, 'an ad dancing released september 26 2012': 0.6, 'an article on nola com': 1, 'the president s weekly national address': 0.8, 'a broadcast of msnbc s all in with chris hayes': 1, 'an interview with newsweek': 0, 'a republican debate in simi valley calif': 0.6, 'remarks at a party fundraiser': 0.6, 'remarks at an economic summit in orlando': 1, 'an article in the new york times': 1, 'remarks to reporters by campaign adviser carly fiorina in washington d c': 0.6, 'a meme': -1, 'a debate on wpri tv': 0.8, 'an interview with sen john mccain on fox news channel': 0.5, 'a comment on the helen glover show': -1, 'a speech announcing his candidacy for governor': 0.5, 'in an interview on nbc s meet the press': 1.3, 'a campaign stop in new hampshire': 0, 'a debate in des moines iowa': 0.5, 'a speech at his campaign kickoff': 0.5, 'remarks in assembly debate': 0.8, 'an appearance on wpri s newsmakers': 1, 'a speech in south portland maine': 0.5, 'a campaign event in davenport iowa': -1, 'an e mail circulated by many people': 0, 'a column in a political blog': 0.5, 'a white house forum on fiscal responsibility': 0.8, 'a republican presidential debate at the reagan presidential library': 1.5, 'a roundtable discussion on abc s this week with george stephanopoulos': 0.8, 'a house hearing on benghazi': 0.8, 'a wall street journal op ed': 0.8, 'the sunday comics': 1.6, 'op ed': 0.8, 'comments to the conservative website human events': 0.5, 'the audience at a joint session of congress': 0, 'several speeches and interviews': 0.8, 'a live broadcast on cnn': 0, 'a broadcast of vocal point': 0.6, 'a broadcast of the big picture': 0.8, 'a post on his facebook page': 0.5, 'a column on medium': 0.6, 'in a blog post on his campaign website': 0, 'at the white house': 0.8, 'comments to employees at the department of business and professional regulation': 0.5, 'an interview with dylan ratigan on msnbc': 0, 'the first democratic debate': 2.3, 'a graphic circulating on the internet': -1, 'a speech at a democratic party dinner': 0.6, 'an interview with a weekly newspaper': 0, 'a spanish language campaign ad': 0, 'a speech in princeton ind': 0.5, 'rally for coal miners': 0, 'a senate committee meeting': 0.6, 'an email to employees': 0, 'a letter to iranian leaders': 0.8, 'an op ed in the hill': 0.6, 'north bend wash': 0, 'a speech to the democratic national convention in denver': 0.6, 'reaction to gov rick scott s decision to kill the high speed rail project': 0.5, 'remarks to the texas delegation to the republican national convention': 0.6, 'an opinion article in the miami herald': 0.8, 'a hillsborough county commission meeting': 0.5, 'a tv interview with u s connie mack': 0.5, 'an op ed published in the hill': 1, 'house floor debate on hb 845': 0, 'a web site posting': 0, 'an interview on msnbc s all in': 0.6, 'a state board of education meeting': 0.6, 'a speech on energy in houston': 0.8, 'remarks to texas reporters': 1, 'an interview on state of the state': 0.5, 'a campaign stop at steelworkers 1104 in lorain ohio': 0.5, 'a broadcast of msnbc s the cycle': 0.5, 'an interview with jon stewart on the daily show': 0.5, 'a klru interview': 0.8, 'an austin monitor interview that day plus forums later': 0.6, 'an e mail to supporters about his opposition to the iraq and afghanistan wars': 0.8, 'comments at a congressional hearing': 0, 'comments on fox news channel s fox and friends': 0, 'comments on state of the union': 1.3, 'an op ed on the asbury park press website': 1, 'a speech near knoxville tenn': 0.6, 'newspaper commentary': 1, 'in a news conference': 0.8, 'a campaign appearance in milford n h': 0.8, 'a campaign stop': 0.8, 'floor remarks during a house session': 0.8, 'an email blast to supporters': 0, 'an interview on fox news the o reilly factor': 0.8, 'a sign spotted outside a polling place in austin': 0, 'a website linked to a campaign ad': 0, 'an interview on whjj s helen glover show': 1, 'remarks in manhattan': 1, 'an interview with creative loafing': 0.5, 'a blog on his website': -1, 'in a candidate forum on march 3 2016': 0, 'an email sent to politifact texas': -1, 'in an interview on cnn': 0.5, 'a foxnews interview': 0.6, 'campaign literature distributed to district residents': 0.6, 'a sun sentinel editorial': 0.8, 'comments during his campaigns': 0, 'an episode of the o reilly factor': 0, 'a campaign rally in iowa': 0.5, 'an appearance on bill maher overtime': 0.5, 'an interview on bloomberg tv': 1, 'an interview on wpro am': 1, 'an online commentary': -1, 'an interview on capital tonight time warner cable news': 0.8, 'a letter to the editor in the miami herald': 0.5, 'an interview on mycentraljersey com': 0.8, 'an op ed in u s news world report': 0.8, 'remarks during a campaign stop in new hampshire': 0, 'a campaign e mail to reporters': 0.8, 'a statement at the health care summit': 0.5, 'an interview on my9 news new jersey now': 0.5, 'a press conference at point pleasant beach': 0.8, 'a campaign tweet': 1.0, 'atlanta city council meeting': 0.8, 'a published commentary': 0.5, 'a town hall in carson city nevada': 0.6, 'posted by ciparro s website': -1, 'a gaggle of reporters': 0.5, 'a roll call at the republican national convention': 0.8, 'an appearance on cnn s state of the union': -1, 'a talk at plymouth state university in plymouth n h': 0.8, 'an interview on all in with chris hayes': 0, 'on fox news sunday': 1, 'pittsburgh pa': 1, 'an op ed column on nj com': 0.5, 'online post': 0.6, 'in direct mail': 0.5, 'new hampshire': 0, 'an email to the press on june 8 2012': 0, 'remarks during a campaign event in sioux city iowa': 0.5, 'a town hall in new hampshire': 0.6, 'cincinnati ohio': 0.6, 'various public statements': 0.5, 'a rally in daytona beach fla': 0.5, 'a speech from the oval office': 0.8, 'a placard': 0.5, 'a town hall meeting in derry n h': 0.6, 'an iowa right to life event in des moines': 0, 'his inauguration address': 0, 'a bay news 9 cfn 13 debate': 0.8, 'pittsburgh': -1, 'a fundraising email supporting illinois 10th house district democratic nominee brad schneider': 0.5, 'a television ad future': 0.8, 'a press conference for republican tax reform': 0.6, 'an interview on msnbc s up with chris hayes': 0.5, 'in comments on fox s fox news sunday': 1.5, 'a letter to gov rick scott': 0.6, 'a cbs4 interview': 0.5, 'an initial brief to the florida supreme court': 0.8, 'a usa today op ed': 0.8, 'an interview on njtv s on the record with michael aron': 0, 'comments on the late show': 1, 'a speech responding to the orlando shooting': 0.8, 'the democratic party platform': 2, 'an interview at the texas tribune festival': 0.5, 'on web pages': -1, 'a campaign flyer': 0.19999999999999996, 'a statement after ivy taylor s selection as mayor of san antonio': 1, 'comments at a bill signing': 0.5, 'testimony at a general assembly pension hearing': 0.6, 'an article on infowars': 0, 'a broadcast of fox news outnumbered': 0.5, 'a segment on the rush limbaugh show': 0, 'a nashville radio interview': 0.5, 'a primary night victory speech': 0.5, 'an appearance on wpri 12 s newsmakers': 0.8, 'a speech at mar a lago': 0, 'a public health campaign': 1, 'a victory speech after the new hampshire primary': -1, 'an interview on the dom giordano show': 0.6, 'televised story': 1, 'the national review forum': 0.8, 'a public service video during the grammys': 0.8, 'an appearance on fox news fox and friends': 0.8, 'an op ed column in the times of trenton': 1, 'a letter to the editor in the times of trenton': 1, 'boca raton fla': 1, 'a town hall meeting in west milford': 0.8, 'cape girardeau miss': 1, 'a campaign rally in dade city fla': 0.5, 'appearance on this week with george stephanopoulos': 0.8, 'a public interview': -1, 'the republican response to obama s speech to congress': 0, 'a speech in jacksonville fla': 0, 'a tv internet ad': -1, 'an interview with president barack obama': 1, 'a speech to the florida democratic party': 0, 'a senate banking subcommittee hearing': 1, 'charleston w v': 0.6, 'an episode of the view': 0.5, 'in television commercial': 0.6, 'an interview with chris cuomo': 0.5, 'campaign event in westport conn': 0.6, 'an op ed for the wall street journal': 0.6, 'a face the nation interview': 0.5, 'a speech launching his 2016 campaign': 0.6, 'an opinion column in the star ledger': 0.8, 'washington report newsletter to constituents': 0, 'a forum in los angeles': 0.5, 'feb 23 2012 in a campaign ad': 1, 'his speech to the republican national convention in tampa florida': 0.5, 'a chain email message': -2, 'a newsletter post': 1, 'facebook post': 1, 'a guest column in the star ledger': 0.8, 'a new hampshire town hall discussion': 0.5, 'a republican u s senate debate': 0.5, 'an episode of cnn s crossfire': 1.8, 'a roundtable discussion on cnn': -1, 'on nra ila s website': 0, 'a q a in cape girardeau mo': 0.5, 'a unicef video': 1, 'remarks at a general assembly session': 1, 'a new report': 1, 'a speech at the oscars': 0.8, 'a state department news briefing': 0, 'a question to a candidate': -1, 'nashville tenn': 1.5, 'an interview with njtoday': 0, 'in a u s senate democratic primary debate': 0.8, 'posted at charliehales com': 1, 'a msnbc interview': 0, 'north carolina': 0.8, 'a televised town hall': 0.8, 'an interview with msnbc s chris matthews': 0.5, 'the fall menu': 1, 'a senate floor colloquy': 0.6, 'an interview on governors perspective': 1, 'an ad regular': 0.6, 'a statement to a tv reporter': 0.6, 'a post on the blog outside the beltway': -1, 'an interview on a lubbock radio station': 0.5, 'several public statements': 0, 'a segment on her msnbc show': 0.5, 'campaign news releases in the wake of sewage dumping': 0.6, 'detroit mich': 0.5, 'a column in the south florida sun sentinel': 0.5, 'republican governor s association says nh candidate for governor maggie hassan pays no taxes': 0.6, 'on this week with george stephanopoulos': 0.5, 'comments to the richmond times dispatch': 0.5, 'a list of rebuttals to criticism over the law': 0.5, 'a letter posted on a blog': 1, 'response to a question about his voting record': 1, 'a dscc news release': -1, 'a session with reporters': 0.5, 'written testimony at a house hearing': 0.8, 'a column in the miami herald': 0.5, 'a press release jointly issued with u s sens john cornyn and ted cruz': 0.6, 'a letter to constituents': 0, 'an appearance on a lively experiment': 0.5, 'a cable tv ad': 0.6, 'his state of the university address': 0.6, 'the washington post': 0.5, 'a florida senate criminal justice committee hearing': 0.5, 'a state of the state speech': 0.8, 'a broadcast of cavuto coast to coast on fox business network': 0.6, 'a media availability with reporters': 0.8, 'a broadcast of cbs face the nation': 0.6, 'a tv ad airing in pennsylvania': 1.5, 'tv commercial': 0.6, 'a fox news sunday interview': 1.3, 'a democratic debate in des moines': 0.8, 'a monologue on his radio show': 0.6, 'a document shared via email and social media': -1, 'a house health innovation subcommittee meeting': 1, 'a ballot boxing candidate forum': 0.6, 'newspaper articles': 1, 'waterloo iowa': 0.5, 'comments before the mayweather vs pacquiao fight': -1, 'an august 27 2012 advertisement not working aired in and around new hampshire': 0, 'an interview on news 12 new jersey s power politics show': 0.8, 'a fundraising email by campaign manager': 0.5, 'the republican debate in houston texas': -1, 'an advertisement in washington d c metro stations': 0.6, 'a recorded telephone message': -1, 'a column in investor s business daily': 0, 'an opinion column for njtoday net': -1, 'a house address': 1, 'comments on her tv show': 1, 'his monologue on real time': 0.8, 'remarks at an austin town hall about the dell medical school': 0.8, 'a speech at florida atlantic university in boca raton fla': 1, 'a question to gov rick scott': 0.8, 'a round table discussion on meet the press': 0.8, 'his fox news show': 0, 'remarks at the 2015 new hampshire democratic party state convention': 0.8, 'comments on msnbc s ed show': 0.5, 'remarks at a gathering': 1, 'a speech at the republican party of iowa s growth and opportunity party in des moines': 0, 'comments on fox and friends': 0, 'a roundtable chat in iowa': 0, 'a letter to irs commissioner douglas shulman': 1, 'atlanta press club speech': -1, 'an op ed in the detroit news': 0.5, 'a breakfast talk in iowa': -1, 'a television show': 0, 'a study': 0, 'fox news hannity program': 0.6, 'a speech in osawatomie kan': 0.6, 'a hearing at the general assembly': 0, 'the state of the commonwealth address': 0.6, 'a direct mail campaign piece': 0.6, 'a news conference and many other venues': 0, 'a television debate in philadelphia': 1, 'an op ed piece published on courierpostonline com': 0.6, 'cbs face the nation': 0.6, 'a statement on his web site': 0.8, 'an interview with wabe radio': 1, 'a program at the marquette university law school': 0.5, 'twitter posts': 1.5, 'a speech at an american federation for children event': 1, 'an oped column in the austin american statesman': 0.6, 'an interview with piers morgan': 0.8, 'a meme posted on his facebook page': 1, 'a televised debate in miami': 0, 'a forum with supporters': 0, 'a kut fm news story': 0, 'comments to the press': 0.5, 'a speech in west palm beach fla': 0.6, 'a speech to the texas democratic party convention in corpus christi': 0.8, 'a speech proposing executive action on gun regulations': 0.8, 'a town hall in norwalk iowa': 0, 'an interview with cnn s jake tapper': 0, 'a press briefing at the white house': 0.8, 'meet the press interview': 0, 'a campaign television ad': 0.8, 'speech on urban issues': 1, 'a web post from the michael medved show': 0.5, 'an image shared on facebook': 0.8, 'a post on his pac s website': 0.6, 'a pac website': 0.6, 'in a memo': 0, 'campaign commercial': 0.8, 'a debate about greenlight pinellas': 0, 'comment to reporters': -1, 'internet attack': -1, 'an interview with nbc s meet the press in ottumwa iowa': 0.6, 'blog post about farm bill': 0, 'a question and answer column in the star ledger': 0.5, 'an associated press news story': 0.8, 'in an interview with the miami herald': 0, 'an article posted on urban intellectuals': -1, 'blog posts on the internet': 0, 'a facebook comment': 0, 'a segment on msnbc s politicsnation': 0, 'a speech to the democratic national convention in charlotte n c': 1, 'a billboard message spotted in austin': 0.6, 'a speech to a pro israel christian group': 0.6, 'in a republican presidential debate in mesa ariz': 0.6, 'an interview on univision s al punto': 0.5, 'the final debate': 0.6, 'a speech to florida delegates at the democratic national convention': 0.5, 'a letter to the providence school district': 0.5, 'a poll on mccain s web site': 0, 'a keynote speech': 0.8, 'an interview by david brown host of the texas standard': -1, 'comments to a newspaper': 0.8, 'at a public event': 0.5, 'an acceptance speech at the academy awards': 0.8, 'an interview with glenn beck': -0.19999999999999996, 'a letter from sierra club executive director carl pope to supporters': 0, 'an op ed for time magazine': 0.5, 'a digital ad': 0.8, 'at a debate in columbus ohio': 0.5, 'an interview with ohio capital blog s marc kovac': 0.8, 'a recorded message': 0.5, 'comments on fox news channel': 0.8, 'weekly senate republican radio address': 0.6, 'statements': 0.8, 'keynoting south by southwest interactive': 0.5, 'comments on fox news the kelly file': 1, 'a press conference in new york': -1, 'radio and online advertisements': 0.6, 'a speech in charlotte n c': 1, 'comments on her msnbc show': 1.4, 'logan w va': 0.5, 'an msnbc panel': 0.6, 'remarks at a campaign stop october 1 2011 in new hampshire': 0.6, 'email to moveon org members': 0.5, 'speaking to a group of michigan republicans': 0, 'a list of talking points': 0.8, 'a telemundo debate': 0.5, 'an interview with michelangelo signorile on the sirius satellite radio show outq': -1, 'senate chamber': 0.5, 'the third presidential debate in las vegas': 0, 'oklahoma city': 0.8, 'on the rachel maddow show': 0.8, 'a speech on the new jersey senate floor': 0.6, 'a post and story from elect leaders': 0, 'in a chain e mail': 0, 'an interview on wkxl am in concord n h': 0, 'atlantic iowa during a campaign event': 0, 'an interview for a miami herald blog': 0.5, 'a speech after he filed to run for reelection at the new hampshire statehouse': 0.6, 'a headline on downtrend com': 0.6, 'a speech to the republican party of texas convention in dallas': 1, 'a private briefing to members of congress': 0.5, 'a story on tv website': 0, 'a tv commentary': 0.6, 'a town hall in litchfield n h': 0.8, 'a panel discussion on fox news sunday': 1.4, 'a campaign radio ad': 1, 'a commentary published in the austin american statesman': 0.8, 'an online posting': -0.4, 'a roundtable at a community college': 0.8, 'a tv interview as well as other venues': 0.8, 'a video on a website': 0.5, 'a general assembly debate on pension overhaul': -1, 'texas senate floor debate': 1, 'an interview wkxl am': 0.6, 'a state of the state address': 1.8, 'an interview with the tampa tribune': 1, 'a newspaper q a': 0.8, 'a new hampshire interview': 0.5, 'an essay in the hollywood reporter': 0.8, 'comments on twitter': 0.5, 'in a mayoral forum': 0, 'a pbs democratic debate': 0.8, 'social media postings': -1, 'a major foreign policy speech': 0, 'a rally in atkinson n h': 0.8, 'a campaign speech in steubenville ohio': 0.8, 'comments on the daily show': 1.8, 'at a rally in tampa fla': 0.6, 'an interview on fox news america s newsroom': 0, 'a policy paper': 1, 'a speech at the national defense university in washington d c': 0.5, 'a letter from the campaign to the tampa bay times': 1, 'in a town hall debate': 0.8, 'posts on facebook': -1, 'in a change org petition': 0.5, 'comments in a gop debate in cleveland': 0.6, 'an interview on salon': 1, 'an open letter to employees': 0.5, 'subcommittee hearing': 0, 'episode of fox news the five': 0.6, 'comments to the miami dade legislative delegation': 0.5, 'a comment at the president s health care reform summit': 0.8, 'column in the huffington post': 0.8, 'an interview at facebook headquarters': 0.6, 'a message on her campaign website': 0.6, 'a website press release': 0, 's speech': 0.6, 'a medical marijuana debate at the university of tampa': 0.6, 'remarks at the cornerstone action dinner in manchester n h': 0, 'an enterprise florida meeting': 0.6, 'in a reddit ama': 1, 'an opinion column in the times of trenton': 0.8, 'an ad on the internet': 2, 'an appearance on national tv': 0, 'a florida voices column': 0, 'a biography on robitaille s campaign website': 1, 'a statement to the miami herald': 0, 'a video posted online in a blog article': 0.8, 'campaign materials': 0.8, 'an episode of nbc s meet the press': 0.8, 'the house republicans web site': 0.5, 'remarks following a school shooting in oregon': 0.8, 'a post to the white house blog': 0.8, 'a speech at the women in the world conference': 0.5, 'a republican us senate debate at kera tv channel 13 in dallas': 0, 'a pew research center poll': -1, 'a series of blog posts ending on sept 21 2016': 1, 'a speech in new york city': 1, 'an ad against sen jon tester d mont': 0.5, 'a campaign video on his website': 1.5, 'a news release from mccain spokesman tucker bounds': 1, 'a tv interview with greta van susteren': -1, 'an a television ad': 1, 'a web advertisement': 1.8, 'a texas tribune article': 0.6, 'a roundtable event on women s economic security': 0.8, 'the no on 4 website': 0.6, 'remarks to the press': 0.8, 'an appearance on a talk show': -1, 'comments made during adoption of milwaukee s 2011 city budget': 0, 'an interview on 60 minutes': 0.6, 'a speech in miami beach fla': 0.5, 'comments before a senate committee': 0.6, 'an rnc web site feature where you can send a gop valentine from your favorite democrat': -1, 'a press event': 0.8, 'an interview with new hampshire public radio': 0.5, 'a bill signing ceremony': 0.8, 'an interview with fox news megyn kelly': 0.5, 'in a town hall in concord new hampshire': 0.5, 'interview on this week with george stephanopoulos': 0.5, 'in a campaign tv commercial': -1, 'remarks at a washington d c event': 0, 'a broadcast of hardball': 0.5, 'a debate at rivier university': 0.5, 'a panel discussion in austin': -1, 'conservatives in action blog post': 0.8, 'an appearance on wpri s newsmakers program': 0, 'a post on the media matters blog': 1, 'an email to reporters': 1, 'an interview on the glenn beck program radio show': -1, 'testimony before congress': -1, 'a column on redstate com': 1, 'a unity pac press release': 0.5, 'an online advertisement': 0.8, 'a speech in las cruces n m': 0.8, 'a guest column in the atlanta journal constitution': 0.6, 'in a speech critiquing hillary clinton': 0.6, 'msnbc s last word': 1, 'a speech in austin texas': 0, 'a statement to the milwaukee journal sentinel': 0.5, 'a constituent newsletter': 0.5, 'a conference call to reporters led by cilnton pollster mark penn': 1, 'a segment on his rt show': -1, 'a commentary published in the round rock leader': 0.8, 'a speech at the vatican': 0, 'a speech to the council of 100': 0.5, 'an interview with fox news on the record with greta van susteren': 0.5, 'florida senate higher education committee hearing': 0.6, 'in a facebook post': 0, 'in campaign fliers': 0.6, 'an abc 6 interview program': 0.8, 'a cnn segment': 0, 'a washington times interview': -1, 'headline over an article on the raw story website': 0.5, 'in comments on breitbart': -1, 'a texas tribune festival panel discussion': 0, 'a segment on her show': 1, 'an op ed piece in the atlanta journal constitution': 0.6, 'an interview on cnn s i the situation room i': 0.5, 'a speech on the u s house floor': 0.8, 'los angeles calif': 0.5, 'cnn s situation room program': 0, 'an interview on wor am': 0, 'on abc s this week': 1.4, 'a speech at gov rick scott s economic summit in orlando': 0.8, 'the rush limbaugh show': 0, 'an announcement at andrews air force base': 1, 'a multitude of facebook posts': -1, 'a pbs interview': 0.6, 'a campaign web ad': 0.5, 'comments on her show': 0.6, 'an austin appearance with wes riddle fellow gop hopeful for us house': -1, 'testimony before a r i senate committee': 0, 'an interview with ted cruz': 0.8, 'a facebook page': 0.6, 'in a web campaign ad': 0.5, 'fort myers fla': 0.6, 'a broadcast of charlie rose': 1, 'in an emai to constituents': 0.8, 'a panel on abc this week': 0.6, 'comments published in the st petersburg times': 0.5, 'a rally speech': -1, 'a florida house subcommittee meeting': 0.6, 'a radio news story': 0, 'the white house s we the people petition web site': 1, 'a debate in st louis': 0.5, 'interview with wsiu and wbbm published aug 1': 0.8, 'a speech in little rock ark': 1, 'a speech to tea party activists': 1, 'myrtle beach s c': 0.5, 'a letter published by the christian broadcasting network': 0, 'a discussion about school uniforms': 0.5, 'an ad and on their website': 0.5, 'an appearance on cnn s crossfire': 0.8, 'an appearance on channel 6': 0, 'a democratic natonal committee advertisement': 0, 'may 17 election voters pamphlet': 0, 'a statement in the times dispatch voters guide': 0, 'an interview by actress lena dunham': 0.8, 'john canzano s radio show': 0.5, 'an oregon voters pamphlet statement': 0, 'the democratic debate in new york': 0.6, 'an article in the oregonian': 0.8, 'a newspaper column and other statements': 0, 'announcing his campaign for the u s house': 0.8, 'a speech at a candidates forum': 1, 'votes in 2004 and 2009': 0, 'an interview on nbc s the tonight show with jay leno': 0.6, 'an appearance on the helen glover show': 0, 'a campaign rally in springfield ohio': 0.5, 'an official statement posted on facebook': 0.6, 'a direct mail flier': 0.6, 'a facebook q a with charlie crist': -1, 'a campaign speech in williamsport pa': 0.8, 'on nbc s today show': 0.8, 'remarks at a vatican conference': 0.5, 'an interview with bill o reilly': 0.8, 'johnston iowa': 0, 'an appearance on the fox news show on the record with greta van susteren': 0, 'the oregonian s voter guide': 0.5, 'a letter to the telegraph': 0.6, 'an email fundraising letter': 0.6, 'a discussion on cbs face the nation': 0, 'the keynote address at the republican national convention': 0.5, 'in a twitter post': 0.8, 'forum with florida state students': 0.6, 'a debate in dearborn mich': 0.5, 'a town hall in henniker n h': 0.6, 'a broadcast of this week with george stephanopoulos': 0, 'a politico article': -1, 'an episode on tv': -1, 'a foreign policy debate in washington d c': 0, 'interviews with florida media': 0, 'new georgia encyclopedia entry on hogs in georgia history': 1, 'a discussion on outnumbered': 0, 'various blog postings critical of wisconsin gov scott walker': 0, 'response to questions about fundraising totals': 1, 'a rally in sacramento calif': 0.6, 'a house floor session': 0.8, 'in a democratic u s senate debate': 0.8, 'her gun policy platform': 0.8, 'a gathering with reporters': 1, 'orlando': 0.8, 'house floor debate over amending the state constitution to prohibit an income tax': 0, 'an interview on cbs': 0.6, 'comments on the nfl network': 1, 'an appearance at a tampa coffee shop': 0, 'an interview on nypost com': 0.8, 'an open letter to voters': 0.5, 'legislative hearing': 0.8, 'a broadcast of cnn s situation room': 0.8, 'a broadcast the sean hannity radio show': 1, 'comments on the rachel maddow show': 0, 'a debate in simi valley calif': 1.0, 'a capitol area fundraiser': 0.5, 'congressional website': 1, 'during an appearance in middle georgia': 0.8, 'a mailed campaign flier': 0.6, 'a teleconference': 1, 'campaign direct mail': 0.5, 'a column on blue jersey': 0, 'a statement to the press': 0, 'an interview on pbs the charlie rose show': 0, 'an interview on on the record with michael aron program': 0.8, 'an e mail to state employees': 0.5, 'a speech in springfield ill': 1, 'a portland monthly article': 1, 'a rally in fountain hills ariz': -1, 'testimony before a house committee': 0.5, 'a press release titled lt governor unveils faith based initiative on foster care children': 1, 'comments to reporters following a news conference': 0, 'in an ad on the internet': 0.6, 'a south carolina forum': 0.6, 'a speech to the national rifle association': -1, 'a video campaign ad': 0.5, 'a segment of wpri s newsmakers program': 1, 'an on the line interview with steve adubato': 1, 'a segment on hardball': 0.8, 'a phone conference': 0.6, 'campaign flyer': 0.6, 'a supreme court hearing': 0.5, 'democratic governors association website': 1, 'an advertisement by the florida democratic party': 0.5, 'an interview with the texas observer': -1, 'a rally in florida': 0, 'an ad shared on social media': 0.6, 'a meeting of the florida cabinet': 1, 'a forum on cancer organized by lance armstrong': 0.5, 'a segment on her television talk show': 0, 'a memo from campaign pollster mike baselice': 1, 'a televised debate on fox 5': 0.5, 'senate floor speech on the obamacare law': 0.6, 'a letter to the centers for disease control and prevention': -1, 'a video online': 0.8, 'an advertisement in the wall street journal': 1, 'a speech to investors in hong kong': 0.8, 'a debate at st anselm college in manchester n h': 0.6, 'an interview on the daily rundown': 0.5, 'a confrontation with a customer at a gainesville fla starbucks': 0.8, 'a speech at the iowa gop lincoln day dinner': 0.6, 'a facebook status update message': 0.6, 'a conservative solutions pac ad first aired on feb 29': 0.6, 'a council resolution': 0, 'parking lot fliers outside an iowa candidate event': 0, 'a comment on msnbc s countdown with keith olbermann': 0, 'a statement by state democratic chairman ray buckley in a call with reporters': 0.8, 'a cocks not glocks call to protest on facebook': 0.5, 'a rally in portland maine': 0.8, 'in a town hall': 0.5, 'remarks in ottawa canada': 0, 'an abc interview with christiane amanpour': 0, 'an interview with cnn s the lead with jake tapper': 1, 'an interview before the cnn tea party express gop debate in tampa': 0.8, 'an appearance at a high school in las vegas nev': 0.6, 'an interview on political connections': 0, 'an op ed in breitbart': 0.5, 'remarks to the central texas democratic forum': 1, 'a news account of a speech': 0.6, 'a headline': 0.6, 'debate in las vegas': 1, 'an interview on austin s ynn': 0.5, 'a video for the national women s law center': 0.5, 'a campaign rally speech': 1.8, 'a song for farouk shami s gubernatorial campaign': 1, 'a town hall style campaign event in iowa': 0, 'in an interview on the the neal boortz radio show on atlanta s am 750 and 95 5 fm': 0.8, 'an interview on njtv s on the record with michael aron program': 0.5, 'an introduction to a web video': 0, 'radio news story': -1, 'a speech at a caucus at the texas democratic convention': 1, 'a column published by the washington post and other news organizations': 1, 'a position on legislation': 0, 'a no labels forum': 0, 'a campaign rally in south carolina': 0, 'lorain ohio': 1, 'an email press release': 0.6, 'website': 0.5, 'a comment at the daily white house press briefing': 0, 'a speech to the naacp in las vegas': 0.5, 'in an interview on cnn s state of the union': 0.6, 'a statement at a news conference': 0.6, 'a blog post on campaign website': 0.5, 'an interview with wjar tv': 0, 'an ad in the austin american statesman': 0.6, 'a town hall in berea ohio': 0, 'postings on twitter': -1, 'his state of state speech': 0.5, 'in an op ed article written for tennessee newspapers': 0.8, 'postings to the internet': -1, 'a labor day speech in detroit': 0.8, 'an interview on wjar tv s 10 news conference': 0.8, 'a political flier': 0.6, 'the civil rights summit at the lyndon b johnson presidential library': 0.6, 'a house party in belmont n h': 0.6, 'a comment on newsmakers': 0.5, 'a video posted online': 0.8, 'remarks at a school choice rally outside the texas capitol': 0, 'a democratic u s senate debate': 0.6, 'a column on an editorial cartoon': 0, 'a georgia public policy foundation blog post': 0.5, 'alexander snitker in a campaign press release': 1, 'a story in the buffalo news': 0.6, 'a legislative proposal': 0, 'remarks at stanford university': 0.8, 'interview on face the nation': 0.5, 'response to president barack obama s state of the union address': 0, 'campaign mail piece': -1, 'a tv story': 0.8, 'a democratic debate on msnbc': 0.5, 'in an advertisement': 0.6, 'a county budget document': 0, 'a speech to the newspaper association of america': 0, 'a good morning america interview': 0, 'a comment to a shopper at a supermarket in des moines iowa': 0.6, 'a budget speech to the state legislature': 0.8, 'his book i the obama nation i': 0, 'texas house debate on state budget': 0.8, 'interview': 0.5, 'his speech at the republican party of texas convention': 0.6, 'a speech to the american israel public affairs committee': -1, 'comments published in the fort myers news press': 0, 'a kindle single essay guns': 0.8, 'an automated political phone call': 0.8, 'an interview on cnn s piers morgan tonight': 0, 'a op ed posted on his website': -1, 'a briefing at the white house': 0, 'an e mail regarding gov rick scott': 1, 'testimony before the house judiciary committee': 0, 'an episode of hbo s real time with bill maher': 0.8, 'a op ed in the st petersburg times': 0.8, 'an answer for the league of women voters austiin area voters guide': 0.8, 'a speech before the north fulton and friends tea party': 0, 'a joint statement with the president of turkey': 0.8, 'an americans for prosperity foundation summit speech': 0.5, 'an austin meeting': -1, 'an interview on democracy now': 0.8, 'testimony before a state senate committee': 0, 'san juan puerto rico': 0.6, 'a speech in cleveland ohio': 0, 'a reddit ask me anything': 0, 'an opinion article in the austin american statesman': 0.8, 'in a web site video': -1, 'indianapolis': 0, 'in an ajc article': 0.5, 'a florida house criminal justice subcommittee hearing': 0.6, 'a legislative floor debate': 0.8, 'a photo quotation posted to facebook': -1, 'faith and freedom summit in iowa': 0, 'a washington post interview': 1, 'an interview on conexión texas': 0, 'a town hall meeting in missouri': 0, 'a comment on his morning joe program on msnbc': 0, 'a presentation to the reinventing medicaid working group': 1, 'a town hall in jacksonville fla': 0.6, 'a tweet promoting equal pay day': 0.5, 'interview on cbs s face the nation': 0.8, 'a broadcast of focal point': -1, 'a written opening statement for a debate': 0.5, 'a media availability in little rock ark': 0.8, 'an online ad campaign the portman files': 0.6, 'a sports column by kirk bohls of the austin american statesman': 0.8, 'comments on the senate floor': -1, 'a press conference in tampa': 0.8, 'an austin city council workshop': 0.5, 'an iowa tv ad': 0.8, 'crist campaign website accessed july 5 2010': 1, 'remarks to the texas delegation at the democratic national convention as webcast by the texas tribun': 0.5, 'comments on his fox news program': 0.6, 'an interview with theadvocate com': 0.8, 'an opinion piece for blue oregon': 1, 'an interview on the cbs news show sunday morning': 0.5, 'an interview with cnn s candy crowley': 0.8, 'fighting for ohio pac ad': 0, 'an appearance on msnbc s hardball with chris matthews': 1, 'newscast': 1, 'a speech to a college gop group': 0, 'a news release about florida s tourism statistics': 0.6, 'an appearance on larry king live': 0, 'an interview on america with jorge ramos': -1, 'an interview with reporters following presentation of improved lottery revenues': 0, 'a flier sent to voters in ohio': 0, 'a telephone interview with cnn': -1, 'an online video of an earlier speech': 1, 'a statement on a dga created website': 0.6, 'comments on the glenn beck radio program': 0.8, 'hearing testimony': 0, 'a twitter exchange': 1.0, 'keynote address at democratic national convention': 1, 'his book american dreams': 1, 'a meeting with the nashua telegraph editorial board': 0.5, 'a video and multiple other instances': 0, 'a talk to the human services coalition of oregon': 1, 'her address at the democratic national convention': 0.8, 'a gun control rally claim': 0.6, 'speaking against proposition 1 on austin s may 7 2016 ballot': 1, 'an interview with wtsp': 0.8, 'an interview with cosmo': 0.5, 'a meeting with the atlanta journal constitution editorial board': 1, 'an episode of full frontal with samantha bee': 0.5, 'in a njtoday interview': 1, 'a conversation with reporters': 0, 'clearwater fla': 0.8, 'a joint legislative hearing': 0.5, 'a democratic presidential debate in flint mich': 0.8, 'a house debate over mandatory seat belt use': -1, 'an advertisement spotted at the site of high school graduation ceremonies': 0.6, 'a letter to supporters': 0.5, 'a meeting of florida republicans': 0.5, 'as quoted in austin american statesman news article': 0.6, 'a post on his u s senate website': 0, 'a tv ad against john mccain': 0, 'a speech on foreign policy in youngstown ohio': 0, 'a rally in hershey pa': -1, 'interview with knoxville news sentinel s tom humphrey': 0.8, 'georgia green party flier': 0.5, 'a news story online': 0.5, 'testimony before the r i house oversight committee': 0.5, 'an orlando sentinel op ed': 0.5, 'an interview on face to face with jon ralston': 0, 'an opinion article in the houston chronicle': 1, 'an obama for america video': 0.5, 'an email from his campaign': 0.5, 'an appearance at franklin pierce university in rindge n h': 0, 'a joint mayoral candidates appearance on msnbc': 0, 'an endorsement speech in columbus ohio': 0.8, 'the daily white house press conference': 1, 'a florida face to face interview': 0.5, 'a story in the star ledger': 0.8, 'a quoted comment': 0.8, 'a speech in the senate': 1, 'a speech at the state democratic party convention': 0.5, 'a news release posted on his website': 0.6, 'announcing his campaign for secretary of state': 0.5, 'an opinion piece in a trade magazine': 0.8, 'radio and television ad': 0.6, 'a meeting about common core in tampa': 0.6, 'a column in human events': 0, 'web site blog post': 0.5, 'a speech in orlando fla': 1, 'a broadcast of the glenn beck show': -1, 'campaign ad': 0, 'a statement announcing her departure from the commission': 0, 'a radio news interview': 0.5, 'a town hall event in windham n h': 0, 'a univision washington post democratic debate': 0.6, 'an interview with barbara walters': 0, 'a house appropriations committee meeting': 0.8, 'a tv and internet commercial': 1, 'a public debate in west palm beach': 0.5, 'the republican presidential debate in milwaukee wis': 1, 'a discussion on nbc s meet the press': 0.5, 'a statement supporting mitt romney': 0.6, 'a broadcast of pbs newshour': 0.6, 'a border stop': 0.5, 'newsletter': 0.6, 'a house conservation and environment committee meeting': -1, 'a speech to the leader s summit on refugees': 1, 'a committee hearing in the house of representatives': 1, 'a doorknob flier': 0, 'a radio show interview': 0.8, 'in a press conference': 0.6, 'a broadcast of cnn s crossfire': 0.5, 'a guest commentary': 0.8, 'network tv interview': 0.5, 'remarks at the institute for new economic thinking': 0.5, 'a providence journal wpri 12 debate': 1, 'a washington post opinion piece': 0.5, 'fox news interview': 0, 'a gubernatorial campaign television ad': 1, 'an appearance at the cleveland city club': -1, 'senate floor speeches and during a news conference': 0.6, 'congressional testimony': 1.5, 'a campaign speech in manchester n h': 0.8, 'an interview on the newshour': 1, 'a meeting with christian leaders': -1, 'televised candidates debate': 1, 'an online blog': 0.6, 'an automated phone message as well as a radio ad news releases and debates': 0, 'a campaign website posting': 0.6, 'in a meeting with business leaders': 0.8, 'an orlando rail conference': 0.8, 'an advertisement aired in and around new hampshire': 0.6, 'denver co': 0, 'a speech to carter county republican party': 0, 'a radio ad called millions': -1, 'press release rep betty mccollum': 1, 'a democratic party radio address': 0.5, 'the republican debate in des moines iowa': 0, 'a campaign mailer to new hampshire residents': 0.6, 'her victory speech after winning the democratic primary': 0.5, 'an op ed in the washington examiner': 0.6, 'a press conference at the north american leaders summit': 0.6, 'a speech at texas a m university': 0, 'an official statement': 0.5, 'a speech at the republican party of texas convention': 1, 'comments made during his radio show': -1, 'hillary clinton campaign news release': 0.5, 'a speech to the ohio chamber of commerce': 1, 'a news blog': 0.6, 'a test of the fact checking widget': 0, 'statement on web site': 0, 'a comedy sketch': 0.6, 'a conversation with workers': 1, 'on the fair districts florida website': 1, 'a campaign appearance in wisconsin': 0.5, 'an e mail from obama spokesman bill burton to reporters': 1, 'in the fox news google debate in orlando': -1, 'campaign speech': 0.5, 'a speech in monessen penn': 0.5, 'a meme circulated on facebook': 0.5, 'a rose garden speech': 1, 'town hall presidential debate': 0, 'the online video king of bain': 0.5, 'a campaign event in keene n h': 0.5, 'the providence journal': 0.8, 'an online message to supporters': 0.6, 'a debate in danville ky': 1, 'a tweet from her campaign': 0.5, 'a roundtable segment on nbc s meet the press': 0.8, 'a letter to nancy pelosi': 0.8, 'remarks at southern obesity summit': 1, 'a speech in kenansville n c': -1, 'in a letter co signed with others in congress': 0, 'a letter to department of transportation officials': 1, 'a speech at liberty university': 0, 'remarks on the budget': 0.6, 'press releases': 0, 'west palm beach fla': 0.6, 'an interview with nbc s andrea mitchell': 0, 'a speech in shenandoah iowa': 1, 'iowa': 0.5, 'a letter to the editor of the austin american statesman': 0, 'a speech at a tea party rally in oshkosh': 0.5, 'a message posted on facebook': -1, 'a comic strip': 0.8, 'a senate ethics and elections committee hearing': 0.8, 'comments to reporters in concord n h': 0.6, 'a page on the obama campaign website': -1, 'a mayoral candidate debate on kxan tv': 0, 'a speech at catholic university': 0.5, 'a press conference in burma': 0.6, 'a letter to david feldman houston s city attorney': 1, 'an msnbc interview with al sharpton': 0.8, 'a speech at knox college in illinois': 1, 'an appearance on hbo s real time with bill maher': 0.6, 'a posting on the internet': -1, 'a press release sent by the republican party of florida': 1, 'a question and answer session at columbia university': 0.8, 'various social media postings': 1, 'an op ed in the daily caller': 0, 'testimony before the senate committee on health human services': 0.8, 'an interview on msnbc s politics nation': 0, 'a news conference on voting rights': 0.5, 'in his book immigration wars': 1, 'an answer to reporters': 0, 'a speech in the u s house': 0.6, 'a floor speech in the house of delegates': 0.6, 'as quoted in an interview with kirk bohls of the austin american statesman': 0.5, 'an interview for a news story': -1, 'an appearance at the hoover institution at stanford university': 1, 'comments while discussing merit pay for teachers': 0, 'an austin city council briefing': 0.6, 'his acceptance speech at the republican natiional convention in cleveland': 0.8, 'a league of women voters town hall meeting': 0.5, 'statement at a town hall meeting': 0.6, 'a speech to members of the tea party': 0, 'an online meme': -1, 'a cobb county republican party breakfast speech june 5': 0, 'debate': 0.6, 'a headline in the justice gazette': -1, 'an interview with bloomberg television': 1, 'a press gaggle aboard air force one': 0.8, 'a speech to louisiana democrats': 0.6, 'a new york magazine article': 0.5, 'a recorded telephone message to cranston residents': -1, 'interview on the colbert report': 0.8, 'a televised debate on miami s wplg 10 against kendrick meek': 0}\n"
          ],
          "name": "stdout"
        }
      ]
    },
    {
      "metadata": {
        "id": "MwAp1AFoh2fW",
        "colab_type": "code",
        "outputId": "9946ec17-737c-43f9-ed05-5878ecffd7d5",
        "colab": {
          "base_uri": "https://localhost:8080/",
          "height": 740
        }
      },
      "cell_type": "code",
      "source": [
        "import numpy as np\n",
        "import matplotlib.pyplot as plt\n",
        "bins = np.linspace(-20, 140, 10)\n",
        "figure(num=None, figsize=(10, 10), dpi=80, facecolor='w', edgecolor='k')\n",
        "\n",
        "\n",
        "bucket_values = []\n",
        "for value in stats_context_agg_score.values():\n",
        "  if value > 10 or value < -4:\n",
        "    bucket_values.append(value)\n",
        "\n",
        "plt.hist(bucket_values, bins, alpha=0.5)\n"
      ],
      "execution_count": 0,
      "outputs": [
        {
          "output_type": "execute_result",
          "data": {
            "text/plain": [
              "(array([ 3., 22., 15.,  4.,  5.,  1.,  1.,  1.,  1.]),\n",
              " array([-20.        ,  -2.22222222,  15.55555556,  33.33333333,\n",
              "         51.11111111,  68.88888889,  86.66666667, 104.44444444,\n",
              "        122.22222222, 140.        ]),\n",
              " <a list of 9 Patch objects>)"
            ]
          },
          "metadata": {
            "tags": []
          },
          "execution_count": 8
        },
        {
          "output_type": "display_data",
          "data": {
            "image/png": "[encoded data removed]",
            "text/plain": [
              "<matplotlib.figure.Figure at 0x7fa2236a8ba8>"
            ]
          },
          "metadata": {
            "tags": []
          }
        }
      ]
    },
    {
      "metadata": {
        "id": "tMXIqAn1OoYS",
        "colab_type": "text"
      },
      "cell_type": "markdown",
      "source": [
        "### Let's rerun the experiment grouped by the "
      ]
    },
    {
      "metadata": {
        "id": "1ztDUBkPKBqH",
        "colab_type": "code",
        "outputId": "c8eca63b-1022-4403-80ad-d4ff4081df78",
        "colab": {
          "base_uri": "https://localhost:8080/",
          "height": 1369
        }
      },
      "cell_type": "code",
      "source": [
        "stats_context_general_score_republican, stats_context_agg_score_republican = get_stats_for_context_from_data_frame(data_to_use_for_training[data_to_use_for_training['party_affiliation'] == 'republican'])\n",
        "plot_dictionary_bar_chart(stats_context_agg_score_republican, 'Party=Republican', -3, 20)\n",
        "stats_context_general_score_democrat, stats_context_agg_score_democrat = get_stats_for_context_from_data_frame(data_to_use_for_training[data_to_use_for_training['party_affiliation'] == 'democrat'])\n",
        "plot_dictionary_bar_chart(stats_context_agg_score_democrat, 'Party=Democrat', -3, 20)\n",
        "stats_context_general_score_none, stats_context_agg_score_none = get_stats_for_context_from_data_frame(data_to_use_for_training[data_to_use_for_training['party_affiliation'] == 'none'])\n",
        "plot_dictionary_bar_chart(stats_context_agg_score_none, 'Party=None', -3, 20)\n",
        "# stats_context_general_score_organization, stats_context_agg_score_organization = get_stats_for_context_from_data_frame(data_to_use_for_training[data_to_use_for_training['party_affiliation'] == 'organization'])\n",
        "# plot_dictionary_bar_chart(stats_context_agg_score_organization, 'Party=Organization', -3, 30)\n",
        "# stats_context_general_score_independent, stats_context_agg_score_independent = get_stats_for_context_from_data_frame(data_to_use_for_training[data_to_use_for_training['party_affiliation'] == 'independent'])\n",
        "# plot_dictionary_bar_chart(stats_context_agg_score_independent, 'Party=Independent', -3, 30)\n",
        "# stats_context_general_score_columnist, stats_context_agg_score_columnist = get_stats_for_context_from_data_frame(data_to_use_for_training[data_to_use_for_training['party_affiliation'] == 'columnist'])\n",
        "# plot_dictionary_bar_chart(stats_context_agg_score_columnist, 'Party=Columnist', -3, 30)\n",
        "# stats_context_general_score_activist, stats_context_agg_score_activist = get_stats_for_context_from_data_frame(data_to_use_for_training[data_to_use_for_training['party_affiliation'] == 'activist'])\n",
        "# plot_dictionary_bar_chart(stats_context_agg_score_activist, 'Party=Activist', -3, 30)\n",
        "# stats_context_general_score_talk_show_host, stats_context_agg_score_talk_show_host = get_stats_for_context_from_data_frame(data_to_use_for_training[data_to_use_for_training['party_affiliation'] == 'talk-show-host'])\n",
        "# plot_dictionary_bar_chart(stats_context_agg_score_talk_show_host, 'Party=Talk-show-host', -3, 30)\n",
        "# stats_context_general_score_libertarian, stats_context_agg_score_libertarian = get_stats_for_context_from_data_frame(data_to_use_for_training[data_to_use_for_training['party_affiliation'] == 'libertarian'])\n",
        "# plot_dictionary_bar_chart(stats_context_agg_score_libertarian, 'Party=Libertarian', -3, 30)\n",
        "# stats_context_general_score_newsmaker, stats_context_agg_score_newsmaker = get_stats_for_context_from_data_frame(data_to_use_for_training[data_to_use_for_training['party_affiliation'] == 'newsmaker'])\n",
        "# plot_dictionary_bar_chart(stats_context_agg_score_newsmaker, 'Party=Newsmaker', -3, 30)\n",
        "# stats_context_general_score_journalist, stats_context_agg_score_journalist = get_stats_for_context_from_data_frame(data_to_use_for_training[data_to_use_for_training['party_affiliation'] == 'journalist'])\n",
        "# plot_dictionary_bar_chart(stats_context_agg_score_journalist, 'Party=Journalist', -3, 30)\n",
        "# stats_context_general_score_labor_leader, stats_context_agg_score_labor_leader = get_stats_for_context_from_data_frame(data_to_use_for_training[data_to_use_for_training['party_affiliation'] == 'labor-leader'])\n",
        "# plot_dictionary_bar_chart(stats_context_agg_score_labor_leader, 'Party=Labor-leader', -3, 30)\n",
        "# stats_context_general_score_state_official, stats_context_agg_score_state_official = get_stats_for_context_from_data_frame(data_to_use_for_training[data_to_use_for_training['party_affiliation'] == 'state-official'])\n",
        "# plot_dictionary_bar_chart(stats_context_agg_score_state_official, 'Party=State-official', -3, 30)\n",
        "# stats_context_general_score_business_leader, stats_context_agg_score_business_leader = get_stats_for_context_from_data_frame(data_to_use_for_training[data_to_use_for_training['party_affiliation'] == 'business-leader'])\n",
        "# plot_dictionary_bar_chart(stats_context_agg_score_business_leader, 'Party=Business-leader', -3, 30)\n",
        "# stats_context_general_score_education_official, stats_context_agg_score_education_official = get_stats_for_context_from_data_frame(data_to_use_for_training[data_to_use_for_training['party_affiliation'] == 'education-official'])\n",
        "# plot_dictionary_bar_chart(stats_context_agg_score_education_official, 'Party=Education-official', -3, 30)\n",
        "# stats_context_general_score_tea_party_member, stats_context_agg_score_tea_party_member = get_stats_for_context_from_data_frame(data_to_use_for_training[data_to_use_for_training['party_affiliation'] == 'tea-party-member'])\n",
        "# plot_dictionary_bar_chart(stats_context_agg_score_tea_party_member, 'Party=Tea-party-member', -3, 30)\n",
        "# stats_context_general_score_green, stats_context_agg_score_green = get_stats_for_context_from_data_frame(data_to_use_for_training[data_to_use_for_training['party_affiliation'] == 'green'])\n",
        "# plot_dictionary_bar_chart(stats_context_agg_score_green, 'Party=Green', -3, 30)\n",
        "# stats_context_general_score_liberal_party_canada, stats_context_agg_score_liberal_party_canada = get_stats_for_context_from_data_frame(data_to_use_for_training[data_to_use_for_training['party_affiliation'] == 'liberal-party-canada'])\n",
        "# plot_dictionary_bar_chart(stats_context_agg_score_liberal_party_canada, 'Party=Liberal-party-canada', -3, 30)\n",
        "# stats_context_general_score_government_body, stats_context_agg_score_government_body = get_stats_for_context_from_data_frame(data_to_use_for_training[data_to_use_for_training['party_affiliation'] == 'government-body'])\n",
        "# plot_dictionary_bar_chart(stats_context_agg_score_government_body, 'Party=Government-body', -3, 30)\n",
        "# stats_context_general_score_moderate, stats_context_agg_score_moderate = get_stats_for_context_from_data_frame(data_to_use_for_training[data_to_use_for_training['party_affiliation'] == 'Moderate'])\n",
        "# plot_dictionary_bar_chart(stats_context_agg_score_moderate, 'Party=Moderate', -3, 30)\n",
        "# stats_context_general_score_democratic_farmer_labor, stats_context_agg_score_democratic_farmer_labor = get_stats_for_context_from_data_frame(data_to_use_for_training[data_to_use_for_training['party_affiliation'] == 'democratic-farmer-labor'])\n",
        "# plot_dictionary_bar_chart(stats_context_agg_score_democratic_farmer_labor, 'Party=Democratic-farmer-labor', -3, 30)\n",
        "# stats_context_general_score_ocean_state_tea_party_action, stats_context_agg_score_ocean_state_tea_party_action = get_stats_for_context_from_data_frame(data_to_use_for_training[data_to_use_for_training['party_affiliation'] == 'ocean-state-tea-party-action'])\n",
        "# plot_dictionary_bar_chart(stats_context_agg_score, 'stats_context_agg_score_ocean_state_tea_party_action=Ocean-state-tea-party-action', -3, 30)\n",
        "# stats_context_general_score_constitution_party, stats_context_agg_score_constitution_party = get_stats_for_context_from_data_frame(data_to_use_for_training[data_to_use_for_training['party_affiliation'] == 'constitution-party'])\n",
        "# plot_dictionary_bar_chart(stats_context_agg_score_constitution_party, 'Party=Constitution-party', -3, 30)"
      ],
      "execution_count": 0,
      "outputs": [
        {
          "output_type": "display_data",
          "data": {
            "image/png": "[encoded data removed]",
            "text/plain": [
              "<matplotlib.figure.Figure at 0x7fa22375b7b8>"
            ]
          },
          "metadata": {
            "tags": []
          }
        },
        {
          "output_type": "display_data",
          "data": {
            "image/png": "[encoded data removed]",
            "text/plain": [
              "<matplotlib.figure.Figure at 0x7fa22371fcc0>"
            ]
          },
          "metadata": {
            "tags": []
          }
        },
        {
          "output_type": "display_data",
          "data": {
            "image/png": "[encoded data removed]",
            "text/plain": [
              "<matplotlib.figure.Figure at 0x7fa21f362c88>"
            ]
          },
          "metadata": {
            "tags": []
          }
        }
      ]
    },
    {
      "metadata": {
        "id": "NkWi8b6gNLAJ",
        "colab_type": "text"
      },
      "cell_type": "markdown",
      "source": [
        "### Basic conclusion from the above context analysis...\n",
        "\n",
        "As we can see, `a chain email` or `a message from the internet` tends to have an extremely low score and likely to be concluded as fake news.\n",
        "\n",
        "On the other hand, `a press release` and `a speech` tend to provide a better integrity and authenticity of the news."
      ]
    },
    {
      "metadata": {
        "id": "i_2WM-OIDcsB",
        "colab_type": "text"
      },
      "cell_type": "markdown",
      "source": [
        "### Using LDA with gensim to extract topics from the statement"
      ]
    },
    {
      "metadata": {
        "id": "hPuJULJ8DaBz",
        "colab_type": "code",
        "colab": {}
      },
      "cell_type": "code",
      "source": [
        "from gensim import corpora\n",
        "import pickle\n",
        "import gensim\n",
        "\n",
        "def parseTopics(topics):\n",
        "   return parseTopicsFromText(topics[0][1])\n",
        "\n",
        "\n",
        "def parseTopicsFromText(text):\n",
        "   output = []\n",
        "   words = text.split( '+' )\n",
        "   for word in words:\n",
        "      output.append( word.split('*')[1].replace( '\"', '' ).strip() )\n",
        "   return output\n",
        "\n",
        "\n",
        "def get_topics_from_tokenizer(text_data_column, num_topics):\n",
        "  text_data = [text_data_column]\n",
        "\n",
        "  # get the dictionary from our text_data\n",
        "  dictionary = corpora.Dictionary(text_data)\n",
        "  corpus = [dictionary.doc2bow(text) for text in text_data]\n",
        "  \n",
        "  if len(dictionary) == 0:\n",
        "    return []\n",
        "  \n",
        "  # get the topics\n",
        "  ldamodel = gensim.models.ldamodel.LdaModel(corpus, num_topics = num_topics, id2word=dictionary, passes=4)\n",
        "  topics = ldamodel.print_topics(num_words=4)\n",
        "  return \" \".join(parseTopics(topics))\n",
        "\n",
        "# Let's grab the text_data\n",
        "def get_topics(current_df, colFrom, colTo, num_topics):  \n",
        "  current_df[colTo] = current_df[colFrom].apply(lambda x: get_topics_from_tokenizer(split_text_into_tokens(x), num_topics))\n",
        "  \n",
        "####\n",
        "get_topics(data_to_use_for_training, colFrom='cleaned_statement', colTo='topics_statements', num_topics=4)\n",
        "get_topics(data_to_use_for_test, colFrom='cleaned_statement', colTo='topics_statements', num_topics=4)"
      ],
      "execution_count": 0,
      "outputs": []
    },
    {
      "metadata": {
        "id": "LwkvTkTxEYhi",
        "colab_type": "text"
      },
      "cell_type": "markdown",
      "source": [
        "A quick look at the topic extracted from statement using `gensim` and `LDA`."
      ]
    },
    {
      "metadata": {
        "id": "XtglL25lES83",
        "colab_type": "code",
        "outputId": "cbdad0d6-de61-4695-c93e-027a3be6fc96",
        "colab": {
          "base_uri": "https://localhost:8080/",
          "height": 51
        }
      },
      "cell_type": "code",
      "source": [
        "idx_to_print = 200\n",
        "data_to_use_for_training['cleaned_statement'][idx_to_print], data_to_use_for_training['topics_statements'][idx_to_print]"
      ],
      "execution_count": 0,
      "outputs": [
        {
          "output_type": "execute_result",
          "data": {
            "text/plain": [
              "('point pleasant beach does not own its beaches they are privately owned and operated by businesses such as jenkinsons',\n",
              " 'and not they beach')"
            ]
          },
          "metadata": {
            "tags": []
          },
          "execution_count": 11
        }
      ]
    },
    {
      "metadata": {
        "id": "1SOjXbVMpRA4",
        "colab_type": "code",
        "colab": {}
      },
      "cell_type": "code",
      "source": [
        "# parse stuff with spacy\n",
        "def get_context_score_reliability(text):\n",
        "  clean_context = clean_text_for_string(text)\n",
        "  \n",
        "  # Group a: score of 2.5\n",
        "  group_a = [\n",
        "    'press release',\n",
        "    'speech',\n",
        "    'news release',\n",
        "    'interview'\n",
        "  ]\n",
        "\n",
        "  # Group b: score 1.2\n",
        "  group_b = [\n",
        "    'news conference',\n",
        "    'debate',\n",
        "    'tv ad',\n",
        "    'television ad',\n",
        "    'radio interview',\n",
        "    'tweet',\n",
        "    'town hall'\n",
        "  ]\n",
        "\n",
        "  # Group c: score of 0.7\n",
        "  group_c = [\n",
        "    'email',\n",
        "    'e-mail',\n",
        "    'e mail',\n",
        "    'message via the internet'\n",
        "    'democratic'\n",
        "  ]\n",
        "\n",
        "  \n",
        "  # Group d: score of 0.5\n",
        "  group_d = [\n",
        "    'fox',\n",
        "    'cbs',\n",
        "    'cbn',\n",
        "    'stephen colbert',\n",
        "    'abc news',\n",
        "    'msnbc',\n",
        "    'nbc',\n",
        "    'new york times'\n",
        "  ]\n",
        "\n",
        "  score = 0\n",
        "\n",
        "\n",
        "  for phrase in group_a:\n",
        "    if phrase in clean_context:\n",
        "      score = score + 2.5\n",
        "\n",
        "\n",
        "  for phrase in group_b:\n",
        "    if phrase in clean_context:\n",
        "      score = score + 1.2\n",
        "\n",
        "\n",
        "  for phrase in group_c:\n",
        "    if phrase in clean_context:\n",
        "      score = score + 0.7\n",
        "      \n",
        "      \n",
        "  for phrase in group_d:\n",
        "    if phrase in clean_context:\n",
        "      score = score + 0.5\n",
        "\n",
        "\n",
        "  if score > 10.0:\n",
        "    score = 10\n",
        "\n",
        "\n",
        "  if score == 0:\n",
        "    score = len(split_text_into_tokens(clean_context))\n",
        "    if score > 3:\n",
        "      score = 3\n",
        "    \n",
        "\n",
        "  return score\n",
        "\n",
        "\n",
        "data_to_use_for_training['score_context_reliability'] = data_to_use_for_training['context'].apply(get_context_score_reliability)\n",
        "data_to_use_for_test['score_context_reliability']     = data_to_use_for_test['context'].apply(get_context_score_reliability)"
      ],
      "execution_count": 0,
      "outputs": []
    },
    {
      "metadata": {
        "id": "tvgXMOZUsa3w",
        "colab_type": "text"
      },
      "cell_type": "markdown",
      "source": [
        "#### Applying TDIDF Vectorizer\n",
        "\n",
        "Here we use stemmer and exclude words from english stop words **TDIDF Vectorizer with NGram = 2**"
      ]
    },
    {
      "metadata": {
        "id": "a0UCZbp6serK",
        "colab_type": "code",
        "colab": {}
      },
      "cell_type": "code",
      "source": [
        "from sklearn.feature_extraction.text import TfidfVectorizer, CountVectorizer\n",
        "\n",
        "def calculate_tdif_context(current_df):\n",
        "#   return calculate_tdif_context_count_vect(current_df)\n",
        "#   return calculate_tdif_context_tfidf(current_df)\n",
        "  return calculate_tdif_context_tfidf_2(current_df)\n",
        "\n",
        "\n",
        "def calculate_tdif_context_count_vect(current_df):\n",
        "  ####\n",
        "  count_vect_context = CountVectorizer(ngram_range=(2,2))\n",
        "  count_vect_statement = CountVectorizer(ngram_range=(1,2))\n",
        "  count_vect_party_affiliation = CountVectorizer(ngram_range=(1,2))\n",
        "\n",
        "  X_count_vect_context = count_vect_context.fit_transform(current_df['cleaned_context'])\n",
        "  X_count_vect_statement = count_vect_statement.fit_transform(current_df['topics_statements'])\n",
        "  X_count_vect_party_affiliation = count_vect_party_affiliation.fit_transform(current_df['cleaned_party_affiliation'])\n",
        "\n",
        "  X_count_vect_context = pd.DataFrame(X_count_vect_context.toarray())\n",
        "  X_count_vect_context.columns = count_vect_context.get_feature_names()\n",
        "  X_count_vect_statement = pd.DataFrame(X_count_vect_statement.toarray())\n",
        "  X_count_vect_statement.columns = count_vect_statement.get_feature_names()\n",
        "  X_count_vect_party_affiliation = pd.DataFrame(X_count_vect_party_affiliation.toarray())\n",
        "  X_count_vect_party_affiliation.columns = count_vect_party_affiliation.get_feature_names()\n",
        "  \n",
        "  return pd.concat([X_count_vect_party_affiliation, X_count_vect_context, X_count_vect_statement], axis=1), X_count_vect_party_affiliation.head(1), X_count_vect_context.head(1), X_count_vect_statement.head(1)\n",
        "\n",
        "\n",
        "\n",
        "def calculate_tdif_context_tfidf(current_df):\n",
        "  ####\n",
        "  tfidf_vect_context = TfidfVectorizer(ngram_range=(2,2))\n",
        "  tfidf_vect_statement = TfidfVectorizer(ngram_range=(1,2))\n",
        "  tfidf_vect_party_affiliation = TfidfVectorizer(ngram_range=(1,2))\n",
        "\n",
        "  X_tfidf_context = tfidf_vect_context.fit_transform(current_df['cleaned_context'])\n",
        "  X_tfidf_statement = tfidf_vect_statement.fit_transform(current_df['topics_statements'])\n",
        "  X_tfidf_party_affiliation = tfidf_vect_party_affiliation.fit_transform(current_df['cleaned_party_affiliation'])\n",
        "  X_df_tfidf_context = pd.DataFrame(X_tfidf_context.toarray())\n",
        "  X_df_tfidf_context.columns = tfidf_vect_context.get_feature_names()\n",
        "  X_df_tfidf_statement = pd.DataFrame(X_tfidf_statement.toarray())\n",
        "  X_df_tfidf_statement.columns = tfidf_vect_statement.get_feature_names()\n",
        "  X_df_tfidf_party_affiliation = pd.DataFrame(X_tfidf_party_affiliation.toarray())\n",
        "  X_df_tfidf_party_affiliation.columns = tfidf_vect_party_affiliation.get_feature_names()\n",
        "\n",
        "  #\n",
        "  return pd.concat([X_df_tfidf_party_affiliation, X_df_tfidf_context, X_df_tfidf_statement], axis=1), X_df_tfidf_context.head(1), X_df_tfidf_statement.head(1), X_df_tfidf_party_affiliation.head(1)\n",
        "\n",
        "\n",
        "\n",
        "def calculate_tdif_context_tfidf_2(current_df):\n",
        "  ####\n",
        "  tfidf_vect_context = TfidfVectorizer(ngram_range=(2,2))\n",
        "  tfidf_vect_statement = TfidfVectorizer(ngram_range=(1,2))\n",
        "  tfidf_vect_party_affiliation = TfidfVectorizer(ngram_range=(1,2))\n",
        "\n",
        "  X_tfidf_context = tfidf_vect_context.fit_transform(current_df['cleaned_context'])\n",
        "  X_tfidf_statement = tfidf_vect_statement.fit_transform(current_df['topics_statements'])\n",
        "  X_tfidf_party_affiliation = tfidf_vect_party_affiliation.fit_transform(current_df['cleaned_party_affiliation'])\n",
        "  X_df_tfidf_context = pd.DataFrame(X_tfidf_context.toarray())\n",
        "  X_df_tfidf_context.columns = tfidf_vect_context.get_feature_names()\n",
        "  X_df_tfidf_statement = pd.DataFrame(X_tfidf_statement.toarray())\n",
        "  X_df_tfidf_statement.columns = tfidf_vect_statement.get_feature_names()\n",
        "  X_df_tfidf_party_affiliation = pd.DataFrame(X_tfidf_party_affiliation.toarray())\n",
        "  X_df_tfidf_party_affiliation.columns = tfidf_vect_party_affiliation.get_feature_names()\n",
        "\n",
        "  #\n",
        "  return pd.concat([current_df['score_context_reliability'], X_df_tfidf_party_affiliation, X_df_tfidf_statement], axis=1), X_df_tfidf_context.head(1), X_df_tfidf_statement.head(1), X_df_tfidf_party_affiliation.head(1)\n"
      ],
      "execution_count": 0,
      "outputs": []
    },
    {
      "metadata": {
        "id": "3_cvcYz35LkN",
        "colab_type": "code",
        "colab": {}
      },
      "cell_type": "code",
      "source": [
        "X_train, X_df_tfidf_context_head, X_df_tfidf_statement_head, X_df_tfidf_party_affiliation_head = calculate_tdif_context(data_to_use_for_training)\n",
        "X_test = calculate_tdif_context(data_to_use_for_test)"
      ],
      "execution_count": 0,
      "outputs": []
    },
    {
      "metadata": {
        "id": "GoI3PELbuA0l",
        "colab_type": "text"
      },
      "cell_type": "markdown",
      "source": [
        "##### Visualizing the vectorizer"
      ]
    },
    {
      "metadata": {
        "id": "7SIwUs8RC0jj",
        "colab_type": "code",
        "outputId": "d4983fff-9cb0-44e5-ec7d-2df179bf8126",
        "colab": {
          "base_uri": "https://localhost:8080/",
          "height": 126
        }
      },
      "cell_type": "code",
      "source": [
        "X_df_tfidf_context_head"
      ],
      "execution_count": 0,
      "outputs": [
        {
          "output_type": "execute_result",
          "data": {
            "text/html": [
              "<div>\n",
              "<style scoped>\n",
              "    .dataframe tbody tr th:only-of-type {\n",
              "        vertical-align: middle;\n",
              "    }\n",
              "\n",
              "    .dataframe tbody tr th {\n",
              "        vertical-align: top;\n",
              "    }\n",
              "\n",
              "    .dataframe thead th {\n",
              "        text-align: right;\n",
              "    }\n",
              "</style>\n",
              "<table border=\"1\" class=\"dataframe\">\n",
              "  <thead>\n",
              "    <tr style=\"text-align: right;\">\n",
              "      <th></th>\n",
              "      <th>10 against</th>\n",
              "      <th>10 news</th>\n",
              "      <th>10 years</th>\n",
              "      <th>101 ask</th>\n",
              "      <th>101 fm</th>\n",
              "      <th>10th house</th>\n",
              "      <th>1104 in</th>\n",
              "      <th>12 debate</th>\n",
              "      <th>12 near</th>\n",
              "      <th>12 new</th>\n",
              "      <th>...</th>\n",
              "      <th>your favorite</th>\n",
              "      <th>youtube ad</th>\n",
              "      <th>youtube and</th>\n",
              "      <th>youtube attack</th>\n",
              "      <th>youtube campaign</th>\n",
              "      <th>youtube com</th>\n",
              "      <th>youtube debate</th>\n",
              "      <th>youtube video</th>\n",
              "      <th>zach galifianakis</th>\n",
              "      <th>zakaria gps</th>\n",
              "    </tr>\n",
              "  </thead>\n",
              "  <tbody>\n",
              "    <tr>\n",
              "      <th>0</th>\n",
              "      <td>0.0</td>\n",
              "      <td>0.0</td>\n",
              "      <td>0.0</td>\n",
              "      <td>0.0</td>\n",
              "      <td>0.0</td>\n",
              "      <td>0.0</td>\n",
              "      <td>0.0</td>\n",
              "      <td>0.0</td>\n",
              "      <td>0.0</td>\n",
              "      <td>0.0</td>\n",
              "      <td>...</td>\n",
              "      <td>0.0</td>\n",
              "      <td>0.0</td>\n",
              "      <td>0.0</td>\n",
              "      <td>0.0</td>\n",
              "      <td>0.0</td>\n",
              "      <td>0.0</td>\n",
              "      <td>0.0</td>\n",
              "      <td>0.0</td>\n",
              "      <td>0.0</td>\n",
              "      <td>0.0</td>\n",
              "    </tr>\n",
              "  </tbody>\n",
              "</table>\n",
              "<p>1 rows × 6059 columns</p>\n",
              "</div>"
            ],
            "text/plain": [
              "   10 against  10 news  10 years  101 ask  101 fm  10th house  1104 in  \\\n",
              "0         0.0      0.0       0.0      0.0     0.0         0.0      0.0   \n",
              "\n",
              "   12 debate  12 near  12 new     ...       your favorite  youtube ad  \\\n",
              "0        0.0      0.0     0.0     ...                 0.0         0.0   \n",
              "\n",
              "   youtube and  youtube attack  youtube campaign  youtube com  youtube debate  \\\n",
              "0          0.0             0.0               0.0          0.0             0.0   \n",
              "\n",
              "   youtube video  zach galifianakis  zakaria gps  \n",
              "0            0.0                0.0          0.0  \n",
              "\n",
              "[1 rows x 6059 columns]"
            ]
          },
          "metadata": {
            "tags": []
          },
          "execution_count": 15
        }
      ]
    },
    {
      "metadata": {
        "id": "oZzo39EEC0nQ",
        "colab_type": "code",
        "outputId": "a0bc80c1-5f2c-476f-8806-9a02cf2815e7",
        "colab": {
          "base_uri": "https://localhost:8080/",
          "height": 108
        }
      },
      "cell_type": "code",
      "source": [
        "X_df_tfidf_statement_head"
      ],
      "execution_count": 0,
      "outputs": [
        {
          "output_type": "execute_result",
          "data": {
            "text/html": [
              "<div>\n",
              "<style scoped>\n",
              "    .dataframe tbody tr th:only-of-type {\n",
              "        vertical-align: middle;\n",
              "    }\n",
              "\n",
              "    .dataframe tbody tr th {\n",
              "        vertical-align: top;\n",
              "    }\n",
              "\n",
              "    .dataframe thead th {\n",
              "        text-align: right;\n",
              "    }\n",
              "</style>\n",
              "<table border=\"1\" class=\"dataframe\">\n",
              "  <thead>\n",
              "    <tr style=\"text-align: right;\">\n",
              "      <th></th>\n",
              "      <th>000</th>\n",
              "      <th>000 100</th>\n",
              "      <th>000 119</th>\n",
              "      <th>000 134</th>\n",
              "      <th>000 15</th>\n",
              "      <th>000 1789</th>\n",
              "      <th>000 20</th>\n",
              "      <th>000 2010</th>\n",
              "      <th>000 235</th>\n",
              "      <th>000 36</th>\n",
              "      <th>...</th>\n",
              "      <th>zika</th>\n",
              "      <th>zika critical</th>\n",
              "      <th>zika initially</th>\n",
              "      <th>zika is</th>\n",
              "      <th>zip</th>\n",
              "      <th>zombies</th>\n",
              "      <th>zone</th>\n",
              "      <th>zone cut</th>\n",
              "      <th>zuckerbergs</th>\n",
              "      <th>zuckerbergs marco</th>\n",
              "    </tr>\n",
              "  </thead>\n",
              "  <tbody>\n",
              "    <tr>\n",
              "      <th>0</th>\n",
              "      <td>0.0</td>\n",
              "      <td>0.0</td>\n",
              "      <td>0.0</td>\n",
              "      <td>0.0</td>\n",
              "      <td>0.0</td>\n",
              "      <td>0.0</td>\n",
              "      <td>0.0</td>\n",
              "      <td>0.0</td>\n",
              "      <td>0.0</td>\n",
              "      <td>0.0</td>\n",
              "      <td>...</td>\n",
              "      <td>0.0</td>\n",
              "      <td>0.0</td>\n",
              "      <td>0.0</td>\n",
              "      <td>0.0</td>\n",
              "      <td>0.0</td>\n",
              "      <td>0.0</td>\n",
              "      <td>0.0</td>\n",
              "      <td>0.0</td>\n",
              "      <td>0.0</td>\n",
              "      <td>0.0</td>\n",
              "    </tr>\n",
              "  </tbody>\n",
              "</table>\n",
              "<p>1 rows × 28261 columns</p>\n",
              "</div>"
            ],
            "text/plain": [
              "   000  000 100  000 119  000 134  000 15  000 1789  000 20  000 2010  \\\n",
              "0  0.0      0.0      0.0      0.0     0.0       0.0     0.0       0.0   \n",
              "\n",
              "   000 235  000 36        ...          zika  zika critical  zika initially  \\\n",
              "0      0.0     0.0        ...           0.0            0.0             0.0   \n",
              "\n",
              "   zika is  zip  zombies  zone  zone cut  zuckerbergs  zuckerbergs marco  \n",
              "0      0.0  0.0      0.0   0.0       0.0          0.0                0.0  \n",
              "\n",
              "[1 rows x 28261 columns]"
            ]
          },
          "metadata": {
            "tags": []
          },
          "execution_count": 16
        }
      ]
    },
    {
      "metadata": {
        "id": "b3LK6ONoC0ty",
        "colab_type": "code",
        "outputId": "1353aca1-f56c-48a3-f994-3a33bffc4485",
        "colab": {
          "base_uri": "https://localhost:8080/",
          "height": 126
        }
      },
      "cell_type": "code",
      "source": [
        "X_df_tfidf_party_affiliation_head"
      ],
      "execution_count": 0,
      "outputs": [
        {
          "output_type": "execute_result",
          "data": {
            "text/html": [
              "<div>\n",
              "<style scoped>\n",
              "    .dataframe tbody tr th:only-of-type {\n",
              "        vertical-align: middle;\n",
              "    }\n",
              "\n",
              "    .dataframe tbody tr th {\n",
              "        vertical-align: top;\n",
              "    }\n",
              "\n",
              "    .dataframe thead th {\n",
              "        text-align: right;\n",
              "    }\n",
              "</style>\n",
              "<table border=\"1\" class=\"dataframe\">\n",
              "  <thead>\n",
              "    <tr style=\"text-align: right;\">\n",
              "      <th></th>\n",
              "      <th>action</th>\n",
              "      <th>activist</th>\n",
              "      <th>body</th>\n",
              "      <th>business</th>\n",
              "      <th>business leader</th>\n",
              "      <th>canada</th>\n",
              "      <th>columnist</th>\n",
              "      <th>constitution</th>\n",
              "      <th>constitution party</th>\n",
              "      <th>democrat</th>\n",
              "      <th>...</th>\n",
              "      <th>republican</th>\n",
              "      <th>show</th>\n",
              "      <th>show host</th>\n",
              "      <th>state</th>\n",
              "      <th>state official</th>\n",
              "      <th>state tea</th>\n",
              "      <th>talk</th>\n",
              "      <th>talk show</th>\n",
              "      <th>tea</th>\n",
              "      <th>tea party</th>\n",
              "    </tr>\n",
              "  </thead>\n",
              "  <tbody>\n",
              "    <tr>\n",
              "      <th>0</th>\n",
              "      <td>0.0</td>\n",
              "      <td>0.0</td>\n",
              "      <td>0.0</td>\n",
              "      <td>0.0</td>\n",
              "      <td>0.0</td>\n",
              "      <td>0.0</td>\n",
              "      <td>0.0</td>\n",
              "      <td>0.0</td>\n",
              "      <td>0.0</td>\n",
              "      <td>0.0</td>\n",
              "      <td>...</td>\n",
              "      <td>1.0</td>\n",
              "      <td>0.0</td>\n",
              "      <td>0.0</td>\n",
              "      <td>0.0</td>\n",
              "      <td>0.0</td>\n",
              "      <td>0.0</td>\n",
              "      <td>0.0</td>\n",
              "      <td>0.0</td>\n",
              "      <td>0.0</td>\n",
              "      <td>0.0</td>\n",
              "    </tr>\n",
              "  </tbody>\n",
              "</table>\n",
              "<p>1 rows × 51 columns</p>\n",
              "</div>"
            ],
            "text/plain": [
              "   action  activist  body  business  business leader  canada  columnist  \\\n",
              "0     0.0       0.0   0.0       0.0              0.0     0.0        0.0   \n",
              "\n",
              "   constitution  constitution party  democrat    ...      republican  show  \\\n",
              "0           0.0                 0.0       0.0    ...             1.0   0.0   \n",
              "\n",
              "   show host  state  state official  state tea  talk  talk show  tea  \\\n",
              "0        0.0    0.0             0.0        0.0   0.0        0.0  0.0   \n",
              "\n",
              "   tea party  \n",
              "0        0.0  \n",
              "\n",
              "[1 rows x 51 columns]"
            ]
          },
          "metadata": {
            "tags": []
          },
          "execution_count": 17
        }
      ]
    },
    {
      "metadata": {
        "id": "Cw_hJsCAC_91",
        "colab_type": "text"
      },
      "cell_type": "markdown",
      "source": [
        "### Coming up with the matrix for classification\n",
        "\n",
        "\n",
        "```\n",
        "Resulting Matrix  = Context Reliability + Party TFIDF Matrix + Statement LDA Topics TFIDF Matrix\n",
        "```"
      ]
    },
    {
      "metadata": {
        "id": "nOsEF6pS2X8I",
        "colab_type": "code",
        "outputId": "4578fb75-259a-4817-9724-f73032fae828",
        "colab": {
          "base_uri": "https://localhost:8080/",
          "height": 146
        }
      },
      "cell_type": "code",
      "source": [
        "X_train.head(1)"
      ],
      "execution_count": 0,
      "outputs": [
        {
          "output_type": "execute_result",
          "data": {
            "text/html": [
              "<div>\n",
              "<style scoped>\n",
              "    .dataframe tbody tr th:only-of-type {\n",
              "        vertical-align: middle;\n",
              "    }\n",
              "\n",
              "    .dataframe tbody tr th {\n",
              "        vertical-align: top;\n",
              "    }\n",
              "\n",
              "    .dataframe thead th {\n",
              "        text-align: right;\n",
              "    }\n",
              "</style>\n",
              "<table border=\"1\" class=\"dataframe\">\n",
              "  <thead>\n",
              "    <tr style=\"text-align: right;\">\n",
              "      <th></th>\n",
              "      <th>score_context_reliability</th>\n",
              "      <th>action</th>\n",
              "      <th>activist</th>\n",
              "      <th>body</th>\n",
              "      <th>business</th>\n",
              "      <th>business leader</th>\n",
              "      <th>canada</th>\n",
              "      <th>columnist</th>\n",
              "      <th>constitution</th>\n",
              "      <th>constitution party</th>\n",
              "      <th>...</th>\n",
              "      <th>zika</th>\n",
              "      <th>zika critical</th>\n",
              "      <th>zika initially</th>\n",
              "      <th>zika is</th>\n",
              "      <th>zip</th>\n",
              "      <th>zombies</th>\n",
              "      <th>zone</th>\n",
              "      <th>zone cut</th>\n",
              "      <th>zuckerbergs</th>\n",
              "      <th>zuckerbergs marco</th>\n",
              "    </tr>\n",
              "  </thead>\n",
              "  <tbody>\n",
              "    <tr>\n",
              "      <th>0</th>\n",
              "      <td>2.0</td>\n",
              "      <td>0.0</td>\n",
              "      <td>0.0</td>\n",
              "      <td>0.0</td>\n",
              "      <td>0.0</td>\n",
              "      <td>0.0</td>\n",
              "      <td>0.0</td>\n",
              "      <td>0.0</td>\n",
              "      <td>0.0</td>\n",
              "      <td>0.0</td>\n",
              "      <td>...</td>\n",
              "      <td>0.0</td>\n",
              "      <td>0.0</td>\n",
              "      <td>0.0</td>\n",
              "      <td>0.0</td>\n",
              "      <td>0.0</td>\n",
              "      <td>0.0</td>\n",
              "      <td>0.0</td>\n",
              "      <td>0.0</td>\n",
              "      <td>0.0</td>\n",
              "      <td>0.0</td>\n",
              "    </tr>\n",
              "  </tbody>\n",
              "</table>\n",
              "<p>1 rows × 28313 columns</p>\n",
              "</div>"
            ],
            "text/plain": [
              "   score_context_reliability  action  activist  body  business  \\\n",
              "0                        2.0     0.0       0.0   0.0       0.0   \n",
              "\n",
              "   business leader  canada  columnist  constitution  constitution party  \\\n",
              "0              0.0     0.0        0.0           0.0                 0.0   \n",
              "\n",
              "         ...          zika  zika critical  zika initially  zika is  zip  \\\n",
              "0        ...           0.0            0.0             0.0      0.0  0.0   \n",
              "\n",
              "   zombies  zone  zone cut  zuckerbergs  zuckerbergs marco  \n",
              "0      0.0   0.0       0.0          0.0                0.0  \n",
              "\n",
              "[1 rows x 28313 columns]"
            ]
          },
          "metadata": {
            "tags": []
          },
          "execution_count": 18
        }
      ]
    },
    {
      "metadata": {
        "id": "DovB_ELru-YL",
        "colab_type": "text"
      },
      "cell_type": "markdown",
      "source": [
        "#### Let's do classifier with Logistic Regression"
      ]
    },
    {
      "metadata": {
        "id": "glEF40hgvEMl",
        "colab_type": "code",
        "outputId": "68fe83fd-85e3-4973-841d-571dd0046321",
        "colab": {
          "base_uri": "https://localhost:8080/",
          "height": 71
        }
      },
      "cell_type": "code",
      "source": [
        "from sklearn.linear_model import LogisticRegression\n",
        "from sklearn.ensemble import RandomForestClassifier\n",
        "\n",
        "\n",
        "LogReg = LogisticRegression()\n",
        "Y_train = data_to_use_for_training['label']\n",
        "Y_test = data_to_use_for_test['label']\n",
        "LogReg_model = LogReg.fit(X_train, Y_train)"
      ],
      "execution_count": 0,
      "outputs": [
        {
          "output_type": "stream",
          "text": [
            "/usr/local/lib/python3.6/dist-packages/sklearn/ensemble/weight_boosting.py:29: DeprecationWarning: numpy.core.umath_tests is an internal NumPy module and should not be imported. It will be removed in a future NumPy release.\n",
            "  from numpy.core.umath_tests import inner1d\n"
          ],
          "name": "stderr"
        }
      ]
    },
    {
      "metadata": {
        "id": "su29ktXYAxAq",
        "colab_type": "text"
      },
      "cell_type": "markdown",
      "source": [
        "#### Let's do classifier with Random Forest"
      ]
    },
    {
      "metadata": {
        "id": "h6w2VNAkA3se",
        "colab_type": "code",
        "colab": {}
      },
      "cell_type": "code",
      "source": [
        "from sklearn.linear_model import LogisticRegression\n",
        "from sklearn.ensemble import RandomForestClassifier\n",
        "\n",
        "RForest = RandomForestClassifier(n_estimators=50, max_depth=50, n_jobs=-1)\n",
        "RForest_model = RForest.fit(X_train, Y_train)"
      ],
      "execution_count": 0,
      "outputs": []
    },
    {
      "metadata": {
        "id": "qp23TXMQ5xMq",
        "colab_type": "text"
      },
      "cell_type": "markdown",
      "source": [
        "### Moment of truth: the accuracy of our Logistic Classifer"
      ]
    },
    {
      "metadata": {
        "id": "hakA-scWBLEb",
        "colab_type": "code",
        "outputId": "880ef772-ec15-43a0-c15d-121ed9be10cd",
        "colab": {
          "base_uri": "https://localhost:8080/",
          "height": 86
        }
      },
      "cell_type": "code",
      "source": [
        "print('Logistic Regression Score:')\n",
        "print(LogReg.score(X_train, Y_train))\n",
        "\n",
        "\n",
        "print('Random Forest Score:')\n",
        "print(RForest.score(X_train, Y_train))"
      ],
      "execution_count": 0,
      "outputs": [
        {
          "output_type": "stream",
          "text": [
            "Logistic Regression Score:\n",
            "0.81826171875\n",
            "Random Forest Score:\n",
            "0.56416015625\n"
          ],
          "name": "stdout"
        }
      ]
    },
    {
      "metadata": {
        "id": "Fv6biplvf1_Z",
        "colab_type": "code",
        "colab": {}
      },
      "cell_type": "code",
      "source": [
        "# LogReg2 = LogisticRegression()\n",
        "# X_train_2 = data_to_use_for_training['score_context_reliability'].values\n",
        "# X_test_2 = data_to_use_for_test['score_context_reliability']\n",
        "# LogReg_model2 = LogReg2.fit(X_train, Y_train)"
      ],
      "execution_count": 0,
      "outputs": []
    },
    {
      "metadata": {
        "id": "lHe_OSIkhEuK",
        "colab_type": "code",
        "colab": {}
      },
      "cell_type": "code",
      "source": [
        "# print('Logistic Regression Score:')\n",
        "# print(LogReg2.score(X_train_2, Y_train))"
      ],
      "execution_count": 0,
      "outputs": []
    },
    {
      "metadata": {
        "id": "-tZsvJJdGEnf",
        "colab_type": "text"
      },
      "cell_type": "markdown",
      "source": [
        "As seen on the above, the score from Logistic Regression score is much higher than Random Forest"
      ]
    },
    {
      "metadata": {
        "id": "tq99zaDqmzkc",
        "colab_type": "text"
      },
      "cell_type": "markdown",
      "source": [
        "## Generate the score for Reliability Score and Social Score\n",
        "\n",
        "The following section will discover the reliabilty score and social score"
      ]
    },
    {
      "metadata": {
        "id": "r_Z-21GudCzp",
        "colab_type": "text"
      },
      "cell_type": "markdown",
      "source": [
        "### Generate the CSV for factor score in term of news reliability"
      ]
    },
    {
      "metadata": {
        "id": "HH7VHsahbs32",
        "colab_type": "code",
        "outputId": "a0d51f5d-d8ca-4fb3-e521-f88ff9689639",
        "colab": {
          "base_uri": "https://localhost:8080/",
          "height": 245
        }
      },
      "cell_type": "code",
      "source": [
        "# dependencies\n",
        "import pandas as pd\n",
        "import nltk\n",
        "import numpy as np\n",
        "import io\n",
        "import requests\n",
        "from sklearn.feature_extraction.text import TfidfVectorizer\n",
        "from nltk import word_tokenize\n",
        "from nltk.corpus import stopwords\n",
        "# from sklearn.pipeline import Pipeline\n",
        "from sklearn.decomposition import TruncatedSVD\n",
        "from sklearn.feature_selection import chi2\n",
        "from string import punctuation\n",
        "from nltk import PorterStemmer\n",
        "import copy \n",
        "import re, math\n",
        "from sklearn.model_selection import train_test_split\n",
        "from nltk import WordNetLemmatizer\n",
        "from nltk import bigrams\n",
        "from nltk.util import ngrams\n",
        "from nltk.sentiment.vader import SentimentIntensityAnalyzer\n",
        "from gensim.models.ldamodel import LdaModel\n",
        "from gensim.models import Word2Vec, Doc2Vec\n",
        "from gensim.corpora import Dictionary\n",
        "import pickle\n",
        "from collections import Counter\n",
        "from sklearn.ensemble import RandomForestClassifier\n",
        "from sklearn.svm import SVC\n",
        "from sklearn.linear_model import LogisticRegression\n",
        "from sklearn.naive_bayes import GaussianNB\n",
        "from sklearn.metrics import accuracy_score, confusion_matrix, roc_auc_score\n",
        "from xgboost import XGBClassifier\n",
        "\n",
        "nltk.download('vader_lexicon')\n",
        "nltk.download('punkt')\n",
        "nltk.download('stopwords')\n",
        "nltk.download('wordnet')"
      ],
      "execution_count": 0,
      "outputs": [
        {
          "output_type": "stream",
          "text": [
            "/usr/local/lib/python3.6/dist-packages/nltk/twitter/__init__.py:20: UserWarning: The twython library has not been installed. Some functionality from the twitter package will not be available.\n",
            "  warnings.warn(\"The twython library has not been installed. \"\n",
            "/usr/local/lib/python3.6/dist-packages/sklearn/ensemble/weight_boosting.py:29: DeprecationWarning: numpy.core.umath_tests is an internal NumPy module and should not be imported. It will be removed in a future NumPy release.\n",
            "  from numpy.core.umath_tests import inner1d\n"
          ],
          "name": "stderr"
        },
        {
          "output_type": "stream",
          "text": [
            "[nltk_data] Downloading package vader_lexicon to /root/nltk_data...\n",
            "[nltk_data] Downloading package punkt to /root/nltk_data...\n",
            "[nltk_data]   Unzipping tokenizers/punkt.zip.\n",
            "[nltk_data] Downloading package stopwords to /root/nltk_data...\n",
            "[nltk_data]   Package stopwords is already up-to-date!\n",
            "[nltk_data] Downloading package wordnet to /root/nltk_data...\n",
            "[nltk_data]   Package wordnet is already up-to-date!\n"
          ],
          "name": "stdout"
        },
        {
          "output_type": "execute_result",
          "data": {
            "text/plain": [
              "True"
            ]
          },
          "metadata": {
            "tags": []
          },
          "execution_count": 29
        }
      ]
    },
    {
      "metadata": {
        "id": "yJYsJc_pdM5a",
        "colab_type": "code",
        "outputId": "6f460f23-c860-47af-ad27-7d7f7435f8f3",
        "colab": {
          "base_uri": "https://localhost:8080/",
          "height": 311
        }
      },
      "cell_type": "code",
      "source": [
        "# data_kg_fake_news.head(3)\n",
        "# data_kg_fake_news.site_url.unique()\n",
        "data_kg_fake_news.domain_rank.unique()"
      ],
      "execution_count": 0,
      "outputs": [
        {
          "output_type": "execute_result",
          "data": {
            "text/plain": [
              "array([25689.,    nan, 65078., 18533., 37161.,  5772., 78393., 25842.,\n",
              "        3734., 94243., 42160., 12993., 48959., 61606.,  6659.,  7587.,\n",
              "       93026.,   967., 16425., 22665., 10352., 87365.,   486., 23950.,\n",
              "       39980., 36674., 15846., 60570., 11584., 77628., 22680., 25709.,\n",
              "         553., 48175., 35381., 32069., 40299., 40480., 34811., 19116.,\n",
              "       12387., 70635., 51784., 56000., 78345., 60463., 17592., 67400.,\n",
              "       65917., 82758.,  2774., 68648., 32398., 79662., 53149., 44479.,\n",
              "       26413., 30230., 23040., 21114., 68691., 98679., 54210.,  6416.,\n",
              "       88660., 43327., 27046., 23349., 10414., 61423., 91187.,  4617.,\n",
              "       12191., 75353., 38347., 18495., 41475., 17423., 22432., 44451.,\n",
              "       16994., 57497., 28149., 25945.,   538., 31016., 63847., 62759.,\n",
              "       22891., 91245.,  1616., 96853., 18896., 91878., 33221., 63072.,\n",
              "       56487., 65975., 65060.,  8968., 18369., 93150.,  2182., 19375.,\n",
              "       42575., 37614.,  9645., 14958., 30890., 84363., 24453., 49688.,\n",
              "       23405., 72287., 14170., 51246.,  3921., 85288., 34478., 62087.,\n",
              "       48413., 48717., 64783., 58305.,   829., 46814., 36845., 14716.,\n",
              "       17366.,  1550., 67959., 35234., 43665.,  2435.])"
            ]
          },
          "metadata": {
            "tags": []
          },
          "execution_count": 30
        }
      ]
    },
    {
      "metadata": {
        "id": "hRS991Jbh9Ab",
        "colab_type": "code",
        "colab": {}
      },
      "cell_type": "code",
      "source": [
        "def get_parsed_data2(url):\n",
        "    return pd.read_csv(io.StringIO(requests.get(url, verify=False).content.decode('utf-8')), sep=',', header='infer')\n",
        "  \n",
        "def tokenize2(text):\n",
        "    cachedStopWords = set(stopwords.words('english') + list(punctuation))\n",
        "    min_length = 3\n",
        "    # tokenize\n",
        "    # convert to lower case\n",
        "    words = map(lambda word: word.lower(), word_tokenize(text))\n",
        "    # remove stop words\n",
        "    words = [word for word in words if word not in cachedStopWords]\n",
        "    # steming\n",
        "    tokens = list(map(lambda token: PorterStemmer().stem(token), words))\n",
        "    # lemmatize\n",
        "    lemmas = [WordNetLemmatizer().lemmatize(word) for word in tokens]\n",
        "    # only focus on alphabetic words\n",
        "    p = re.compile('[a-zA-Z]+')\n",
        "    \n",
        "    filtered_lemmas = list(filter(lambda lemma: p.match(lemma) and len(lemma) >= min_length, lemmas))\n",
        "    return filtered_lemmas"
      ],
      "execution_count": 0,
      "outputs": []
    },
    {
      "metadata": {
        "id": "xj8dufoKiGXu",
        "colab_type": "code",
        "outputId": "0b30a98f-c584-4b00-d4e3-576d24fd5d8a",
        "colab": {
          "base_uri": "https://localhost:8080/",
          "height": 141
        }
      },
      "cell_type": "code",
      "source": [
        "from nltk.corpus import stopwords\n",
        "\n",
        "\n",
        "# download and parse the dataset...\n",
        "data_kg_fake_news    = get_parsed_data2('https://github.com/synle/machine-learning-sample-dataset/raw/master/liar_dataset/kaggle/kaggle-fake.csv')\n",
        "data_kg_nonfake_news = get_parsed_data2('https://dock2.hyunwookshin.com/public/cmpe257_a1/articles1.csv')"
      ],
      "execution_count": 0,
      "outputs": [
        {
          "output_type": "stream",
          "text": [
            "/usr/local/lib/python3.6/dist-packages/urllib3/connectionpool.py:858: InsecureRequestWarning: Unverified HTTPS request is being made. Adding certificate verification is strongly advised. See: https://urllib3.readthedocs.io/en/latest/advanced-usage.html#ssl-warnings\n",
            "  InsecureRequestWarning)\n",
            "/usr/local/lib/python3.6/dist-packages/urllib3/connectionpool.py:858: InsecureRequestWarning: Unverified HTTPS request is being made. Adding certificate verification is strongly advised. See: https://urllib3.readthedocs.io/en/latest/advanced-usage.html#ssl-warnings\n",
            "  InsecureRequestWarning)\n",
            "/usr/local/lib/python3.6/dist-packages/urllib3/connectionpool.py:858: InsecureRequestWarning: Unverified HTTPS request is being made. Adding certificate verification is strongly advised. See: https://urllib3.readthedocs.io/en/latest/advanced-usage.html#ssl-warnings\n",
            "  InsecureRequestWarning)\n"
          ],
          "name": "stderr"
        }
      ]
    },
    {
      "metadata": {
        "id": "r0TphrdOjQxQ",
        "colab_type": "code",
        "colab": {}
      },
      "cell_type": "code",
      "source": [
        "data_kg_fake_news.loc[data_kg_fake_news['type']!='bs', 'type'] = 0\n",
        "data_kg_fake_news.loc[data_kg_fake_news['type']=='bs', 'type'] = 1"
      ],
      "execution_count": 0,
      "outputs": []
    },
    {
      "metadata": {
        "id": "Rh1SIssWn6Zm",
        "colab_type": "code",
        "colab": {}
      },
      "cell_type": "code",
      "source": [
        "data_kg_nonfake_news.rename(columns={\"content\": \"text\"}, inplace=True)\n",
        "data_kg_nonfake_news['type'] = 0\n",
        "data_kg_nonfake_news['spam_score'] = 0\n",
        "data_kg_nonfake_news['domain_rank'] = None\n",
        "data_kg_nonfake_news['participants_count'] = 0\n",
        "data_kg_nonfake_news['likes'] = 0\n",
        "data_kg_nonfake_news['shares'] = 0\n",
        "data_kg_nonfake_news['comments'] = 0\n",
        "data_kg_nonfake_news['replies_count'] = 0"
      ],
      "execution_count": 0,
      "outputs": []
    },
    {
      "metadata": {
        "id": "CGyPJfhwn_PM",
        "colab_type": "code",
        "colab": {}
      },
      "cell_type": "code",
      "source": [
        "all_data = pd.concat([data_kg_fake_news[['spam_score','domain_rank','participants_count','likes','shares','comments','replies_count','type']], data_kg_nonfake_news[['spam_score','domain_rank','participants_count','likes','shares','comments','replies_count','type']]])"
      ],
      "execution_count": 0,
      "outputs": []
    },
    {
      "metadata": {
        "id": "wf_P0QtbnfGU",
        "colab_type": "code",
        "outputId": "6a999c0d-3e83-48d1-ef5b-2a8dad4fbd06",
        "colab": {
          "base_uri": "https://localhost:8080/",
          "height": 140
        }
      },
      "cell_type": "code",
      "source": [
        "all_data.head(3)"
      ],
      "execution_count": 0,
      "outputs": [
        {
          "output_type": "execute_result",
          "data": {
            "text/html": [
              "<div>\n",
              "<style scoped>\n",
              "    .dataframe tbody tr th:only-of-type {\n",
              "        vertical-align: middle;\n",
              "    }\n",
              "\n",
              "    .dataframe tbody tr th {\n",
              "        vertical-align: top;\n",
              "    }\n",
              "\n",
              "    .dataframe thead th {\n",
              "        text-align: right;\n",
              "    }\n",
              "</style>\n",
              "<table border=\"1\" class=\"dataframe\">\n",
              "  <thead>\n",
              "    <tr style=\"text-align: right;\">\n",
              "      <th></th>\n",
              "      <th>spam_score</th>\n",
              "      <th>domain_rank</th>\n",
              "      <th>participants_count</th>\n",
              "      <th>likes</th>\n",
              "      <th>shares</th>\n",
              "      <th>comments</th>\n",
              "      <th>replies_count</th>\n",
              "      <th>type</th>\n",
              "    </tr>\n",
              "  </thead>\n",
              "  <tbody>\n",
              "    <tr>\n",
              "      <th>0</th>\n",
              "      <td>0.0</td>\n",
              "      <td>25689.0</td>\n",
              "      <td>1</td>\n",
              "      <td>0</td>\n",
              "      <td>0</td>\n",
              "      <td>0</td>\n",
              "      <td>0</td>\n",
              "      <td>0</td>\n",
              "    </tr>\n",
              "    <tr>\n",
              "      <th>1</th>\n",
              "      <td>0.0</td>\n",
              "      <td>25689.0</td>\n",
              "      <td>1</td>\n",
              "      <td>0</td>\n",
              "      <td>0</td>\n",
              "      <td>0</td>\n",
              "      <td>0</td>\n",
              "      <td>0</td>\n",
              "    </tr>\n",
              "    <tr>\n",
              "      <th>2</th>\n",
              "      <td>0.0</td>\n",
              "      <td>25689.0</td>\n",
              "      <td>1</td>\n",
              "      <td>0</td>\n",
              "      <td>0</td>\n",
              "      <td>0</td>\n",
              "      <td>0</td>\n",
              "      <td>0</td>\n",
              "    </tr>\n",
              "  </tbody>\n",
              "</table>\n",
              "</div>"
            ],
            "text/plain": [
              "   spam_score  domain_rank  participants_count  likes  shares  comments  \\\n",
              "0         0.0      25689.0                   1      0       0         0   \n",
              "1         0.0      25689.0                   1      0       0         0   \n",
              "2         0.0      25689.0                   1      0       0         0   \n",
              "\n",
              "   replies_count  type  \n",
              "0              0     0  \n",
              "1              0     0  \n",
              "2              0     0  "
            ]
          },
          "metadata": {
            "tags": []
          },
          "execution_count": 87
        }
      ]
    },
    {
      "metadata": {
        "id": "dpemEmZ2nBJ7",
        "colab_type": "code",
        "outputId": "d0410a28-a9a2-4503-9613-e140785f6bb7",
        "colab": {
          "base_uri": "https://localhost:8080/",
          "height": 202
        }
      },
      "cell_type": "code",
      "source": [
        "data_kg_nonfake_news.head()"
      ],
      "execution_count": 0,
      "outputs": [
        {
          "output_type": "execute_result",
          "data": {
            "text/html": [
              "<div>\n",
              "<style scoped>\n",
              "    .dataframe tbody tr th:only-of-type {\n",
              "        vertical-align: middle;\n",
              "    }\n",
              "\n",
              "    .dataframe tbody tr th {\n",
              "        vertical-align: top;\n",
              "    }\n",
              "\n",
              "    .dataframe thead th {\n",
              "        text-align: right;\n",
              "    }\n",
              "</style>\n",
              "<table border=\"1\" class=\"dataframe\">\n",
              "  <thead>\n",
              "    <tr style=\"text-align: right;\">\n",
              "      <th></th>\n",
              "      <th>Unnamed: 0</th>\n",
              "      <th>id</th>\n",
              "      <th>title</th>\n",
              "      <th>publication</th>\n",
              "      <th>author</th>\n",
              "      <th>date</th>\n",
              "      <th>year</th>\n",
              "      <th>month</th>\n",
              "      <th>url</th>\n",
              "      <th>text</th>\n",
              "      <th>type</th>\n",
              "    </tr>\n",
              "  </thead>\n",
              "  <tbody>\n",
              "    <tr>\n",
              "      <th>0</th>\n",
              "      <td>0</td>\n",
              "      <td>17283</td>\n",
              "      <td>House Republicans Fret About Winning Their Hea...</td>\n",
              "      <td>New York Times</td>\n",
              "      <td>Carl Hulse</td>\n",
              "      <td>2016-12-31</td>\n",
              "      <td>2016.0</td>\n",
              "      <td>12.0</td>\n",
              "      <td>NaN</td>\n",
              "      <td>WASHINGTON  —   Congressional Republicans have...</td>\n",
              "      <td>0</td>\n",
              "    </tr>\n",
              "    <tr>\n",
              "      <th>1</th>\n",
              "      <td>1</td>\n",
              "      <td>17284</td>\n",
              "      <td>Rift Between Officers and Residents as Killing...</td>\n",
              "      <td>New York Times</td>\n",
              "      <td>Benjamin Mueller and Al Baker</td>\n",
              "      <td>2017-06-19</td>\n",
              "      <td>2017.0</td>\n",
              "      <td>6.0</td>\n",
              "      <td>NaN</td>\n",
              "      <td>After the bullet shells get counted, the blood...</td>\n",
              "      <td>0</td>\n",
              "    </tr>\n",
              "    <tr>\n",
              "      <th>2</th>\n",
              "      <td>2</td>\n",
              "      <td>17285</td>\n",
              "      <td>Tyrus Wong, ‘Bambi’ Artist Thwarted by Racial ...</td>\n",
              "      <td>New York Times</td>\n",
              "      <td>Margalit Fox</td>\n",
              "      <td>2017-01-06</td>\n",
              "      <td>2017.0</td>\n",
              "      <td>1.0</td>\n",
              "      <td>NaN</td>\n",
              "      <td>When Walt Disney’s “Bambi” opened in 1942, cri...</td>\n",
              "      <td>0</td>\n",
              "    </tr>\n",
              "    <tr>\n",
              "      <th>3</th>\n",
              "      <td>3</td>\n",
              "      <td>17286</td>\n",
              "      <td>Among Deaths in 2016, a Heavy Toll in Pop Musi...</td>\n",
              "      <td>New York Times</td>\n",
              "      <td>William McDonald</td>\n",
              "      <td>2017-04-10</td>\n",
              "      <td>2017.0</td>\n",
              "      <td>4.0</td>\n",
              "      <td>NaN</td>\n",
              "      <td>Death may be the great equalizer, but it isn’t...</td>\n",
              "      <td>0</td>\n",
              "    </tr>\n",
              "    <tr>\n",
              "      <th>4</th>\n",
              "      <td>4</td>\n",
              "      <td>17287</td>\n",
              "      <td>Kim Jong-un Says North Korea Is Preparing to T...</td>\n",
              "      <td>New York Times</td>\n",
              "      <td>Choe Sang-Hun</td>\n",
              "      <td>2017-01-02</td>\n",
              "      <td>2017.0</td>\n",
              "      <td>1.0</td>\n",
              "      <td>NaN</td>\n",
              "      <td>SEOUL, South Korea  —   North Korea’s leader, ...</td>\n",
              "      <td>0</td>\n",
              "    </tr>\n",
              "  </tbody>\n",
              "</table>\n",
              "</div>"
            ],
            "text/plain": [
              "   Unnamed: 0     id                                              title  \\\n",
              "0           0  17283  House Republicans Fret About Winning Their Hea...   \n",
              "1           1  17284  Rift Between Officers and Residents as Killing...   \n",
              "2           2  17285  Tyrus Wong, ‘Bambi’ Artist Thwarted by Racial ...   \n",
              "3           3  17286  Among Deaths in 2016, a Heavy Toll in Pop Musi...   \n",
              "4           4  17287  Kim Jong-un Says North Korea Is Preparing to T...   \n",
              "\n",
              "      publication                         author        date    year  month  \\\n",
              "0  New York Times                     Carl Hulse  2016-12-31  2016.0   12.0   \n",
              "1  New York Times  Benjamin Mueller and Al Baker  2017-06-19  2017.0    6.0   \n",
              "2  New York Times                   Margalit Fox  2017-01-06  2017.0    1.0   \n",
              "3  New York Times               William McDonald  2017-04-10  2017.0    4.0   \n",
              "4  New York Times                  Choe Sang-Hun  2017-01-02  2017.0    1.0   \n",
              "\n",
              "   url                                               text  type  \n",
              "0  NaN  WASHINGTON  —   Congressional Republicans have...     0  \n",
              "1  NaN  After the bullet shells get counted, the blood...     0  \n",
              "2  NaN  When Walt Disney’s “Bambi” opened in 1942, cri...     0  \n",
              "3  NaN  Death may be the great equalizer, but it isn’t...     0  \n",
              "4  NaN  SEOUL, South Korea  —   North Korea’s leader, ...     0  "
            ]
          },
          "metadata": {
            "tags": []
          },
          "execution_count": 78
        }
      ]
    },
    {
      "metadata": {
        "id": "Y3L81rlwkUjg",
        "colab_type": "code",
        "outputId": "e1e754ce-8176-4392-8a82-7ed302121a72",
        "colab": {
          "base_uri": "https://localhost:8080/",
          "height": 372
        }
      },
      "cell_type": "code",
      "source": [
        "data_kg_fake_news.head(2)"
      ],
      "execution_count": 0,
      "outputs": [
        {
          "output_type": "execute_result",
          "data": {
            "text/html": [
              "<div>\n",
              "<style scoped>\n",
              "    .dataframe tbody tr th:only-of-type {\n",
              "        vertical-align: middle;\n",
              "    }\n",
              "\n",
              "    .dataframe tbody tr th {\n",
              "        vertical-align: top;\n",
              "    }\n",
              "\n",
              "    .dataframe thead th {\n",
              "        text-align: right;\n",
              "    }\n",
              "</style>\n",
              "<table border=\"1\" class=\"dataframe\">\n",
              "  <thead>\n",
              "    <tr style=\"text-align: right;\">\n",
              "      <th></th>\n",
              "      <th>uuid</th>\n",
              "      <th>ord_in_thread</th>\n",
              "      <th>author</th>\n",
              "      <th>published</th>\n",
              "      <th>title</th>\n",
              "      <th>text</th>\n",
              "      <th>language</th>\n",
              "      <th>crawled</th>\n",
              "      <th>site_url</th>\n",
              "      <th>country</th>\n",
              "      <th>domain_rank</th>\n",
              "      <th>thread_title</th>\n",
              "      <th>spam_score</th>\n",
              "      <th>main_img_url</th>\n",
              "      <th>replies_count</th>\n",
              "      <th>participants_count</th>\n",
              "      <th>likes</th>\n",
              "      <th>comments</th>\n",
              "      <th>shares</th>\n",
              "      <th>type</th>\n",
              "    </tr>\n",
              "  </thead>\n",
              "  <tbody>\n",
              "    <tr>\n",
              "      <th>0</th>\n",
              "      <td>6a175f46bcd24d39b3e962ad0f29936721db70db</td>\n",
              "      <td>0</td>\n",
              "      <td>Barracuda Brigade</td>\n",
              "      <td>2016-10-26T21:41:00.000+03:00</td>\n",
              "      <td>Muslims BUSTED: They Stole Millions In Gov’t B...</td>\n",
              "      <td>Print They should pay all the back all the mon...</td>\n",
              "      <td>english</td>\n",
              "      <td>2016-10-27T01:49:27.168+03:00</td>\n",
              "      <td>100percentfedup.com</td>\n",
              "      <td>US</td>\n",
              "      <td>25689.0</td>\n",
              "      <td>Muslims BUSTED: They Stole Millions In Gov’t B...</td>\n",
              "      <td>0.0</td>\n",
              "      <td>http://bb4sp.com/wp-content/uploads/2016/10/Fu...</td>\n",
              "      <td>0</td>\n",
              "      <td>1</td>\n",
              "      <td>0</td>\n",
              "      <td>0</td>\n",
              "      <td>0</td>\n",
              "      <td>0</td>\n",
              "    </tr>\n",
              "    <tr>\n",
              "      <th>1</th>\n",
              "      <td>2bdc29d12605ef9cf3f09f9875040a7113be5d5b</td>\n",
              "      <td>0</td>\n",
              "      <td>reasoning with facts</td>\n",
              "      <td>2016-10-29T08:47:11.259+03:00</td>\n",
              "      <td>Re: Why Did Attorney General Loretta Lynch Ple...</td>\n",
              "      <td>Why Did Attorney General Loretta Lynch Plead T...</td>\n",
              "      <td>english</td>\n",
              "      <td>2016-10-29T08:47:11.259+03:00</td>\n",
              "      <td>100percentfedup.com</td>\n",
              "      <td>US</td>\n",
              "      <td>25689.0</td>\n",
              "      <td>Re: Why Did Attorney General Loretta Lynch Ple...</td>\n",
              "      <td>0.0</td>\n",
              "      <td>http://bb4sp.com/wp-content/uploads/2016/10/Fu...</td>\n",
              "      <td>0</td>\n",
              "      <td>1</td>\n",
              "      <td>0</td>\n",
              "      <td>0</td>\n",
              "      <td>0</td>\n",
              "      <td>0</td>\n",
              "    </tr>\n",
              "  </tbody>\n",
              "</table>\n",
              "</div>"
            ],
            "text/plain": [
              "                                       uuid  ord_in_thread  \\\n",
              "0  6a175f46bcd24d39b3e962ad0f29936721db70db              0   \n",
              "1  2bdc29d12605ef9cf3f09f9875040a7113be5d5b              0   \n",
              "\n",
              "                 author                      published  \\\n",
              "0     Barracuda Brigade  2016-10-26T21:41:00.000+03:00   \n",
              "1  reasoning with facts  2016-10-29T08:47:11.259+03:00   \n",
              "\n",
              "                                               title  \\\n",
              "0  Muslims BUSTED: They Stole Millions In Gov’t B...   \n",
              "1  Re: Why Did Attorney General Loretta Lynch Ple...   \n",
              "\n",
              "                                                text language  \\\n",
              "0  Print They should pay all the back all the mon...  english   \n",
              "1  Why Did Attorney General Loretta Lynch Plead T...  english   \n",
              "\n",
              "                         crawled             site_url country  domain_rank  \\\n",
              "0  2016-10-27T01:49:27.168+03:00  100percentfedup.com      US      25689.0   \n",
              "1  2016-10-29T08:47:11.259+03:00  100percentfedup.com      US      25689.0   \n",
              "\n",
              "                                        thread_title  spam_score  \\\n",
              "0  Muslims BUSTED: They Stole Millions In Gov’t B...         0.0   \n",
              "1  Re: Why Did Attorney General Loretta Lynch Ple...         0.0   \n",
              "\n",
              "                                        main_img_url  replies_count  \\\n",
              "0  http://bb4sp.com/wp-content/uploads/2016/10/Fu...              0   \n",
              "1  http://bb4sp.com/wp-content/uploads/2016/10/Fu...              0   \n",
              "\n",
              "   participants_count  likes  comments  shares  type  \n",
              "0                   1      0         0       0     0  \n",
              "1                   1      0         0       0     0  "
            ]
          },
          "metadata": {
            "tags": []
          },
          "execution_count": 45
        }
      ]
    },
    {
      "metadata": {
        "id": "iG0y4dNhi68P",
        "colab_type": "code",
        "colab": {}
      },
      "cell_type": "code",
      "source": [
        "from google.colab import files\n",
        "\n",
        "all_datap[].to_csv('df.csv')\n",
        "files.download('df.csv')"
      ],
      "execution_count": 0,
      "outputs": []
    },
    {
      "metadata": {
        "id": "xpby-AfEd8e1",
        "colab_type": "code",
        "colab": {}
      },
      "cell_type": "code",
      "source": [
        "import numpy as np\n",
        "import matplotlib.pyplot as plt\n",
        "from matplotlib.pyplot import figure\n",
        "\n",
        "\n",
        "def get_reputation_score(value):\n",
        "  new_reputation_value = 0\n",
        "  if not math.isnan(value):\n",
        "    new_reputation_value = math.floor(value / 10000)\n",
        "    if( new_reputation_value > 10 ):\n",
        "      new_reputation_value = 10\n",
        "    new_reputation_value = 10 - new_reputation_value\n",
        "  return new_reputation_value\n",
        "\n",
        "  \n",
        "bucket_reputation_scores = []\n",
        "for value in data_kg_fake_news.domain_rank:\n",
        "  new_reputation_value = get_reputation_score(value)\n",
        "  bucket_reputation_scores.append(new_reputation_value)"
      ],
      "execution_count": 0,
      "outputs": []
    },
    {
      "metadata": {
        "id": "VP3FuZsuf1JW",
        "colab_type": "code",
        "outputId": "fb7c041f-03f5-4b4f-d54f-174b3c221f55",
        "colab": {
          "base_uri": "https://localhost:8080/",
          "height": 438
        }
      },
      "cell_type": "code",
      "source": [
        "print('reputation score')\n",
        "bins = np.linspace(0, 10, 10)\n",
        "figure(num=None, figsize=(10, 5), dpi=80, facecolor='w', edgecolor='k')\n",
        "plt.hist(bucket_reputation_scores, bins, alpha=0.5)\n"
      ],
      "execution_count": 0,
      "outputs": [
        {
          "output_type": "stream",
          "text": [
            "reputation score\n"
          ],
          "name": "stdout"
        },
        {
          "output_type": "execute_result",
          "data": {
            "text/plain": [
              "(array([4718.,  307.,  310., 1246.,  540.,  764., 1250., 1092., 2772.]),\n",
              " array([ 0.        ,  1.11111111,  2.22222222,  3.33333333,  4.44444444,\n",
              "         5.55555556,  6.66666667,  7.77777778,  8.88888889, 10.        ]),\n",
              " <a list of 9 Patch objects>)"
            ]
          },
          "metadata": {
            "tags": []
          },
          "execution_count": 52
        },
        {
          "output_type": "display_data",
          "data": {
            "image/png": "[encoded data removed]",
            "text/plain": [
              "<matplotlib.figure.Figure at 0x7fe87f1d2ac8>"
            ]
          },
          "metadata": {
            "tags": []
          }
        }
      ]
    },
    {
      "metadata": {
        "id": "wmif75xZkm4j",
        "colab_type": "code",
        "outputId": "b4987fb4-f0fa-4091-c40d-a503679e5343",
        "colab": {
          "base_uri": "https://localhost:8080/",
          "height": 438
        }
      },
      "cell_type": "code",
      "source": [
        "def get_spam_score(value):\n",
        "  new_spam_score = 0\n",
        "  if not math.isnan(value):\n",
        "    new_spam_score = value * 10\n",
        "    if( new_spam_score > 10 ):\n",
        "      new_spam_score = 10\n",
        "  return new_spam_score\n",
        "\n",
        "\n",
        "bucket_reliability_score = []\n",
        "for value in data_kg_fake_news.spam_score:\n",
        "  new_reputation_value = get_reputation_score(value)\n",
        "  bucket_reliability_score.append(new_reputation_value)\n",
        "  \n",
        "  \n",
        "print('spam score')\n",
        "bins = np.linspace(0, 10, 10)\n",
        "figure(num=None, figsize=(10, 5), dpi=80, facecolor='w', edgecolor='k')\n",
        "plt.hist(bucket_reputation_scores, bins, alpha=0.5)\n"
      ],
      "execution_count": 0,
      "outputs": [
        {
          "output_type": "stream",
          "text": [
            "spam score\n"
          ],
          "name": "stdout"
        },
        {
          "output_type": "execute_result",
          "data": {
            "text/plain": [
              "(array([4718.,  307.,  310., 1246.,  540.,  764., 1250., 1092., 2772.]),\n",
              " array([ 0.        ,  1.11111111,  2.22222222,  3.33333333,  4.44444444,\n",
              "         5.55555556,  6.66666667,  7.77777778,  8.88888889, 10.        ]),\n",
              " <a list of 9 Patch objects>)"
            ]
          },
          "metadata": {
            "tags": []
          },
          "execution_count": 93
        },
        {
          "output_type": "display_data",
          "data": {
            "image/png": "[encoded data removed]",
            "text/plain": [
              "<matplotlib.figure.Figure at 0x7fe87ff58dd8>"
            ]
          },
          "metadata": {
            "tags": []
          }
        }
      ]
    },
    {
      "metadata": {
        "id": "YFYGFBSllsE7",
        "colab_type": "code",
        "colab": {}
      },
      "cell_type": "code",
      "source": [
        "# data_kg_fake_news.participants_count.unique() # 300\n",
        "# data_kg_fake_news.likes.unique() # 1000\n",
        "# data_kg_fake_news.shares.unique() # 1000"
      ],
      "execution_count": 0,
      "outputs": []
    },
    {
      "metadata": {
        "id": "hRKPuveepN6i",
        "colab_type": "code",
        "colab": {}
      },
      "cell_type": "code",
      "source": [
        "def get_social_activity_score(row):\n",
        "  new_social_score = 0\n",
        "  \n",
        "  if(row['participants_count'] > 0):\n",
        "    new_social_score = new_social_score +  0.33 * (row['participants_count'] / 300)\n",
        "    \n",
        "  if(row['likes'] > 0):\n",
        "    new_social_score = new_social_score +  0.33 * (row['likes'] / 300)\n",
        "    \n",
        "  if(row['shares'] > 0):\n",
        "    new_social_score = new_social_score +  0.33 * (row['shares'] / 300)\n",
        "  \n",
        "  if( new_social_score > 10 ):\n",
        "    new_social_score = 10\n",
        "    \n",
        "  return new_social_score * 10\n",
        "\n",
        "\n",
        "\n",
        "all_data['calculated_social_score'] = all_data.apply(lambda row: get_social_activity_score(row), axis=1)\n"
      ],
      "execution_count": 0,
      "outputs": []
    },
    {
      "metadata": {
        "id": "IXxRLP2-ojWu",
        "colab_type": "code",
        "colab": {}
      },
      "cell_type": "code",
      "source": [
        "all_data['calculated_reputation_score'] = all_data['domain_rank'].apply(get_reputation_score)\n",
        "all_data['calculated_spam_score'] = all_data['spam_score'].apply(get_spam_score)\n"
      ],
      "execution_count": 0,
      "outputs": []
    },
    {
      "metadata": {
        "id": "e8NMHnjsoyKs",
        "colab_type": "code",
        "outputId": "a3522cf2-19b6-4e12-c9d0-57172abb2086",
        "colab": {
          "base_uri": "https://localhost:8080/",
          "height": 355
        }
      },
      "cell_type": "code",
      "source": [
        "all_data.head(10)"
      ],
      "execution_count": 0,
      "outputs": [
        {
          "output_type": "execute_result",
          "data": {
            "text/html": [
              "<div>\n",
              "<style scoped>\n",
              "    .dataframe tbody tr th:only-of-type {\n",
              "        vertical-align: middle;\n",
              "    }\n",
              "\n",
              "    .dataframe tbody tr th {\n",
              "        vertical-align: top;\n",
              "    }\n",
              "\n",
              "    .dataframe thead th {\n",
              "        text-align: right;\n",
              "    }\n",
              "</style>\n",
              "<table border=\"1\" class=\"dataframe\">\n",
              "  <thead>\n",
              "    <tr style=\"text-align: right;\">\n",
              "      <th></th>\n",
              "      <th>spam_score</th>\n",
              "      <th>domain_rank</th>\n",
              "      <th>participants_count</th>\n",
              "      <th>likes</th>\n",
              "      <th>shares</th>\n",
              "      <th>comments</th>\n",
              "      <th>replies_count</th>\n",
              "      <th>type</th>\n",
              "      <th>calculated_reputation_score</th>\n",
              "      <th>calculated_spam_score</th>\n",
              "      <th>calculated_social_score</th>\n",
              "    </tr>\n",
              "  </thead>\n",
              "  <tbody>\n",
              "    <tr>\n",
              "      <th>0</th>\n",
              "      <td>0.000</td>\n",
              "      <td>25689.0</td>\n",
              "      <td>1</td>\n",
              "      <td>0</td>\n",
              "      <td>0</td>\n",
              "      <td>0</td>\n",
              "      <td>0</td>\n",
              "      <td>0</td>\n",
              "      <td>8</td>\n",
              "      <td>0.00</td>\n",
              "      <td>0.011</td>\n",
              "    </tr>\n",
              "    <tr>\n",
              "      <th>1</th>\n",
              "      <td>0.000</td>\n",
              "      <td>25689.0</td>\n",
              "      <td>1</td>\n",
              "      <td>0</td>\n",
              "      <td>0</td>\n",
              "      <td>0</td>\n",
              "      <td>0</td>\n",
              "      <td>0</td>\n",
              "      <td>8</td>\n",
              "      <td>0.00</td>\n",
              "      <td>0.011</td>\n",
              "    </tr>\n",
              "    <tr>\n",
              "      <th>2</th>\n",
              "      <td>0.000</td>\n",
              "      <td>25689.0</td>\n",
              "      <td>1</td>\n",
              "      <td>0</td>\n",
              "      <td>0</td>\n",
              "      <td>0</td>\n",
              "      <td>0</td>\n",
              "      <td>0</td>\n",
              "      <td>8</td>\n",
              "      <td>0.00</td>\n",
              "      <td>0.011</td>\n",
              "    </tr>\n",
              "    <tr>\n",
              "      <th>3</th>\n",
              "      <td>0.068</td>\n",
              "      <td>25689.0</td>\n",
              "      <td>0</td>\n",
              "      <td>0</td>\n",
              "      <td>0</td>\n",
              "      <td>0</td>\n",
              "      <td>0</td>\n",
              "      <td>0</td>\n",
              "      <td>8</td>\n",
              "      <td>0.68</td>\n",
              "      <td>0.000</td>\n",
              "    </tr>\n",
              "    <tr>\n",
              "      <th>4</th>\n",
              "      <td>0.865</td>\n",
              "      <td>25689.0</td>\n",
              "      <td>0</td>\n",
              "      <td>0</td>\n",
              "      <td>0</td>\n",
              "      <td>0</td>\n",
              "      <td>0</td>\n",
              "      <td>0</td>\n",
              "      <td>8</td>\n",
              "      <td>8.65</td>\n",
              "      <td>0.000</td>\n",
              "    </tr>\n",
              "    <tr>\n",
              "      <th>5</th>\n",
              "      <td>0.000</td>\n",
              "      <td>25689.0</td>\n",
              "      <td>1</td>\n",
              "      <td>0</td>\n",
              "      <td>0</td>\n",
              "      <td>0</td>\n",
              "      <td>0</td>\n",
              "      <td>0</td>\n",
              "      <td>8</td>\n",
              "      <td>0.00</td>\n",
              "      <td>0.011</td>\n",
              "    </tr>\n",
              "    <tr>\n",
              "      <th>6</th>\n",
              "      <td>0.701</td>\n",
              "      <td>25689.0</td>\n",
              "      <td>0</td>\n",
              "      <td>0</td>\n",
              "      <td>0</td>\n",
              "      <td>0</td>\n",
              "      <td>0</td>\n",
              "      <td>0</td>\n",
              "      <td>8</td>\n",
              "      <td>7.01</td>\n",
              "      <td>0.000</td>\n",
              "    </tr>\n",
              "    <tr>\n",
              "      <th>7</th>\n",
              "      <td>0.188</td>\n",
              "      <td>25689.0</td>\n",
              "      <td>0</td>\n",
              "      <td>0</td>\n",
              "      <td>0</td>\n",
              "      <td>0</td>\n",
              "      <td>0</td>\n",
              "      <td>0</td>\n",
              "      <td>8</td>\n",
              "      <td>1.88</td>\n",
              "      <td>0.000</td>\n",
              "    </tr>\n",
              "    <tr>\n",
              "      <th>8</th>\n",
              "      <td>0.144</td>\n",
              "      <td>25689.0</td>\n",
              "      <td>0</td>\n",
              "      <td>0</td>\n",
              "      <td>0</td>\n",
              "      <td>0</td>\n",
              "      <td>0</td>\n",
              "      <td>0</td>\n",
              "      <td>8</td>\n",
              "      <td>1.44</td>\n",
              "      <td>0.000</td>\n",
              "    </tr>\n",
              "    <tr>\n",
              "      <th>9</th>\n",
              "      <td>0.995</td>\n",
              "      <td>25689.0</td>\n",
              "      <td>0</td>\n",
              "      <td>0</td>\n",
              "      <td>0</td>\n",
              "      <td>0</td>\n",
              "      <td>0</td>\n",
              "      <td>0</td>\n",
              "      <td>8</td>\n",
              "      <td>9.95</td>\n",
              "      <td>0.000</td>\n",
              "    </tr>\n",
              "  </tbody>\n",
              "</table>\n",
              "</div>"
            ],
            "text/plain": [
              "   spam_score  domain_rank  participants_count  likes  shares  comments  \\\n",
              "0       0.000      25689.0                   1      0       0         0   \n",
              "1       0.000      25689.0                   1      0       0         0   \n",
              "2       0.000      25689.0                   1      0       0         0   \n",
              "3       0.068      25689.0                   0      0       0         0   \n",
              "4       0.865      25689.0                   0      0       0         0   \n",
              "5       0.000      25689.0                   1      0       0         0   \n",
              "6       0.701      25689.0                   0      0       0         0   \n",
              "7       0.188      25689.0                   0      0       0         0   \n",
              "8       0.144      25689.0                   0      0       0         0   \n",
              "9       0.995      25689.0                   0      0       0         0   \n",
              "\n",
              "   replies_count  type  calculated_reputation_score  calculated_spam_score  \\\n",
              "0              0     0                            8                   0.00   \n",
              "1              0     0                            8                   0.00   \n",
              "2              0     0                            8                   0.00   \n",
              "3              0     0                            8                   0.68   \n",
              "4              0     0                            8                   8.65   \n",
              "5              0     0                            8                   0.00   \n",
              "6              0     0                            8                   7.01   \n",
              "7              0     0                            8                   1.88   \n",
              "8              0     0                            8                   1.44   \n",
              "9              0     0                            8                   9.95   \n",
              "\n",
              "   calculated_social_score  \n",
              "0                    0.011  \n",
              "1                    0.011  \n",
              "2                    0.011  \n",
              "3                    0.000  \n",
              "4                    0.000  \n",
              "5                    0.011  \n",
              "6                    0.000  \n",
              "7                    0.000  \n",
              "8                    0.000  \n",
              "9                    0.000  "
            ]
          },
          "metadata": {
            "tags": []
          },
          "execution_count": 106
        }
      ]
    },
    {
      "metadata": {
        "id": "M2Z10qgBqswE",
        "colab_type": "code",
        "colab": {}
      },
      "cell_type": "code",
      "source": [
        "# download as CSV\n",
        "from google.colab import files\n",
        "\n",
        "all_data[['type', 'calculated_reputation_score', 'calculated_spam_score', 'calculated_social_score']].to_csv('factor_social_reliablity.csv')\n",
        "files.download('factor_social_reliablity.csv')"
      ],
      "execution_count": 0,
      "outputs": []
    }
  ]
}