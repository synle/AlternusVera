{
  "nbformat": 4,
  "nbformat_minor": 0,
  "metadata": {
    "colab": {
      "name": "Alterus Vera Hyunwook.ipynb",
      "version": "0.3.2",
      "provenance": [],
      "collapsed_sections": [],
      "toc_visible": true
    },
    "kernelspec": {
      "name": "python3",
      "display_name": "Python 3"
    },
    "accelerator": "GPU"
  },
  "cells": [
    {
      "metadata": {
        "id": "0wQQSqp-V7cE",
        "colab_type": "text"
      },
      "cell_type": "markdown",
      "source": [
        "This NoteBook Is Part of the Ongoing Alterus Vera Assignment"
      ]
    },
    {
      "metadata": {
        "id": "JG8gbRPAZQgj",
        "colab_type": "text"
      },
      "cell_type": "markdown",
      "source": [
        "<h1>Alternus Vera - Final Version - Hyunwook Shin</h1>\n",
        "\n",
        "November 25, 2018\n",
        "012507417"
      ]
    },
    {
      "metadata": {
        "id": "X1UkVSmlOB-j",
        "colab_type": "text"
      },
      "cell_type": "markdown",
      "source": [
        "Link to the main group notebook from previous week(s):\n",
        "\n",
        "https://colab.research.google.com/drive/1bOoY6V0ytxSigKuZ6lJntNWJJcTM_6wU#scrollTo=ebnN4ikZzQtu"
      ]
    },
    {
      "metadata": {
        "id": "kWBbJqDFhN5p",
        "colab_type": "text"
      },
      "cell_type": "markdown",
      "source": [
        "## Hyunwook Shin (James)"
      ]
    },
    {
      "metadata": {
        "id": "Q-8OIZALZUHv",
        "colab_type": "text"
      },
      "cell_type": "markdown",
      "source": [
        "## 1 Introduction\n",
        "\n",
        "I will be focusing on the two main features, namely **event coverage** (initially recency) and **political spectrum**,  which are factors in determining if the news is genuine or fake news, as shown below:\n",
        "\n",
        "| Factor | Explanation|\n",
        "| -- | -- |\n",
        "| Coverage of the latent event from outside sources  | Level of coverage regarding the latent event or topic  | \n",
        "| Political Bias | number from 0 to 10 where 0 is central/neutral and 10 is partisan (left/right) |\n",
        "\n",
        "The event coverage is the factor I put my most personal effort in, covering all areas of distillation (preprocessing, LDA, sentiment analysis) and generating resultant csv files for generating polynomial equation. Politicial bias factor was also researched as part of bonus/extra study.\n"
      ]
    },
    {
      "metadata": {
        "id": "kt-lad4IyrUd",
        "colab_type": "text"
      },
      "cell_type": "markdown",
      "source": [
        "High level overview with diagrams are available under the following lin:\n",
        "\n",
        "https://drive.google.com/file/d/1Pys9cj0_NlZdIH3Jwz6lA4FPAPujx54B/view?usp=sharing\n"
      ]
    },
    {
      "metadata": {
        "id": "4Wgdn_o7Ac7M",
        "colab_type": "text"
      },
      "cell_type": "markdown",
      "source": [
        "### 1.1 Contribution - Team\n",
        "\n",
        "- Sy Le (006088940) : data import and wrangling, tokenization, remove stopwords, remove stemmings\n",
        "- Mojdeh Keykhanzadeh(008129589) : remove punctuation , apply ngrams,researched about IBM Faireness\n",
        "- **Hyunwook Shin (012507417) : Coverage Score and Political Bias/Spectrum Analysis, Data enrichment:\n",
        "  all news dataset (50K+ articles), political messages dataset (LDA, TF-IDF, MultinomialNB)**\n",
        "- Lin Cheng (012484459) : Use TF-IDF Vectorizer + SVD to produce a matrix, and apply Logistic Regression on it\n",
        "- Yu Xu (012502048): Explored ways to gather topics from the dataset. Explored tf-idf ranking. Explored pipeline + GridSearch for the best n_component of LDA for logistic regression"
      ]
    },
    {
      "metadata": {
        "id": "NOKUHCJAFRDb",
        "colab_type": "text"
      },
      "cell_type": "markdown",
      "source": [
        "### 1.2 Contribution - Notebook\n",
        "\n",
        "The following notebook is prepared by Hyunwook Shin. "
      ]
    },
    {
      "metadata": {
        "id": "0jam6zuoEmXz",
        "colab_type": "text"
      },
      "cell_type": "markdown",
      "source": [
        "### 1.3 Motivations\n",
        "\n",
        "The main motivation behind **event coverage** is the hypothesis that there is a positive corelation between outside coverage of the latents event depicted in the article and the creditbility and ultimately truthfulness of the article as a whole.  In other words, the more news sources (outside the article) talk about the same event, the more credible the article is as a whole. Some fake news are designed to confuse audiences and make them lose trust in reliable news (Shu et al, 2017). \n",
        "\n",
        "We as readers do this from day to day when we read sensational or eye-catching articles. When we read an article about a topic we think is \"too good to be true\", we cross-check with other news websites under Google News or Twitter to read up on the event or topic. This is backed by the idea that there are fake users and bot account purposely desigend to spread false stories (Shu et al., 2017).  **Through tips and advice on slack, just because there are ample number of coverage on some topic, it does not necessarily mean that the particular article in question is a reliable (non-fake news).** (Arsanjani, 2018). This factor should be used in conjunction with other factors such as \"bias\", \"sensationalism\", and \"social media activites\" to further reduce the impurity of the classifications. We can treat this factor as an intermediary step to be factored early in the process to remove True Positives.\n",
        "\n",
        "This leads to a next interesting feature to study. The motivation behind the **political bias** is the hypothesis that the articles that are neutral (or centrist) have higher probability of being truthful compare to articles that are to the far ends of the spectrums (either right-wing or left-wing). Compared to event coverage, I believe political bias as a factor has a greater impact on determining whether the article is fake or not.\n",
        "\n",
        "<img src=\"https://images.pexels.com/photos/1327218/pexels-photo-1327218.jpeg?cs=srgb&dl=alone-casual-couch-1327218.jpg&fm=jpg\" width=200px>\n",
        "\n"
      ]
    },
    {
      "metadata": {
        "id": "psDhy-9WFWQr",
        "colab_type": "text"
      },
      "cell_type": "markdown",
      "source": [
        "### 1.4 Definitions\n",
        "\n",
        "We shall define the  following terms as follows:\n",
        "\n",
        "* **coverage**  - number of news from media outlet that covered the same event or latent topic depicted in the article, within a fixed time window. There is a fixed window of time 1 month (coverage 30) and 2 months (coverage 60) before and after the article was published.\n",
        "\n",
        "* **political bias** - is a rubric indicating a range from 0 to 3 where 0 is centrist affiliation and 3 is left-most or right-most affiliation. Alternative model would be -10 indicating the left-most affiliation and 10 being the right-most affiliation. We simply rectify this model and only work in the range (0 to 10) with 10 being most politically biased (partisan).\n",
        "\n",
        "| 0 | 1 | 2 | 3 |\n",
        "| -- | -- | -- | -- |\n",
        "| Centrist/Neural | Slightly Partisan | Partisan | Strongly Partisan |\n",
        "\n",
        "\n",
        "\n"
      ]
    },
    {
      "metadata": {
        "id": "OIM_ME3FGXtE",
        "colab_type": "text"
      },
      "cell_type": "markdown",
      "source": [
        "### 1.5  Scope\n",
        "\n",
        "To summarize the document will focus on:\n",
        "\n",
        "1. Introduction\n",
        "2. Methods and Approaches\n",
        "3. Importing Data including Data Enrichment\n",
        "4. Other Preliminary Requirements\n",
        "5. Distillation Function Code Reuse and Refactored Code\n",
        "6. Topic Modeling and LDA Analysis\n",
        "7. New Coverage Factor using Word2Vec and Random Forrest Classifier\n",
        "8. Political Spectrum using TF-IDF and Classifiers"
      ]
    },
    {
      "metadata": {
        "id": "_rvymjHO_TO-",
        "colab_type": "text"
      },
      "cell_type": "markdown",
      "source": [
        "### 1.6 Estimated Run time (GPU)\n",
        "\n",
        "- Sections  1 ~ 7 : 40 minutes\n",
        "- Secttion 8: 10 ~ 20 minutes\n",
        "- Section 9: ~ 30 minutes"
      ]
    },
    {
      "metadata": {
        "id": "2yFjOimJFYA0",
        "colab_type": "text"
      },
      "cell_type": "markdown",
      "source": [
        "## 2 Method\n",
        "  \n",
        " After the necessary distillation , the goal is to create approximate scores for recency and political spectrum. \n",
        " \n",
        "\n"
      ]
    },
    {
      "metadata": {
        "id": "chJbzhJcFciq",
        "colab_type": "text"
      },
      "cell_type": "markdown",
      "source": [
        " ### 2.1 News Coverage\n",
        " * **Coverage** We first use topic modeling to find the key latent topics. Then we use a separate dataset called \"All the news\" dataset to see if there are other  articles covering a similar event. It is important to note that we are *not* cross-checking factual claims made in the article, but rather checking to see if a related and latent topic can be found in other news sources. If there are no external coverage for the event/topic, chances are that the article in question is likely a fake news. However, just because there are sufficient coverage during the time frame, it does not necessarily mean that the news is completely reliable.\n",
        "  \n"
      ]
    },
    {
      "metadata": {
        "id": "wLwmYuWaFefL",
        "colab_type": "text"
      },
      "cell_type": "markdown",
      "source": [
        "### 2.2 Political Spectrum\n",
        "\n",
        "* **Political spectrum**  Use enrichment dataset. Downlaod a dataset that maps texts to political bias. It is important to note that the spectrum ranges from neutral to partisan (not democratic to republican) as political views can be multipolar comprised of more than two views on the subject. Neutral view would be an objective and fair assessment of the subject discussed. A partisan view is a view that is backed by political ideology, agenda, or combination of both.\n"
      ]
    },
    {
      "metadata": {
        "id": "YSJ18x01FgFv",
        "colab_type": "text"
      },
      "cell_type": "markdown",
      "source": [
        "### 2.3 Alternative Methods Tried\n",
        "\n",
        "I have explored NewsAPI which provdes a limited access to its internal databases. NewsAPI in particular allows you to provide a search keywords, and it gives you the relevant news articles related to that keywords. I have created an account with NewsAPI, but soon realized based on the calulations, the rate limiting policy of the API would not allow my ML project to complete in a reasonable time. Thefore, instead of using an API, I decided to download a new dataset from Kaggle (See Section 3.3)\n",
        "\n",
        "* NewsAPI https://newsapi.org/\n",
        "* Google Trends API"
      ]
    },
    {
      "metadata": {
        "id": "fOlkr5a4XBUY",
        "colab_type": "text"
      },
      "cell_type": "markdown",
      "source": [
        "## 3 Data Preprataions\n"
      ]
    },
    {
      "metadata": {
        "id": "vpgjGVAEFmk7",
        "colab_type": "text"
      },
      "cell_type": "markdown",
      "source": [
        "### 3.1 Main Dataset\n",
        "\n",
        "For the purpose of this study, we will focus on the Kaggle's Liar Dataset (Risdal, 2016) The main benefit of Kaggle's Liar Dataset is the text entry that is included with the headline.\n",
        "\n",
        "https://github.com/synle/machine-learning-sample-dataset/raw/master/liar_dataset/kaggle"
      ]
    },
    {
      "metadata": {
        "id": "CYIT0KZXFpSl",
        "colab_type": "text"
      },
      "cell_type": "markdown",
      "source": [
        "### 3.2 Code For Downloading and Distillation\n",
        "\n",
        "The code for downloading dataset and distillation. written by other team members from the last week, are borrowed, and refactored for the purposes of this week's assignment. While same distillation functions can be applied for most features, it is best to customize it and tailor it to the needs of the two features covered in this portion of the assignment.\n",
        "\n",
        "\n"
      ]
    },
    {
      "metadata": {
        "id": "BQ937__JFq8k",
        "colab_type": "text"
      },
      "cell_type": "markdown",
      "source": [
        "### 3.3 Data Enrichment\n",
        "\n",
        "We have use two main datasets to be used for data enrichment:\n",
        "\n",
        "<b>Dataset 1</b> - All The News (Thompson, 2017)\n",
        "- Original: https://www.kaggle.com/snapcrack/all-the-news\n",
        "- Copy: https://github.com/h7shin/all_news_dataset_kaggle\n",
        "\n",
        "The above data is useful for analyzing coverage report of non-fake news articles\n",
        "curated from mainstream news media sites.\n",
        "\n",
        "<b>Dataset 2</b> - Political Social Media Posts (Eight, 2016).\n",
        "- Original: https://www.kaggle.com/crowdflower/political-social-media-posts\n",
        "- Copy: https://github.com/h7shin/political_social_media\n",
        "\n",
        "The above data is useful to identify bag of words translated to the\n",
        "political spectrum."
      ]
    },
    {
      "metadata": {
        "id": "uKTkSKmvt4pZ",
        "colab_type": "code",
        "outputId": "6170ba5e-c867-45c2-bd48-787a7dd51be4",
        "colab": {
          "base_uri": "https://localhost:8080/",
          "height": 34
        }
      },
      "cell_type": "code",
      "source": [
        "# For caculating approximate time to process notebook (IGNORE)\n",
        "import datetime\n",
        "datetime.datetime.now()"
      ],
      "execution_count": 0,
      "outputs": [
        {
          "output_type": "execute_result",
          "data": {
            "text/plain": [
              "datetime.datetime(2018, 12, 9, 19, 26, 32, 992748)"
            ]
          },
          "metadata": {
            "tags": []
          },
          "execution_count": 65
        }
      ]
    },
    {
      "metadata": {
        "id": "gXvjp972fR4U",
        "colab_type": "text"
      },
      "cell_type": "markdown",
      "source": [
        "## 4 Preliminary Requirements\n",
        "\n",
        "We will leverage some algorithms that have been created by our group members (Sy Le and others) from last week's homework, especially with regards to the distillation. The implementation are refactored and tailored to the needs of this notebook."
      ]
    },
    {
      "metadata": {
        "id": "GbtKyhjPZPJn",
        "colab_type": "code",
        "outputId": "4e938815-5ee5-489c-e818-5eb5099d8a3f",
        "colab": {
          "base_uri": "https://localhost:8080/",
          "height": 84
        }
      },
      "cell_type": "code",
      "source": [
        "from nltk.corpus import stopwords\n",
        "from string import punctuation\n",
        "\n",
        "import pandas as pd\n",
        "import nltk\n",
        "import io\n",
        "import requests\n",
        "import re\n",
        "\n",
        "# download nltk stopwords\n",
        "nltk.download('stopwords')\n",
        "nltk.download('wordnet')\n",
        "\n",
        "def get_parsed_data(url, sep='\\t', header=None ):\n",
        "  return pd.read_csv(io.StringIO(requests.get(url).content.decode('utf-8')), sep=sep, header=header )\n",
        "\n",
        "# Download and parse the dataset... Let us first work with 100 articles\n",
        "KAGGLE_DATASET = 'https://github.com/synle/machine-learning-sample-dataset/raw/master/liar_dataset/kaggle'\n",
        "data_kaggle = get_parsed_data('%s/kaggle-fake.csv'% KAGGLE_DATASET, ',' , 'infer' )[:1000]\n"
      ],
      "execution_count": 0,
      "outputs": [
        {
          "output_type": "stream",
          "text": [
            "[nltk_data] Downloading package stopwords to /root/nltk_data...\n",
            "[nltk_data]   Package stopwords is already up-to-date!\n",
            "[nltk_data] Downloading package wordnet to /root/nltk_data...\n",
            "[nltk_data]   Package wordnet is already up-to-date!\n"
          ],
          "name": "stdout"
        }
      ]
    },
    {
      "metadata": {
        "id": "b71vANUdD3Wu",
        "colab_type": "code",
        "outputId": "e50dc397-3ac9-4d07-b015-542c4cf157e9",
        "colab": {
          "base_uri": "https://localhost:8080/",
          "height": 217
        }
      },
      "cell_type": "code",
      "source": [
        "data_kaggle.head(1)"
      ],
      "execution_count": 0,
      "outputs": [
        {
          "output_type": "execute_result",
          "data": {
            "text/html": [
              "<div>\n",
              "<style scoped>\n",
              "    .dataframe tbody tr th:only-of-type {\n",
              "        vertical-align: middle;\n",
              "    }\n",
              "\n",
              "    .dataframe tbody tr th {\n",
              "        vertical-align: top;\n",
              "    }\n",
              "\n",
              "    .dataframe thead th {\n",
              "        text-align: right;\n",
              "    }\n",
              "</style>\n",
              "<table border=\"1\" class=\"dataframe\">\n",
              "  <thead>\n",
              "    <tr style=\"text-align: right;\">\n",
              "      <th></th>\n",
              "      <th>uuid</th>\n",
              "      <th>ord_in_thread</th>\n",
              "      <th>author</th>\n",
              "      <th>published</th>\n",
              "      <th>title</th>\n",
              "      <th>text</th>\n",
              "      <th>language</th>\n",
              "      <th>crawled</th>\n",
              "      <th>site_url</th>\n",
              "      <th>country</th>\n",
              "      <th>domain_rank</th>\n",
              "      <th>thread_title</th>\n",
              "      <th>spam_score</th>\n",
              "      <th>main_img_url</th>\n",
              "      <th>replies_count</th>\n",
              "      <th>participants_count</th>\n",
              "      <th>likes</th>\n",
              "      <th>comments</th>\n",
              "      <th>shares</th>\n",
              "      <th>type</th>\n",
              "    </tr>\n",
              "  </thead>\n",
              "  <tbody>\n",
              "    <tr>\n",
              "      <th>0</th>\n",
              "      <td>6a175f46bcd24d39b3e962ad0f29936721db70db</td>\n",
              "      <td>0</td>\n",
              "      <td>Barracuda Brigade</td>\n",
              "      <td>2016-10-26T21:41:00.000+03:00</td>\n",
              "      <td>Muslims BUSTED: They Stole Millions In Gov’t B...</td>\n",
              "      <td>Print They should pay all the back all the mon...</td>\n",
              "      <td>english</td>\n",
              "      <td>2016-10-27T01:49:27.168+03:00</td>\n",
              "      <td>100percentfedup.com</td>\n",
              "      <td>US</td>\n",
              "      <td>25689.0</td>\n",
              "      <td>Muslims BUSTED: They Stole Millions In Gov’t B...</td>\n",
              "      <td>0.0</td>\n",
              "      <td>http://bb4sp.com/wp-content/uploads/2016/10/Fu...</td>\n",
              "      <td>0</td>\n",
              "      <td>1</td>\n",
              "      <td>0</td>\n",
              "      <td>0</td>\n",
              "      <td>0</td>\n",
              "      <td>bias</td>\n",
              "    </tr>\n",
              "  </tbody>\n",
              "</table>\n",
              "</div>"
            ],
            "text/plain": [
              "                                       uuid  ord_in_thread             author  \\\n",
              "0  6a175f46bcd24d39b3e962ad0f29936721db70db              0  Barracuda Brigade   \n",
              "\n",
              "                       published  \\\n",
              "0  2016-10-26T21:41:00.000+03:00   \n",
              "\n",
              "                                               title  \\\n",
              "0  Muslims BUSTED: They Stole Millions In Gov’t B...   \n",
              "\n",
              "                                                text language  \\\n",
              "0  Print They should pay all the back all the mon...  english   \n",
              "\n",
              "                         crawled             site_url country  domain_rank  \\\n",
              "0  2016-10-27T01:49:27.168+03:00  100percentfedup.com      US      25689.0   \n",
              "\n",
              "                                        thread_title  spam_score  \\\n",
              "0  Muslims BUSTED: They Stole Millions In Gov’t B...         0.0   \n",
              "\n",
              "                                        main_img_url  replies_count  \\\n",
              "0  http://bb4sp.com/wp-content/uploads/2016/10/Fu...              0   \n",
              "\n",
              "   participants_count  likes  comments  shares  type  \n",
              "0                   1      0         0       0  bias  "
            ]
          },
          "metadata": {
            "tags": []
          },
          "execution_count": 67
        }
      ]
    },
    {
      "metadata": {
        "id": "Bl8tguc6Fz0T",
        "colab_type": "text"
      },
      "cell_type": "markdown",
      "source": [
        "## 5 Distillation"
      ]
    },
    {
      "metadata": {
        "id": "m0aPcu4lD26_",
        "colab_type": "text"
      },
      "cell_type": "markdown",
      "source": [
        "### 5.1 Tokenization\n",
        "\n",
        "As part of the distillation, we tokenize the headline and the body of the articles, by the following methods. First the words are split based on the white space. We also use this step to combine the title with the body of the article.\n",
        "\n",
        "\n",
        "\n"
      ]
    },
    {
      "metadata": {
        "id": "yFMX9n-AvUdB",
        "colab_type": "code",
        "outputId": "57a0629b-88bc-4b80-bbb6-ea6ca8d8b673",
        "colab": {
          "base_uri": "https://localhost:8080/",
          "height": 245
        }
      },
      "cell_type": "code",
      "source": [
        "data_kaggle['text_distilled'] = data_kaggle['title'].apply(lambda x : re.split('\\W+', str(x).lower())) +\\\n",
        "   data_kaggle['text'].apply(lambda x : re.split('\\W+', str(x).lower()))\n",
        "data_kaggle.head(1)"
      ],
      "execution_count": 0,
      "outputs": [
        {
          "output_type": "execute_result",
          "data": {
            "text/html": [
              "<div>\n",
              "<style scoped>\n",
              "    .dataframe tbody tr th:only-of-type {\n",
              "        vertical-align: middle;\n",
              "    }\n",
              "\n",
              "    .dataframe tbody tr th {\n",
              "        vertical-align: top;\n",
              "    }\n",
              "\n",
              "    .dataframe thead th {\n",
              "        text-align: right;\n",
              "    }\n",
              "</style>\n",
              "<table border=\"1\" class=\"dataframe\">\n",
              "  <thead>\n",
              "    <tr style=\"text-align: right;\">\n",
              "      <th></th>\n",
              "      <th>uuid</th>\n",
              "      <th>ord_in_thread</th>\n",
              "      <th>author</th>\n",
              "      <th>published</th>\n",
              "      <th>title</th>\n",
              "      <th>text</th>\n",
              "      <th>language</th>\n",
              "      <th>crawled</th>\n",
              "      <th>site_url</th>\n",
              "      <th>country</th>\n",
              "      <th>...</th>\n",
              "      <th>thread_title</th>\n",
              "      <th>spam_score</th>\n",
              "      <th>main_img_url</th>\n",
              "      <th>replies_count</th>\n",
              "      <th>participants_count</th>\n",
              "      <th>likes</th>\n",
              "      <th>comments</th>\n",
              "      <th>shares</th>\n",
              "      <th>type</th>\n",
              "      <th>text_distilled</th>\n",
              "    </tr>\n",
              "  </thead>\n",
              "  <tbody>\n",
              "    <tr>\n",
              "      <th>0</th>\n",
              "      <td>6a175f46bcd24d39b3e962ad0f29936721db70db</td>\n",
              "      <td>0</td>\n",
              "      <td>Barracuda Brigade</td>\n",
              "      <td>2016-10-26T21:41:00.000+03:00</td>\n",
              "      <td>Muslims BUSTED: They Stole Millions In Gov’t B...</td>\n",
              "      <td>Print They should pay all the back all the mon...</td>\n",
              "      <td>english</td>\n",
              "      <td>2016-10-27T01:49:27.168+03:00</td>\n",
              "      <td>100percentfedup.com</td>\n",
              "      <td>US</td>\n",
              "      <td>...</td>\n",
              "      <td>Muslims BUSTED: They Stole Millions In Gov’t B...</td>\n",
              "      <td>0.0</td>\n",
              "      <td>http://bb4sp.com/wp-content/uploads/2016/10/Fu...</td>\n",
              "      <td>0</td>\n",
              "      <td>1</td>\n",
              "      <td>0</td>\n",
              "      <td>0</td>\n",
              "      <td>0</td>\n",
              "      <td>bias</td>\n",
              "      <td>[muslims, busted, they, stole, millions, in, g...</td>\n",
              "    </tr>\n",
              "  </tbody>\n",
              "</table>\n",
              "<p>1 rows × 21 columns</p>\n",
              "</div>"
            ],
            "text/plain": [
              "                                       uuid  ord_in_thread             author  \\\n",
              "0  6a175f46bcd24d39b3e962ad0f29936721db70db              0  Barracuda Brigade   \n",
              "\n",
              "                       published  \\\n",
              "0  2016-10-26T21:41:00.000+03:00   \n",
              "\n",
              "                                               title  \\\n",
              "0  Muslims BUSTED: They Stole Millions In Gov’t B...   \n",
              "\n",
              "                                                text language  \\\n",
              "0  Print They should pay all the back all the mon...  english   \n",
              "\n",
              "                         crawled             site_url country  \\\n",
              "0  2016-10-27T01:49:27.168+03:00  100percentfedup.com      US   \n",
              "\n",
              "                         ...                          \\\n",
              "0                        ...                           \n",
              "\n",
              "                                        thread_title spam_score  \\\n",
              "0  Muslims BUSTED: They Stole Millions In Gov’t B...        0.0   \n",
              "\n",
              "                                        main_img_url replies_count  \\\n",
              "0  http://bb4sp.com/wp-content/uploads/2016/10/Fu...             0   \n",
              "\n",
              "   participants_count  likes  comments  shares  type  \\\n",
              "0                   1      0         0       0  bias   \n",
              "\n",
              "                                      text_distilled  \n",
              "0  [muslims, busted, they, stole, millions, in, g...  \n",
              "\n",
              "[1 rows x 21 columns]"
            ]
          },
          "metadata": {
            "tags": []
          },
          "execution_count": 68
        }
      ]
    },
    {
      "metadata": {
        "id": "AwTbLXScyNPI",
        "colab_type": "code",
        "outputId": "0758c92f-7117-4ebc-ce21-6269413ae953",
        "colab": {
          "base_uri": "https://localhost:8080/",
          "height": 439
        }
      },
      "cell_type": "code",
      "source": [
        "data_kaggle.text_distilled[0][:25]"
      ],
      "execution_count": 0,
      "outputs": [
        {
          "output_type": "execute_result",
          "data": {
            "text/plain": [
              "['muslims',\n",
              " 'busted',\n",
              " 'they',\n",
              " 'stole',\n",
              " 'millions',\n",
              " 'in',\n",
              " 'gov',\n",
              " 't',\n",
              " 'benefits',\n",
              " 'print',\n",
              " 'they',\n",
              " 'should',\n",
              " 'pay',\n",
              " 'all',\n",
              " 'the',\n",
              " 'back',\n",
              " 'all',\n",
              " 'the',\n",
              " 'money',\n",
              " 'plus',\n",
              " 'interest',\n",
              " 'the',\n",
              " 'entire',\n",
              " 'family',\n",
              " 'and']"
            ]
          },
          "metadata": {
            "tags": []
          },
          "execution_count": 69
        }
      ]
    },
    {
      "metadata": {
        "id": "K9zg6DzVyV1Q",
        "colab_type": "text"
      },
      "cell_type": "markdown",
      "source": [
        "### 5.2 Lemmatization\n",
        "  \n",
        "First, the raw words must be converted to root forms.  The words are converted to their root stems based on the following using lemmaitization. Stemming using nltk.PorterStemmer was used previously, but eventually dropped due to its method of dropping suffixes without correction to the root stem. For example, stemming resulted in non-existent words such as 'plu',  'interest',  'entir',  'famili',  'everyon'."
      ]
    },
    {
      "metadata": {
        "id": "Qs9YyZ8WygUo",
        "colab_type": "code",
        "outputId": "a610c941-f57c-410b-8991-bb4e7a6a3903",
        "colab": {
          "base_uri": "https://localhost:8080/",
          "height": 270
        }
      },
      "cell_type": "code",
      "source": [
        "def lemmatize(tokenized_words):\n",
        "  text = [nltk.WordNetLemmatizer().lemmatize(word) for word in tokenized_words]\n",
        "  return text\n",
        "\n",
        "# Commented out per rationale above\n",
        "#def stemming(tokenized_words):\n",
        "#  text = [nltk.PorterStemmer().stem(word) for word in tokenized_words]\n",
        "#  return text\n",
        "\n",
        "data_kaggle['text_distilled_lemma'] = data_kaggle['text_distilled'].apply(lemmatize)\n",
        "data_kaggle.text_distilled[0][:15]"
      ],
      "execution_count": 0,
      "outputs": [
        {
          "output_type": "execute_result",
          "data": {
            "text/plain": [
              "['muslims',\n",
              " 'busted',\n",
              " 'they',\n",
              " 'stole',\n",
              " 'millions',\n",
              " 'in',\n",
              " 'gov',\n",
              " 't',\n",
              " 'benefits',\n",
              " 'print',\n",
              " 'they',\n",
              " 'should',\n",
              " 'pay',\n",
              " 'all',\n",
              " 'the']"
            ]
          },
          "metadata": {
            "tags": []
          },
          "execution_count": 70
        }
      ]
    },
    {
      "metadata": {
        "id": "CRnq7Orw5sSW",
        "colab_type": "text"
      },
      "cell_type": "markdown",
      "source": [
        "### 5.3 Removing Stop words\n",
        "\n",
        "Let us remove stop words, which are absolutely critical in determining keywords indicative of timed event."
      ]
    },
    {
      "metadata": {
        "id": "7axUBcsp5yXD",
        "colab_type": "code",
        "outputId": "fdbabe13-66fa-4fb2-ead6-3e424bb032ad",
        "colab": {
          "base_uri": "https://localhost:8080/",
          "height": 270
        }
      },
      "cell_type": "code",
      "source": [
        "english_stopwords = set(stopwords.words('english') + list(punctuation) + [''])\n",
        "\n",
        "def remove_stopwords(tokenized_words):\n",
        "  text = [word for word in tokenized_words if word not in english_stopwords]\n",
        "  return text\n",
        "\n",
        "data_kaggle['text_distilled'] = data_kaggle['text_distilled'].apply(remove_stopwords)\n",
        "data_kaggle.text_distilled[0][:15]"
      ],
      "execution_count": 0,
      "outputs": [
        {
          "output_type": "execute_result",
          "data": {
            "text/plain": [
              "['muslims',\n",
              " 'busted',\n",
              " 'stole',\n",
              " 'millions',\n",
              " 'gov',\n",
              " 'benefits',\n",
              " 'print',\n",
              " 'pay',\n",
              " 'back',\n",
              " 'money',\n",
              " 'plus',\n",
              " 'interest',\n",
              " 'entire',\n",
              " 'family',\n",
              " 'everyone']"
            ]
          },
          "metadata": {
            "tags": []
          },
          "execution_count": 71
        }
      ]
    },
    {
      "metadata": {
        "id": "ejCglovYHwyb",
        "colab_type": "text"
      },
      "cell_type": "markdown",
      "source": [
        "### 5.4 Custom Filtering\n",
        "\n",
        "One or two-letter words from the tokenized words are also removed to further cleanse the raw text. First, two-letter words are chosen one by one (there are roughly 100 to 150 words, plus some common country codes). Each word, is examined whether it is worth keeping. Of course, there are more two-letter words than the whitelist shown below, but many of them (e.g. so, am, it) are already eliminated using stop words. If we build a dictionary of all these non-trivial words that are two-letters long, this will help improve the accuracy of the model."
      ]
    },
    {
      "metadata": {
        "id": "Z9ujoC42HwGM",
        "colab_type": "code",
        "colab": {}
      },
      "cell_type": "code",
      "source": [
        "whitelist = set(['ai', 'ax', 'ca', 'eu', 'go', 'io', 'la', 'ox', 'us', 'uk', \n",
        "                 'al', 'ak', 'az', 'ar', 'ca', 'co', 'ct', 'de', 'fl', 'ga', 'hi', \n",
        "                 'id', 'il', 'in', 'ia', 'ks', 'ky', 'la', 'me', 'md', 'ma', 'mi',\n",
        "                 'mn', 'ms', 'mo', 'mt', 'ne', 'nv', 'nh', 'nj', 'nm', 'ny',\n",
        "                 'nc', 'nd', 'oh', 'ok', 'or', 'pa', 'ri', 'sc', 'sd', 'tn',\n",
        "                 'tx', 'ut', 'vt', 'va', 'wa', 'wv', 'wi', 'wy' ])\n",
        "def remove_too_short(tokenized_words):\n",
        "  text = [word for word in tokenized_words if (len(word) >= 3 or word not in whitelist) ]\n",
        "  return text"
      ],
      "execution_count": 0,
      "outputs": []
    },
    {
      "metadata": {
        "id": "iG4ozbF3I_gb",
        "colab_type": "code",
        "outputId": "42c9916f-0d92-46fa-f999-3505646f2a2c",
        "colab": {
          "base_uri": "https://localhost:8080/",
          "height": 270
        }
      },
      "cell_type": "code",
      "source": [
        "data_kaggle['text_distilled'] = data_kaggle['text_distilled'].apply(remove_too_short)\n",
        "data_kaggle.text_distilled[0][:15]"
      ],
      "execution_count": 0,
      "outputs": [
        {
          "output_type": "execute_result",
          "data": {
            "text/plain": [
              "['muslims',\n",
              " 'busted',\n",
              " 'stole',\n",
              " 'millions',\n",
              " 'gov',\n",
              " 'benefits',\n",
              " 'print',\n",
              " 'pay',\n",
              " 'back',\n",
              " 'money',\n",
              " 'plus',\n",
              " 'interest',\n",
              " 'entire',\n",
              " 'family',\n",
              " 'everyone']"
            ]
          },
          "metadata": {
            "tags": []
          },
          "execution_count": 73
        }
      ]
    },
    {
      "metadata": {
        "id": "VJZExfZ4F5DY",
        "colab_type": "text"
      },
      "cell_type": "markdown",
      "source": [
        "## 6 Topic Modeling"
      ]
    },
    {
      "metadata": {
        "id": "DGmEhyrkC0e5",
        "colab_type": "text"
      },
      "cell_type": "markdown",
      "source": [
        "### 6.1 LDA Analysis\n",
        "Relevant Assignment Requirement 2(f)"
      ]
    },
    {
      "metadata": {
        "id": "0IUeTqEPEWLz",
        "colab_type": "text"
      },
      "cell_type": "markdown",
      "source": [
        "We will use topic modelling (LDA) to identify the key topics, \n",
        "https://towardsdatascience.com/topic-modelling-in-python-with-nltk-and-gensim-4ef03213cd21\n"
      ]
    },
    {
      "metadata": {
        "id": "aMZcdhA7E0Rv",
        "colab_type": "code",
        "outputId": "2540f455-fb3e-437c-94f6-94cfe544d73b",
        "colab": {
          "base_uri": "https://localhost:8080/",
          "height": 340
        }
      },
      "cell_type": "code",
      "source": [
        "! pip install gensim"
      ],
      "execution_count": 0,
      "outputs": [
        {
          "output_type": "stream",
          "text": [
            "Requirement already satisfied: gensim in /usr/local/lib/python3.6/dist-packages (3.6.0)\n",
            "Requirement already satisfied: six>=1.5.0 in /usr/local/lib/python3.6/dist-packages (from gensim) (1.11.0)\n",
            "Requirement already satisfied: numpy>=1.11.3 in /usr/local/lib/python3.6/dist-packages (from gensim) (1.14.6)\n",
            "Requirement already satisfied: smart-open>=1.2.1 in /usr/local/lib/python3.6/dist-packages (from gensim) (1.7.1)\n",
            "Requirement already satisfied: scipy>=0.18.1 in /usr/local/lib/python3.6/dist-packages (from gensim) (1.1.0)\n",
            "Requirement already satisfied: boto3 in /usr/local/lib/python3.6/dist-packages (from smart-open>=1.2.1->gensim) (1.9.62)\n",
            "Requirement already satisfied: requests in /usr/local/lib/python3.6/dist-packages (from smart-open>=1.2.1->gensim) (2.18.4)\n",
            "Requirement already satisfied: bz2file in /usr/local/lib/python3.6/dist-packages (from smart-open>=1.2.1->gensim) (0.98)\n",
            "Requirement already satisfied: boto>=2.32 in /usr/local/lib/python3.6/dist-packages (from smart-open>=1.2.1->gensim) (2.49.0)\n",
            "Requirement already satisfied: botocore<1.13.0,>=1.12.62 in /usr/local/lib/python3.6/dist-packages (from boto3->smart-open>=1.2.1->gensim) (1.12.62)\n",
            "Requirement already satisfied: s3transfer<0.2.0,>=0.1.10 in /usr/local/lib/python3.6/dist-packages (from boto3->smart-open>=1.2.1->gensim) (0.1.13)\n",
            "Requirement already satisfied: jmespath<1.0.0,>=0.7.1 in /usr/local/lib/python3.6/dist-packages (from boto3->smart-open>=1.2.1->gensim) (0.9.3)\n",
            "Requirement already satisfied: idna<2.7,>=2.5 in /usr/local/lib/python3.6/dist-packages (from requests->smart-open>=1.2.1->gensim) (2.6)\n",
            "Requirement already satisfied: urllib3<1.23,>=1.21.1 in /usr/local/lib/python3.6/dist-packages (from requests->smart-open>=1.2.1->gensim) (1.22)\n",
            "Requirement already satisfied: chardet<3.1.0,>=3.0.2 in /usr/local/lib/python3.6/dist-packages (from requests->smart-open>=1.2.1->gensim) (3.0.4)\n",
            "Requirement already satisfied: certifi>=2017.4.17 in /usr/local/lib/python3.6/dist-packages (from requests->smart-open>=1.2.1->gensim) (2018.11.29)\n",
            "Requirement already satisfied: docutils>=0.10 in /usr/local/lib/python3.6/dist-packages (from botocore<1.13.0,>=1.12.62->boto3->smart-open>=1.2.1->gensim) (0.14)\n",
            "Requirement already satisfied: python-dateutil<3.0.0,>=2.1; python_version >= \"2.7\" in /usr/local/lib/python3.6/dist-packages (from botocore<1.13.0,>=1.12.62->boto3->smart-open>=1.2.1->gensim) (2.5.3)\n"
          ],
          "name": "stdout"
        }
      ]
    },
    {
      "metadata": {
        "id": "M7Fdvch1EjQ4",
        "colab_type": "code",
        "colab": {}
      },
      "cell_type": "code",
      "source": [
        "from gensim.models.ldamodel import LdaModel\n",
        "from gensim.corpora import Dictionary\n",
        "\n",
        "def topics(tokenized_words):\n",
        "    d = Dictionary([tokenized_words])\n",
        "    c = [d.doc2bow(tokenized_words)]\n",
        "    m = LdaModel(c, num_topics=1, id2word=d)\n",
        "    return list(m.print_topics(num_words=2))\n",
        "  \n",
        "data_kaggle['topics'] = data_kaggle['text_distilled'].apply(topics)\n"
      ],
      "execution_count": 0,
      "outputs": []
    },
    {
      "metadata": {
        "id": "U2_6vpztHdgn",
        "colab_type": "text"
      },
      "cell_type": "markdown",
      "source": [
        "Let us analyze the topics of some sample articles:"
      ]
    },
    {
      "metadata": {
        "id": "bYd-SH8nHhOI",
        "colab_type": "code",
        "outputId": "1643c8ed-79df-423f-c783-a15d33898e24",
        "colab": {
          "base_uri": "https://localhost:8080/",
          "height": 50
        }
      },
      "cell_type": "code",
      "source": [
        "data_kaggle.title[1],data_kaggle.topics[1]"
      ],
      "execution_count": 0,
      "outputs": [
        {
          "output_type": "execute_result",
          "data": {
            "text/plain": [
              "('Re: Why Did Attorney General Loretta Lynch Plead The Fifth?',\n",
              " [(0, '0.033*\"lynch\" + 0.020*\"attorney\"')])"
            ]
          },
          "metadata": {
            "tags": []
          },
          "execution_count": 76
        }
      ]
    },
    {
      "metadata": {
        "id": "pbXOFnFFHlMX",
        "colab_type": "code",
        "outputId": "34cbbbac-0aa0-462e-d605-cab125a8abc1",
        "colab": {
          "base_uri": "https://localhost:8080/",
          "height": 50
        }
      },
      "cell_type": "code",
      "source": [
        "data_kaggle.title[2],data_kaggle.topics[3]"
      ],
      "execution_count": 0,
      "outputs": [
        {
          "output_type": "execute_result",
          "data": {
            "text/plain": [
              "('BREAKING: Weiner Cooperating With FBI On Hillary Email Investigation',\n",
              " [(0, '0.049*\"speech\" + 0.037*\"donald\"')])"
            ]
          },
          "metadata": {
            "tags": []
          },
          "execution_count": 77
        }
      ]
    },
    {
      "metadata": {
        "id": "OtorWr60Hndl",
        "colab_type": "code",
        "outputId": "e897d38e-1467-434c-c26f-0c07d1523647",
        "colab": {
          "base_uri": "https://localhost:8080/",
          "height": 70
        }
      },
      "cell_type": "code",
      "source": [
        "data_kaggle.title[3],data_kaggle.topics[3]"
      ],
      "execution_count": 0,
      "outputs": [
        {
          "output_type": "execute_result",
          "data": {
            "text/plain": [
              "('PIN DROP SPEECH BY FATHER OF DAUGHTER Kidnapped And Killed By ISIS: \"I have voted for Donald J. Trump!\" » 100percentfedUp.com',\n",
              " [(0, '0.049*\"speech\" + 0.037*\"donald\"')])"
            ]
          },
          "metadata": {
            "tags": []
          },
          "execution_count": 78
        }
      ]
    },
    {
      "metadata": {
        "id": "OVo-d0S6H_Q5",
        "colab_type": "code",
        "outputId": "931d7611-fb15-45cb-a74d-fad04ab65fb4",
        "colab": {
          "base_uri": "https://localhost:8080/",
          "height": 50
        }
      },
      "cell_type": "code",
      "source": [
        "data_kaggle.title[4],data_kaggle.topics[4]"
      ],
      "execution_count": 0,
      "outputs": [
        {
          "output_type": "execute_result",
          "data": {
            "text/plain": [
              "(\"FANTASTIC! TRUMP'S 7 POINT PLAN To Reform Healthcare Begins With A Bombshell! » 100percentfedUp.com\",\n",
              " [(0, '0.022*\"insurance\" + 0.016*\"must\"')])"
            ]
          },
          "metadata": {
            "tags": []
          },
          "execution_count": 79
        }
      ]
    },
    {
      "metadata": {
        "id": "UsAmtH0abASA",
        "colab_type": "code",
        "outputId": "e1a47e21-8b11-41f6-c750-c20b4f6883e6",
        "colab": {
          "base_uri": "https://localhost:8080/",
          "height": 34
        }
      },
      "cell_type": "code",
      "source": [
        "len(data_kaggle.title)"
      ],
      "execution_count": 0,
      "outputs": [
        {
          "output_type": "execute_result",
          "data": {
            "text/plain": [
              "1000"
            ]
          },
          "metadata": {
            "tags": []
          },
          "execution_count": 80
        }
      ]
    },
    {
      "metadata": {
        "id": "ze4YTpBLultl",
        "colab_type": "text"
      },
      "cell_type": "markdown",
      "source": [
        "### 6.2 Topics as Simple List of Words\n",
        "\n",
        "A list of topic terms is compiled as show below. The coefficients in front of each word are dropped as part of simplification. The assumption is that the top two words comprising the topic, are both significant enough to be treated equally. It is important that the goal is to build a reliable prediction model. While there is a risk of oversimplification, if the final model results in a poor accuracy score, the coefficient can always be reintroduced here."
      ]
    },
    {
      "metadata": {
        "id": "a1fxmdcyuqoB",
        "colab_type": "code",
        "colab": {}
      },
      "cell_type": "code",
      "source": [
        "def parseTopics(topics):\n",
        "   output = []\n",
        "   words = topics[0][1].split( '+' )\n",
        "   for word in words:\n",
        "       output.append( word.split('*')[1].replace( '\"', '' ) )\n",
        "   return output\n",
        "\n",
        "data_kaggle['topics'] = data_kaggle['topics'].apply(parseTopics)"
      ],
      "execution_count": 0,
      "outputs": []
    },
    {
      "metadata": {
        "id": "ea1LjWkvyjGg",
        "colab_type": "code",
        "outputId": "30ddbc0b-11da-47ec-9dd8-61164d27747a",
        "colab": {
          "base_uri": "https://localhost:8080/",
          "height": 50
        }
      },
      "cell_type": "code",
      "source": [
        "data_kaggle.title[1],data_kaggle.topics[1]"
      ],
      "execution_count": 0,
      "outputs": [
        {
          "output_type": "execute_result",
          "data": {
            "text/plain": [
              "('Re: Why Did Attorney General Loretta Lynch Plead The Fifth?',\n",
              " ['lynch ', 'attorney'])"
            ]
          },
          "metadata": {
            "tags": []
          },
          "execution_count": 82
        }
      ]
    },
    {
      "metadata": {
        "id": "rF7YvJWHF76L",
        "colab_type": "text"
      },
      "cell_type": "markdown",
      "source": [
        "## 7 Coverage Analysis"
      ]
    },
    {
      "metadata": {
        "id": "4zphchkmJTFm",
        "colab_type": "text"
      },
      "cell_type": "markdown",
      "source": [
        "\n",
        "\n",
        "### 7.1 Data Enrichment\n",
        "\n",
        "The notebook uses Kaggle's \"All the news\" dataset to curate reference articles to enrich the study of coverage analysis  (Thompson,  2017).\n",
        "\n",
        "<img src=\"https://images.pexels.com/photos/261949/pexels-photo-261949.jpeg?cs=srgb&dl=administration-articles-bank-261949.jpg&fm=jpg\" width=400px>"
      ]
    },
    {
      "metadata": {
        "id": "zvdThmnzJYcw",
        "colab_type": "text"
      },
      "cell_type": "markdown",
      "source": [
        "The relevant dataset files are downloaded from Kaggle, unzipped and re-uploaded to GitHub repository (Thompson,  2017).\n",
        "\n",
        "https://www.kaggle.com/snapcrack/all-the-news/home\n",
        "\n",
        "```\n",
        "dock2 ~/wses/all_news_dataset_kaggle$ unzip articles1.csv.zip\n",
        "Archive:  articles1.csv.zip\n",
        "  inflating: articles1.csv\n",
        "dock2 ~/wses/all_news_dataset_kaggle$ unzip articles2.csv.zip\n",
        "Archive:  articles2.csv.zip\n",
        "  inflating: articles2.csv\n",
        "dock2 ~/wses/all_news_dataset_kaggle$ unzip articles3.csv.zip\n",
        "Archive:  articles3.csv.zip\n",
        "  inflating: articles3.csv\n",
        "```\n",
        "\n",
        "The csv files are almost 200MB in size. Therefore, we must treat them differently before uploading to GitHub.\n",
        "\n",
        "```\n",
        "dock2 ~/wses/all_news_dataset_kaggle$ git lfs track *.csv\n",
        "\"articles1.csv\" already supported\n",
        "\"articles2.csv\" already supported\n",
        "\"articles3.csv\" already supported\n",
        "...\n",
        "dock2 ~/wses/all_news_dataset_kaggle$ git remote add origin git@github.com:h7shin/all_news_dataset_kaggle.git\n",
        "...\n",
        "dock2 ~/wses/all_news_dataset_kaggle$ git push -u origin master\n",
        "Uploading LFS objects:   0% (0/1), 54 MB | 4.5 MB/s\n",
        "```\n"
      ]
    },
    {
      "metadata": {
        "id": "S2-jg47QJw-E",
        "colab_type": "text"
      },
      "cell_type": "markdown",
      "source": [
        "Since \"articles1.csv\" was sufficient to get a good coverage analysis. The data from articles2.csv and articles3.csv were dropped. Including all data unnecesarily, can result in slow distillation, training and testing."
      ]
    },
    {
      "metadata": {
        "id": "kwVBiknsld0q",
        "colab_type": "code",
        "outputId": "4e1a7a70-e6e2-4545-d94a-ae75f672566a",
        "colab": {
          "base_uri": "https://localhost:8080/",
          "height": 70
        }
      },
      "cell_type": "code",
      "source": [
        "# All News Kaggle\n",
        "\n",
        "def get_parsed_data(url, sep='\\t', header=None ):\n",
        "  return pd.read_csv(io.StringIO(requests.get(url, verify=False).content.decode('utf-8')), sep=sep, header=header )\n",
        "\n",
        "\n",
        "KAGGLE_ALL_DATASET = 'https://dock2.hyunwookshin.com/public/cmpe257_a1/%s'\n",
        "#KAGGLE_ALL_DATASET = 'https://github.com/h7shin/all_news_dataset_kaggle/blob/master/%s?raw=true'\n",
        "all_kaggle_1 = get_parsed_data(KAGGLE_ALL_DATASET % 'articles1.csv' , ',' , 'infer' )\n",
        "\n",
        "#all_kaggle_2 = get_parsed_data(KAGGLE_ALL_DATASET % 'articles2.csv' , ',' , 'infer' )\n",
        "#all_kaggle_3 = get_parsed_data(KAGGLE_ALL_DATASET % 'articles3.csv' , ',' , 'infer' )"
      ],
      "execution_count": 0,
      "outputs": [
        {
          "output_type": "stream",
          "text": [
            "/usr/local/lib/python3.6/dist-packages/urllib3/connectionpool.py:858: InsecureRequestWarning: Unverified HTTPS request is being made. Adding certificate verification is strongly advised. See: https://urllib3.readthedocs.io/en/latest/advanced-usage.html#ssl-warnings\n",
            "  InsecureRequestWarning)\n"
          ],
          "name": "stderr"
        }
      ]
    },
    {
      "metadata": {
        "id": "bY_V-_aIqVcA",
        "colab_type": "text"
      },
      "cell_type": "markdown",
      "source": [
        "Verifying that the above dataset is downloaded successfully, `all_data_kaggle_1.head()` was called."
      ]
    },
    {
      "metadata": {
        "id": "VIFNH7n_qXv8",
        "colab_type": "code",
        "outputId": "05aab7fe-293a-43af-b2b5-2a16d27c1e2f",
        "colab": {
          "base_uri": "https://localhost:8080/",
          "height": 505
        }
      },
      "cell_type": "code",
      "source": [
        "all_kaggle_1.head()"
      ],
      "execution_count": 0,
      "outputs": [
        {
          "output_type": "execute_result",
          "data": {
            "text/html": [
              "<div>\n",
              "<style scoped>\n",
              "    .dataframe tbody tr th:only-of-type {\n",
              "        vertical-align: middle;\n",
              "    }\n",
              "\n",
              "    .dataframe tbody tr th {\n",
              "        vertical-align: top;\n",
              "    }\n",
              "\n",
              "    .dataframe thead th {\n",
              "        text-align: right;\n",
              "    }\n",
              "</style>\n",
              "<table border=\"1\" class=\"dataframe\">\n",
              "  <thead>\n",
              "    <tr style=\"text-align: right;\">\n",
              "      <th></th>\n",
              "      <th>Unnamed: 0</th>\n",
              "      <th>id</th>\n",
              "      <th>title</th>\n",
              "      <th>publication</th>\n",
              "      <th>author</th>\n",
              "      <th>date</th>\n",
              "      <th>year</th>\n",
              "      <th>month</th>\n",
              "      <th>url</th>\n",
              "      <th>content</th>\n",
              "    </tr>\n",
              "  </thead>\n",
              "  <tbody>\n",
              "    <tr>\n",
              "      <th>0</th>\n",
              "      <td>0</td>\n",
              "      <td>17283</td>\n",
              "      <td>House Republicans Fret About Winning Their Hea...</td>\n",
              "      <td>New York Times</td>\n",
              "      <td>Carl Hulse</td>\n",
              "      <td>2016-12-31</td>\n",
              "      <td>2016.0</td>\n",
              "      <td>12.0</td>\n",
              "      <td>NaN</td>\n",
              "      <td>WASHINGTON  —   Congressional Republicans have...</td>\n",
              "    </tr>\n",
              "    <tr>\n",
              "      <th>1</th>\n",
              "      <td>1</td>\n",
              "      <td>17284</td>\n",
              "      <td>Rift Between Officers and Residents as Killing...</td>\n",
              "      <td>New York Times</td>\n",
              "      <td>Benjamin Mueller and Al Baker</td>\n",
              "      <td>2017-06-19</td>\n",
              "      <td>2017.0</td>\n",
              "      <td>6.0</td>\n",
              "      <td>NaN</td>\n",
              "      <td>After the bullet shells get counted, the blood...</td>\n",
              "    </tr>\n",
              "    <tr>\n",
              "      <th>2</th>\n",
              "      <td>2</td>\n",
              "      <td>17285</td>\n",
              "      <td>Tyrus Wong, ‘Bambi’ Artist Thwarted by Racial ...</td>\n",
              "      <td>New York Times</td>\n",
              "      <td>Margalit Fox</td>\n",
              "      <td>2017-01-06</td>\n",
              "      <td>2017.0</td>\n",
              "      <td>1.0</td>\n",
              "      <td>NaN</td>\n",
              "      <td>When Walt Disney’s “Bambi” opened in 1942, cri...</td>\n",
              "    </tr>\n",
              "    <tr>\n",
              "      <th>3</th>\n",
              "      <td>3</td>\n",
              "      <td>17286</td>\n",
              "      <td>Among Deaths in 2016, a Heavy Toll in Pop Musi...</td>\n",
              "      <td>New York Times</td>\n",
              "      <td>William McDonald</td>\n",
              "      <td>2017-04-10</td>\n",
              "      <td>2017.0</td>\n",
              "      <td>4.0</td>\n",
              "      <td>NaN</td>\n",
              "      <td>Death may be the great equalizer, but it isn’t...</td>\n",
              "    </tr>\n",
              "    <tr>\n",
              "      <th>4</th>\n",
              "      <td>4</td>\n",
              "      <td>17287</td>\n",
              "      <td>Kim Jong-un Says North Korea Is Preparing to T...</td>\n",
              "      <td>New York Times</td>\n",
              "      <td>Choe Sang-Hun</td>\n",
              "      <td>2017-01-02</td>\n",
              "      <td>2017.0</td>\n",
              "      <td>1.0</td>\n",
              "      <td>NaN</td>\n",
              "      <td>SEOUL, South Korea  —   North Korea’s leader, ...</td>\n",
              "    </tr>\n",
              "  </tbody>\n",
              "</table>\n",
              "</div>"
            ],
            "text/plain": [
              "   Unnamed: 0     id                                              title  \\\n",
              "0           0  17283  House Republicans Fret About Winning Their Hea...   \n",
              "1           1  17284  Rift Between Officers and Residents as Killing...   \n",
              "2           2  17285  Tyrus Wong, ‘Bambi’ Artist Thwarted by Racial ...   \n",
              "3           3  17286  Among Deaths in 2016, a Heavy Toll in Pop Musi...   \n",
              "4           4  17287  Kim Jong-un Says North Korea Is Preparing to T...   \n",
              "\n",
              "      publication                         author        date    year  month  \\\n",
              "0  New York Times                     Carl Hulse  2016-12-31  2016.0   12.0   \n",
              "1  New York Times  Benjamin Mueller and Al Baker  2017-06-19  2017.0    6.0   \n",
              "2  New York Times                   Margalit Fox  2017-01-06  2017.0    1.0   \n",
              "3  New York Times               William McDonald  2017-04-10  2017.0    4.0   \n",
              "4  New York Times                  Choe Sang-Hun  2017-01-02  2017.0    1.0   \n",
              "\n",
              "   url                                            content  \n",
              "0  NaN  WASHINGTON  —   Congressional Republicans have...  \n",
              "1  NaN  After the bullet shells get counted, the blood...  \n",
              "2  NaN  When Walt Disney’s “Bambi” opened in 1942, cri...  \n",
              "3  NaN  Death may be the great equalizer, but it isn’t...  \n",
              "4  NaN  SEOUL, South Korea  —   North Korea’s leader, ...  "
            ]
          },
          "metadata": {
            "tags": []
          },
          "execution_count": 84
        }
      ]
    },
    {
      "metadata": {
        "id": "dtEk_PmgNsvy",
        "colab_type": "text"
      },
      "cell_type": "markdown",
      "source": [
        "All three data frames could be consolidated, but since only the first csv file (and its corresponding data frame all_kaggle1) was used, there is no need to combine them any longer,"
      ]
    },
    {
      "metadata": {
        "id": "H5bFl8yGNyXO",
        "colab_type": "code",
        "colab": {}
      },
      "cell_type": "code",
      "source": [
        "all_kaggle = all_kaggle_1 #+ all_kaggle_2 + all_kaggle_3"
      ],
      "execution_count": 0,
      "outputs": []
    },
    {
      "metadata": {
        "id": "ZhQ-IF-zOUO0",
        "colab_type": "text"
      },
      "cell_type": "markdown",
      "source": [
        "### 7.3 Cleansing \"All News\" Articles and Finding Document Similarity\n",
        "\n",
        "For each article, the goal is to count all relevant articles in the all_kaggle dataset that contain similar topics. To achieve this, we also need to do a latent topic modelling.\n",
        "\n"
      ]
    },
    {
      "metadata": {
        "id": "b9l9rOTXKamH",
        "colab_type": "text"
      },
      "cell_type": "markdown",
      "source": [
        "### 7.4 Distillation - Tokenization"
      ]
    },
    {
      "metadata": {
        "id": "sbO7ZLO1YH4W",
        "colab_type": "code",
        "colab": {}
      },
      "cell_type": "code",
      "source": [
        "all_kaggle['text_distilled'] = all_kaggle['title'].apply(lambda x : re.split('\\W+', str(x).lower())) +\\\n",
        "   all_kaggle['content'].apply(lambda x : re.split('\\W+', str(x).lower()))"
      ],
      "execution_count": 0,
      "outputs": []
    },
    {
      "metadata": {
        "id": "E9irzj0FZEhF",
        "colab_type": "text"
      },
      "cell_type": "markdown",
      "source": [
        "### 7.5 Distillation - Lemmatization"
      ]
    },
    {
      "metadata": {
        "id": "PAfdciGTZI1O",
        "colab_type": "code",
        "colab": {}
      },
      "cell_type": "code",
      "source": [
        "all_kaggle['text_distilled'] = all_kaggle['text_distilled'].apply(lemmatize)"
      ],
      "execution_count": 0,
      "outputs": []
    },
    {
      "metadata": {
        "id": "grYBujqWZOq6",
        "colab_type": "text"
      },
      "cell_type": "markdown",
      "source": [
        "### 7.6 Distillation - Stop Words"
      ]
    },
    {
      "metadata": {
        "id": "gX8qfbHaZQs7",
        "colab_type": "code",
        "colab": {}
      },
      "cell_type": "code",
      "source": [
        "all_kaggle['text_distilled'] = all_kaggle['text_distilled'].apply(remove_stopwords)"
      ],
      "execution_count": 0,
      "outputs": []
    },
    {
      "metadata": {
        "id": "gY0-N4QcZVZg",
        "colab_type": "text"
      },
      "cell_type": "markdown",
      "source": [
        "### 7.7 Distillation - Additional"
      ]
    },
    {
      "metadata": {
        "id": "NE_D_lRwZeFS",
        "colab_type": "code",
        "outputId": "4c8344b9-26c1-426d-911d-3e25791fb520",
        "colab": {
          "base_uri": "https://localhost:8080/",
          "height": 270
        }
      },
      "cell_type": "code",
      "source": [
        "all_kaggle['text_distilled'] = all_kaggle['text_distilled'].apply(remove_too_short)\n",
        "all_kaggle.text_distilled[0][:15]"
      ],
      "execution_count": 0,
      "outputs": [
        {
          "output_type": "execute_result",
          "data": {
            "text/plain": [
              "['house',\n",
              " 'republican',\n",
              " 'fret',\n",
              " 'winning',\n",
              " 'health',\n",
              " 'care',\n",
              " 'suit',\n",
              " 'new',\n",
              " 'york',\n",
              " 'time',\n",
              " 'washington',\n",
              " 'congressional',\n",
              " 'republican',\n",
              " 'new',\n",
              " 'fear']"
            ]
          },
          "metadata": {
            "tags": []
          },
          "execution_count": 89
        }
      ]
    },
    {
      "metadata": {
        "id": "w3-ov1YYh0T7",
        "colab_type": "text"
      },
      "cell_type": "markdown",
      "source": [
        "### 7.8 Distillation - Topic Analysis - Running LDA to Extract Topics"
      ]
    },
    {
      "metadata": {
        "id": "VXE5jGJch3Sl",
        "colab_type": "code",
        "colab": {}
      },
      "cell_type": "code",
      "source": [
        "all_kaggle['topics'] = all_kaggle['text_distilled'].apply(topics)"
      ],
      "execution_count": 0,
      "outputs": []
    },
    {
      "metadata": {
        "id": "g-X6lPwwzFKq",
        "colab_type": "code",
        "colab": {}
      },
      "cell_type": "code",
      "source": [
        "all_kaggle['topics'] = all_kaggle['topics'].apply(parseTopics)"
      ],
      "execution_count": 0,
      "outputs": []
    },
    {
      "metadata": {
        "id": "2i5bFLlWooh9",
        "colab_type": "text"
      },
      "cell_type": "markdown",
      "source": [
        "Making sure that the distillation is succesful, the following snippet was run."
      ]
    },
    {
      "metadata": {
        "id": "oJiv4v0o1Nds",
        "colab_type": "code",
        "outputId": "3b903ab4-8535-4dd3-c69e-dc15530afca9",
        "colab": {
          "base_uri": "https://localhost:8080/",
          "height": 50
        }
      },
      "cell_type": "code",
      "source": [
        "all_kaggle.title[0], all_kaggle.topics[0]"
      ],
      "execution_count": 0,
      "outputs": [
        {
          "output_type": "execute_result",
          "data": {
            "text/plain": [
              "('House Republicans Fret About Winning Their Health Care Suit - The New York Times',\n",
              " ['house ', 'republican'])"
            ]
          },
          "metadata": {
            "tags": []
          },
          "execution_count": 92
        }
      ]
    },
    {
      "metadata": {
        "id": "niepPGo74ydv",
        "colab_type": "text"
      },
      "cell_type": "markdown",
      "source": [
        "### 7.9 Scoring Coverage (Ranking)\n",
        "\n",
        "The latent topics are parsed from non-fake news datset. To make an appropriate scoring coverage, the latent topics between \"all news\" data set and fake news dataset (`data_kaggle`) are compared."
      ]
    },
    {
      "metadata": {
        "id": "i2AldcftKUOQ",
        "colab_type": "code",
        "colab": {}
      },
      "cell_type": "code",
      "source": [
        "def setDate( published ):\n",
        "   return published.split( \"T\" )[0]\n",
        "\n",
        "data_kaggle[ 'date' ] = data_kaggle.published.apply( setDate )"
      ],
      "execution_count": 0,
      "outputs": []
    },
    {
      "metadata": {
        "id": "GmUHDODsMss4",
        "colab_type": "code",
        "outputId": "fcd90d79-f5c3-4064-f84a-0019a175bec7",
        "colab": {
          "base_uri": "https://localhost:8080/",
          "height": 245
        }
      },
      "cell_type": "code",
      "source": [
        "data_kaggle.head(1)"
      ],
      "execution_count": 0,
      "outputs": [
        {
          "output_type": "execute_result",
          "data": {
            "text/html": [
              "<div>\n",
              "<style scoped>\n",
              "    .dataframe tbody tr th:only-of-type {\n",
              "        vertical-align: middle;\n",
              "    }\n",
              "\n",
              "    .dataframe tbody tr th {\n",
              "        vertical-align: top;\n",
              "    }\n",
              "\n",
              "    .dataframe thead th {\n",
              "        text-align: right;\n",
              "    }\n",
              "</style>\n",
              "<table border=\"1\" class=\"dataframe\">\n",
              "  <thead>\n",
              "    <tr style=\"text-align: right;\">\n",
              "      <th></th>\n",
              "      <th>uuid</th>\n",
              "      <th>ord_in_thread</th>\n",
              "      <th>author</th>\n",
              "      <th>published</th>\n",
              "      <th>title</th>\n",
              "      <th>text</th>\n",
              "      <th>language</th>\n",
              "      <th>crawled</th>\n",
              "      <th>site_url</th>\n",
              "      <th>country</th>\n",
              "      <th>...</th>\n",
              "      <th>replies_count</th>\n",
              "      <th>participants_count</th>\n",
              "      <th>likes</th>\n",
              "      <th>comments</th>\n",
              "      <th>shares</th>\n",
              "      <th>type</th>\n",
              "      <th>text_distilled</th>\n",
              "      <th>text_distilled_lemma</th>\n",
              "      <th>topics</th>\n",
              "      <th>date</th>\n",
              "    </tr>\n",
              "  </thead>\n",
              "  <tbody>\n",
              "    <tr>\n",
              "      <th>0</th>\n",
              "      <td>6a175f46bcd24d39b3e962ad0f29936721db70db</td>\n",
              "      <td>0</td>\n",
              "      <td>Barracuda Brigade</td>\n",
              "      <td>2016-10-26T21:41:00.000+03:00</td>\n",
              "      <td>Muslims BUSTED: They Stole Millions In Gov’t B...</td>\n",
              "      <td>Print They should pay all the back all the mon...</td>\n",
              "      <td>english</td>\n",
              "      <td>2016-10-27T01:49:27.168+03:00</td>\n",
              "      <td>100percentfedup.com</td>\n",
              "      <td>US</td>\n",
              "      <td>...</td>\n",
              "      <td>0</td>\n",
              "      <td>1</td>\n",
              "      <td>0</td>\n",
              "      <td>0</td>\n",
              "      <td>0</td>\n",
              "      <td>bias</td>\n",
              "      <td>[muslims, busted, stole, millions, gov, benefi...</td>\n",
              "      <td>[muslim, busted, they, stole, million, in, gov...</td>\n",
              "      <td>[benefits , government]</td>\n",
              "      <td>2016-10-26</td>\n",
              "    </tr>\n",
              "  </tbody>\n",
              "</table>\n",
              "<p>1 rows × 24 columns</p>\n",
              "</div>"
            ],
            "text/plain": [
              "                                       uuid  ord_in_thread             author  \\\n",
              "0  6a175f46bcd24d39b3e962ad0f29936721db70db              0  Barracuda Brigade   \n",
              "\n",
              "                       published  \\\n",
              "0  2016-10-26T21:41:00.000+03:00   \n",
              "\n",
              "                                               title  \\\n",
              "0  Muslims BUSTED: They Stole Millions In Gov’t B...   \n",
              "\n",
              "                                                text language  \\\n",
              "0  Print They should pay all the back all the mon...  english   \n",
              "\n",
              "                         crawled             site_url country     ...      \\\n",
              "0  2016-10-27T01:49:27.168+03:00  100percentfedup.com      US     ...       \n",
              "\n",
              "   replies_count participants_count  likes comments  shares  type  \\\n",
              "0              0                  1      0        0       0  bias   \n",
              "\n",
              "                                      text_distilled  \\\n",
              "0  [muslims, busted, stole, millions, gov, benefi...   \n",
              "\n",
              "                                text_distilled_lemma                   topics  \\\n",
              "0  [muslim, busted, they, stole, million, in, gov...  [benefits , government]   \n",
              "\n",
              "         date  \n",
              "0  2016-10-26  \n",
              "\n",
              "[1 rows x 24 columns]"
            ]
          },
          "metadata": {
            "tags": []
          },
          "execution_count": 94
        }
      ]
    },
    {
      "metadata": {
        "id": "KUkP6m52K1bm",
        "colab_type": "text"
      },
      "cell_type": "markdown",
      "source": [
        "The coverage window is simply a time-range where two articles are considered to be pushed in the same approximate \"time frame\". Narrowing the window size will result in low coverage score across all rows. Increasing the window size will result in high coverage score across all rows. The choice of the window size was arbitrary (30 days). Please see section 7.17 for 60-day coverage window."
      ]
    },
    {
      "metadata": {
        "id": "W7lBooYW_G73",
        "colab_type": "code",
        "colab": {}
      },
      "cell_type": "code",
      "source": [
        "import datetime\n",
        "\n",
        "def window( datestring, n ):\n",
        "   d = datetime.datetime.strptime( datestring, \"%Y-%m-%d\" )\n",
        "   delta = datetime.timedelta(days=n)\n",
        "   fromdate = datetime.datetime.strftime(d - delta, \"%Y-%m-%d\")\n",
        "   todate = datetime.datetime.strftime(d + delta, \"%Y-%m-%d\")\n",
        "   return ( fromdate, todate )"
      ],
      "execution_count": 0,
      "outputs": []
    },
    {
      "metadata": {
        "id": "s7E8BzmwZwzy",
        "colab_type": "text"
      },
      "cell_type": "markdown",
      "source": [
        "Please note that coverage scoring below can take about 10~15 minutes to complete (With GPU Hardware accelerator)."
      ]
    },
    {
      "metadata": {
        "id": "Rf0YsfVr4-sj",
        "colab_type": "code",
        "outputId": "73279935-5a7a-4ebb-eb1d-19f57e6095bc",
        "colab": {
          "base_uri": "https://localhost:8080/",
          "height": 172
        }
      },
      "cell_type": "code",
      "source": [
        "import datetime\n",
        "\n",
        "print( \"Start Time\", datetime.datetime.now() )\n",
        "\n",
        "def coverage( article ):\n",
        "   fromdate, todate = window( article[ 'date' ], 15 )\n",
        "   selected_coverage = all_kaggle[(all_kaggle['date'] > fromdate) & (all_kaggle['date'] < todate)]\n",
        "   selected_coverage['covered'] = selected_coverage.apply( lambda r: r[ 'topics' ][0] in article.topics and\n",
        "                                                       r[ 'topics' ][1] in article.topics, axis=1 )\n",
        "   return len(selected_coverage[selected_coverage['covered'] == True])\n",
        "\n",
        "data_kaggle[ 'coverage' ] = data_kaggle.apply( coverage, axis=1 )\n",
        "\n",
        "print( \"Finished Time\", datetime.datetime.now() )"
      ],
      "execution_count": 0,
      "outputs": [
        {
          "output_type": "stream",
          "text": [
            "Start Time 2018-12-09 19:32:54.661145\n"
          ],
          "name": "stdout"
        },
        {
          "output_type": "stream",
          "text": [
            "/usr/local/lib/python3.6/dist-packages/ipykernel_launcher.py:9: SettingWithCopyWarning: \n",
            "A value is trying to be set on a copy of a slice from a DataFrame.\n",
            "Try using .loc[row_indexer,col_indexer] = value instead\n",
            "\n",
            "See the caveats in the documentation: http://pandas.pydata.org/pandas-docs/stable/indexing.html#indexing-view-versus-copy\n",
            "  if __name__ == '__main__':\n"
          ],
          "name": "stderr"
        },
        {
          "output_type": "stream",
          "text": [
            "Finished Time 2018-12-09 19:49:04.400691\n"
          ],
          "name": "stdout"
        }
      ]
    },
    {
      "metadata": {
        "id": "7xSxz3uSSR0l",
        "colab_type": "code",
        "outputId": "22848585-d051-4381-9bfe-db65535cfb06",
        "colab": {
          "base_uri": "https://localhost:8080/",
          "height": 672
        }
      },
      "cell_type": "code",
      "source": [
        "data_kaggle.sort_values(by=['coverage'], ascending=False ).head(5)"
      ],
      "execution_count": 0,
      "outputs": [
        {
          "output_type": "execute_result",
          "data": {
            "text/html": [
              "<div>\n",
              "<style scoped>\n",
              "    .dataframe tbody tr th:only-of-type {\n",
              "        vertical-align: middle;\n",
              "    }\n",
              "\n",
              "    .dataframe tbody tr th {\n",
              "        vertical-align: top;\n",
              "    }\n",
              "\n",
              "    .dataframe thead th {\n",
              "        text-align: right;\n",
              "    }\n",
              "</style>\n",
              "<table border=\"1\" class=\"dataframe\">\n",
              "  <thead>\n",
              "    <tr style=\"text-align: right;\">\n",
              "      <th></th>\n",
              "      <th>uuid</th>\n",
              "      <th>ord_in_thread</th>\n",
              "      <th>author</th>\n",
              "      <th>published</th>\n",
              "      <th>title</th>\n",
              "      <th>text</th>\n",
              "      <th>language</th>\n",
              "      <th>crawled</th>\n",
              "      <th>site_url</th>\n",
              "      <th>country</th>\n",
              "      <th>...</th>\n",
              "      <th>participants_count</th>\n",
              "      <th>likes</th>\n",
              "      <th>comments</th>\n",
              "      <th>shares</th>\n",
              "      <th>type</th>\n",
              "      <th>text_distilled</th>\n",
              "      <th>text_distilled_lemma</th>\n",
              "      <th>topics</th>\n",
              "      <th>date</th>\n",
              "      <th>coverage</th>\n",
              "    </tr>\n",
              "  </thead>\n",
              "  <tbody>\n",
              "    <tr>\n",
              "      <th>53</th>\n",
              "      <td>a36405a8d7d32c2192b9a9b482dcf0ebc83c62eb</td>\n",
              "      <td>0</td>\n",
              "      <td>Mike Rivero</td>\n",
              "      <td>2016-11-23T00:49:00.000+02:00</td>\n",
              "      <td>FLASHBACK - Hillary Clinton’s ‘KKK’ Smear Agai...</td>\n",
              "      <td>November 21, 2016 By 21wire Leave a Comment \\n...</td>\n",
              "      <td>english</td>\n",
              "      <td>2016-11-23T01:36:58.899+02:00</td>\n",
              "      <td>21stcenturywire.com</td>\n",
              "      <td>US</td>\n",
              "      <td>...</td>\n",
              "      <td>1</td>\n",
              "      <td>0</td>\n",
              "      <td>0</td>\n",
              "      <td>0</td>\n",
              "      <td>conspiracy</td>\n",
              "      <td>[flashback, hillary, clinton, kkk, smear, trum...</td>\n",
              "      <td>[flashback, hillary, clinton, s, kkk, smear, a...</td>\n",
              "      <td>[mr , trump]</td>\n",
              "      <td>2016-11-23</td>\n",
              "      <td>41</td>\n",
              "    </tr>\n",
              "    <tr>\n",
              "      <th>26</th>\n",
              "      <td>c1a86b752a21196a06591d5a785fa29b14fab245</td>\n",
              "      <td>0</td>\n",
              "      <td>EdJenner</td>\n",
              "      <td>2016-11-22T08:17:53.961+02:00</td>\n",
              "      <td>DONALD TRUMP Calls Meeting With Press…Dresses ...</td>\n",
              "      <td>Go to Article \\nThey had to know they had it c...</td>\n",
              "      <td>english</td>\n",
              "      <td>2016-11-22T08:17:53.961+02:00</td>\n",
              "      <td>100percentfedup.com</td>\n",
              "      <td>US</td>\n",
              "      <td>...</td>\n",
              "      <td>1</td>\n",
              "      <td>0</td>\n",
              "      <td>0</td>\n",
              "      <td>0</td>\n",
              "      <td>bias</td>\n",
              "      <td>[donald, trump, calls, meeting, press, dresses...</td>\n",
              "      <td>[donald, trump, call, meeting, with, press, dr...</td>\n",
              "      <td>[trump , said]</td>\n",
              "      <td>2016-11-22</td>\n",
              "      <td>23</td>\n",
              "    </tr>\n",
              "    <tr>\n",
              "      <th>980</th>\n",
              "      <td>29aa6e6c0aa6e47a2ee80e18b8ddc031657425b0</td>\n",
              "      <td>0</td>\n",
              "      <td>NaN</td>\n",
              "      <td>2016-10-28T18:34:48.985+03:00</td>\n",
              "      <td>FEAR OF TRUMP: BUSH, OBAMA, CLINTON ALL BUYING...</td>\n",
              "      <td>Email \\n\\nIt appears Bill and Hillary Clinton ...</td>\n",
              "      <td>english</td>\n",
              "      <td>2016-10-28T18:34:48.985+03:00</td>\n",
              "      <td>awdnews.com</td>\n",
              "      <td>DE</td>\n",
              "      <td>...</td>\n",
              "      <td>0</td>\n",
              "      <td>0</td>\n",
              "      <td>0</td>\n",
              "      <td>0</td>\n",
              "      <td>conspiracy</td>\n",
              "      <td>[fear, trump, bush, obama, clinton, buying, pr...</td>\n",
              "      <td>[fear, of, trump, bush, obama, clinton, all, b...</td>\n",
              "      <td>[trump , clinton]</td>\n",
              "      <td>2016-10-28</td>\n",
              "      <td>20</td>\n",
              "    </tr>\n",
              "    <tr>\n",
              "      <th>988</th>\n",
              "      <td>b2e81b8debd3ca29f942d34b781126c07e427194</td>\n",
              "      <td>0</td>\n",
              "      <td>NaN</td>\n",
              "      <td>2016-10-28T18:40:18.626+03:00</td>\n",
              "      <td>FEAR OF TRUMP: BUSH, OBAMA, CLINTON ALL BUYING...</td>\n",
              "      <td>Email \\n\\nIt appears Bill and Hillary Clinton ...</td>\n",
              "      <td>english</td>\n",
              "      <td>2016-10-28T18:40:18.626+03:00</td>\n",
              "      <td>awdnews.com</td>\n",
              "      <td>DE</td>\n",
              "      <td>...</td>\n",
              "      <td>0</td>\n",
              "      <td>0</td>\n",
              "      <td>0</td>\n",
              "      <td>0</td>\n",
              "      <td>conspiracy</td>\n",
              "      <td>[fear, trump, bush, obama, clinton, buying, pr...</td>\n",
              "      <td>[fear, of, trump, bush, obama, clinton, all, b...</td>\n",
              "      <td>[trump , clinton]</td>\n",
              "      <td>2016-10-28</td>\n",
              "      <td>20</td>\n",
              "    </tr>\n",
              "    <tr>\n",
              "      <th>631</th>\n",
              "      <td>7e8e053bbe2ed4978c6b8a69c58fb0441fd4cbf8</td>\n",
              "      <td>0</td>\n",
              "      <td>Alex Ansary</td>\n",
              "      <td>2016-10-31T19:54:37.665+02:00</td>\n",
              "      <td>Get Ready For Civil Unrest</td>\n",
              "      <td>Get Ready For Civil Unrest 10/31/2016 \\nECONOM...</td>\n",
              "      <td>english</td>\n",
              "      <td>2016-10-31T19:54:37.665+02:00</td>\n",
              "      <td>amtvmedia.com</td>\n",
              "      <td>US</td>\n",
              "      <td>...</td>\n",
              "      <td>1</td>\n",
              "      <td>0</td>\n",
              "      <td>0</td>\n",
              "      <td>0</td>\n",
              "      <td>bs</td>\n",
              "      <td>[get, ready, civil, unrest, get, ready, civil,...</td>\n",
              "      <td>[get, ready, for, civil, unrest, get, ready, f...</td>\n",
              "      <td>[trump , clinton]</td>\n",
              "      <td>2016-10-31</td>\n",
              "      <td>18</td>\n",
              "    </tr>\n",
              "  </tbody>\n",
              "</table>\n",
              "<p>5 rows × 25 columns</p>\n",
              "</div>"
            ],
            "text/plain": [
              "                                         uuid  ord_in_thread       author  \\\n",
              "53   a36405a8d7d32c2192b9a9b482dcf0ebc83c62eb              0  Mike Rivero   \n",
              "26   c1a86b752a21196a06591d5a785fa29b14fab245              0     EdJenner   \n",
              "980  29aa6e6c0aa6e47a2ee80e18b8ddc031657425b0              0          NaN   \n",
              "988  b2e81b8debd3ca29f942d34b781126c07e427194              0          NaN   \n",
              "631  7e8e053bbe2ed4978c6b8a69c58fb0441fd4cbf8              0  Alex Ansary   \n",
              "\n",
              "                         published  \\\n",
              "53   2016-11-23T00:49:00.000+02:00   \n",
              "26   2016-11-22T08:17:53.961+02:00   \n",
              "980  2016-10-28T18:34:48.985+03:00   \n",
              "988  2016-10-28T18:40:18.626+03:00   \n",
              "631  2016-10-31T19:54:37.665+02:00   \n",
              "\n",
              "                                                 title  \\\n",
              "53   FLASHBACK - Hillary Clinton’s ‘KKK’ Smear Agai...   \n",
              "26   DONALD TRUMP Calls Meeting With Press…Dresses ...   \n",
              "980  FEAR OF TRUMP: BUSH, OBAMA, CLINTON ALL BUYING...   \n",
              "988  FEAR OF TRUMP: BUSH, OBAMA, CLINTON ALL BUYING...   \n",
              "631                         Get Ready For Civil Unrest   \n",
              "\n",
              "                                                  text language  \\\n",
              "53   November 21, 2016 By 21wire Leave a Comment \\n...  english   \n",
              "26   Go to Article \\nThey had to know they had it c...  english   \n",
              "980  Email \\n\\nIt appears Bill and Hillary Clinton ...  english   \n",
              "988  Email \\n\\nIt appears Bill and Hillary Clinton ...  english   \n",
              "631  Get Ready For Civil Unrest 10/31/2016 \\nECONOM...  english   \n",
              "\n",
              "                           crawled             site_url country   ...     \\\n",
              "53   2016-11-23T01:36:58.899+02:00  21stcenturywire.com      US   ...      \n",
              "26   2016-11-22T08:17:53.961+02:00  100percentfedup.com      US   ...      \n",
              "980  2016-10-28T18:34:48.985+03:00          awdnews.com      DE   ...      \n",
              "988  2016-10-28T18:40:18.626+03:00          awdnews.com      DE   ...      \n",
              "631  2016-10-31T19:54:37.665+02:00        amtvmedia.com      US   ...      \n",
              "\n",
              "     participants_count likes  comments shares        type  \\\n",
              "53                    1     0         0      0  conspiracy   \n",
              "26                    1     0         0      0        bias   \n",
              "980                   0     0         0      0  conspiracy   \n",
              "988                   0     0         0      0  conspiracy   \n",
              "631                   1     0         0      0          bs   \n",
              "\n",
              "                                        text_distilled  \\\n",
              "53   [flashback, hillary, clinton, kkk, smear, trum...   \n",
              "26   [donald, trump, calls, meeting, press, dresses...   \n",
              "980  [fear, trump, bush, obama, clinton, buying, pr...   \n",
              "988  [fear, trump, bush, obama, clinton, buying, pr...   \n",
              "631  [get, ready, civil, unrest, get, ready, civil,...   \n",
              "\n",
              "                                  text_distilled_lemma             topics  \\\n",
              "53   [flashback, hillary, clinton, s, kkk, smear, a...       [mr , trump]   \n",
              "26   [donald, trump, call, meeting, with, press, dr...     [trump , said]   \n",
              "980  [fear, of, trump, bush, obama, clinton, all, b...  [trump , clinton]   \n",
              "988  [fear, of, trump, bush, obama, clinton, all, b...  [trump , clinton]   \n",
              "631  [get, ready, for, civil, unrest, get, ready, f...  [trump , clinton]   \n",
              "\n",
              "           date coverage  \n",
              "53   2016-11-23       41  \n",
              "26   2016-11-22       23  \n",
              "980  2016-10-28       20  \n",
              "988  2016-10-28       20  \n",
              "631  2016-10-31       18  \n",
              "\n",
              "[5 rows x 25 columns]"
            ]
          },
          "metadata": {
            "tags": []
          },
          "execution_count": 97
        }
      ]
    },
    {
      "metadata": {
        "id": "bwZBsbTCUZVW",
        "colab_type": "code",
        "outputId": "b0fa4c21-d498-4494-cec8-112ed9a1d0ae",
        "colab": {
          "base_uri": "https://localhost:8080/",
          "height": 67
        }
      },
      "cell_type": "code",
      "source": [
        "data_kaggle.sort_values(by=['coverage'], ascending=False ).head(1)['title'], data_kaggle.sort_values(by=['coverage'], ascending=False ).head(1)['coverage']"
      ],
      "execution_count": 0,
      "outputs": [
        {
          "output_type": "execute_result",
          "data": {
            "text/plain": [
              "(53    FLASHBACK - Hillary Clinton’s ‘KKK’ Smear Agai...\n",
              " Name: title, dtype: object, 53    41\n",
              " Name: coverage, dtype: int64)"
            ]
          },
          "metadata": {
            "tags": []
          },
          "execution_count": 98
        }
      ]
    },
    {
      "metadata": {
        "id": "wYppcAHMCJTg",
        "colab_type": "text"
      },
      "cell_type": "markdown",
      "source": [
        "### 7.10 Intermediary Analysis\n",
        "\n",
        "**Label Pairing** - For now,  top two words of the topics are chosen in the all-news dataset, as \"labels.\" Then using the topics of each fake news datasets and number all-news articles corresponding to each fake news article can be deduced. This means that for every article, we are searching for related articles. \n",
        "\n",
        "<i>Hypothetical Label Pairing for Illustration Purposes</i>\n",
        "\n",
        "Table A (10 articles)\n",
        "\n",
        "|  Articles | Topic Words | Computed Coverage Score | Rationale |\n",
        "| -- | -- | -- |\n",
        "|  1            | \"Apple\", \"Banana\" | 0 | Matches None from B |\n",
        "|  2            | \"Apple\", \"Orange\" | 1 |  Matches B.2 |\n",
        "|  3            | \"Orange\", \"Pear\" | 2 | Matches B.3 and B.1023 | \n",
        "| ... | ... |\n",
        "\n",
        "Table B (10,000 articles)\n",
        "\n",
        "|  Articles | Topic Words |\n",
        "| -- | -- |\n",
        "|  1            | \"Apple\", \"Pear\" |\n",
        "|  2            | \"Apple\", \"Orange\" |\n",
        "|  3            | \"Orange\", \"Pear\" |\n",
        "| ... | ... |\n",
        "|  1023      | \"Orange\", \"Pear\" |\n",
        "| ... | ... | \n",
        "\n",
        "**Building a Model** This \"search\" part should only be done during training stage, but not during testing and validation stages. But manually searching each row in the database is expensive and unscalable. Also, if the model simply looks up in internal database and return the score, it is more or less a search solution, not a Machine Learning Classification solution.\n",
        "\n",
        "Instead of doing this search for every article, the model should predict how much coverage it is likely to have based on the top two **topic terms** and the **date** of publication with classifiers such as Naive Bayes or Decision Trees. Clearly it will require lot of articles for training since there will be a rich set of topic terms and dates resulting in wide range of coverage scores.\n",
        "\n",
        "**Risks** There is some risk involved with this approach. Sometimes LDA and topic modeliing doesn't get us far enough. Sometimes the keywords generated by LDA such as \"Car\", \"Bus\", \"Train\" all have the latent super-topic called \"transporation\".  So in our distillation not only we should filter out stop words and run lemmatization, we should condense the words even further such as \"transportation\".  This will require additional data enrichment."
      ]
    },
    {
      "metadata": {
        "id": "GqBDT4GRSfzk",
        "colab_type": "text"
      },
      "cell_type": "markdown",
      "source": [
        "### 7.11 Using word2vec to Convert Topics to Vector Embeddings\n",
        "\n",
        "We use word2vec to fit the entire text from all articles, and then use word2vec model to convert the topic words to vectors."
      ]
    },
    {
      "metadata": {
        "id": "UvYioQTYX45d",
        "colab_type": "code",
        "colab": {}
      },
      "cell_type": "code",
      "source": [
        "from gensim.models import Word2Vec\n",
        "\n",
        "m = Word2Vec( data_kaggle[ 'text_distilled' ] )"
      ],
      "execution_count": 0,
      "outputs": []
    },
    {
      "metadata": {
        "id": "fOm_gT6kX-4n",
        "colab_type": "code",
        "outputId": "f493ef4a-b97c-4dd2-b541-e89e371b6c08",
        "colab": {
          "base_uri": "https://localhost:8080/",
          "height": 121
        }
      },
      "cell_type": "code",
      "source": [
        "m.similarity( 'clinton', 'hillary' )"
      ],
      "execution_count": 0,
      "outputs": [
        {
          "output_type": "stream",
          "text": [
            "/usr/local/lib/python3.6/dist-packages/ipykernel_launcher.py:1: DeprecationWarning: Call to deprecated `similarity` (Method will be removed in 4.0.0, use self.wv.similarity() instead).\n",
            "  \"\"\"Entry point for launching an IPython kernel.\n",
            "/usr/local/lib/python3.6/dist-packages/gensim/matutils.py:737: FutureWarning: Conversion of the second argument of issubdtype from `int` to `np.signedinteger` is deprecated. In future, it will be treated as `np.int64 == np.dtype(int).type`.\n",
            "  if np.issubdtype(vec.dtype, np.int):\n"
          ],
          "name": "stderr"
        },
        {
          "output_type": "execute_result",
          "data": {
            "text/plain": [
              "0.9439174"
            ]
          },
          "metadata": {
            "tags": []
          },
          "execution_count": 100
        }
      ]
    },
    {
      "metadata": {
        "id": "2xU2GJjca4ne",
        "colab_type": "code",
        "outputId": "b936d25f-58db-4c5e-fc20-f1ad1d615c17",
        "colab": {
          "base_uri": "https://localhost:8080/",
          "height": 138
        }
      },
      "cell_type": "code",
      "source": [
        "import numpy as np\n",
        "\n",
        "def encodeFirstColumn( topics ):\n",
        "   topic = topics[0].strip()\n",
        "   if topic in m:\n",
        "      return m[topic].tolist()\n",
        "   else:\n",
        "      return np.zeros( len(m[list(m.wv.vocab)[0]]) ).tolist()\n",
        "   \n",
        "data_kaggle[ 'topic_0' ] = data_kaggle.topics.apply( encodeFirstColumn )"
      ],
      "execution_count": 0,
      "outputs": [
        {
          "output_type": "stream",
          "text": [
            "/usr/local/lib/python3.6/dist-packages/ipykernel_launcher.py:5: DeprecationWarning: Call to deprecated `__contains__` (Method will be removed in 4.0.0, use self.wv.__contains__() instead).\n",
            "  \"\"\"\n",
            "/usr/local/lib/python3.6/dist-packages/ipykernel_launcher.py:6: DeprecationWarning: Call to deprecated `__getitem__` (Method will be removed in 4.0.0, use self.wv.__getitem__() instead).\n",
            "  \n",
            "/usr/local/lib/python3.6/dist-packages/ipykernel_launcher.py:8: DeprecationWarning: Call to deprecated `__getitem__` (Method will be removed in 4.0.0, use self.wv.__getitem__() instead).\n",
            "  \n"
          ],
          "name": "stderr"
        }
      ]
    },
    {
      "metadata": {
        "id": "G7Twt8fwOD9q",
        "colab_type": "text"
      },
      "cell_type": "markdown",
      "source": [
        "Running few sanity check, to ensure that the computation is correct,"
      ]
    },
    {
      "metadata": {
        "id": "UxVAnQpEeFkK",
        "colab_type": "code",
        "outputId": "00024729-9293-48f6-b606-2fb62c6288d2",
        "colab": {
          "base_uri": "https://localhost:8080/",
          "height": 87
        }
      },
      "cell_type": "code",
      "source": [
        "'clinton' in m"
      ],
      "execution_count": 0,
      "outputs": [
        {
          "output_type": "stream",
          "text": [
            "/usr/local/lib/python3.6/dist-packages/ipykernel_launcher.py:1: DeprecationWarning: Call to deprecated `__contains__` (Method will be removed in 4.0.0, use self.wv.__contains__() instead).\n",
            "  \"\"\"Entry point for launching an IPython kernel.\n"
          ],
          "name": "stderr"
        },
        {
          "output_type": "execute_result",
          "data": {
            "text/plain": [
              "True"
            ]
          },
          "metadata": {
            "tags": []
          },
          "execution_count": 102
        }
      ]
    },
    {
      "metadata": {
        "id": "hmUtOkKddfwx",
        "colab_type": "code",
        "outputId": "1c85594f-6d22-44b7-ae2a-b9366c11333b",
        "colab": {
          "base_uri": "https://localhost:8080/",
          "height": 425
        }
      },
      "cell_type": "code",
      "source": [
        "m['hillary']"
      ],
      "execution_count": 0,
      "outputs": [
        {
          "output_type": "stream",
          "text": [
            "/usr/local/lib/python3.6/dist-packages/ipykernel_launcher.py:1: DeprecationWarning: Call to deprecated `__getitem__` (Method will be removed in 4.0.0, use self.wv.__getitem__() instead).\n",
            "  \"\"\"Entry point for launching an IPython kernel.\n"
          ],
          "name": "stderr"
        },
        {
          "output_type": "execute_result",
          "data": {
            "text/plain": [
              "array([-0.10134353,  0.02933814, -0.03583135,  0.29075003, -0.11155389,\n",
              "        0.99825144, -0.6479653 ,  0.12964536, -0.9950729 , -0.7279535 ,\n",
              "        0.93923306, -0.50447553, -0.14143234,  0.15379745, -0.05801423,\n",
              "        0.19017962, -0.1297507 ,  0.97043747,  0.2222258 , -0.16211963,\n",
              "        1.7773015 , -0.94036853, -0.4633787 , -0.00781656, -0.00189297,\n",
              "        0.35232744, -0.03956885, -0.33071387,  0.5588169 ,  0.2509319 ,\n",
              "       -0.8913732 , -0.07367527, -0.5852695 , -0.49169424, -0.5798011 ,\n",
              "        0.03221613,  0.52361864, -0.9306584 , -0.283702  ,  0.17352845,\n",
              "        0.1318374 ,  0.02885134, -1.1765625 , -0.21437126, -0.12802887,\n",
              "       -0.00948378,  0.31029156, -0.3864831 ,  0.5508764 ,  0.35882214,\n",
              "       -0.9157917 , -1.2386193 , -0.14343092,  0.46348655,  0.11282773,\n",
              "       -0.7052278 , -0.11359253,  0.84110844, -0.03649735, -0.14199631,\n",
              "        0.16208798, -0.6692888 , -0.9260843 ,  0.34606978,  1.659269  ,\n",
              "        0.00911718, -0.03441096,  0.4984396 , -0.33180454,  0.4350317 ,\n",
              "        0.9932957 ,  0.9450413 , -0.21108137, -0.56407917, -0.33790872,\n",
              "        0.4703937 ,  0.2674327 ,  0.96074116, -0.21057108,  1.1926602 ,\n",
              "        0.57997066,  0.4765159 , -0.06437726,  0.19460154, -0.01997537,\n",
              "       -0.3011398 , -1.2452742 ,  1.1361411 , -0.1800871 , -0.4581037 ,\n",
              "       -0.44912872, -0.71559477,  0.22234276, -0.19822338,  0.27351218,\n",
              "       -0.37704262, -0.46968842,  0.10426098, -0.38080746, -1.3029982 ],\n",
              "      dtype=float32)"
            ]
          },
          "metadata": {
            "tags": []
          },
          "execution_count": 103
        }
      ]
    },
    {
      "metadata": {
        "id": "L2O1Hndddaya",
        "colab_type": "code",
        "outputId": "513ab46b-aad6-4bf5-dba1-fcabbdd30d60",
        "colab": {
          "base_uri": "https://localhost:8080/",
          "height": 202
        }
      },
      "cell_type": "code",
      "source": [
        "data_kaggle[ 'topic_0' ][:10]"
      ],
      "execution_count": 0,
      "outputs": [
        {
          "output_type": "execute_result",
          "data": {
            "text/plain": [
              "0    [0.23284929990768433, -0.2380402386188507, -0....\n",
              "1    [0.2586403489112854, -0.2774267792701721, -0.1...\n",
              "2    [0.36648571491241455, -0.3830716013908386, -0....\n",
              "3    [0.4534859359264374, -0.4545758366584778, -0.1...\n",
              "4    [0.2909620404243469, -0.29563072323799133, -0....\n",
              "5    [0.2085878998041153, -0.05753529816865921, -0....\n",
              "6    [0.23804475367069244, -0.2389364093542099, -0....\n",
              "7    [0.5368123054504395, -0.5343703031539917, -0.2...\n",
              "8    [0.2085878998041153, -0.05753529816865921, -0....\n",
              "9    [0.5466837882995605, -0.2601611018180847, -0.3...\n",
              "Name: topic_0, dtype: object"
            ]
          },
          "metadata": {
            "tags": []
          },
          "execution_count": 104
        }
      ]
    },
    {
      "metadata": {
        "id": "CR9_HEdIrK4H",
        "colab_type": "code",
        "outputId": "9b7072eb-84b5-47cc-e0ce-ec6bcefd499a",
        "colab": {
          "base_uri": "https://localhost:8080/",
          "height": 70
        }
      },
      "cell_type": "code",
      "source": [
        "def assertDim( topic_vec ):\n",
        "   assert len(topic_vec) == len(m[list(m.wv.vocab)[0]]) and len(topic_vec) > 0\n",
        "    \n",
        "def assertType( topic_vec ):\n",
        "   assert isinstance(topic_vec, list)\n",
        "    \n",
        "data_kaggle.topic_0.apply( assertDim )[0]\n",
        "data_kaggle.topic_0.apply( assertType )[0]"
      ],
      "execution_count": 0,
      "outputs": [
        {
          "output_type": "stream",
          "text": [
            "/usr/local/lib/python3.6/dist-packages/ipykernel_launcher.py:2: DeprecationWarning: Call to deprecated `__getitem__` (Method will be removed in 4.0.0, use self.wv.__getitem__() instead).\n",
            "  \n"
          ],
          "name": "stderr"
        }
      ]
    },
    {
      "metadata": {
        "id": "ahGoFM6vh7x7",
        "colab_type": "text"
      },
      "cell_type": "markdown",
      "source": [
        "The second topic term is also encoded into word2vec vector."
      ]
    },
    {
      "metadata": {
        "id": "umXWwTwPh-Cq",
        "colab_type": "code",
        "outputId": "f7b783b0-f6af-4bfd-9724-d4a9e4cd7b5e",
        "colab": {
          "base_uri": "https://localhost:8080/",
          "height": 205
        }
      },
      "cell_type": "code",
      "source": [
        "import numpy as np\n",
        "\n",
        "vector_dim = len(m[list(m.wv.vocab)[0]])\n",
        "\n",
        "def encodeSecondColumn( topics ):\n",
        "\n",
        "   if len( topics ) > 1 :\n",
        "      topic = topics[1].strip()\n",
        "   else:\n",
        "      return np.zeros( len(m[list(m.wv.vocab)[0]]) ).tolist()\n",
        "   if topic in m:\n",
        "      return m[topic].tolist()\n",
        "   else:\n",
        "      return np.zeros( len(m[list(m.wv.vocab)[0]]) ).tolist()\n",
        "   \n",
        "data_kaggle[ 'topic_1' ] = data_kaggle.topics.apply( encodeSecondColumn )"
      ],
      "execution_count": 0,
      "outputs": [
        {
          "output_type": "stream",
          "text": [
            "/usr/local/lib/python3.6/dist-packages/ipykernel_launcher.py:3: DeprecationWarning: Call to deprecated `__getitem__` (Method will be removed in 4.0.0, use self.wv.__getitem__() instead).\n",
            "  This is separate from the ipykernel package so we can avoid doing imports until\n",
            "/usr/local/lib/python3.6/dist-packages/ipykernel_launcher.py:11: DeprecationWarning: Call to deprecated `__contains__` (Method will be removed in 4.0.0, use self.wv.__contains__() instead).\n",
            "  # This is added back by InteractiveShellApp.init_path()\n",
            "/usr/local/lib/python3.6/dist-packages/ipykernel_launcher.py:12: DeprecationWarning: Call to deprecated `__getitem__` (Method will be removed in 4.0.0, use self.wv.__getitem__() instead).\n",
            "  if sys.path[0] == '':\n",
            "/usr/local/lib/python3.6/dist-packages/ipykernel_launcher.py:14: DeprecationWarning: Call to deprecated `__getitem__` (Method will be removed in 4.0.0, use self.wv.__getitem__() instead).\n",
            "  \n",
            "/usr/local/lib/python3.6/dist-packages/ipykernel_launcher.py:10: DeprecationWarning: Call to deprecated `__getitem__` (Method will be removed in 4.0.0, use self.wv.__getitem__() instead).\n",
            "  # Remove the CWD from sys.path while we load stuff.\n"
          ],
          "name": "stderr"
        }
      ]
    },
    {
      "metadata": {
        "id": "2sHff2U4rk42",
        "colab_type": "code",
        "outputId": "4c99be40-007d-4b79-d455-508e1c77bb6f",
        "colab": {
          "base_uri": "https://localhost:8080/",
          "height": 70
        }
      },
      "cell_type": "code",
      "source": [
        "data_kaggle.topic_1.apply( assertDim )[0]\n",
        "data_kaggle.topic_1.apply( assertType )[0]"
      ],
      "execution_count": 0,
      "outputs": [
        {
          "output_type": "stream",
          "text": [
            "/usr/local/lib/python3.6/dist-packages/ipykernel_launcher.py:2: DeprecationWarning: Call to deprecated `__getitem__` (Method will be removed in 4.0.0, use self.wv.__getitem__() instead).\n",
            "  \n"
          ],
          "name": "stderr"
        }
      ]
    },
    {
      "metadata": {
        "id": "GJaoPNCgOx35",
        "colab_type": "text"
      },
      "cell_type": "markdown",
      "source": [
        "### 7.12 Sentiment Analysis\n",
        "\n",
        "Sentiment analysis has been done on the Kaggle data set, from \n",
        "(Martin et. al, n.d)"
      ]
    },
    {
      "metadata": {
        "id": "ZC6SGIW2ynYk",
        "colab_type": "code",
        "outputId": "6c1fd3f2-9d1a-405b-9396-a168b42a0953",
        "colab": {
          "base_uri": "https://localhost:8080/",
          "height": 273
        }
      },
      "cell_type": "code",
      "source": [
        "import nltk\n",
        "nltk.download('vader_lexicon')\n",
        "from nltk.sentiment.vader import SentimentIntensityAnalyzer\n",
        "\n",
        "sia = SentimentIntensityAnalyzer()\n",
        "\n",
        "def getSentiment( text ):\n",
        "    return sia.polarity_scores(text)\n",
        "  \n",
        "data_kaggle[ 'text_distilled_joined' ] = data_kaggle[ 'text_distilled' ].apply( lambda x : ' '.join(x) ) \n",
        "data_kaggle[ 'sentiment' ] = data_kaggle.text_distilled_joined.apply( getSentiment )\n",
        "\n",
        "print(data_kaggle['sentiment' ][:10] )"
      ],
      "execution_count": 0,
      "outputs": [
        {
          "output_type": "stream",
          "text": [
            "[nltk_data] Downloading package vader_lexicon to /root/nltk_data...\n"
          ],
          "name": "stdout"
        },
        {
          "output_type": "stream",
          "text": [
            "/usr/local/lib/python3.6/dist-packages/nltk/twitter/__init__.py:20: UserWarning: The twython library has not been installed. Some functionality from the twitter package will not be available.\n",
            "  warnings.warn(\"The twython library has not been installed. \"\n"
          ],
          "name": "stderr"
        },
        {
          "output_type": "stream",
          "text": [
            "0    {'neg': 0.135, 'neu': 0.669, 'pos': 0.196, 'co...\n",
            "1    {'neg': 0.129, 'neu': 0.815, 'pos': 0.057, 'co...\n",
            "2    {'neg': 0.051, 'neu': 0.791, 'pos': 0.158, 'co...\n",
            "3    {'neg': 0.3, 'neu': 0.46, 'pos': 0.24, 'compou...\n",
            "4    {'neg': 0.093, 'neu': 0.722, 'pos': 0.185, 'co...\n",
            "5    {'neg': 0.356, 'neu': 0.591, 'pos': 0.053, 'co...\n",
            "6    {'neg': 0.135, 'neu': 0.723, 'pos': 0.142, 'co...\n",
            "7    {'neg': 0.193, 'neu': 0.735, 'pos': 0.072, 'co...\n",
            "8    {'neg': 0.066, 'neu': 0.842, 'pos': 0.093, 'co...\n",
            "9    {'neg': 0.152, 'neu': 0.792, 'pos': 0.056, 'co...\n",
            "Name: sentiment, dtype: object\n"
          ],
          "name": "stdout"
        }
      ]
    },
    {
      "metadata": {
        "id": "XLbABjp8js1G",
        "colab_type": "text"
      },
      "cell_type": "markdown",
      "source": [
        "### 7.13 Converting Dates to Numeric Format\n",
        "\n",
        "The date column with format YYYY-MM-dd is converted into YYYYMM  (where MM is month, and YYYY) is year. Specific day of the months is dropped to avoid overfitting.\n",
        "\n"
      ]
    },
    {
      "metadata": {
        "id": "moZ3wZ8el_vt",
        "colab_type": "code",
        "colab": {}
      },
      "cell_type": "code",
      "source": [
        "def setNumericDate( date ):\n",
        "   y, m, d = date.split( \"-\" )\n",
        "   return int(y + m)\n",
        "\n",
        "data_kaggle[ 'date_int' ] = data_kaggle.date.apply( setNumericDate )"
      ],
      "execution_count": 0,
      "outputs": []
    },
    {
      "metadata": {
        "id": "tbTvpmfWqCpa",
        "colab_type": "code",
        "outputId": "a9b9e54e-10dd-40df-a0c5-bc1007aba656",
        "colab": {
          "base_uri": "https://localhost:8080/",
          "height": 34
        }
      },
      "cell_type": "code",
      "source": [
        "data_kaggle[ 'date_int' ][0]"
      ],
      "execution_count": 0,
      "outputs": [
        {
          "output_type": "execute_result",
          "data": {
            "text/plain": [
              "201610"
            ]
          },
          "metadata": {
            "tags": []
          },
          "execution_count": 110
        }
      ]
    },
    {
      "metadata": {
        "id": "WpG9THMLn5SM",
        "colab_type": "text"
      },
      "cell_type": "markdown",
      "source": [
        "### 7.14 Using Ranfom Forrest Classifier\n",
        "\n",
        "Using the numeric (integer) dates, and two vectors (for top two topics chosen), a random forrest classifier is trained."
      ]
    },
    {
      "metadata": {
        "id": "lHN5I6ET38BH",
        "colab_type": "code",
        "outputId": "9621aa40-b224-43bb-fd52-34cbb995d805",
        "colab": {
          "base_uri": "https://localhost:8080/",
          "height": 161
        }
      },
      "cell_type": "code",
      "source": [
        "# First split the vectors of word2vec into individual columns\n",
        "\n",
        "X_prep = data_kaggle[[ 'date_int', 'topic_0', 'topic_1' ]]\n",
        "\n",
        "def select(topic_vec, idx):\n",
        "   return topic_vec[idx]\n",
        "\n",
        "prep_dict = { \"date_int\" : [] }\n",
        "for i in range( vector_dim*2 ):\n",
        "   prep_dict[str(i)] = []\n",
        "    \n",
        "X_COV = pd.DataFrame(prep_dict)\n",
        "X_COV[ 'date_int' ] = X_prep[ 'date_int' ]\n",
        "\n",
        "vector_dim = len(m[list(m.wv.vocab)[0]])\n",
        "\n",
        "for i in range( vector_dim ):\n",
        "   X_COV[str(i)] = X_prep.topic_0.apply( lambda x : select(x, i ) )\n",
        "    \n",
        "X_COV.head(1)"
      ],
      "execution_count": 0,
      "outputs": [
        {
          "output_type": "stream",
          "text": [
            "/usr/local/lib/python3.6/dist-packages/ipykernel_launcher.py:14: DeprecationWarning: Call to deprecated `__getitem__` (Method will be removed in 4.0.0, use self.wv.__getitem__() instead).\n",
            "  \n"
          ],
          "name": "stderr"
        },
        {
          "output_type": "execute_result",
          "data": {
            "text/html": [
              "<div>\n",
              "<style scoped>\n",
              "    .dataframe tbody tr th:only-of-type {\n",
              "        vertical-align: middle;\n",
              "    }\n",
              "\n",
              "    .dataframe tbody tr th {\n",
              "        vertical-align: top;\n",
              "    }\n",
              "\n",
              "    .dataframe thead th {\n",
              "        text-align: right;\n",
              "    }\n",
              "</style>\n",
              "<table border=\"1\" class=\"dataframe\">\n",
              "  <thead>\n",
              "    <tr style=\"text-align: right;\">\n",
              "      <th></th>\n",
              "      <th>0</th>\n",
              "      <th>1</th>\n",
              "      <th>10</th>\n",
              "      <th>100</th>\n",
              "      <th>101</th>\n",
              "      <th>102</th>\n",
              "      <th>103</th>\n",
              "      <th>104</th>\n",
              "      <th>105</th>\n",
              "      <th>106</th>\n",
              "      <th>...</th>\n",
              "      <th>91</th>\n",
              "      <th>92</th>\n",
              "      <th>93</th>\n",
              "      <th>94</th>\n",
              "      <th>95</th>\n",
              "      <th>96</th>\n",
              "      <th>97</th>\n",
              "      <th>98</th>\n",
              "      <th>99</th>\n",
              "      <th>date_int</th>\n",
              "    </tr>\n",
              "  </thead>\n",
              "  <tbody>\n",
              "    <tr>\n",
              "      <th>0</th>\n",
              "      <td>0.232849</td>\n",
              "      <td>-0.23804</td>\n",
              "      <td>0.003889</td>\n",
              "      <td>NaN</td>\n",
              "      <td>NaN</td>\n",
              "      <td>NaN</td>\n",
              "      <td>NaN</td>\n",
              "      <td>NaN</td>\n",
              "      <td>NaN</td>\n",
              "      <td>NaN</td>\n",
              "      <td>...</td>\n",
              "      <td>-0.172278</td>\n",
              "      <td>0.136601</td>\n",
              "      <td>-0.117071</td>\n",
              "      <td>0.12894</td>\n",
              "      <td>-0.171297</td>\n",
              "      <td>-0.079389</td>\n",
              "      <td>-0.034156</td>\n",
              "      <td>0.103069</td>\n",
              "      <td>-0.16734</td>\n",
              "      <td>201610</td>\n",
              "    </tr>\n",
              "  </tbody>\n",
              "</table>\n",
              "<p>1 rows × 201 columns</p>\n",
              "</div>"
            ],
            "text/plain": [
              "          0        1        10  100  101  102  103  104  105  106    ...     \\\n",
              "0  0.232849 -0.23804  0.003889  NaN  NaN  NaN  NaN  NaN  NaN  NaN    ...      \n",
              "\n",
              "         91        92        93       94        95        96        97  \\\n",
              "0 -0.172278  0.136601 -0.117071  0.12894 -0.171297 -0.079389 -0.034156   \n",
              "\n",
              "         98       99  date_int  \n",
              "0  0.103069 -0.16734    201610  \n",
              "\n",
              "[1 rows x 201 columns]"
            ]
          },
          "metadata": {
            "tags": []
          },
          "execution_count": 111
        }
      ]
    },
    {
      "metadata": {
        "id": "p7GG5K-q6T0V",
        "colab_type": "code",
        "colab": {}
      },
      "cell_type": "code",
      "source": [
        "for i in range( vector_dim ):\n",
        "   X_COV[str(vector_dim + i)] = X_prep.topic_1.apply( lambda x : select(x, i ) )"
      ],
      "execution_count": 0,
      "outputs": []
    },
    {
      "metadata": {
        "id": "sbanTosZ55UU",
        "colab_type": "code",
        "outputId": "d5d12ef4-29fe-4e2f-df68-3e348edcdf6e",
        "colab": {
          "base_uri": "https://localhost:8080/",
          "height": 127
        }
      },
      "cell_type": "code",
      "source": [
        "X_COV.head(1)"
      ],
      "execution_count": 0,
      "outputs": [
        {
          "output_type": "execute_result",
          "data": {
            "text/html": [
              "<div>\n",
              "<style scoped>\n",
              "    .dataframe tbody tr th:only-of-type {\n",
              "        vertical-align: middle;\n",
              "    }\n",
              "\n",
              "    .dataframe tbody tr th {\n",
              "        vertical-align: top;\n",
              "    }\n",
              "\n",
              "    .dataframe thead th {\n",
              "        text-align: right;\n",
              "    }\n",
              "</style>\n",
              "<table border=\"1\" class=\"dataframe\">\n",
              "  <thead>\n",
              "    <tr style=\"text-align: right;\">\n",
              "      <th></th>\n",
              "      <th>0</th>\n",
              "      <th>1</th>\n",
              "      <th>10</th>\n",
              "      <th>100</th>\n",
              "      <th>101</th>\n",
              "      <th>102</th>\n",
              "      <th>103</th>\n",
              "      <th>104</th>\n",
              "      <th>105</th>\n",
              "      <th>106</th>\n",
              "      <th>...</th>\n",
              "      <th>91</th>\n",
              "      <th>92</th>\n",
              "      <th>93</th>\n",
              "      <th>94</th>\n",
              "      <th>95</th>\n",
              "      <th>96</th>\n",
              "      <th>97</th>\n",
              "      <th>98</th>\n",
              "      <th>99</th>\n",
              "      <th>date_int</th>\n",
              "    </tr>\n",
              "  </thead>\n",
              "  <tbody>\n",
              "    <tr>\n",
              "      <th>0</th>\n",
              "      <td>0.232849</td>\n",
              "      <td>-0.23804</td>\n",
              "      <td>0.003889</td>\n",
              "      <td>0.596135</td>\n",
              "      <td>-0.651015</td>\n",
              "      <td>-0.217746</td>\n",
              "      <td>0.477017</td>\n",
              "      <td>0.3065</td>\n",
              "      <td>0.366481</td>\n",
              "      <td>-0.167871</td>\n",
              "      <td>...</td>\n",
              "      <td>-0.172278</td>\n",
              "      <td>0.136601</td>\n",
              "      <td>-0.117071</td>\n",
              "      <td>0.12894</td>\n",
              "      <td>-0.171297</td>\n",
              "      <td>-0.079389</td>\n",
              "      <td>-0.034156</td>\n",
              "      <td>0.103069</td>\n",
              "      <td>-0.16734</td>\n",
              "      <td>201610</td>\n",
              "    </tr>\n",
              "  </tbody>\n",
              "</table>\n",
              "<p>1 rows × 201 columns</p>\n",
              "</div>"
            ],
            "text/plain": [
              "          0        1        10       100       101       102       103  \\\n",
              "0  0.232849 -0.23804  0.003889  0.596135 -0.651015 -0.217746  0.477017   \n",
              "\n",
              "      104       105       106    ...           91        92        93  \\\n",
              "0  0.3065  0.366481 -0.167871    ...    -0.172278  0.136601 -0.117071   \n",
              "\n",
              "        94        95        96        97        98       99  date_int  \n",
              "0  0.12894 -0.171297 -0.079389 -0.034156  0.103069 -0.16734    201610  \n",
              "\n",
              "[1 rows x 201 columns]"
            ]
          },
          "metadata": {
            "tags": []
          },
          "execution_count": 113
        }
      ]
    },
    {
      "metadata": {
        "id": "VA9RRpayfFGM",
        "colab_type": "text"
      },
      "cell_type": "markdown",
      "source": [
        "The following code creates training and test data."
      ]
    },
    {
      "metadata": {
        "id": "E_ZO5jWRoFDK",
        "colab_type": "code",
        "outputId": "dfdc7a57-98a2-493a-f924-bbe30a4cb1f6",
        "colab": {
          "base_uri": "https://localhost:8080/",
          "height": 50
        }
      },
      "cell_type": "code",
      "source": [
        "from sklearn.ensemble import RandomForestClassifier\n",
        "from sklearn.model_selection import train_test_split\n",
        "\n",
        "Y_COV = data_kaggle[ 'coverage' ]\n",
        "X_train, X_test, y_train, y_test = train_test_split(X_COV, Y_COV, test_size=0.33, random_state=42)\n",
        "print(\"train:\" , X_train.shape)\n",
        "print(\"test:\" , X_test.shape)"
      ],
      "execution_count": 0,
      "outputs": [
        {
          "output_type": "stream",
          "text": [
            "train: (670, 201)\n",
            "test: (330, 201)\n"
          ],
          "name": "stdout"
        }
      ]
    },
    {
      "metadata": {
        "id": "A767PTCrrp51",
        "colab_type": "code",
        "outputId": "4c0cff08-9260-4885-dd39-da0de7f796e8",
        "colab": {
          "base_uri": "https://localhost:8080/",
          "height": 189
        }
      },
      "cell_type": "code",
      "source": [
        "X_COV.head(3)"
      ],
      "execution_count": 0,
      "outputs": [
        {
          "output_type": "execute_result",
          "data": {
            "text/html": [
              "<div>\n",
              "<style scoped>\n",
              "    .dataframe tbody tr th:only-of-type {\n",
              "        vertical-align: middle;\n",
              "    }\n",
              "\n",
              "    .dataframe tbody tr th {\n",
              "        vertical-align: top;\n",
              "    }\n",
              "\n",
              "    .dataframe thead th {\n",
              "        text-align: right;\n",
              "    }\n",
              "</style>\n",
              "<table border=\"1\" class=\"dataframe\">\n",
              "  <thead>\n",
              "    <tr style=\"text-align: right;\">\n",
              "      <th></th>\n",
              "      <th>0</th>\n",
              "      <th>1</th>\n",
              "      <th>10</th>\n",
              "      <th>100</th>\n",
              "      <th>101</th>\n",
              "      <th>102</th>\n",
              "      <th>103</th>\n",
              "      <th>104</th>\n",
              "      <th>105</th>\n",
              "      <th>106</th>\n",
              "      <th>...</th>\n",
              "      <th>91</th>\n",
              "      <th>92</th>\n",
              "      <th>93</th>\n",
              "      <th>94</th>\n",
              "      <th>95</th>\n",
              "      <th>96</th>\n",
              "      <th>97</th>\n",
              "      <th>98</th>\n",
              "      <th>99</th>\n",
              "      <th>date_int</th>\n",
              "    </tr>\n",
              "  </thead>\n",
              "  <tbody>\n",
              "    <tr>\n",
              "      <th>0</th>\n",
              "      <td>0.232849</td>\n",
              "      <td>-0.238040</td>\n",
              "      <td>0.003889</td>\n",
              "      <td>0.596135</td>\n",
              "      <td>-0.651015</td>\n",
              "      <td>-0.217746</td>\n",
              "      <td>0.477017</td>\n",
              "      <td>0.306500</td>\n",
              "      <td>0.366481</td>\n",
              "      <td>-0.167871</td>\n",
              "      <td>...</td>\n",
              "      <td>-0.172278</td>\n",
              "      <td>0.136601</td>\n",
              "      <td>-0.117071</td>\n",
              "      <td>0.128940</td>\n",
              "      <td>-0.171297</td>\n",
              "      <td>-0.079389</td>\n",
              "      <td>-0.034156</td>\n",
              "      <td>0.103069</td>\n",
              "      <td>-0.167340</td>\n",
              "      <td>201610</td>\n",
              "    </tr>\n",
              "    <tr>\n",
              "      <th>1</th>\n",
              "      <td>0.258640</td>\n",
              "      <td>-0.277427</td>\n",
              "      <td>0.037045</td>\n",
              "      <td>0.439350</td>\n",
              "      <td>-0.469443</td>\n",
              "      <td>-0.180738</td>\n",
              "      <td>0.383735</td>\n",
              "      <td>0.223804</td>\n",
              "      <td>0.364344</td>\n",
              "      <td>-0.171431</td>\n",
              "      <td>...</td>\n",
              "      <td>-0.216517</td>\n",
              "      <td>0.149193</td>\n",
              "      <td>-0.143528</td>\n",
              "      <td>0.163536</td>\n",
              "      <td>-0.209101</td>\n",
              "      <td>-0.104865</td>\n",
              "      <td>-0.036674</td>\n",
              "      <td>0.102277</td>\n",
              "      <td>-0.230021</td>\n",
              "      <td>201610</td>\n",
              "    </tr>\n",
              "    <tr>\n",
              "      <th>2</th>\n",
              "      <td>0.366486</td>\n",
              "      <td>-0.383072</td>\n",
              "      <td>0.084454</td>\n",
              "      <td>0.308973</td>\n",
              "      <td>-0.313357</td>\n",
              "      <td>-0.135649</td>\n",
              "      <td>0.266822</td>\n",
              "      <td>0.155763</td>\n",
              "      <td>0.255759</td>\n",
              "      <td>-0.127321</td>\n",
              "      <td>...</td>\n",
              "      <td>-0.354262</td>\n",
              "      <td>0.207819</td>\n",
              "      <td>-0.215176</td>\n",
              "      <td>0.251817</td>\n",
              "      <td>-0.306388</td>\n",
              "      <td>-0.164775</td>\n",
              "      <td>-0.051437</td>\n",
              "      <td>0.123434</td>\n",
              "      <td>-0.379281</td>\n",
              "      <td>201610</td>\n",
              "    </tr>\n",
              "  </tbody>\n",
              "</table>\n",
              "<p>3 rows × 201 columns</p>\n",
              "</div>"
            ],
            "text/plain": [
              "          0         1        10       100       101       102       103  \\\n",
              "0  0.232849 -0.238040  0.003889  0.596135 -0.651015 -0.217746  0.477017   \n",
              "1  0.258640 -0.277427  0.037045  0.439350 -0.469443 -0.180738  0.383735   \n",
              "2  0.366486 -0.383072  0.084454  0.308973 -0.313357 -0.135649  0.266822   \n",
              "\n",
              "        104       105       106    ...           91        92        93  \\\n",
              "0  0.306500  0.366481 -0.167871    ...    -0.172278  0.136601 -0.117071   \n",
              "1  0.223804  0.364344 -0.171431    ...    -0.216517  0.149193 -0.143528   \n",
              "2  0.155763  0.255759 -0.127321    ...    -0.354262  0.207819 -0.215176   \n",
              "\n",
              "         94        95        96        97        98        99  date_int  \n",
              "0  0.128940 -0.171297 -0.079389 -0.034156  0.103069 -0.167340    201610  \n",
              "1  0.163536 -0.209101 -0.104865 -0.036674  0.102277 -0.230021    201610  \n",
              "2  0.251817 -0.306388 -0.164775 -0.051437  0.123434 -0.379281    201610  \n",
              "\n",
              "[3 rows x 201 columns]"
            ]
          },
          "metadata": {
            "tags": []
          },
          "execution_count": 115
        }
      ]
    },
    {
      "metadata": {
        "id": "eeWd0pHVqn6q",
        "colab_type": "code",
        "colab": {}
      },
      "cell_type": "code",
      "source": [
        "f_cov = RandomForestClassifier(n_estimators=10)\n",
        "f_cov.fit(X_train, y_train)\n",
        "y_pred = f_cov.predict(X_test)"
      ],
      "execution_count": 0,
      "outputs": []
    },
    {
      "metadata": {
        "id": "awhW0Wfr6tao",
        "colab_type": "text"
      },
      "cell_type": "markdown",
      "source": [
        "Predicting the accuracy of the coverage,"
      ]
    },
    {
      "metadata": {
        "id": "3S28IoxY6wVL",
        "colab_type": "code",
        "outputId": "213a8456-63df-4fa0-f4c6-75977875220a",
        "colab": {
          "base_uri": "https://localhost:8080/",
          "height": 34
        }
      },
      "cell_type": "code",
      "source": [
        "from sklearn import metrics\n",
        "\n",
        "'Accuracy', metrics.accuracy_score(y_test, y_pred)"
      ],
      "execution_count": 0,
      "outputs": [
        {
          "output_type": "execute_result",
          "data": {
            "text/plain": [
              "('Accuracy', 0.9333333333333333)"
            ]
          },
          "metadata": {
            "tags": []
          },
          "execution_count": 117
        }
      ]
    },
    {
      "metadata": {
        "id": "sHC2IGew6_Qg",
        "colab_type": "text"
      },
      "cell_type": "markdown",
      "source": [
        "The accuracy based on the unseen test data is 90%~95%. This means that using the word2vec-based model one can build a reliable coverage score."
      ]
    },
    {
      "metadata": {
        "id": "-6qus8Ai7dux",
        "colab_type": "code",
        "outputId": "01b5407a-67a3-492d-bcf4-c5bbf7b47d44",
        "colab": {
          "base_uri": "https://localhost:8080/",
          "height": 446
        }
      },
      "cell_type": "code",
      "source": [
        "import matplotlib.pyplot as plt\n",
        "import seaborn as sns\n",
        "\n",
        "importantCols = pd.Series(f_cov.feature_importances_,index=list(X_COV)).sort_values(ascending=False)\n",
        "sns.barplot(y=importantCols[:20], x=importantCols.index[:20])\n",
        "\n",
        "plt.ylabel('Importance Score')\n",
        "plt.xlabel('Columns')\n",
        "plt.title(\"Importance Sorted\")\n",
        "plt.legend()\n",
        "plt.show()"
      ],
      "execution_count": 0,
      "outputs": [
        {
          "output_type": "stream",
          "text": [
            "/usr/local/lib/python3.6/dist-packages/seaborn/categorical.py:1428: FutureWarning: remove_na is deprecated and is a private function. Do not use.\n",
            "  stat_data = remove_na(group_data)\n",
            "No handles with labels found to put in legend.\n"
          ],
          "name": "stderr"
        },
        {
          "output_type": "display_data",
          "data": {
            "image/png": "[encoded data removed]",
            "text/plain": [
              "<matplotlib.figure.Figure at 0x7f58d1c77898>"
            ]
          },
          "metadata": {
            "tags": []
          }
        }
      ]
    },
    {
      "metadata": {
        "id": "CiWlQq2M-tfz",
        "colab_type": "text"
      },
      "cell_type": "markdown",
      "source": [
        "### 7.15 Interpretation\n",
        "\n",
        "As shown above \"`date_int`\"  is one of the most important feature in determining whether or not the news has high news coverage. This is expected since the date the news has been posted definitely impacts on whether the news has sufficient coverage from peer articles. Some of the numeric (word2vec) columns  have significant impact on the prediction of the coverage score. But, since these factors are latent, they do not correspond to specific words in the vocabulary."
      ]
    },
    {
      "metadata": {
        "id": "JiIceCrcYqx9",
        "colab_type": "text"
      },
      "cell_type": "markdown",
      "source": [
        "### 7.16 Other Methods Tried\n",
        "Also tried using TFIDF as well as shown below."
      ]
    },
    {
      "metadata": {
        "id": "N_b0jANCS4Jx",
        "colab_type": "code",
        "colab": {}
      },
      "cell_type": "code",
      "source": [
        "from sklearn.feature_extraction.text import TfidfVectorizer\n",
        "\n",
        "ktdv = TfidfVectorizer()\n",
        "  \n",
        "data_kaggle['text_distilled_joined'] = data_kaggle[ 'text_distilled' ].apply( lambda x :  ' '.join( x ) )\n",
        "ktdv.fit( data_kaggle[ 'text_distilled_joined' ])\n",
        "dim_row = len(ktdv.transform([data_kaggle[ 'text_distilled_joined' ][0]]).toarray())\n",
        "dim_col = len(ktdv.transform([data_kaggle[ 'text_distilled_joined' ][0]]).toarray()[0])\n",
        "# Eventually dropped"
      ],
      "execution_count": 0,
      "outputs": []
    },
    {
      "metadata": {
        "id": "P7lp6PDLbb7c",
        "colab_type": "text"
      },
      "cell_type": "markdown",
      "source": [
        "### 7.17 Extension - Increase  the window to 2 Months\n",
        "\n",
        "Now that we have coverage of 5 and above for 6/100 articles. We can try and see what values we see if the coverage is increased from 30 days to 60 days"
      ]
    },
    {
      "metadata": {
        "id": "mKe0HrIYcHp_",
        "colab_type": "code",
        "outputId": "bcd97648-0667-4885-8dff-4171884e39bf",
        "colab": {
          "base_uri": "https://localhost:8080/",
          "height": 138
        }
      },
      "cell_type": "code",
      "source": [
        "def coverage60( article ):\n",
        "   fromdate, todate = window( article[ 'date' ], 60 )\n",
        "   selected_coverage = all_kaggle[(all_kaggle['date'] > fromdate) & (all_kaggle['date'] < todate)]\n",
        "   selected_coverage['covered'] = selected_coverage.apply( lambda r: r[ 'topics' ][0] in article.topics and\n",
        "                                                       r[ 'topics' ][1] in article.topics, axis=1 )\n",
        "   return len(selected_coverage[selected_coverage['covered'] == True])\n",
        "\n",
        "data_kaggle[ 'coverage60' ] = data_kaggle.apply( coverage60, axis=1 )"
      ],
      "execution_count": 0,
      "outputs": [
        {
          "output_type": "stream",
          "text": [
            "/usr/local/lib/python3.6/dist-packages/ipykernel_launcher.py:5: SettingWithCopyWarning: \n",
            "A value is trying to be set on a copy of a slice from a DataFrame.\n",
            "Try using .loc[row_indexer,col_indexer] = value instead\n",
            "\n",
            "See the caveats in the documentation: http://pandas.pydata.org/pandas-docs/stable/indexing.html#indexing-view-versus-copy\n",
            "  \"\"\"\n"
          ],
          "name": "stderr"
        }
      ]
    },
    {
      "metadata": {
        "id": "gw8RejabdY8t",
        "colab_type": "code",
        "outputId": "0ec6a45c-5b6d-4e42-d536-db106d1f37d3",
        "colab": {
          "base_uri": "https://localhost:8080/",
          "height": 2700
        }
      },
      "cell_type": "code",
      "source": [
        "data_kaggle.sort_values(by=['coverage'], ascending=False ).head(20)"
      ],
      "execution_count": 0,
      "outputs": [
        {
          "output_type": "execute_result",
          "data": {
            "text/html": [
              "<div>\n",
              "<style scoped>\n",
              "    .dataframe tbody tr th:only-of-type {\n",
              "        vertical-align: middle;\n",
              "    }\n",
              "\n",
              "    .dataframe tbody tr th {\n",
              "        vertical-align: top;\n",
              "    }\n",
              "\n",
              "    .dataframe thead th {\n",
              "        text-align: right;\n",
              "    }\n",
              "</style>\n",
              "<table border=\"1\" class=\"dataframe\">\n",
              "  <thead>\n",
              "    <tr style=\"text-align: right;\">\n",
              "      <th></th>\n",
              "      <th>uuid</th>\n",
              "      <th>ord_in_thread</th>\n",
              "      <th>author</th>\n",
              "      <th>published</th>\n",
              "      <th>title</th>\n",
              "      <th>text</th>\n",
              "      <th>language</th>\n",
              "      <th>crawled</th>\n",
              "      <th>site_url</th>\n",
              "      <th>country</th>\n",
              "      <th>...</th>\n",
              "      <th>text_distilled_lemma</th>\n",
              "      <th>topics</th>\n",
              "      <th>date</th>\n",
              "      <th>coverage</th>\n",
              "      <th>topic_0</th>\n",
              "      <th>topic_1</th>\n",
              "      <th>text_distilled_joined</th>\n",
              "      <th>sentiment</th>\n",
              "      <th>date_int</th>\n",
              "      <th>coverage60</th>\n",
              "    </tr>\n",
              "  </thead>\n",
              "  <tbody>\n",
              "    <tr>\n",
              "      <th>53</th>\n",
              "      <td>a36405a8d7d32c2192b9a9b482dcf0ebc83c62eb</td>\n",
              "      <td>0</td>\n",
              "      <td>Mike Rivero</td>\n",
              "      <td>2016-11-23T00:49:00.000+02:00</td>\n",
              "      <td>FLASHBACK - Hillary Clinton’s ‘KKK’ Smear Agai...</td>\n",
              "      <td>November 21, 2016 By 21wire Leave a Comment \\n...</td>\n",
              "      <td>english</td>\n",
              "      <td>2016-11-23T01:36:58.899+02:00</td>\n",
              "      <td>21stcenturywire.com</td>\n",
              "      <td>US</td>\n",
              "      <td>...</td>\n",
              "      <td>[flashback, hillary, clinton, s, kkk, smear, a...</td>\n",
              "      <td>[mr , trump]</td>\n",
              "      <td>2016-11-23</td>\n",
              "      <td>41</td>\n",
              "      <td>[0.6522071361541748, -0.6524747014045715, -0.3...</td>\n",
              "      <td>[0.5466837882995605, -0.2601611018180847, -0.3...</td>\n",
              "      <td>flashback hillary clinton kkk smear trump demo...</td>\n",
              "      <td>{'neg': 0.141, 'neu': 0.737, 'pos': 0.122, 'co...</td>\n",
              "      <td>201611</td>\n",
              "      <td>118</td>\n",
              "    </tr>\n",
              "    <tr>\n",
              "      <th>26</th>\n",
              "      <td>c1a86b752a21196a06591d5a785fa29b14fab245</td>\n",
              "      <td>0</td>\n",
              "      <td>EdJenner</td>\n",
              "      <td>2016-11-22T08:17:53.961+02:00</td>\n",
              "      <td>DONALD TRUMP Calls Meeting With Press…Dresses ...</td>\n",
              "      <td>Go to Article \\nThey had to know they had it c...</td>\n",
              "      <td>english</td>\n",
              "      <td>2016-11-22T08:17:53.961+02:00</td>\n",
              "      <td>100percentfedup.com</td>\n",
              "      <td>US</td>\n",
              "      <td>...</td>\n",
              "      <td>[donald, trump, call, meeting, with, press, dr...</td>\n",
              "      <td>[trump , said]</td>\n",
              "      <td>2016-11-22</td>\n",
              "      <td>23</td>\n",
              "      <td>[0.5466837882995605, -0.2601611018180847, -0.3...</td>\n",
              "      <td>[0.5603877305984497, -0.5979061126708984, -0.2...</td>\n",
              "      <td>donald trump calls meeting press dresses real ...</td>\n",
              "      <td>{'neg': 0.217, 'neu': 0.719, 'pos': 0.064, 'co...</td>\n",
              "      <td>201611</td>\n",
              "      <td>67</td>\n",
              "    </tr>\n",
              "    <tr>\n",
              "      <th>980</th>\n",
              "      <td>29aa6e6c0aa6e47a2ee80e18b8ddc031657425b0</td>\n",
              "      <td>0</td>\n",
              "      <td>NaN</td>\n",
              "      <td>2016-10-28T18:34:48.985+03:00</td>\n",
              "      <td>FEAR OF TRUMP: BUSH, OBAMA, CLINTON ALL BUYING...</td>\n",
              "      <td>Email \\n\\nIt appears Bill and Hillary Clinton ...</td>\n",
              "      <td>english</td>\n",
              "      <td>2016-10-28T18:34:48.985+03:00</td>\n",
              "      <td>awdnews.com</td>\n",
              "      <td>DE</td>\n",
              "      <td>...</td>\n",
              "      <td>[fear, of, trump, bush, obama, clinton, all, b...</td>\n",
              "      <td>[trump , clinton]</td>\n",
              "      <td>2016-10-28</td>\n",
              "      <td>20</td>\n",
              "      <td>[0.5466837882995605, -0.2601611018180847, -0.3...</td>\n",
              "      <td>[0.2085878998041153, -0.05753529816865921, -0....</td>\n",
              "      <td>fear trump bush obama clinton buying property ...</td>\n",
              "      <td>{'neg': 0.107, 'neu': 0.745, 'pos': 0.148, 'co...</td>\n",
              "      <td>201610</td>\n",
              "      <td>97</td>\n",
              "    </tr>\n",
              "    <tr>\n",
              "      <th>988</th>\n",
              "      <td>b2e81b8debd3ca29f942d34b781126c07e427194</td>\n",
              "      <td>0</td>\n",
              "      <td>NaN</td>\n",
              "      <td>2016-10-28T18:40:18.626+03:00</td>\n",
              "      <td>FEAR OF TRUMP: BUSH, OBAMA, CLINTON ALL BUYING...</td>\n",
              "      <td>Email \\n\\nIt appears Bill and Hillary Clinton ...</td>\n",
              "      <td>english</td>\n",
              "      <td>2016-10-28T18:40:18.626+03:00</td>\n",
              "      <td>awdnews.com</td>\n",
              "      <td>DE</td>\n",
              "      <td>...</td>\n",
              "      <td>[fear, of, trump, bush, obama, clinton, all, b...</td>\n",
              "      <td>[trump , clinton]</td>\n",
              "      <td>2016-10-28</td>\n",
              "      <td>20</td>\n",
              "      <td>[0.5466837882995605, -0.2601611018180847, -0.3...</td>\n",
              "      <td>[0.2085878998041153, -0.05753529816865921, -0....</td>\n",
              "      <td>fear trump bush obama clinton buying property ...</td>\n",
              "      <td>{'neg': 0.107, 'neu': 0.745, 'pos': 0.148, 'co...</td>\n",
              "      <td>201610</td>\n",
              "      <td>97</td>\n",
              "    </tr>\n",
              "    <tr>\n",
              "      <th>631</th>\n",
              "      <td>7e8e053bbe2ed4978c6b8a69c58fb0441fd4cbf8</td>\n",
              "      <td>0</td>\n",
              "      <td>Alex Ansary</td>\n",
              "      <td>2016-10-31T19:54:37.665+02:00</td>\n",
              "      <td>Get Ready For Civil Unrest</td>\n",
              "      <td>Get Ready For Civil Unrest 10/31/2016 \\nECONOM...</td>\n",
              "      <td>english</td>\n",
              "      <td>2016-10-31T19:54:37.665+02:00</td>\n",
              "      <td>amtvmedia.com</td>\n",
              "      <td>US</td>\n",
              "      <td>...</td>\n",
              "      <td>[get, ready, for, civil, unrest, get, ready, f...</td>\n",
              "      <td>[trump , clinton]</td>\n",
              "      <td>2016-10-31</td>\n",
              "      <td>18</td>\n",
              "      <td>[0.5466837882995605, -0.2601611018180847, -0.3...</td>\n",
              "      <td>[0.2085878998041153, -0.05753529816865921, -0....</td>\n",
              "      <td>get ready civil unrest get ready civil unrest ...</td>\n",
              "      <td>{'neg': 0.171, 'neu': 0.686, 'pos': 0.143, 'co...</td>\n",
              "      <td>201610</td>\n",
              "      <td>95</td>\n",
              "    </tr>\n",
              "    <tr>\n",
              "      <th>968</th>\n",
              "      <td>cb64c208ace64bd6dbe9f5d8a892f510e3ae5dec</td>\n",
              "      <td>0</td>\n",
              "      <td>NaN</td>\n",
              "      <td>2016-10-28T00:14:00.000+03:00</td>\n",
              "      <td>Donald Trump threatens to jail Hillary Clinton</td>\n",
              "      <td>Email \\nThe second presidential debate flew of...</td>\n",
              "      <td>english</td>\n",
              "      <td>2016-10-28T08:22:41.010+03:00</td>\n",
              "      <td>awdnews.com</td>\n",
              "      <td>DE</td>\n",
              "      <td>...</td>\n",
              "      <td>[donald, trump, threatens, to, jail, hillary, ...</td>\n",
              "      <td>[trump , said]</td>\n",
              "      <td>2016-10-28</td>\n",
              "      <td>18</td>\n",
              "      <td>[0.5466837882995605, -0.2601611018180847, -0.3...</td>\n",
              "      <td>[0.5603877305984497, -0.5979061126708984, -0.2...</td>\n",
              "      <td>donald trump threatens jail hillary clinton em...</td>\n",
              "      <td>{'neg': 0.112, 'neu': 0.734, 'pos': 0.154, 'co...</td>\n",
              "      <td>201610</td>\n",
              "      <td>63</td>\n",
              "    </tr>\n",
              "    <tr>\n",
              "      <th>964</th>\n",
              "      <td>a0ef6632a41fb4d8d6cb1f1c4b86730cc62bf8c4</td>\n",
              "      <td>0</td>\n",
              "      <td>NaN</td>\n",
              "      <td>2016-10-27T21:14:42.630+03:00</td>\n",
              "      <td>Donald Trump threatens to jail Hillary Clinton</td>\n",
              "      <td>Email \\nThe second presidential debate flew of...</td>\n",
              "      <td>english</td>\n",
              "      <td>2016-10-27T21:14:42.630+03:00</td>\n",
              "      <td>awdnews.com</td>\n",
              "      <td>DE</td>\n",
              "      <td>...</td>\n",
              "      <td>[donald, trump, threatens, to, jail, hillary, ...</td>\n",
              "      <td>[trump , said]</td>\n",
              "      <td>2016-10-27</td>\n",
              "      <td>17</td>\n",
              "      <td>[0.5466837882995605, -0.2601611018180847, -0.3...</td>\n",
              "      <td>[0.5603877305984497, -0.5979061126708984, -0.2...</td>\n",
              "      <td>donald trump threatens jail hillary clinton em...</td>\n",
              "      <td>{'neg': 0.112, 'neu': 0.734, 'pos': 0.154, 'co...</td>\n",
              "      <td>201610</td>\n",
              "      <td>62</td>\n",
              "    </tr>\n",
              "    <tr>\n",
              "      <th>959</th>\n",
              "      <td>62a33ca2aa94dede5212714fd0d31ffb3ee089e1</td>\n",
              "      <td>0</td>\n",
              "      <td>NaN</td>\n",
              "      <td>2016-10-27T21:14:42.443+03:00</td>\n",
              "      <td>Trump warns of World War III if Clinton is ele...</td>\n",
              "      <td>Email Donald Trump warned in an interview Tues...</td>\n",
              "      <td>english</td>\n",
              "      <td>2016-10-27T21:14:42.443+03:00</td>\n",
              "      <td>awdnews.com</td>\n",
              "      <td>DE</td>\n",
              "      <td>...</td>\n",
              "      <td>[trump, warns, of, world, war, iii, if, clinto...</td>\n",
              "      <td>[clinton , trump]</td>\n",
              "      <td>2016-10-27</td>\n",
              "      <td>13</td>\n",
              "      <td>[0.2085878998041153, -0.05753529816865921, -0....</td>\n",
              "      <td>[0.5466837882995605, -0.2601611018180847, -0.3...</td>\n",
              "      <td>trump warns world war iii clinton elected emai...</td>\n",
              "      <td>{'neg': 0.236, 'neu': 0.639, 'pos': 0.126, 'co...</td>\n",
              "      <td>201610</td>\n",
              "      <td>52</td>\n",
              "    </tr>\n",
              "    <tr>\n",
              "      <th>942</th>\n",
              "      <td>2cfaf1e2e4e967ebe6dbbb32575c0fcb21279bff</td>\n",
              "      <td>0</td>\n",
              "      <td>NaN</td>\n",
              "      <td>2016-10-27T21:11:23.336+03:00</td>\n",
              "      <td>Trump warns of World War III if Clinton is ele...</td>\n",
              "      <td>Email Donald Trump warned in an interview Tues...</td>\n",
              "      <td>english</td>\n",
              "      <td>2016-10-27T21:11:23.336+03:00</td>\n",
              "      <td>awdnews.com</td>\n",
              "      <td>DE</td>\n",
              "      <td>...</td>\n",
              "      <td>[trump, warns, of, world, war, iii, if, clinto...</td>\n",
              "      <td>[clinton , trump]</td>\n",
              "      <td>2016-10-27</td>\n",
              "      <td>13</td>\n",
              "      <td>[0.2085878998041153, -0.05753529816865921, -0....</td>\n",
              "      <td>[0.5466837882995605, -0.2601611018180847, -0.3...</td>\n",
              "      <td>trump warns world war iii clinton elected emai...</td>\n",
              "      <td>{'neg': 0.236, 'neu': 0.639, 'pos': 0.126, 'co...</td>\n",
              "      <td>201610</td>\n",
              "      <td>52</td>\n",
              "    </tr>\n",
              "    <tr>\n",
              "      <th>962</th>\n",
              "      <td>c82cae8e67e53cb9f294fb5d74aedb906d8262c1</td>\n",
              "      <td>0</td>\n",
              "      <td>NaN</td>\n",
              "      <td>2016-10-27T21:14:42.586+03:00</td>\n",
              "      <td>Trump: Hillary Clinton may be 'most corrupt pe...</td>\n",
              "      <td>Email \\nDonald Trump’s campaign debuted a dark...</td>\n",
              "      <td>english</td>\n",
              "      <td>2016-10-27T21:14:42.586+03:00</td>\n",
              "      <td>awdnews.com</td>\n",
              "      <td>DE</td>\n",
              "      <td>...</td>\n",
              "      <td>[trump, hillary, clinton, may, be, most, corru...</td>\n",
              "      <td>[clinton , foundation]</td>\n",
              "      <td>2016-10-27</td>\n",
              "      <td>11</td>\n",
              "      <td>[0.2085878998041153, -0.05753529816865921, -0....</td>\n",
              "      <td>[0.26165133714675903, -0.35987618565559387, -0...</td>\n",
              "      <td>trump hillary clinton may corrupt person ever ...</td>\n",
              "      <td>{'neg': 0.176, 'neu': 0.695, 'pos': 0.129, 'co...</td>\n",
              "      <td>201610</td>\n",
              "      <td>33</td>\n",
              "    </tr>\n",
              "    <tr>\n",
              "      <th>951</th>\n",
              "      <td>0457746a16bf1e39f178ae20fa2a6e517e2bca26</td>\n",
              "      <td>0</td>\n",
              "      <td>NaN</td>\n",
              "      <td>2016-10-27T18:48:00.000+03:00</td>\n",
              "      <td>Clinton cronies steered millions to foundation...</td>\n",
              "      <td>Email \\n\\nTwo Bill Clinton cronies used their ...</td>\n",
              "      <td>english</td>\n",
              "      <td>2016-10-27T21:12:26.781+03:00</td>\n",
              "      <td>awdnews.com</td>\n",
              "      <td>DE</td>\n",
              "      <td>...</td>\n",
              "      <td>[clinton, crony, steered, million, to, foundat...</td>\n",
              "      <td>[clinton , foundation]</td>\n",
              "      <td>2016-10-27</td>\n",
              "      <td>11</td>\n",
              "      <td>[0.2085878998041153, -0.05753529816865921, -0....</td>\n",
              "      <td>[0.26165133714675903, -0.35987618565559387, -0...</td>\n",
              "      <td>clinton cronies steered millions foundation bi...</td>\n",
              "      <td>{'neg': 0.015, 'neu': 0.861, 'pos': 0.124, 'co...</td>\n",
              "      <td>201610</td>\n",
              "      <td>33</td>\n",
              "    </tr>\n",
              "    <tr>\n",
              "      <th>410</th>\n",
              "      <td>6adb24b68e6aed2a8714ec173fd505cba931e14e</td>\n",
              "      <td>0</td>\n",
              "      <td>Kim Petersen</td>\n",
              "      <td>2016-11-02T02:00:00.000+02:00</td>\n",
              "      <td>Top Aide to Hillary Clinton Urges the FBI to D...</td>\n",
              "      <td>23 Shares\\n4 18 0 1\\nA top aide to Hillary Cli...</td>\n",
              "      <td>english</td>\n",
              "      <td>2016-11-02T18:25:52.607+02:00</td>\n",
              "      <td>ahtribune.com</td>\n",
              "      <td>DE</td>\n",
              "      <td>...</td>\n",
              "      <td>[top, aide, to, hillary, clinton, urge, the, f...</td>\n",
              "      <td>[clinton , trump]</td>\n",
              "      <td>2016-11-02</td>\n",
              "      <td>10</td>\n",
              "      <td>[0.2085878998041153, -0.05753529816865921, -0....</td>\n",
              "      <td>[0.5466837882995605, -0.2601611018180847, -0.3...</td>\n",
              "      <td>top aide hillary clinton urges fbi disclose kn...</td>\n",
              "      <td>{'neg': 0.096, 'neu': 0.81, 'pos': 0.094, 'com...</td>\n",
              "      <td>201611</td>\n",
              "      <td>49</td>\n",
              "    </tr>\n",
              "    <tr>\n",
              "      <th>967</th>\n",
              "      <td>ffe5085e4228287ae26ceedf6da29dea45857341</td>\n",
              "      <td>0</td>\n",
              "      <td>NaN</td>\n",
              "      <td>2016-10-28T00:26:00.000+03:00</td>\n",
              "      <td>Trump: Hillary Clinton may be 'most corrupt pe...</td>\n",
              "      <td>Email \\nDonald Trump’s campaign debuted a dark...</td>\n",
              "      <td>english</td>\n",
              "      <td>2016-10-28T08:22:35.868+03:00</td>\n",
              "      <td>awdnews.com</td>\n",
              "      <td>DE</td>\n",
              "      <td>...</td>\n",
              "      <td>[trump, hillary, clinton, may, be, most, corru...</td>\n",
              "      <td>[clinton , foundation]</td>\n",
              "      <td>2016-10-28</td>\n",
              "      <td>10</td>\n",
              "      <td>[0.2085878998041153, -0.05753529816865921, -0....</td>\n",
              "      <td>[0.26165133714675903, -0.35987618565559387, -0...</td>\n",
              "      <td>trump hillary clinton may corrupt person ever ...</td>\n",
              "      <td>{'neg': 0.176, 'neu': 0.695, 'pos': 0.129, 'co...</td>\n",
              "      <td>201610</td>\n",
              "      <td>33</td>\n",
              "    </tr>\n",
              "    <tr>\n",
              "      <th>659</th>\n",
              "      <td>0c9d01b2bc7e6e5be2ebecd52b54468b5bf1e731</td>\n",
              "      <td>0</td>\n",
              "      <td>Alex Ansary</td>\n",
              "      <td>2016-11-02T19:24:00.901+02:00</td>\n",
              "      <td>Warning or threat? Hillary hints at second civ...</td>\n",
              "      <td>Warning or threat? Hillary hints at second civ...</td>\n",
              "      <td>english</td>\n",
              "      <td>2016-11-02T19:24:00.901+02:00</td>\n",
              "      <td>amtvmedia.com</td>\n",
              "      <td>US</td>\n",
              "      <td>...</td>\n",
              "      <td>[warning, or, threat, hillary, hint, at, secon...</td>\n",
              "      <td>[clinton , trump]</td>\n",
              "      <td>2016-11-02</td>\n",
              "      <td>10</td>\n",
              "      <td>[0.2085878998041153, -0.05753529816865921, -0....</td>\n",
              "      <td>[0.5466837882995605, -0.2601611018180847, -0.3...</td>\n",
              "      <td>warning threat hillary hints second civil war ...</td>\n",
              "      <td>{'neg': 0.305, 'neu': 0.581, 'pos': 0.115, 'co...</td>\n",
              "      <td>201611</td>\n",
              "      <td>49</td>\n",
              "    </tr>\n",
              "    <tr>\n",
              "      <th>687</th>\n",
              "      <td>144fc0dba9ee289bf18660cf906c1e08cfaeb749</td>\n",
              "      <td>0</td>\n",
              "      <td>Alex Ansary</td>\n",
              "      <td>2016-11-07T20:01:08.682+02:00</td>\n",
              "      <td>Donald Trump kicks off final campaign day with...</td>\n",
              "      <td>Donald Trump kicks off final campaign day with...</td>\n",
              "      <td>english</td>\n",
              "      <td>2016-11-07T20:01:08.682+02:00</td>\n",
              "      <td>amtvmedia.com</td>\n",
              "      <td>US</td>\n",
              "      <td>...</td>\n",
              "      <td>[donald, trump, kick, off, final, campaign, da...</td>\n",
              "      <td>[trump , clinton]</td>\n",
              "      <td>2016-11-07</td>\n",
              "      <td>10</td>\n",
              "      <td>[0.5466837882995605, -0.2601611018180847, -0.3...</td>\n",
              "      <td>[0.2085878998041153, -0.05753529816865921, -0....</td>\n",
              "      <td>donald trump kicks final campaign day fla rall...</td>\n",
              "      <td>{'neg': 0.1, 'neu': 0.768, 'pos': 0.133, 'comp...</td>\n",
              "      <td>201611</td>\n",
              "      <td>84</td>\n",
              "    </tr>\n",
              "    <tr>\n",
              "      <th>413</th>\n",
              "      <td>ef0d1fd0d6be89d3cb4bc84a5c73dd6b0ada723a</td>\n",
              "      <td>0</td>\n",
              "      <td>Daniel Haiphong</td>\n",
              "      <td>2016-11-03T02:00:00.000+02:00</td>\n",
              "      <td>A New Email Investigation on Clinton Could Has...</td>\n",
              "      <td>20 Shares\\n1 18 0 1\\nThe two-party corporate d...</td>\n",
              "      <td>english</td>\n",
              "      <td>2016-11-03T17:33:26.977+02:00</td>\n",
              "      <td>ahtribune.com</td>\n",
              "      <td>DE</td>\n",
              "      <td>...</td>\n",
              "      <td>[a, new, email, investigation, on, clinton, co...</td>\n",
              "      <td>[clinton , trump]</td>\n",
              "      <td>2016-11-03</td>\n",
              "      <td>9</td>\n",
              "      <td>[0.2085878998041153, -0.05753529816865921, -0....</td>\n",
              "      <td>[0.5466837882995605, -0.2601611018180847, -0.3...</td>\n",
              "      <td>new email investigation clinton could hasten d...</td>\n",
              "      <td>{'neg': 0.175, 'neu': 0.668, 'pos': 0.156, 'co...</td>\n",
              "      <td>201611</td>\n",
              "      <td>49</td>\n",
              "    </tr>\n",
              "    <tr>\n",
              "      <th>440</th>\n",
              "      <td>702a23c7d314ef6ffe726f080b670a0ef5468837</td>\n",
              "      <td>0</td>\n",
              "      <td>Ludwig Watzal</td>\n",
              "      <td>2016-11-12T02:00:00.000+02:00</td>\n",
              "      <td>No Soul-searching by Liberals and US Presstitu...</td>\n",
              "      <td>5 Shares\\n4 0 0 1\\nSo-called liberals and left...</td>\n",
              "      <td>english</td>\n",
              "      <td>2016-11-13T02:59:52.262+02:00</td>\n",
              "      <td>ahtribune.com</td>\n",
              "      <td>DE</td>\n",
              "      <td>...</td>\n",
              "      <td>[no, soul, searching, by, liberal, and, u, pre...</td>\n",
              "      <td>[trump , clinton]</td>\n",
              "      <td>2016-11-12</td>\n",
              "      <td>9</td>\n",
              "      <td>[0.5466837882995605, -0.2601611018180847, -0.3...</td>\n",
              "      <td>[0.2085878998041153, -0.05753529816865921, -0....</td>\n",
              "      <td>soul searching liberals presstitutes clinton d...</td>\n",
              "      <td>{'neg': 0.169, 'neu': 0.658, 'pos': 0.173, 'co...</td>\n",
              "      <td>201611</td>\n",
              "      <td>78</td>\n",
              "    </tr>\n",
              "    <tr>\n",
              "      <th>13</th>\n",
              "      <td>c8d4c0a88af223f1b41e3e966ecd98ceb22ab5fb</td>\n",
              "      <td>0</td>\n",
              "      <td>Fed Up</td>\n",
              "      <td>2016-11-10T15:38:00.000+02:00</td>\n",
              "      <td>BOOM! MATH SHOWS Trump Would Have Beaten Obama...</td>\n",
              "      <td>Email For Republican politicians like Ohio Gov...</td>\n",
              "      <td>english</td>\n",
              "      <td>2016-11-10T16:25:14.079+02:00</td>\n",
              "      <td>100percentfedup.com</td>\n",
              "      <td>US</td>\n",
              "      <td>...</td>\n",
              "      <td>[boom, math, show, trump, would, have, beaten,...</td>\n",
              "      <td>[obama , trump]</td>\n",
              "      <td>2016-11-10</td>\n",
              "      <td>9</td>\n",
              "      <td>[0.46703431010246277, -0.4361998438835144, -0....</td>\n",
              "      <td>[0.5466837882995605, -0.2601611018180847, -0.3...</td>\n",
              "      <td>boom math shows trump would beaten obama romne...</td>\n",
              "      <td>{'neg': 0.151, 'neu': 0.762, 'pos': 0.087, 'co...</td>\n",
              "      <td>201611</td>\n",
              "      <td>15</td>\n",
              "    </tr>\n",
              "    <tr>\n",
              "      <th>566</th>\n",
              "      <td>dcab0fd7024a22210a7e5b95130d20ba9bc1fe37</td>\n",
              "      <td>0</td>\n",
              "      <td>Henry Wolff</td>\n",
              "      <td>2016-11-03T02:48:32.049+02:00</td>\n",
              "      <td>It’s Harder for Clinton Supporters to Respect ...</td>\n",
              "      <td>It’s Harder for Clinton Supporters to Respect ...</td>\n",
              "      <td>english</td>\n",
              "      <td>2016-11-03T02:48:32.049+02:00</td>\n",
              "      <td>amren.com</td>\n",
              "      <td>US</td>\n",
              "      <td>...</td>\n",
              "      <td>[it, s, harder, for, clinton, supporter, to, r...</td>\n",
              "      <td>[clinton , trump]</td>\n",
              "      <td>2016-11-03</td>\n",
              "      <td>9</td>\n",
              "      <td>[0.2085878998041153, -0.05753529816865921, -0....</td>\n",
              "      <td>[0.5466837882995605, -0.2601611018180847, -0.3...</td>\n",
              "      <td>harder clinton supporters respect trump backer...</td>\n",
              "      <td>{'neg': 0.106, 'neu': 0.631, 'pos': 0.264, 'co...</td>\n",
              "      <td>201611</td>\n",
              "      <td>49</td>\n",
              "    </tr>\n",
              "    <tr>\n",
              "      <th>39</th>\n",
              "      <td>92841a56f9f241e8d06164ab78c68925ab0ac82b</td>\n",
              "      <td>0</td>\n",
              "      <td>NaN</td>\n",
              "      <td>2016-11-04T15:33:00.000+02:00</td>\n",
              "      <td>WikiLeaks: Hillary Clinton knew Saudi, Qatar w...</td>\n",
              "      <td>\\n21st Century Wire says… \\nThis should be the...</td>\n",
              "      <td>english</td>\n",
              "      <td>2016-11-05T04:46:01.202+02:00</td>\n",
              "      <td>21stcenturywire.com</td>\n",
              "      <td>US</td>\n",
              "      <td>...</td>\n",
              "      <td>[wikileaks, hillary, clinton, knew, saudi, qat...</td>\n",
              "      <td>[clinton , foundation]</td>\n",
              "      <td>2016-11-04</td>\n",
              "      <td>8</td>\n",
              "      <td>[0.2085878998041153, -0.05753529816865921, -0....</td>\n",
              "      <td>[0.26165133714675903, -0.35987618565559387, -0...</td>\n",
              "      <td>wikileaks hillary clinton knew saudi qatar fun...</td>\n",
              "      <td>{'neg': 0.061, 'neu': 0.793, 'pos': 0.146, 'co...</td>\n",
              "      <td>201611</td>\n",
              "      <td>27</td>\n",
              "    </tr>\n",
              "  </tbody>\n",
              "</table>\n",
              "<p>20 rows × 31 columns</p>\n",
              "</div>"
            ],
            "text/plain": [
              "                                         uuid  ord_in_thread           author  \\\n",
              "53   a36405a8d7d32c2192b9a9b482dcf0ebc83c62eb              0      Mike Rivero   \n",
              "26   c1a86b752a21196a06591d5a785fa29b14fab245              0         EdJenner   \n",
              "980  29aa6e6c0aa6e47a2ee80e18b8ddc031657425b0              0              NaN   \n",
              "988  b2e81b8debd3ca29f942d34b781126c07e427194              0              NaN   \n",
              "631  7e8e053bbe2ed4978c6b8a69c58fb0441fd4cbf8              0      Alex Ansary   \n",
              "968  cb64c208ace64bd6dbe9f5d8a892f510e3ae5dec              0              NaN   \n",
              "964  a0ef6632a41fb4d8d6cb1f1c4b86730cc62bf8c4              0              NaN   \n",
              "959  62a33ca2aa94dede5212714fd0d31ffb3ee089e1              0              NaN   \n",
              "942  2cfaf1e2e4e967ebe6dbbb32575c0fcb21279bff              0              NaN   \n",
              "962  c82cae8e67e53cb9f294fb5d74aedb906d8262c1              0              NaN   \n",
              "951  0457746a16bf1e39f178ae20fa2a6e517e2bca26              0              NaN   \n",
              "410  6adb24b68e6aed2a8714ec173fd505cba931e14e              0     Kim Petersen   \n",
              "967  ffe5085e4228287ae26ceedf6da29dea45857341              0              NaN   \n",
              "659  0c9d01b2bc7e6e5be2ebecd52b54468b5bf1e731              0      Alex Ansary   \n",
              "687  144fc0dba9ee289bf18660cf906c1e08cfaeb749              0      Alex Ansary   \n",
              "413  ef0d1fd0d6be89d3cb4bc84a5c73dd6b0ada723a              0  Daniel Haiphong   \n",
              "440  702a23c7d314ef6ffe726f080b670a0ef5468837              0    Ludwig Watzal   \n",
              "13   c8d4c0a88af223f1b41e3e966ecd98ceb22ab5fb              0           Fed Up   \n",
              "566  dcab0fd7024a22210a7e5b95130d20ba9bc1fe37              0      Henry Wolff   \n",
              "39   92841a56f9f241e8d06164ab78c68925ab0ac82b              0              NaN   \n",
              "\n",
              "                         published  \\\n",
              "53   2016-11-23T00:49:00.000+02:00   \n",
              "26   2016-11-22T08:17:53.961+02:00   \n",
              "980  2016-10-28T18:34:48.985+03:00   \n",
              "988  2016-10-28T18:40:18.626+03:00   \n",
              "631  2016-10-31T19:54:37.665+02:00   \n",
              "968  2016-10-28T00:14:00.000+03:00   \n",
              "964  2016-10-27T21:14:42.630+03:00   \n",
              "959  2016-10-27T21:14:42.443+03:00   \n",
              "942  2016-10-27T21:11:23.336+03:00   \n",
              "962  2016-10-27T21:14:42.586+03:00   \n",
              "951  2016-10-27T18:48:00.000+03:00   \n",
              "410  2016-11-02T02:00:00.000+02:00   \n",
              "967  2016-10-28T00:26:00.000+03:00   \n",
              "659  2016-11-02T19:24:00.901+02:00   \n",
              "687  2016-11-07T20:01:08.682+02:00   \n",
              "413  2016-11-03T02:00:00.000+02:00   \n",
              "440  2016-11-12T02:00:00.000+02:00   \n",
              "13   2016-11-10T15:38:00.000+02:00   \n",
              "566  2016-11-03T02:48:32.049+02:00   \n",
              "39   2016-11-04T15:33:00.000+02:00   \n",
              "\n",
              "                                                 title  \\\n",
              "53   FLASHBACK - Hillary Clinton’s ‘KKK’ Smear Agai...   \n",
              "26   DONALD TRUMP Calls Meeting With Press…Dresses ...   \n",
              "980  FEAR OF TRUMP: BUSH, OBAMA, CLINTON ALL BUYING...   \n",
              "988  FEAR OF TRUMP: BUSH, OBAMA, CLINTON ALL BUYING...   \n",
              "631                         Get Ready For Civil Unrest   \n",
              "968     Donald Trump threatens to jail Hillary Clinton   \n",
              "964     Donald Trump threatens to jail Hillary Clinton   \n",
              "959  Trump warns of World War III if Clinton is ele...   \n",
              "942  Trump warns of World War III if Clinton is ele...   \n",
              "962  Trump: Hillary Clinton may be 'most corrupt pe...   \n",
              "951  Clinton cronies steered millions to foundation...   \n",
              "410  Top Aide to Hillary Clinton Urges the FBI to D...   \n",
              "967  Trump: Hillary Clinton may be 'most corrupt pe...   \n",
              "659  Warning or threat? Hillary hints at second civ...   \n",
              "687  Donald Trump kicks off final campaign day with...   \n",
              "413  A New Email Investigation on Clinton Could Has...   \n",
              "440  No Soul-searching by Liberals and US Presstitu...   \n",
              "13   BOOM! MATH SHOWS Trump Would Have Beaten Obama...   \n",
              "566  It’s Harder for Clinton Supporters to Respect ...   \n",
              "39   WikiLeaks: Hillary Clinton knew Saudi, Qatar w...   \n",
              "\n",
              "                                                  text language  \\\n",
              "53   November 21, 2016 By 21wire Leave a Comment \\n...  english   \n",
              "26   Go to Article \\nThey had to know they had it c...  english   \n",
              "980  Email \\n\\nIt appears Bill and Hillary Clinton ...  english   \n",
              "988  Email \\n\\nIt appears Bill and Hillary Clinton ...  english   \n",
              "631  Get Ready For Civil Unrest 10/31/2016 \\nECONOM...  english   \n",
              "968  Email \\nThe second presidential debate flew of...  english   \n",
              "964  Email \\nThe second presidential debate flew of...  english   \n",
              "959  Email Donald Trump warned in an interview Tues...  english   \n",
              "942  Email Donald Trump warned in an interview Tues...  english   \n",
              "962  Email \\nDonald Trump’s campaign debuted a dark...  english   \n",
              "951  Email \\n\\nTwo Bill Clinton cronies used their ...  english   \n",
              "410  23 Shares\\n4 18 0 1\\nA top aide to Hillary Cli...  english   \n",
              "967  Email \\nDonald Trump’s campaign debuted a dark...  english   \n",
              "659  Warning or threat? Hillary hints at second civ...  english   \n",
              "687  Donald Trump kicks off final campaign day with...  english   \n",
              "413  20 Shares\\n1 18 0 1\\nThe two-party corporate d...  english   \n",
              "440  5 Shares\\n4 0 0 1\\nSo-called liberals and left...  english   \n",
              "13   Email For Republican politicians like Ohio Gov...  english   \n",
              "566  It’s Harder for Clinton Supporters to Respect ...  english   \n",
              "39   \\n21st Century Wire says… \\nThis should be the...  english   \n",
              "\n",
              "                           crawled             site_url country    ...      \\\n",
              "53   2016-11-23T01:36:58.899+02:00  21stcenturywire.com      US    ...       \n",
              "26   2016-11-22T08:17:53.961+02:00  100percentfedup.com      US    ...       \n",
              "980  2016-10-28T18:34:48.985+03:00          awdnews.com      DE    ...       \n",
              "988  2016-10-28T18:40:18.626+03:00          awdnews.com      DE    ...       \n",
              "631  2016-10-31T19:54:37.665+02:00        amtvmedia.com      US    ...       \n",
              "968  2016-10-28T08:22:41.010+03:00          awdnews.com      DE    ...       \n",
              "964  2016-10-27T21:14:42.630+03:00          awdnews.com      DE    ...       \n",
              "959  2016-10-27T21:14:42.443+03:00          awdnews.com      DE    ...       \n",
              "942  2016-10-27T21:11:23.336+03:00          awdnews.com      DE    ...       \n",
              "962  2016-10-27T21:14:42.586+03:00          awdnews.com      DE    ...       \n",
              "951  2016-10-27T21:12:26.781+03:00          awdnews.com      DE    ...       \n",
              "410  2016-11-02T18:25:52.607+02:00        ahtribune.com      DE    ...       \n",
              "967  2016-10-28T08:22:35.868+03:00          awdnews.com      DE    ...       \n",
              "659  2016-11-02T19:24:00.901+02:00        amtvmedia.com      US    ...       \n",
              "687  2016-11-07T20:01:08.682+02:00        amtvmedia.com      US    ...       \n",
              "413  2016-11-03T17:33:26.977+02:00        ahtribune.com      DE    ...       \n",
              "440  2016-11-13T02:59:52.262+02:00        ahtribune.com      DE    ...       \n",
              "13   2016-11-10T16:25:14.079+02:00  100percentfedup.com      US    ...       \n",
              "566  2016-11-03T02:48:32.049+02:00            amren.com      US    ...       \n",
              "39   2016-11-05T04:46:01.202+02:00  21stcenturywire.com      US    ...       \n",
              "\n",
              "                                  text_distilled_lemma  \\\n",
              "53   [flashback, hillary, clinton, s, kkk, smear, a...   \n",
              "26   [donald, trump, call, meeting, with, press, dr...   \n",
              "980  [fear, of, trump, bush, obama, clinton, all, b...   \n",
              "988  [fear, of, trump, bush, obama, clinton, all, b...   \n",
              "631  [get, ready, for, civil, unrest, get, ready, f...   \n",
              "968  [donald, trump, threatens, to, jail, hillary, ...   \n",
              "964  [donald, trump, threatens, to, jail, hillary, ...   \n",
              "959  [trump, warns, of, world, war, iii, if, clinto...   \n",
              "942  [trump, warns, of, world, war, iii, if, clinto...   \n",
              "962  [trump, hillary, clinton, may, be, most, corru...   \n",
              "951  [clinton, crony, steered, million, to, foundat...   \n",
              "410  [top, aide, to, hillary, clinton, urge, the, f...   \n",
              "967  [trump, hillary, clinton, may, be, most, corru...   \n",
              "659  [warning, or, threat, hillary, hint, at, secon...   \n",
              "687  [donald, trump, kick, off, final, campaign, da...   \n",
              "413  [a, new, email, investigation, on, clinton, co...   \n",
              "440  [no, soul, searching, by, liberal, and, u, pre...   \n",
              "13   [boom, math, show, trump, would, have, beaten,...   \n",
              "566  [it, s, harder, for, clinton, supporter, to, r...   \n",
              "39   [wikileaks, hillary, clinton, knew, saudi, qat...   \n",
              "\n",
              "                     topics        date coverage  \\\n",
              "53             [mr , trump]  2016-11-23       41   \n",
              "26           [trump , said]  2016-11-22       23   \n",
              "980       [trump , clinton]  2016-10-28       20   \n",
              "988       [trump , clinton]  2016-10-28       20   \n",
              "631       [trump , clinton]  2016-10-31       18   \n",
              "968          [trump , said]  2016-10-28       18   \n",
              "964          [trump , said]  2016-10-27       17   \n",
              "959       [clinton , trump]  2016-10-27       13   \n",
              "942       [clinton , trump]  2016-10-27       13   \n",
              "962  [clinton , foundation]  2016-10-27       11   \n",
              "951  [clinton , foundation]  2016-10-27       11   \n",
              "410       [clinton , trump]  2016-11-02       10   \n",
              "967  [clinton , foundation]  2016-10-28       10   \n",
              "659       [clinton , trump]  2016-11-02       10   \n",
              "687       [trump , clinton]  2016-11-07       10   \n",
              "413       [clinton , trump]  2016-11-03        9   \n",
              "440       [trump , clinton]  2016-11-12        9   \n",
              "13          [obama , trump]  2016-11-10        9   \n",
              "566       [clinton , trump]  2016-11-03        9   \n",
              "39   [clinton , foundation]  2016-11-04        8   \n",
              "\n",
              "                                               topic_0  \\\n",
              "53   [0.6522071361541748, -0.6524747014045715, -0.3...   \n",
              "26   [0.5466837882995605, -0.2601611018180847, -0.3...   \n",
              "980  [0.5466837882995605, -0.2601611018180847, -0.3...   \n",
              "988  [0.5466837882995605, -0.2601611018180847, -0.3...   \n",
              "631  [0.5466837882995605, -0.2601611018180847, -0.3...   \n",
              "968  [0.5466837882995605, -0.2601611018180847, -0.3...   \n",
              "964  [0.5466837882995605, -0.2601611018180847, -0.3...   \n",
              "959  [0.2085878998041153, -0.05753529816865921, -0....   \n",
              "942  [0.2085878998041153, -0.05753529816865921, -0....   \n",
              "962  [0.2085878998041153, -0.05753529816865921, -0....   \n",
              "951  [0.2085878998041153, -0.05753529816865921, -0....   \n",
              "410  [0.2085878998041153, -0.05753529816865921, -0....   \n",
              "967  [0.2085878998041153, -0.05753529816865921, -0....   \n",
              "659  [0.2085878998041153, -0.05753529816865921, -0....   \n",
              "687  [0.5466837882995605, -0.2601611018180847, -0.3...   \n",
              "413  [0.2085878998041153, -0.05753529816865921, -0....   \n",
              "440  [0.5466837882995605, -0.2601611018180847, -0.3...   \n",
              "13   [0.46703431010246277, -0.4361998438835144, -0....   \n",
              "566  [0.2085878998041153, -0.05753529816865921, -0....   \n",
              "39   [0.2085878998041153, -0.05753529816865921, -0....   \n",
              "\n",
              "                                               topic_1  \\\n",
              "53   [0.5466837882995605, -0.2601611018180847, -0.3...   \n",
              "26   [0.5603877305984497, -0.5979061126708984, -0.2...   \n",
              "980  [0.2085878998041153, -0.05753529816865921, -0....   \n",
              "988  [0.2085878998041153, -0.05753529816865921, -0....   \n",
              "631  [0.2085878998041153, -0.05753529816865921, -0....   \n",
              "968  [0.5603877305984497, -0.5979061126708984, -0.2...   \n",
              "964  [0.5603877305984497, -0.5979061126708984, -0.2...   \n",
              "959  [0.5466837882995605, -0.2601611018180847, -0.3...   \n",
              "942  [0.5466837882995605, -0.2601611018180847, -0.3...   \n",
              "962  [0.26165133714675903, -0.35987618565559387, -0...   \n",
              "951  [0.26165133714675903, -0.35987618565559387, -0...   \n",
              "410  [0.5466837882995605, -0.2601611018180847, -0.3...   \n",
              "967  [0.26165133714675903, -0.35987618565559387, -0...   \n",
              "659  [0.5466837882995605, -0.2601611018180847, -0.3...   \n",
              "687  [0.2085878998041153, -0.05753529816865921, -0....   \n",
              "413  [0.5466837882995605, -0.2601611018180847, -0.3...   \n",
              "440  [0.2085878998041153, -0.05753529816865921, -0....   \n",
              "13   [0.5466837882995605, -0.2601611018180847, -0.3...   \n",
              "566  [0.5466837882995605, -0.2601611018180847, -0.3...   \n",
              "39   [0.26165133714675903, -0.35987618565559387, -0...   \n",
              "\n",
              "                                 text_distilled_joined  \\\n",
              "53   flashback hillary clinton kkk smear trump demo...   \n",
              "26   donald trump calls meeting press dresses real ...   \n",
              "980  fear trump bush obama clinton buying property ...   \n",
              "988  fear trump bush obama clinton buying property ...   \n",
              "631  get ready civil unrest get ready civil unrest ...   \n",
              "968  donald trump threatens jail hillary clinton em...   \n",
              "964  donald trump threatens jail hillary clinton em...   \n",
              "959  trump warns world war iii clinton elected emai...   \n",
              "942  trump warns world war iii clinton elected emai...   \n",
              "962  trump hillary clinton may corrupt person ever ...   \n",
              "951  clinton cronies steered millions foundation bi...   \n",
              "410  top aide hillary clinton urges fbi disclose kn...   \n",
              "967  trump hillary clinton may corrupt person ever ...   \n",
              "659  warning threat hillary hints second civil war ...   \n",
              "687  donald trump kicks final campaign day fla rall...   \n",
              "413  new email investigation clinton could hasten d...   \n",
              "440  soul searching liberals presstitutes clinton d...   \n",
              "13   boom math shows trump would beaten obama romne...   \n",
              "566  harder clinton supporters respect trump backer...   \n",
              "39   wikileaks hillary clinton knew saudi qatar fun...   \n",
              "\n",
              "                                             sentiment  date_int coverage60  \n",
              "53   {'neg': 0.141, 'neu': 0.737, 'pos': 0.122, 'co...    201611        118  \n",
              "26   {'neg': 0.217, 'neu': 0.719, 'pos': 0.064, 'co...    201611         67  \n",
              "980  {'neg': 0.107, 'neu': 0.745, 'pos': 0.148, 'co...    201610         97  \n",
              "988  {'neg': 0.107, 'neu': 0.745, 'pos': 0.148, 'co...    201610         97  \n",
              "631  {'neg': 0.171, 'neu': 0.686, 'pos': 0.143, 'co...    201610         95  \n",
              "968  {'neg': 0.112, 'neu': 0.734, 'pos': 0.154, 'co...    201610         63  \n",
              "964  {'neg': 0.112, 'neu': 0.734, 'pos': 0.154, 'co...    201610         62  \n",
              "959  {'neg': 0.236, 'neu': 0.639, 'pos': 0.126, 'co...    201610         52  \n",
              "942  {'neg': 0.236, 'neu': 0.639, 'pos': 0.126, 'co...    201610         52  \n",
              "962  {'neg': 0.176, 'neu': 0.695, 'pos': 0.129, 'co...    201610         33  \n",
              "951  {'neg': 0.015, 'neu': 0.861, 'pos': 0.124, 'co...    201610         33  \n",
              "410  {'neg': 0.096, 'neu': 0.81, 'pos': 0.094, 'com...    201611         49  \n",
              "967  {'neg': 0.176, 'neu': 0.695, 'pos': 0.129, 'co...    201610         33  \n",
              "659  {'neg': 0.305, 'neu': 0.581, 'pos': 0.115, 'co...    201611         49  \n",
              "687  {'neg': 0.1, 'neu': 0.768, 'pos': 0.133, 'comp...    201611         84  \n",
              "413  {'neg': 0.175, 'neu': 0.668, 'pos': 0.156, 'co...    201611         49  \n",
              "440  {'neg': 0.169, 'neu': 0.658, 'pos': 0.173, 'co...    201611         78  \n",
              "13   {'neg': 0.151, 'neu': 0.762, 'pos': 0.087, 'co...    201611         15  \n",
              "566  {'neg': 0.106, 'neu': 0.631, 'pos': 0.264, 'co...    201611         49  \n",
              "39   {'neg': 0.061, 'neu': 0.793, 'pos': 0.146, 'co...    201611         27  \n",
              "\n",
              "[20 rows x 31 columns]"
            ]
          },
          "metadata": {
            "tags": []
          },
          "execution_count": 121
        }
      ]
    },
    {
      "metadata": {
        "id": "ntHZZBZre56u",
        "colab_type": "text"
      },
      "cell_type": "markdown",
      "source": [
        "Counting number of articles with coverage scores above 1"
      ]
    },
    {
      "metadata": {
        "id": "2PcffI6Oe9-9",
        "colab_type": "code",
        "outputId": "1f643b8b-11c8-4f05-96f8-457b6151beb1",
        "colab": {
          "base_uri": "https://localhost:8080/",
          "height": 34
        }
      },
      "cell_type": "code",
      "source": [
        "len(data_kaggle[data_kaggle['coverage60']>1])"
      ],
      "execution_count": 0,
      "outputs": [
        {
          "output_type": "execute_result",
          "data": {
            "text/plain": [
              "94"
            ]
          },
          "metadata": {
            "tags": []
          },
          "execution_count": 122
        }
      ]
    },
    {
      "metadata": {
        "id": "AhnJaXY8cVtD",
        "colab_type": "text"
      },
      "cell_type": "markdown",
      "source": [
        "### 7.18 Testing on Non-Fake News\n",
        "\n",
        "The coverage scores (with window = 60 days) are compared between fake news dataset and \"All news\" non-fake news dataset. Since window of 60 days are chosen for fake news dataset, the same window is chosen for non-fake datasets for consistency."
      ]
    },
    {
      "metadata": {
        "id": "vbcKaZ3MdNBz",
        "colab_type": "code",
        "outputId": "0b30d57c-f7d5-4582-e290-477b247a307b",
        "colab": {
          "base_uri": "https://localhost:8080/",
          "height": 239
        }
      },
      "cell_type": "code",
      "source": [
        "non_fake_data = all_kaggle[:100]\n",
        "\n",
        "non_fake_data[ 'coverage60' ] = non_fake_data.apply( coverage60, axis=1 )"
      ],
      "execution_count": 0,
      "outputs": [
        {
          "output_type": "stream",
          "text": [
            "/usr/local/lib/python3.6/dist-packages/ipykernel_launcher.py:5: SettingWithCopyWarning: \n",
            "A value is trying to be set on a copy of a slice from a DataFrame.\n",
            "Try using .loc[row_indexer,col_indexer] = value instead\n",
            "\n",
            "See the caveats in the documentation: http://pandas.pydata.org/pandas-docs/stable/indexing.html#indexing-view-versus-copy\n",
            "  \"\"\"\n",
            "/usr/local/lib/python3.6/dist-packages/ipykernel_launcher.py:3: SettingWithCopyWarning: \n",
            "A value is trying to be set on a copy of a slice from a DataFrame.\n",
            "Try using .loc[row_indexer,col_indexer] = value instead\n",
            "\n",
            "See the caveats in the documentation: http://pandas.pydata.org/pandas-docs/stable/indexing.html#indexing-view-versus-copy\n",
            "  This is separate from the ipykernel package so we can avoid doing imports until\n"
          ],
          "name": "stderr"
        }
      ]
    },
    {
      "metadata": {
        "id": "XjnAL_cxebSx",
        "colab_type": "code",
        "outputId": "6078eae3-5760-4749-f71a-b8ca2e33746c",
        "colab": {
          "base_uri": "https://localhost:8080/",
          "height": 3841
        }
      },
      "cell_type": "code",
      "source": [
        "non_fake_data.sort_values(by=['coverage60'], ascending=False ).head(40)"
      ],
      "execution_count": 0,
      "outputs": [
        {
          "output_type": "execute_result",
          "data": {
            "text/html": [
              "<div>\n",
              "<style scoped>\n",
              "    .dataframe tbody tr th:only-of-type {\n",
              "        vertical-align: middle;\n",
              "    }\n",
              "\n",
              "    .dataframe tbody tr th {\n",
              "        vertical-align: top;\n",
              "    }\n",
              "\n",
              "    .dataframe thead th {\n",
              "        text-align: right;\n",
              "    }\n",
              "</style>\n",
              "<table border=\"1\" class=\"dataframe\">\n",
              "  <thead>\n",
              "    <tr style=\"text-align: right;\">\n",
              "      <th></th>\n",
              "      <th>Unnamed: 0</th>\n",
              "      <th>id</th>\n",
              "      <th>title</th>\n",
              "      <th>publication</th>\n",
              "      <th>author</th>\n",
              "      <th>date</th>\n",
              "      <th>year</th>\n",
              "      <th>month</th>\n",
              "      <th>url</th>\n",
              "      <th>content</th>\n",
              "      <th>text_distilled</th>\n",
              "      <th>topics</th>\n",
              "      <th>coverage60</th>\n",
              "    </tr>\n",
              "  </thead>\n",
              "  <tbody>\n",
              "    <tr>\n",
              "      <th>43</th>\n",
              "      <td>43</td>\n",
              "      <td>17334</td>\n",
              "      <td>Trump Appears to Side With Assange Over Intell...</td>\n",
              "      <td>New York Times</td>\n",
              "      <td>Scott Shane, Maggie Haberman and Julie Hirschf...</td>\n",
              "      <td>2017-01-05</td>\n",
              "      <td>2017.0</td>\n",
              "      <td>1.0</td>\n",
              "      <td>NaN</td>\n",
              "      <td>■   Donald J. Trump appears to side with the W...</td>\n",
              "      <td>[trump, appears, side, assange, intelligence, ...</td>\n",
              "      <td>[mr , trump]</td>\n",
              "      <td>155</td>\n",
              "    </tr>\n",
              "    <tr>\n",
              "      <th>93</th>\n",
              "      <td>93</td>\n",
              "      <td>17392</td>\n",
              "      <td>Trump Takes on Democrats and Health Law in New...</td>\n",
              "      <td>New York Times</td>\n",
              "      <td>Julie Hirschfeld Davis</td>\n",
              "      <td>2017-01-06</td>\n",
              "      <td>2017.0</td>\n",
              "      <td>1.0</td>\n",
              "      <td>NaN</td>\n",
              "      <td>WASHINGTON  —     Donald J. Trump lashed out a...</td>\n",
              "      <td>[trump, take, democrat, health, law, new, twit...</td>\n",
              "      <td>[mr , trump]</td>\n",
              "      <td>155</td>\n",
              "    </tr>\n",
              "    <tr>\n",
              "      <th>12</th>\n",
              "      <td>12</td>\n",
              "      <td>17295</td>\n",
              "      <td>Mar-a-Lago, the Future Winter White House and ...</td>\n",
              "      <td>New York Times</td>\n",
              "      <td>Maggie Haberman</td>\n",
              "      <td>2017-01-02</td>\n",
              "      <td>2017.0</td>\n",
              "      <td>1.0</td>\n",
              "      <td>NaN</td>\n",
              "      <td>WEST PALM BEACH, Fla.  —   When   Donald J. Tr...</td>\n",
              "      <td>[mar, lago, future, winter, white, house, home...</td>\n",
              "      <td>[mr , trump]</td>\n",
              "      <td>152</td>\n",
              "    </tr>\n",
              "    <tr>\n",
              "      <th>77</th>\n",
              "      <td>77</td>\n",
              "      <td>17373</td>\n",
              "      <td>Enough With the Tweets, China’s State Media Te...</td>\n",
              "      <td>New York Times</td>\n",
              "      <td>Chris Buckley</td>\n",
              "      <td>2017-01-05</td>\n",
              "      <td>2017.0</td>\n",
              "      <td>1.0</td>\n",
              "      <td>NaN</td>\n",
              "      <td>BEIJING  —   China’s leaders thought they had ...</td>\n",
              "      <td>[enough, tweet, china, state, medium, tell, tr...</td>\n",
              "      <td>[trump , mr]</td>\n",
              "      <td>75</td>\n",
              "    </tr>\n",
              "    <tr>\n",
              "      <th>10</th>\n",
              "      <td>10</td>\n",
              "      <td>17293</td>\n",
              "      <td>Weak Federal Powers Could Limit Trump’s Climat...</td>\n",
              "      <td>New York Times</td>\n",
              "      <td>Justin Gillis</td>\n",
              "      <td>2017-01-03</td>\n",
              "      <td>2017.0</td>\n",
              "      <td>1.0</td>\n",
              "      <td>NaN</td>\n",
              "      <td>With Donald J. Trump about to take control of ...</td>\n",
              "      <td>[weak, federal, power, could, limit, trump, cl...</td>\n",
              "      <td>[trump , mr]</td>\n",
              "      <td>75</td>\n",
              "    </tr>\n",
              "    <tr>\n",
              "      <th>17</th>\n",
              "      <td>17</td>\n",
              "      <td>17301</td>\n",
              "      <td>Modi’s Cash Ban Brings Pain, but Corruption-We...</td>\n",
              "      <td>New York Times</td>\n",
              "      <td>Geeta Anand</td>\n",
              "      <td>2017-01-02</td>\n",
              "      <td>2017.0</td>\n",
              "      <td>1.0</td>\n",
              "      <td>NaN</td>\n",
              "      <td>MUMBAI, India  —   It was a bold and risky gam...</td>\n",
              "      <td>[modi, cash, ban, brings, pain, corruption, we...</td>\n",
              "      <td>[mr , said]</td>\n",
              "      <td>45</td>\n",
              "    </tr>\n",
              "    <tr>\n",
              "      <th>4</th>\n",
              "      <td>4</td>\n",
              "      <td>17287</td>\n",
              "      <td>Kim Jong-un Says North Korea Is Preparing to T...</td>\n",
              "      <td>New York Times</td>\n",
              "      <td>Choe Sang-Hun</td>\n",
              "      <td>2017-01-02</td>\n",
              "      <td>2017.0</td>\n",
              "      <td>1.0</td>\n",
              "      <td>NaN</td>\n",
              "      <td>SEOUL, South Korea  —   North Korea’s leader, ...</td>\n",
              "      <td>[kim, jong, un, say, north, korea, preparing, ...</td>\n",
              "      <td>[north , korea]</td>\n",
              "      <td>19</td>\n",
              "    </tr>\n",
              "    <tr>\n",
              "      <th>29</th>\n",
              "      <td>29</td>\n",
              "      <td>17317</td>\n",
              "      <td>The Afghan War and the Evolution of Obama - Th...</td>\n",
              "      <td>New York Times</td>\n",
              "      <td>Mark Landler</td>\n",
              "      <td>2017-01-17</td>\n",
              "      <td>2017.0</td>\n",
              "      <td>1.0</td>\n",
              "      <td>NaN</td>\n",
              "      <td>WASHINGTON  —   President Obama’s advisers wre...</td>\n",
              "      <td>[afghan, war, evolution, obama, new, york, tim...</td>\n",
              "      <td>[mr , obama]</td>\n",
              "      <td>15</td>\n",
              "    </tr>\n",
              "    <tr>\n",
              "      <th>16</th>\n",
              "      <td>16</td>\n",
              "      <td>17300</td>\n",
              "      <td>Dylann Roof Himself Rejects Best Defense Again...</td>\n",
              "      <td>New York Times</td>\n",
              "      <td>Kevin Sack and Alan Blinder</td>\n",
              "      <td>2017-01-02</td>\n",
              "      <td>2017.0</td>\n",
              "      <td>1.0</td>\n",
              "      <td>NaN</td>\n",
              "      <td>pages into the   journal found in Dylann S. ...</td>\n",
              "      <td>[dylann, roof, reject, best, defense, executio...</td>\n",
              "      <td>[mr , roof]</td>\n",
              "      <td>6</td>\n",
              "    </tr>\n",
              "    <tr>\n",
              "      <th>62</th>\n",
              "      <td>62</td>\n",
              "      <td>17355</td>\n",
              "      <td>Dylann Roof, Addressing Court, Offers No Apolo...</td>\n",
              "      <td>New York Times</td>\n",
              "      <td>Alan Blinder and Kevin Sack</td>\n",
              "      <td>2017-01-06</td>\n",
              "      <td>2017.0</td>\n",
              "      <td>1.0</td>\n",
              "      <td>NaN</td>\n",
              "      <td>CHARLESTON, S. C.  —   Seeming to abdicate one...</td>\n",
              "      <td>[dylann, roof, addressing, court, offer, apolo...</td>\n",
              "      <td>[mr , roof]</td>\n",
              "      <td>6</td>\n",
              "    </tr>\n",
              "    <tr>\n",
              "      <th>25</th>\n",
              "      <td>25</td>\n",
              "      <td>17311</td>\n",
              "      <td>Republicans Stonewalled Obama. Now the Ball Is...</td>\n",
              "      <td>New York Times</td>\n",
              "      <td>Carl Hulse</td>\n",
              "      <td>2017-01-03</td>\n",
              "      <td>2017.0</td>\n",
              "      <td>1.0</td>\n",
              "      <td>NaN</td>\n",
              "      <td>WASHINGTON  —   It’s   or   time for Republica...</td>\n",
              "      <td>[republican, stonewalled, obama, ball, court, ...</td>\n",
              "      <td>[republican , house]</td>\n",
              "      <td>5</td>\n",
              "    </tr>\n",
              "    <tr>\n",
              "      <th>41</th>\n",
              "      <td>41</td>\n",
              "      <td>17332</td>\n",
              "      <td>Turmoil Overshadows First Day of Republican-Co...</td>\n",
              "      <td>New York Times</td>\n",
              "      <td>Jennifer Steinhauer and Robert Pear</td>\n",
              "      <td>2017-01-04</td>\n",
              "      <td>2017.0</td>\n",
              "      <td>1.0</td>\n",
              "      <td>NaN</td>\n",
              "      <td>WASHINGTON  —   The   Congress opened the turb...</td>\n",
              "      <td>[turmoil, overshadows, first, day, republican,...</td>\n",
              "      <td>[republican , house]</td>\n",
              "      <td>5</td>\n",
              "    </tr>\n",
              "    <tr>\n",
              "      <th>59</th>\n",
              "      <td>59</td>\n",
              "      <td>17352</td>\n",
              "      <td>In Republicans’ Ethics Office Gambit, a Specta...</td>\n",
              "      <td>New York Times</td>\n",
              "      <td>Carl Hulse</td>\n",
              "      <td>2017-01-05</td>\n",
              "      <td>2017.0</td>\n",
              "      <td>1.0</td>\n",
              "      <td>NaN</td>\n",
              "      <td>WASHINGTON  —   Majorities in Congress often o...</td>\n",
              "      <td>[republican, ethic, office, gambit, spectacle,...</td>\n",
              "      <td>[republican , house]</td>\n",
              "      <td>5</td>\n",
              "    </tr>\n",
              "    <tr>\n",
              "      <th>60</th>\n",
              "      <td>60</td>\n",
              "      <td>17353</td>\n",
              "      <td>Ivanka Trump’s New Washington Home Once Belong...</td>\n",
              "      <td>New York Times</td>\n",
              "      <td>Julie Hirschfeld Davis</td>\n",
              "      <td>2017-01-23</td>\n",
              "      <td>2017.0</td>\n",
              "      <td>1.0</td>\n",
              "      <td>NaN</td>\n",
              "      <td>WASHINGTON  —   Ivanka Trump, who is weighing ...</td>\n",
              "      <td>[ivanka, trump, new, washington, home, belonge...</td>\n",
              "      <td>[mr , house]</td>\n",
              "      <td>4</td>\n",
              "    </tr>\n",
              "    <tr>\n",
              "      <th>24</th>\n",
              "      <td>24</td>\n",
              "      <td>17309</td>\n",
              "      <td>With New Congress Poised to Convene, Obama’s P...</td>\n",
              "      <td>New York Times</td>\n",
              "      <td>Jennifer Steinhauer</td>\n",
              "      <td>2017-01-02</td>\n",
              "      <td>2017.0</td>\n",
              "      <td>1.0</td>\n",
              "      <td>NaN</td>\n",
              "      <td>WASHINGTON  —   The most powerful and ambitiou...</td>\n",
              "      <td>[new, congress, poised, convene, obama, policy...</td>\n",
              "      <td>[mr , republican]</td>\n",
              "      <td>4</td>\n",
              "    </tr>\n",
              "    <tr>\n",
              "      <th>74</th>\n",
              "      <td>74</td>\n",
              "      <td>17369</td>\n",
              "      <td>Fed Officials See Faster Economic Growth Under...</td>\n",
              "      <td>New York Times</td>\n",
              "      <td>Binyamin Appelbaum</td>\n",
              "      <td>2017-01-05</td>\n",
              "      <td>2017.0</td>\n",
              "      <td>1.0</td>\n",
              "      <td>NaN</td>\n",
              "      <td>WASHINGTON  —   Federal Reserve officials expe...</td>\n",
              "      <td>[fed, official, see, faster, economic, growth,...</td>\n",
              "      <td>[fed , rate]</td>\n",
              "      <td>4</td>\n",
              "    </tr>\n",
              "    <tr>\n",
              "      <th>33</th>\n",
              "      <td>33</td>\n",
              "      <td>17323</td>\n",
              "      <td>Airline Pilot, Believed to Be Drunk, Is Pulled...</td>\n",
              "      <td>New York Times</td>\n",
              "      <td>Ian Austen</td>\n",
              "      <td>2017-01-03</td>\n",
              "      <td>2017.0</td>\n",
              "      <td>1.0</td>\n",
              "      <td>NaN</td>\n",
              "      <td>OTTAWA  —   It was 7 a. m. and 99 passengers a...</td>\n",
              "      <td>[airline, pilot, believed, drunk, pulled, cock...</td>\n",
              "      <td>[pilot , said]</td>\n",
              "      <td>3</td>\n",
              "    </tr>\n",
              "    <tr>\n",
              "      <th>69</th>\n",
              "      <td>69</td>\n",
              "      <td>17364</td>\n",
              "      <td>5 Must-See Shows if You’re in New York This Mo...</td>\n",
              "      <td>New York Times</td>\n",
              "      <td>Charles Isherwood</td>\n",
              "      <td>2017-01-25</td>\n",
              "      <td>2017.0</td>\n",
              "      <td>1.0</td>\n",
              "      <td>NaN</td>\n",
              "      <td>Broadway shows often fold their tents at the e...</td>\n",
              "      <td>[5, must, see, show, new, york, month, new, yo...</td>\n",
              "      <td>[theater , new]</td>\n",
              "      <td>2</td>\n",
              "    </tr>\n",
              "    <tr>\n",
              "      <th>70</th>\n",
              "      <td>70</td>\n",
              "      <td>17365</td>\n",
              "      <td>Remaking Kennedy Airport Is Governor’s Next Bi...</td>\n",
              "      <td>New York Times</td>\n",
              "      <td>Patrick McGeehan</td>\n",
              "      <td>2017-01-05</td>\n",
              "      <td>2017.0</td>\n",
              "      <td>1.0</td>\n",
              "      <td>NaN</td>\n",
              "      <td>Gov. Andrew M. Cuomo of New York said on Wedne...</td>\n",
              "      <td>[remaking, kennedy, airport, governor, next, b...</td>\n",
              "      <td>[mr , new]</td>\n",
              "      <td>2</td>\n",
              "    </tr>\n",
              "    <tr>\n",
              "      <th>57</th>\n",
              "      <td>57</td>\n",
              "      <td>17349</td>\n",
              "      <td>Senate Republicans Open Fight Over Obama Healt...</td>\n",
              "      <td>New York Times</td>\n",
              "      <td>Thomas Kaplan and Glenn Thrush</td>\n",
              "      <td>2017-01-05</td>\n",
              "      <td>2017.0</td>\n",
              "      <td>1.0</td>\n",
              "      <td>NaN</td>\n",
              "      <td>WASHINGTON  —   Congress opened for battle ove...</td>\n",
              "      <td>[senate, republican, open, fight, obama, healt...</td>\n",
              "      <td>[republican , law]</td>\n",
              "      <td>2</td>\n",
              "    </tr>\n",
              "    <tr>\n",
              "      <th>27</th>\n",
              "      <td>27</td>\n",
              "      <td>17313</td>\n",
              "      <td>Inside Trump Defense Secretary Pick’s Efforts ...</td>\n",
              "      <td>New York Times</td>\n",
              "      <td>Sheri Fink and Helene Cooper</td>\n",
              "      <td>2017-01-05</td>\n",
              "      <td>2017.0</td>\n",
              "      <td>1.0</td>\n",
              "      <td>NaN</td>\n",
              "      <td>The body of the Iraqi prisoner was found naked...</td>\n",
              "      <td>[inside, trump, defense, secretary, pick, effo...</td>\n",
              "      <td>[general , mattis]</td>\n",
              "      <td>2</td>\n",
              "    </tr>\n",
              "    <tr>\n",
              "      <th>42</th>\n",
              "      <td>42</td>\n",
              "      <td>17333</td>\n",
              "      <td>With Choice of Trade Negotiator, Trump Prepare...</td>\n",
              "      <td>New York Times</td>\n",
              "      <td>Binyamin Appelbaum</td>\n",
              "      <td>2017-01-04</td>\n",
              "      <td>2017.0</td>\n",
              "      <td>1.0</td>\n",
              "      <td>NaN</td>\n",
              "      <td>WASHINGTON  —     Donald J. Trump on Tuesday n...</td>\n",
              "      <td>[choice, trade, negotiator, trump, prepares, c...</td>\n",
              "      <td>[trade , mr]</td>\n",
              "      <td>2</td>\n",
              "    </tr>\n",
              "    <tr>\n",
              "      <th>58</th>\n",
              "      <td>58</td>\n",
              "      <td>17350</td>\n",
              "      <td>The Parliamentary Tactic That Could Obliterate...</td>\n",
              "      <td>New York Times</td>\n",
              "      <td>Robert Pear</td>\n",
              "      <td>2017-01-05</td>\n",
              "      <td>2017.0</td>\n",
              "      <td>1.0</td>\n",
              "      <td>NaN</td>\n",
              "      <td>WASHINGTON  —   Republicans hope to repeal maj...</td>\n",
              "      <td>[parliamentary, tactic, could, obliterate, oba...</td>\n",
              "      <td>[reconciliation , bill]</td>\n",
              "      <td>2</td>\n",
              "    </tr>\n",
              "    <tr>\n",
              "      <th>48</th>\n",
              "      <td>48</td>\n",
              "      <td>17339</td>\n",
              "      <td>Megyn Kelly’s Jump to NBC From Fox News Will T...</td>\n",
              "      <td>New York Times</td>\n",
              "      <td>Jim Rutenberg</td>\n",
              "      <td>2017-01-05</td>\n",
              "      <td>2017.0</td>\n",
              "      <td>1.0</td>\n",
              "      <td>NaN</td>\n",
              "      <td>For Megyn Kelly, the shift from Fox News to NB...</td>\n",
              "      <td>[megyn, kelly, jump, nbc, fox, news, test, net...</td>\n",
              "      <td>[news , kelly]</td>\n",
              "      <td>2</td>\n",
              "    </tr>\n",
              "    <tr>\n",
              "      <th>63</th>\n",
              "      <td>63</td>\n",
              "      <td>17356</td>\n",
              "      <td>In Turkey, U.S. Hand Is Seen in Nearly Every C...</td>\n",
              "      <td>New York Times</td>\n",
              "      <td>Tim Arango</td>\n",
              "      <td>2017-01-05</td>\n",
              "      <td>2017.0</td>\n",
              "      <td>1.0</td>\n",
              "      <td>NaN</td>\n",
              "      <td>ISTANBUL  —   Turkish officials accused the Un...</td>\n",
              "      <td>[turkey, u, hand, seen, nearly, every, crisis,...</td>\n",
              "      <td>[turkey , state]</td>\n",
              "      <td>2</td>\n",
              "    </tr>\n",
              "    <tr>\n",
              "      <th>94</th>\n",
              "      <td>94</td>\n",
              "      <td>17393</td>\n",
              "      <td>Ending Speculation, Black College Says Band Wi...</td>\n",
              "      <td>New York Times</td>\n",
              "      <td>Richard Fausset</td>\n",
              "      <td>2017-01-06</td>\n",
              "      <td>2017.0</td>\n",
              "      <td>1.0</td>\n",
              "      <td>NaN</td>\n",
              "      <td>TALLADEGA, Ala.  —   For a band at a tiny,   h...</td>\n",
              "      <td>[ending, speculation, black, college, say, ban...</td>\n",
              "      <td>[said , band]</td>\n",
              "      <td>2</td>\n",
              "    </tr>\n",
              "    <tr>\n",
              "      <th>97</th>\n",
              "      <td>97</td>\n",
              "      <td>17396</td>\n",
              "      <td>L.I.R.R. Train That Crashed Was Going Over Twi...</td>\n",
              "      <td>New York Times</td>\n",
              "      <td>Emma G. Fitzsimmons</td>\n",
              "      <td>2017-01-06</td>\n",
              "      <td>2017.0</td>\n",
              "      <td>1.0</td>\n",
              "      <td>NaN</td>\n",
              "      <td>A Long Island Rail Road train that crashed in ...</td>\n",
              "      <td>[l, r, r, train, crashed, going, twice, speed,...</td>\n",
              "      <td>[train , said]</td>\n",
              "      <td>2</td>\n",
              "    </tr>\n",
              "    <tr>\n",
              "      <th>87</th>\n",
              "      <td>87</td>\n",
              "      <td>17386</td>\n",
              "      <td>Countering Trump, Bipartisan Voices Strongly A...</td>\n",
              "      <td>New York Times</td>\n",
              "      <td>Matt Flegenheimer and Scott Shane</td>\n",
              "      <td>2017-01-06</td>\n",
              "      <td>2017.0</td>\n",
              "      <td>1.0</td>\n",
              "      <td>NaN</td>\n",
              "      <td>WASHINGTON  —   A united front of top intellig...</td>\n",
              "      <td>[countering, trump, bipartisan, voice, strongl...</td>\n",
              "      <td>[mr , intelligence]</td>\n",
              "      <td>2</td>\n",
              "    </tr>\n",
              "    <tr>\n",
              "      <th>68</th>\n",
              "      <td>68</td>\n",
              "      <td>17363</td>\n",
              "      <td>Getting Around by Rail, Sail or Foot - The New...</td>\n",
              "      <td>New York Times</td>\n",
              "      <td>Elaine Glusac</td>\n",
              "      <td>2017-01-05</td>\n",
              "      <td>2017.0</td>\n",
              "      <td>1.0</td>\n",
              "      <td>NaN</td>\n",
              "      <td>Whether by train, ship or   trail, transit alt...</td>\n",
              "      <td>[getting, around, rail, sail, foot, new, york,...</td>\n",
              "      <td>[ship , train]</td>\n",
              "      <td>1</td>\n",
              "    </tr>\n",
              "    <tr>\n",
              "      <th>67</th>\n",
              "      <td>67</td>\n",
              "      <td>17362</td>\n",
              "      <td>Places to Put Your Hands Together - The New Yo...</td>\n",
              "      <td>New York Times</td>\n",
              "      <td>Shivani Vora</td>\n",
              "      <td>2017-01-07</td>\n",
              "      <td>2017.0</td>\n",
              "      <td>1.0</td>\n",
              "      <td>NaN</td>\n",
              "      <td>Whether the music to your ears is pop, classic...</td>\n",
              "      <td>[place, put, hand, together, new, york, time, ...</td>\n",
              "      <td>[festival , year]</td>\n",
              "      <td>1</td>\n",
              "    </tr>\n",
              "    <tr>\n",
              "      <th>66</th>\n",
              "      <td>66</td>\n",
              "      <td>17361</td>\n",
              "      <td>How We Put Together Our 52 Places to Go List -...</td>\n",
              "      <td>New York Times</td>\n",
              "      <td>NaN</td>\n",
              "      <td>2017-01-15</td>\n",
              "      <td>2017.0</td>\n",
              "      <td>1.0</td>\n",
              "      <td>NaN</td>\n",
              "      <td>For the 12th straight year, the Travel section...</td>\n",
              "      <td>[put, together, 52, place, list, new, york, ti...</td>\n",
              "      <td>[list , place]</td>\n",
              "      <td>1</td>\n",
              "    </tr>\n",
              "    <tr>\n",
              "      <th>73</th>\n",
              "      <td>73</td>\n",
              "      <td>17368</td>\n",
              "      <td>Apple Removes New York Times Apps From Its Sto...</td>\n",
              "      <td>New York Times</td>\n",
              "      <td>Katie Benner and Sui-Lee Wee</td>\n",
              "      <td>2017-01-05</td>\n",
              "      <td>2017.0</td>\n",
              "      <td>1.0</td>\n",
              "      <td>NaN</td>\n",
              "      <td>Apple, complying with what it said was a reque...</td>\n",
              "      <td>[apple, remove, new, york, time, apps, store, ...</td>\n",
              "      <td>[time , china]</td>\n",
              "      <td>1</td>\n",
              "    </tr>\n",
              "    <tr>\n",
              "      <th>65</th>\n",
              "      <td>65</td>\n",
              "      <td>17360</td>\n",
              "      <td>My Canada - The New York Times</td>\n",
              "      <td>New York Times</td>\n",
              "      <td>NaN</td>\n",
              "      <td>2017-01-11</td>\n",
              "      <td>2017.0</td>\n",
              "      <td>1.0</td>\n",
              "      <td>NaN</td>\n",
              "      <td>Canada, our No. 1 pick for this year’s 52 Plac...</td>\n",
              "      <td>[canada, new, york, time, canada, 1, pick, yea...</td>\n",
              "      <td>[le , à]</td>\n",
              "      <td>1</td>\n",
              "    </tr>\n",
              "    <tr>\n",
              "      <th>64</th>\n",
              "      <td>64</td>\n",
              "      <td>17358</td>\n",
              "      <td>A New Casualty of Syria’s War: Drinking Water ...</td>\n",
              "      <td>New York Times</td>\n",
              "      <td>Ben Hubbard</td>\n",
              "      <td>2017-01-05</td>\n",
              "      <td>2017.0</td>\n",
              "      <td>1.0</td>\n",
              "      <td>NaN</td>\n",
              "      <td>BEIRUT, Lebanon  —   For millions of Damascus ...</td>\n",
              "      <td>[new, casualty, syria, war, drinking, water, d...</td>\n",
              "      <td>[water , said]</td>\n",
              "      <td>1</td>\n",
              "    </tr>\n",
              "    <tr>\n",
              "      <th>61</th>\n",
              "      <td>61</td>\n",
              "      <td>17354</td>\n",
              "      <td>Donald Trump Nominates Wall Street Lawyer to H...</td>\n",
              "      <td>New York Times</td>\n",
              "      <td>Leslie Picker</td>\n",
              "      <td>2017-01-05</td>\n",
              "      <td>2017.0</td>\n",
              "      <td>1.0</td>\n",
              "      <td>NaN</td>\n",
              "      <td>The Wall Street lawyer Walter J. Clayton does ...</td>\n",
              "      <td>[donald, trump, nominates, wall, street, lawye...</td>\n",
              "      <td>[mr , clayton]</td>\n",
              "      <td>1</td>\n",
              "    </tr>\n",
              "    <tr>\n",
              "      <th>71</th>\n",
              "      <td>71</td>\n",
              "      <td>17366</td>\n",
              "      <td>Cyberwar for Sale - The New York Times</td>\n",
              "      <td>New York Times</td>\n",
              "      <td>Mattathias Schwartz</td>\n",
              "      <td>2017-01-22</td>\n",
              "      <td>2017.0</td>\n",
              "      <td>1.0</td>\n",
              "      <td>NaN</td>\n",
              "      <td>On the morning of May 18, 2014, Violeta Lagune...</td>\n",
              "      <td>[cyberwar, sale, new, york, time, morning, may...</td>\n",
              "      <td>[team , hacking]</td>\n",
              "      <td>1</td>\n",
              "    </tr>\n",
              "    <tr>\n",
              "      <th>72</th>\n",
              "      <td>72</td>\n",
              "      <td>17367</td>\n",
              "      <td>Why Men Don’t Want the Jobs Done Mostly by Wom...</td>\n",
              "      <td>New York Times</td>\n",
              "      <td>Claire Cain Miller</td>\n",
              "      <td>2017-01-05</td>\n",
              "      <td>2017.0</td>\n",
              "      <td>1.0</td>\n",
              "      <td>NaN</td>\n",
              "      <td>It hasn’t been a great time to be a man withou...</td>\n",
              "      <td>[men, want, job, done, mostly, woman, new, yor...</td>\n",
              "      <td>[job , men]</td>\n",
              "      <td>1</td>\n",
              "    </tr>\n",
              "    <tr>\n",
              "      <th>0</th>\n",
              "      <td>0</td>\n",
              "      <td>17283</td>\n",
              "      <td>House Republicans Fret About Winning Their Hea...</td>\n",
              "      <td>New York Times</td>\n",
              "      <td>Carl Hulse</td>\n",
              "      <td>2016-12-31</td>\n",
              "      <td>2016.0</td>\n",
              "      <td>12.0</td>\n",
              "      <td>NaN</td>\n",
              "      <td>WASHINGTON  —   Congressional Republicans have...</td>\n",
              "      <td>[house, republican, fret, winning, health, car...</td>\n",
              "      <td>[house , republican]</td>\n",
              "      <td>1</td>\n",
              "    </tr>\n",
              "    <tr>\n",
              "      <th>75</th>\n",
              "      <td>75</td>\n",
              "      <td>17370</td>\n",
              "      <td>Rockefeller Foundation Picks Rajiv J. Shah, a ...</td>\n",
              "      <td>New York Times</td>\n",
              "      <td>David Gelles</td>\n",
              "      <td>2017-01-10</td>\n",
              "      <td>2017.0</td>\n",
              "      <td>1.0</td>\n",
              "      <td>NaN</td>\n",
              "      <td>Rajiv J. Shah, a trustee of the Rockefeller Fo...</td>\n",
              "      <td>[rockefeller, foundation, pick, rajiv, j, shah...</td>\n",
              "      <td>[foundation , said]</td>\n",
              "      <td>1</td>\n",
              "    </tr>\n",
              "    <tr>\n",
              "      <th>88</th>\n",
              "      <td>88</td>\n",
              "      <td>17387</td>\n",
              "      <td>Dan Coats, the ‘Mister Rogers’ Senator Poised ...</td>\n",
              "      <td>New York Times</td>\n",
              "      <td>Jennifer Steinhauer and Michael D. Shear</td>\n",
              "      <td>2017-01-06</td>\n",
              "      <td>2017.0</td>\n",
              "      <td>1.0</td>\n",
              "      <td>NaN</td>\n",
              "      <td>WASHINGTON  —     Donald J. Trump is expected ...</td>\n",
              "      <td>[dan, coat, mister, rogers, senator, poised, i...</td>\n",
              "      <td>[mr , coat]</td>\n",
              "      <td>1</td>\n",
              "    </tr>\n",
              "  </tbody>\n",
              "</table>\n",
              "</div>"
            ],
            "text/plain": [
              "    Unnamed: 0     id                                              title  \\\n",
              "43          43  17334  Trump Appears to Side With Assange Over Intell...   \n",
              "93          93  17392  Trump Takes on Democrats and Health Law in New...   \n",
              "12          12  17295  Mar-a-Lago, the Future Winter White House and ...   \n",
              "77          77  17373  Enough With the Tweets, China’s State Media Te...   \n",
              "10          10  17293  Weak Federal Powers Could Limit Trump’s Climat...   \n",
              "17          17  17301  Modi’s Cash Ban Brings Pain, but Corruption-We...   \n",
              "4            4  17287  Kim Jong-un Says North Korea Is Preparing to T...   \n",
              "29          29  17317  The Afghan War and the Evolution of Obama - Th...   \n",
              "16          16  17300  Dylann Roof Himself Rejects Best Defense Again...   \n",
              "62          62  17355  Dylann Roof, Addressing Court, Offers No Apolo...   \n",
              "25          25  17311  Republicans Stonewalled Obama. Now the Ball Is...   \n",
              "41          41  17332  Turmoil Overshadows First Day of Republican-Co...   \n",
              "59          59  17352  In Republicans’ Ethics Office Gambit, a Specta...   \n",
              "60          60  17353  Ivanka Trump’s New Washington Home Once Belong...   \n",
              "24          24  17309  With New Congress Poised to Convene, Obama’s P...   \n",
              "74          74  17369  Fed Officials See Faster Economic Growth Under...   \n",
              "33          33  17323  Airline Pilot, Believed to Be Drunk, Is Pulled...   \n",
              "69          69  17364  5 Must-See Shows if You’re in New York This Mo...   \n",
              "70          70  17365  Remaking Kennedy Airport Is Governor’s Next Bi...   \n",
              "57          57  17349  Senate Republicans Open Fight Over Obama Healt...   \n",
              "27          27  17313  Inside Trump Defense Secretary Pick’s Efforts ...   \n",
              "42          42  17333  With Choice of Trade Negotiator, Trump Prepare...   \n",
              "58          58  17350  The Parliamentary Tactic That Could Obliterate...   \n",
              "48          48  17339  Megyn Kelly’s Jump to NBC From Fox News Will T...   \n",
              "63          63  17356  In Turkey, U.S. Hand Is Seen in Nearly Every C...   \n",
              "94          94  17393  Ending Speculation, Black College Says Band Wi...   \n",
              "97          97  17396  L.I.R.R. Train That Crashed Was Going Over Twi...   \n",
              "87          87  17386  Countering Trump, Bipartisan Voices Strongly A...   \n",
              "68          68  17363  Getting Around by Rail, Sail or Foot - The New...   \n",
              "67          67  17362  Places to Put Your Hands Together - The New Yo...   \n",
              "66          66  17361  How We Put Together Our 52 Places to Go List -...   \n",
              "73          73  17368  Apple Removes New York Times Apps From Its Sto...   \n",
              "65          65  17360                     My Canada - The New York Times   \n",
              "64          64  17358  A New Casualty of Syria’s War: Drinking Water ...   \n",
              "61          61  17354  Donald Trump Nominates Wall Street Lawyer to H...   \n",
              "71          71  17366             Cyberwar for Sale - The New York Times   \n",
              "72          72  17367  Why Men Don’t Want the Jobs Done Mostly by Wom...   \n",
              "0            0  17283  House Republicans Fret About Winning Their Hea...   \n",
              "75          75  17370  Rockefeller Foundation Picks Rajiv J. Shah, a ...   \n",
              "88          88  17387  Dan Coats, the ‘Mister Rogers’ Senator Poised ...   \n",
              "\n",
              "       publication                                             author  \\\n",
              "43  New York Times  Scott Shane, Maggie Haberman and Julie Hirschf...   \n",
              "93  New York Times                             Julie Hirschfeld Davis   \n",
              "12  New York Times                                    Maggie Haberman   \n",
              "77  New York Times                                      Chris Buckley   \n",
              "10  New York Times                                      Justin Gillis   \n",
              "17  New York Times                                        Geeta Anand   \n",
              "4   New York Times                                      Choe Sang-Hun   \n",
              "29  New York Times                                       Mark Landler   \n",
              "16  New York Times                        Kevin Sack and Alan Blinder   \n",
              "62  New York Times                        Alan Blinder and Kevin Sack   \n",
              "25  New York Times                                         Carl Hulse   \n",
              "41  New York Times                Jennifer Steinhauer and Robert Pear   \n",
              "59  New York Times                                         Carl Hulse   \n",
              "60  New York Times                             Julie Hirschfeld Davis   \n",
              "24  New York Times                                Jennifer Steinhauer   \n",
              "74  New York Times                                 Binyamin Appelbaum   \n",
              "33  New York Times                                         Ian Austen   \n",
              "69  New York Times                                  Charles Isherwood   \n",
              "70  New York Times                                   Patrick McGeehan   \n",
              "57  New York Times                     Thomas Kaplan and Glenn Thrush   \n",
              "27  New York Times                       Sheri Fink and Helene Cooper   \n",
              "42  New York Times                                 Binyamin Appelbaum   \n",
              "58  New York Times                                        Robert Pear   \n",
              "48  New York Times                                      Jim Rutenberg   \n",
              "63  New York Times                                         Tim Arango   \n",
              "94  New York Times                                    Richard Fausset   \n",
              "97  New York Times                                Emma G. Fitzsimmons   \n",
              "87  New York Times                  Matt Flegenheimer and Scott Shane   \n",
              "68  New York Times                                      Elaine Glusac   \n",
              "67  New York Times                                       Shivani Vora   \n",
              "66  New York Times                                                NaN   \n",
              "73  New York Times                       Katie Benner and Sui-Lee Wee   \n",
              "65  New York Times                                                NaN   \n",
              "64  New York Times                                        Ben Hubbard   \n",
              "61  New York Times                                      Leslie Picker   \n",
              "71  New York Times                                Mattathias Schwartz   \n",
              "72  New York Times                                 Claire Cain Miller   \n",
              "0   New York Times                                         Carl Hulse   \n",
              "75  New York Times                                       David Gelles   \n",
              "88  New York Times           Jennifer Steinhauer and Michael D. Shear   \n",
              "\n",
              "          date    year  month  url  \\\n",
              "43  2017-01-05  2017.0    1.0  NaN   \n",
              "93  2017-01-06  2017.0    1.0  NaN   \n",
              "12  2017-01-02  2017.0    1.0  NaN   \n",
              "77  2017-01-05  2017.0    1.0  NaN   \n",
              "10  2017-01-03  2017.0    1.0  NaN   \n",
              "17  2017-01-02  2017.0    1.0  NaN   \n",
              "4   2017-01-02  2017.0    1.0  NaN   \n",
              "29  2017-01-17  2017.0    1.0  NaN   \n",
              "16  2017-01-02  2017.0    1.0  NaN   \n",
              "62  2017-01-06  2017.0    1.0  NaN   \n",
              "25  2017-01-03  2017.0    1.0  NaN   \n",
              "41  2017-01-04  2017.0    1.0  NaN   \n",
              "59  2017-01-05  2017.0    1.0  NaN   \n",
              "60  2017-01-23  2017.0    1.0  NaN   \n",
              "24  2017-01-02  2017.0    1.0  NaN   \n",
              "74  2017-01-05  2017.0    1.0  NaN   \n",
              "33  2017-01-03  2017.0    1.0  NaN   \n",
              "69  2017-01-25  2017.0    1.0  NaN   \n",
              "70  2017-01-05  2017.0    1.0  NaN   \n",
              "57  2017-01-05  2017.0    1.0  NaN   \n",
              "27  2017-01-05  2017.0    1.0  NaN   \n",
              "42  2017-01-04  2017.0    1.0  NaN   \n",
              "58  2017-01-05  2017.0    1.0  NaN   \n",
              "48  2017-01-05  2017.0    1.0  NaN   \n",
              "63  2017-01-05  2017.0    1.0  NaN   \n",
              "94  2017-01-06  2017.0    1.0  NaN   \n",
              "97  2017-01-06  2017.0    1.0  NaN   \n",
              "87  2017-01-06  2017.0    1.0  NaN   \n",
              "68  2017-01-05  2017.0    1.0  NaN   \n",
              "67  2017-01-07  2017.0    1.0  NaN   \n",
              "66  2017-01-15  2017.0    1.0  NaN   \n",
              "73  2017-01-05  2017.0    1.0  NaN   \n",
              "65  2017-01-11  2017.0    1.0  NaN   \n",
              "64  2017-01-05  2017.0    1.0  NaN   \n",
              "61  2017-01-05  2017.0    1.0  NaN   \n",
              "71  2017-01-22  2017.0    1.0  NaN   \n",
              "72  2017-01-05  2017.0    1.0  NaN   \n",
              "0   2016-12-31  2016.0   12.0  NaN   \n",
              "75  2017-01-10  2017.0    1.0  NaN   \n",
              "88  2017-01-06  2017.0    1.0  NaN   \n",
              "\n",
              "                                              content  \\\n",
              "43  ■   Donald J. Trump appears to side with the W...   \n",
              "93  WASHINGTON  —     Donald J. Trump lashed out a...   \n",
              "12  WEST PALM BEACH, Fla.  —   When   Donald J. Tr...   \n",
              "77  BEIJING  —   China’s leaders thought they had ...   \n",
              "10  With Donald J. Trump about to take control of ...   \n",
              "17  MUMBAI, India  —   It was a bold and risky gam...   \n",
              "4   SEOUL, South Korea  —   North Korea’s leader, ...   \n",
              "29  WASHINGTON  —   President Obama’s advisers wre...   \n",
              "16    pages into the   journal found in Dylann S. ...   \n",
              "62  CHARLESTON, S. C.  —   Seeming to abdicate one...   \n",
              "25  WASHINGTON  —   It’s   or   time for Republica...   \n",
              "41  WASHINGTON  —   The   Congress opened the turb...   \n",
              "59  WASHINGTON  —   Majorities in Congress often o...   \n",
              "60  WASHINGTON  —   Ivanka Trump, who is weighing ...   \n",
              "24  WASHINGTON  —   The most powerful and ambitiou...   \n",
              "74  WASHINGTON  —   Federal Reserve officials expe...   \n",
              "33  OTTAWA  —   It was 7 a. m. and 99 passengers a...   \n",
              "69  Broadway shows often fold their tents at the e...   \n",
              "70  Gov. Andrew M. Cuomo of New York said on Wedne...   \n",
              "57  WASHINGTON  —   Congress opened for battle ove...   \n",
              "27  The body of the Iraqi prisoner was found naked...   \n",
              "42  WASHINGTON  —     Donald J. Trump on Tuesday n...   \n",
              "58  WASHINGTON  —   Republicans hope to repeal maj...   \n",
              "48  For Megyn Kelly, the shift from Fox News to NB...   \n",
              "63  ISTANBUL  —   Turkish officials accused the Un...   \n",
              "94  TALLADEGA, Ala.  —   For a band at a tiny,   h...   \n",
              "97  A Long Island Rail Road train that crashed in ...   \n",
              "87  WASHINGTON  —   A united front of top intellig...   \n",
              "68  Whether by train, ship or   trail, transit alt...   \n",
              "67  Whether the music to your ears is pop, classic...   \n",
              "66  For the 12th straight year, the Travel section...   \n",
              "73  Apple, complying with what it said was a reque...   \n",
              "65  Canada, our No. 1 pick for this year’s 52 Plac...   \n",
              "64  BEIRUT, Lebanon  —   For millions of Damascus ...   \n",
              "61  The Wall Street lawyer Walter J. Clayton does ...   \n",
              "71  On the morning of May 18, 2014, Violeta Lagune...   \n",
              "72  It hasn’t been a great time to be a man withou...   \n",
              "0   WASHINGTON  —   Congressional Republicans have...   \n",
              "75  Rajiv J. Shah, a trustee of the Rockefeller Fo...   \n",
              "88  WASHINGTON  —     Donald J. Trump is expected ...   \n",
              "\n",
              "                                       text_distilled  \\\n",
              "43  [trump, appears, side, assange, intelligence, ...   \n",
              "93  [trump, take, democrat, health, law, new, twit...   \n",
              "12  [mar, lago, future, winter, white, house, home...   \n",
              "77  [enough, tweet, china, state, medium, tell, tr...   \n",
              "10  [weak, federal, power, could, limit, trump, cl...   \n",
              "17  [modi, cash, ban, brings, pain, corruption, we...   \n",
              "4   [kim, jong, un, say, north, korea, preparing, ...   \n",
              "29  [afghan, war, evolution, obama, new, york, tim...   \n",
              "16  [dylann, roof, reject, best, defense, executio...   \n",
              "62  [dylann, roof, addressing, court, offer, apolo...   \n",
              "25  [republican, stonewalled, obama, ball, court, ...   \n",
              "41  [turmoil, overshadows, first, day, republican,...   \n",
              "59  [republican, ethic, office, gambit, spectacle,...   \n",
              "60  [ivanka, trump, new, washington, home, belonge...   \n",
              "24  [new, congress, poised, convene, obama, policy...   \n",
              "74  [fed, official, see, faster, economic, growth,...   \n",
              "33  [airline, pilot, believed, drunk, pulled, cock...   \n",
              "69  [5, must, see, show, new, york, month, new, yo...   \n",
              "70  [remaking, kennedy, airport, governor, next, b...   \n",
              "57  [senate, republican, open, fight, obama, healt...   \n",
              "27  [inside, trump, defense, secretary, pick, effo...   \n",
              "42  [choice, trade, negotiator, trump, prepares, c...   \n",
              "58  [parliamentary, tactic, could, obliterate, oba...   \n",
              "48  [megyn, kelly, jump, nbc, fox, news, test, net...   \n",
              "63  [turkey, u, hand, seen, nearly, every, crisis,...   \n",
              "94  [ending, speculation, black, college, say, ban...   \n",
              "97  [l, r, r, train, crashed, going, twice, speed,...   \n",
              "87  [countering, trump, bipartisan, voice, strongl...   \n",
              "68  [getting, around, rail, sail, foot, new, york,...   \n",
              "67  [place, put, hand, together, new, york, time, ...   \n",
              "66  [put, together, 52, place, list, new, york, ti...   \n",
              "73  [apple, remove, new, york, time, apps, store, ...   \n",
              "65  [canada, new, york, time, canada, 1, pick, yea...   \n",
              "64  [new, casualty, syria, war, drinking, water, d...   \n",
              "61  [donald, trump, nominates, wall, street, lawye...   \n",
              "71  [cyberwar, sale, new, york, time, morning, may...   \n",
              "72  [men, want, job, done, mostly, woman, new, yor...   \n",
              "0   [house, republican, fret, winning, health, car...   \n",
              "75  [rockefeller, foundation, pick, rajiv, j, shah...   \n",
              "88  [dan, coat, mister, rogers, senator, poised, i...   \n",
              "\n",
              "                     topics  coverage60  \n",
              "43             [mr , trump]         155  \n",
              "93             [mr , trump]         155  \n",
              "12             [mr , trump]         152  \n",
              "77             [trump , mr]          75  \n",
              "10             [trump , mr]          75  \n",
              "17              [mr , said]          45  \n",
              "4           [north , korea]          19  \n",
              "29             [mr , obama]          15  \n",
              "16              [mr , roof]           6  \n",
              "62              [mr , roof]           6  \n",
              "25     [republican , house]           5  \n",
              "41     [republican , house]           5  \n",
              "59     [republican , house]           5  \n",
              "60             [mr , house]           4  \n",
              "24        [mr , republican]           4  \n",
              "74             [fed , rate]           4  \n",
              "33           [pilot , said]           3  \n",
              "69          [theater , new]           2  \n",
              "70               [mr , new]           2  \n",
              "57       [republican , law]           2  \n",
              "27       [general , mattis]           2  \n",
              "42             [trade , mr]           2  \n",
              "58  [reconciliation , bill]           2  \n",
              "48           [news , kelly]           2  \n",
              "63         [turkey , state]           2  \n",
              "94            [said , band]           2  \n",
              "97           [train , said]           2  \n",
              "87      [mr , intelligence]           2  \n",
              "68           [ship , train]           1  \n",
              "67        [festival , year]           1  \n",
              "66           [list , place]           1  \n",
              "73           [time , china]           1  \n",
              "65                 [le , à]           1  \n",
              "64           [water , said]           1  \n",
              "61           [mr , clayton]           1  \n",
              "71         [team , hacking]           1  \n",
              "72              [job , men]           1  \n",
              "0      [house , republican]           1  \n",
              "75      [foundation , said]           1  \n",
              "88              [mr , coat]           1  "
            ]
          },
          "metadata": {
            "tags": []
          },
          "execution_count": 124
        }
      ]
    },
    {
      "metadata": {
        "id": "Mgwc_azbfHdK",
        "colab_type": "text"
      },
      "cell_type": "markdown",
      "source": [
        "Counting the number of articles with coverage score greater than 1,"
      ]
    },
    {
      "metadata": {
        "id": "IJ1dxOHVfKOh",
        "colab_type": "code",
        "outputId": "07b48eb7-1de7-4ccf-fc0c-8692c7acb6dd",
        "colab": {
          "base_uri": "https://localhost:8080/",
          "height": 34
        }
      },
      "cell_type": "code",
      "source": [
        "len(non_fake_data[non_fake_data['coverage60']>1])"
      ],
      "execution_count": 0,
      "outputs": [
        {
          "output_type": "execute_result",
          "data": {
            "text/plain": [
              "28"
            ]
          },
          "metadata": {
            "tags": []
          },
          "execution_count": 125
        }
      ]
    },
    {
      "metadata": {
        "id": "CadFX0H6T3Qg",
        "colab_type": "text"
      },
      "cell_type": "markdown",
      "source": [
        "### 7.19 Comparisons between Fake and Non-Fake News Datasets\n",
        "\n",
        "Based on sample of 100 articles from pool of fake and non-fake news sources, the coverage score for non-fake news articles are significantly higher than the fake news articles. In particular, around 30 out of 100 of non-fake news articles had coverage score greater than one. On the other hand, only 14 out of 100 of fake news articles had coverge score greater than one. \n"
      ]
    },
    {
      "metadata": {
        "id": "U2qLJGG11B6n",
        "colab_type": "code",
        "outputId": "bc44ed58-900a-4e49-acc8-85f12d1a51e8",
        "colab": {
          "base_uri": "https://localhost:8080/",
          "height": 34
        }
      },
      "cell_type": "code",
      "source": [
        "# For caculating approximate time to process notebook (IGNORE)\n",
        "import datetime\n",
        "datetime.datetime.now()"
      ],
      "execution_count": 0,
      "outputs": [
        {
          "output_type": "execute_result",
          "data": {
            "text/plain": [
              "datetime.datetime(2018, 12, 9, 20, 12, 25, 933372)"
            ]
          },
          "metadata": {
            "tags": []
          },
          "execution_count": 126
        }
      ]
    },
    {
      "metadata": {
        "id": "UtxQk8u0GAj-",
        "colab_type": "text"
      },
      "cell_type": "markdown",
      "source": [
        "## 8 Political Spectrum "
      ]
    },
    {
      "metadata": {
        "id": "ReAtILz9mqL9",
        "colab_type": "text"
      },
      "cell_type": "markdown",
      "source": [
        "### 8.1 Goals\n",
        "\n",
        "For political spectrum/bias we focus on whether the article is politically biased from 0 being centrist/neutral and 10 being right-most or left-most.\n",
        "\n",
        "The key is to use supervised learning to determine whether the political pieces are democratic or republicans based on the words. \n",
        "\n",
        "We use the following dataset from Kaggle, (Eight, 2016)\n",
        "https://www.kaggle.com/crowdflower/political-social-media-posts\n",
        "\n",
        "The aim is to leverage the partisan or neutral rating of each social media post as foundation of our supervised learning.\n"
      ]
    },
    {
      "metadata": {
        "id": "0Sa4CYiQGEpi",
        "colab_type": "text"
      },
      "cell_type": "markdown",
      "source": [
        "### 8.2 TF-IDF\n",
        "\n",
        "TF-IDF analysis is performed to convert texts from each social media posts to vectors. We also used the pre-populated columns of the social media posts to come up with the political bias score."
      ]
    },
    {
      "metadata": {
        "id": "J_4QTVOVD6sh",
        "colab_type": "text"
      },
      "cell_type": "markdown",
      "source": [
        "### 8.3 Data Enrichment"
      ]
    },
    {
      "metadata": {
        "id": "WUf2GxizVGBD",
        "colab_type": "code",
        "colab": {}
      },
      "cell_type": "code",
      "source": [
        "def get_parsed_data_2(url, sep='\\t', header=None ):\n",
        "  return pd.read_csv(io.StringIO(requests.get(url).content.decode('utf-8', errors='ignore')), sep=sep, header=header )\n",
        "\n",
        "POLITICAL_DATASET = 'https://github.com/h7shin/political_social_media/blob/master/political_social_media.csv?raw=true'\n",
        "\n",
        "political_data = get_parsed_data_2(POLITICAL_DATASET, ',' , 'infer' )[:10000]"
      ],
      "execution_count": 0,
      "outputs": []
    },
    {
      "metadata": {
        "id": "iVWE7ceOD6fw",
        "colab_type": "text"
      },
      "cell_type": "markdown",
      "source": [
        "Let us check the columns"
      ]
    },
    {
      "metadata": {
        "id": "wivk3FSpD74j",
        "colab_type": "code",
        "outputId": "5a18f5d3-adcb-4675-983f-413c5bd2e6c3",
        "colab": {
          "base_uri": "https://localhost:8080/",
          "height": 118
        }
      },
      "cell_type": "code",
      "source": [
        "political_data.columns"
      ],
      "execution_count": 0,
      "outputs": [
        {
          "output_type": "execute_result",
          "data": {
            "text/plain": [
              "Index(['_unit_id', '_golden', '_unit_state', '_trusted_judgments',\n",
              "       '_last_judgment_at', 'audience', 'audience:confidence', 'bias',\n",
              "       'bias:confidence', 'message', 'message:confidence', 'orig__golden',\n",
              "       'audience_gold', 'bias_gold', 'bioid', 'embed', 'id', 'label',\n",
              "       'message_gold', 'source', 'text'],\n",
              "      dtype='object')"
            ]
          },
          "metadata": {
            "tags": []
          },
          "execution_count": 128
        }
      ]
    },
    {
      "metadata": {
        "id": "Fty4vfLmiBZG",
        "colab_type": "text"
      },
      "cell_type": "markdown",
      "source": [
        "Let us check the first five rows"
      ]
    },
    {
      "metadata": {
        "id": "Y7SRiqHNiEoH",
        "colab_type": "code",
        "outputId": "5ad0f0fe-c33d-4a17-9035-f6d3a77c2a47",
        "colab": {
          "base_uri": "https://localhost:8080/",
          "height": 503
        }
      },
      "cell_type": "code",
      "source": [
        " political_data.head(5)"
      ],
      "execution_count": 0,
      "outputs": [
        {
          "output_type": "execute_result",
          "data": {
            "text/html": [
              "<div>\n",
              "<style scoped>\n",
              "    .dataframe tbody tr th:only-of-type {\n",
              "        vertical-align: middle;\n",
              "    }\n",
              "\n",
              "    .dataframe tbody tr th {\n",
              "        vertical-align: top;\n",
              "    }\n",
              "\n",
              "    .dataframe thead th {\n",
              "        text-align: right;\n",
              "    }\n",
              "</style>\n",
              "<table border=\"1\" class=\"dataframe\">\n",
              "  <thead>\n",
              "    <tr style=\"text-align: right;\">\n",
              "      <th></th>\n",
              "      <th>_unit_id</th>\n",
              "      <th>_golden</th>\n",
              "      <th>_unit_state</th>\n",
              "      <th>_trusted_judgments</th>\n",
              "      <th>_last_judgment_at</th>\n",
              "      <th>audience</th>\n",
              "      <th>audience:confidence</th>\n",
              "      <th>bias</th>\n",
              "      <th>bias:confidence</th>\n",
              "      <th>message</th>\n",
              "      <th>...</th>\n",
              "      <th>orig__golden</th>\n",
              "      <th>audience_gold</th>\n",
              "      <th>bias_gold</th>\n",
              "      <th>bioid</th>\n",
              "      <th>embed</th>\n",
              "      <th>id</th>\n",
              "      <th>label</th>\n",
              "      <th>message_gold</th>\n",
              "      <th>source</th>\n",
              "      <th>text</th>\n",
              "    </tr>\n",
              "  </thead>\n",
              "  <tbody>\n",
              "    <tr>\n",
              "      <th>0</th>\n",
              "      <td>766192484</td>\n",
              "      <td>False</td>\n",
              "      <td>finalized</td>\n",
              "      <td>1</td>\n",
              "      <td>8/4/15 21:17</td>\n",
              "      <td>national</td>\n",
              "      <td>1.0</td>\n",
              "      <td>partisan</td>\n",
              "      <td>1.0</td>\n",
              "      <td>policy</td>\n",
              "      <td>...</td>\n",
              "      <td>NaN</td>\n",
              "      <td>NaN</td>\n",
              "      <td>NaN</td>\n",
              "      <td>R000596</td>\n",
              "      <td>&lt;blockquote class=\"twitter-tweet\" width=\"450\"&gt;...</td>\n",
              "      <td>3.83249E+17</td>\n",
              "      <td>From: Trey Radel (Representative from Florida)</td>\n",
              "      <td>NaN</td>\n",
              "      <td>twitter</td>\n",
              "      <td>RT @nowthisnews: Rep. Trey Radel (R- #FL) slam...</td>\n",
              "    </tr>\n",
              "    <tr>\n",
              "      <th>1</th>\n",
              "      <td>766192485</td>\n",
              "      <td>False</td>\n",
              "      <td>finalized</td>\n",
              "      <td>1</td>\n",
              "      <td>8/4/15 21:20</td>\n",
              "      <td>national</td>\n",
              "      <td>1.0</td>\n",
              "      <td>partisan</td>\n",
              "      <td>1.0</td>\n",
              "      <td>attack</td>\n",
              "      <td>...</td>\n",
              "      <td>NaN</td>\n",
              "      <td>NaN</td>\n",
              "      <td>NaN</td>\n",
              "      <td>M000355</td>\n",
              "      <td>&lt;blockquote class=\"twitter-tweet\" width=\"450\"&gt;...</td>\n",
              "      <td>3.11208E+17</td>\n",
              "      <td>From: Mitch McConnell (Senator from Kentucky)</td>\n",
              "      <td>NaN</td>\n",
              "      <td>twitter</td>\n",
              "      <td>VIDEO - #Obamacare:  Full of Higher Costs and ...</td>\n",
              "    </tr>\n",
              "    <tr>\n",
              "      <th>2</th>\n",
              "      <td>766192486</td>\n",
              "      <td>False</td>\n",
              "      <td>finalized</td>\n",
              "      <td>1</td>\n",
              "      <td>8/4/15 21:14</td>\n",
              "      <td>national</td>\n",
              "      <td>1.0</td>\n",
              "      <td>neutral</td>\n",
              "      <td>1.0</td>\n",
              "      <td>support</td>\n",
              "      <td>...</td>\n",
              "      <td>NaN</td>\n",
              "      <td>NaN</td>\n",
              "      <td>NaN</td>\n",
              "      <td>S001180</td>\n",
              "      <td>&lt;blockquote class=\"twitter-tweet\" width=\"450\"&gt;...</td>\n",
              "      <td>3.39069E+17</td>\n",
              "      <td>From: Kurt Schrader (Representative from Oregon)</td>\n",
              "      <td>NaN</td>\n",
              "      <td>twitter</td>\n",
              "      <td>Please join me today in remembering our fallen...</td>\n",
              "    </tr>\n",
              "    <tr>\n",
              "      <th>3</th>\n",
              "      <td>766192487</td>\n",
              "      <td>False</td>\n",
              "      <td>finalized</td>\n",
              "      <td>1</td>\n",
              "      <td>8/4/15 21:08</td>\n",
              "      <td>national</td>\n",
              "      <td>1.0</td>\n",
              "      <td>neutral</td>\n",
              "      <td>1.0</td>\n",
              "      <td>policy</td>\n",
              "      <td>...</td>\n",
              "      <td>NaN</td>\n",
              "      <td>NaN</td>\n",
              "      <td>NaN</td>\n",
              "      <td>C000880</td>\n",
              "      <td>&lt;blockquote class=\"twitter-tweet\" width=\"450\"&gt;...</td>\n",
              "      <td>2.98528E+17</td>\n",
              "      <td>From: Michael Crapo (Senator from Idaho)</td>\n",
              "      <td>NaN</td>\n",
              "      <td>twitter</td>\n",
              "      <td>RT @SenatorLeahy: 1st step toward Senate debat...</td>\n",
              "    </tr>\n",
              "    <tr>\n",
              "      <th>4</th>\n",
              "      <td>766192488</td>\n",
              "      <td>False</td>\n",
              "      <td>finalized</td>\n",
              "      <td>1</td>\n",
              "      <td>8/4/15 21:26</td>\n",
              "      <td>national</td>\n",
              "      <td>1.0</td>\n",
              "      <td>partisan</td>\n",
              "      <td>1.0</td>\n",
              "      <td>policy</td>\n",
              "      <td>...</td>\n",
              "      <td>NaN</td>\n",
              "      <td>NaN</td>\n",
              "      <td>NaN</td>\n",
              "      <td>U000038</td>\n",
              "      <td>&lt;blockquote class=\"twitter-tweet\" width=\"450\"&gt;...</td>\n",
              "      <td>4.07643E+17</td>\n",
              "      <td>From: Mark Udall (Senator from Colorado)</td>\n",
              "      <td>NaN</td>\n",
              "      <td>twitter</td>\n",
              "      <td>.@amazon delivery #drones show need to update ...</td>\n",
              "    </tr>\n",
              "  </tbody>\n",
              "</table>\n",
              "<p>5 rows × 21 columns</p>\n",
              "</div>"
            ],
            "text/plain": [
              "    _unit_id  _golden _unit_state  _trusted_judgments _last_judgment_at  \\\n",
              "0  766192484    False   finalized                   1      8/4/15 21:17   \n",
              "1  766192485    False   finalized                   1      8/4/15 21:20   \n",
              "2  766192486    False   finalized                   1      8/4/15 21:14   \n",
              "3  766192487    False   finalized                   1      8/4/15 21:08   \n",
              "4  766192488    False   finalized                   1      8/4/15 21:26   \n",
              "\n",
              "   audience  audience:confidence      bias  bias:confidence  message  \\\n",
              "0  national                  1.0  partisan              1.0   policy   \n",
              "1  national                  1.0  partisan              1.0   attack   \n",
              "2  national                  1.0   neutral              1.0  support   \n",
              "3  national                  1.0   neutral              1.0   policy   \n",
              "4  national                  1.0  partisan              1.0   policy   \n",
              "\n",
              "                         ...                          orig__golden  \\\n",
              "0                        ...                                   NaN   \n",
              "1                        ...                                   NaN   \n",
              "2                        ...                                   NaN   \n",
              "3                        ...                                   NaN   \n",
              "4                        ...                                   NaN   \n",
              "\n",
              "   audience_gold  bias_gold    bioid  \\\n",
              "0            NaN        NaN  R000596   \n",
              "1            NaN        NaN  M000355   \n",
              "2            NaN        NaN  S001180   \n",
              "3            NaN        NaN  C000880   \n",
              "4            NaN        NaN  U000038   \n",
              "\n",
              "                                               embed           id  \\\n",
              "0  <blockquote class=\"twitter-tweet\" width=\"450\">...  3.83249E+17   \n",
              "1  <blockquote class=\"twitter-tweet\" width=\"450\">...  3.11208E+17   \n",
              "2  <blockquote class=\"twitter-tweet\" width=\"450\">...  3.39069E+17   \n",
              "3  <blockquote class=\"twitter-tweet\" width=\"450\">...  2.98528E+17   \n",
              "4  <blockquote class=\"twitter-tweet\" width=\"450\">...  4.07643E+17   \n",
              "\n",
              "                                              label message_gold   source  \\\n",
              "0    From: Trey Radel (Representative from Florida)          NaN  twitter   \n",
              "1     From: Mitch McConnell (Senator from Kentucky)          NaN  twitter   \n",
              "2  From: Kurt Schrader (Representative from Oregon)          NaN  twitter   \n",
              "3          From: Michael Crapo (Senator from Idaho)          NaN  twitter   \n",
              "4          From: Mark Udall (Senator from Colorado)          NaN  twitter   \n",
              "\n",
              "                                                text  \n",
              "0  RT @nowthisnews: Rep. Trey Radel (R- #FL) slam...  \n",
              "1  VIDEO - #Obamacare:  Full of Higher Costs and ...  \n",
              "2  Please join me today in remembering our fallen...  \n",
              "3  RT @SenatorLeahy: 1st step toward Senate debat...  \n",
              "4  .@amazon delivery #drones show need to update ...  \n",
              "\n",
              "[5 rows x 21 columns]"
            ]
          },
          "metadata": {
            "tags": []
          },
          "execution_count": 129
        }
      ]
    },
    {
      "metadata": {
        "id": "eG1JqEI9nfiE",
        "colab_type": "code",
        "outputId": "ab2a0ae8-6548-456d-8351-bd7e18c031df",
        "colab": {
          "base_uri": "https://localhost:8080/",
          "height": 118
        }
      },
      "cell_type": "code",
      "source": [
        "political_data.columns"
      ],
      "execution_count": 0,
      "outputs": [
        {
          "output_type": "execute_result",
          "data": {
            "text/plain": [
              "Index(['_unit_id', '_golden', '_unit_state', '_trusted_judgments',\n",
              "       '_last_judgment_at', 'audience', 'audience:confidence', 'bias',\n",
              "       'bias:confidence', 'message', 'message:confidence', 'orig__golden',\n",
              "       'audience_gold', 'bias_gold', 'bioid', 'embed', 'id', 'label',\n",
              "       'message_gold', 'source', 'text'],\n",
              "      dtype='object')"
            ]
          },
          "metadata": {
            "tags": []
          },
          "execution_count": 130
        }
      ]
    },
    {
      "metadata": {
        "id": "FJ_4ZJGDF3WH",
        "colab_type": "text"
      },
      "cell_type": "markdown",
      "source": [
        "### 8.4 Political Bias Scoring\n",
        "\n",
        "For the purposes of computing political bias, a weight for each feature is assigned along with rationale. The rationale is heavily based on the description of each values of each column from the Kaggle website."
      ]
    },
    {
      "metadata": {
        "id": "Y7-YFZzhfKlt",
        "colab_type": "code",
        "colab": {}
      },
      "cell_type": "code",
      "source": [
        "def BiasEncoder( bias ):\n",
        "   if bias == 'neutral':\n",
        "      return 0\n",
        "   elif bias == 'partisan':\n",
        "      return 1\n",
        "    \n",
        "def MessageEncoder( message ):\n",
        "   return {\n",
        "        'attack' : 12,          # Rationale: attacking another politician clear indication of high political (partisanship) score\n",
        "        'mobilization' : 6,     # rationale: designed to mobilize supports, clear indication of high political score\n",
        "        'support' : 5,          # Rationale: message of politcal support is a good indication of high political score\n",
        "        'policy' : 4,           # Rationale: discussion of political policy is a modest indication of high political score\n",
        "        'media' : 3,            # Rationale: Interaction with media has some indication of high political score\n",
        "        'other' : 3,            # Rationale: We don't know (either way)       \n",
        "        'constituency' : 2,     # Rationale: Discussion of political constintuency is a poor indication of high political score\n",
        "        'personal': 1,          # Rationale: Condolences and sympathy are clear indication of low political score\n",
        "        'information' : 0 }[ message ]\n",
        "\n",
        "def AudienceEncoder( audience ):\n",
        "   return {\n",
        "       'constituency' : 2,      # Rationale: Address to political constituency has higher political/partisanship score than address to national audience\n",
        "       'national' : 1\n",
        "       }[ audience ]\n",
        "       \n",
        "political_data['biasNumeric'] = political_data.bias.apply(BiasEncoder)\n",
        "political_data['messageNumeric'] = political_data.message.apply(MessageEncoder)    \n",
        "political_data['audienceNumeric'] = political_data.audience.apply(AudienceEncoder)       "
      ],
      "execution_count": 0,
      "outputs": []
    },
    {
      "metadata": {
        "id": "N_RgFuj5kV49",
        "colab_type": "text"
      },
      "cell_type": "markdown",
      "source": [
        "Now we compute the overall political spectrum score. The weights are adjusted to optimize the prediction accuracy."
      ]
    },
    {
      "metadata": {
        "id": "dUkEmn8qkd_A",
        "colab_type": "code",
        "colab": {}
      },
      "cell_type": "code",
      "source": [
        "political_data['political'] = round(political_data['biasNumeric']*30*political_data['bias:confidence'] + political_data['messageNumeric']*5 +  political_data['audienceNumeric']*5)"
      ],
      "execution_count": 0,
      "outputs": []
    },
    {
      "metadata": {
        "id": "wbLtB_rSjW3M",
        "colab_type": "text"
      },
      "cell_type": "markdown",
      "source": [
        "### 8.5 Multi-class Classification\n",
        "\n",
        "Checking the distribution, the boundaries are chosen to allocate each article to corresponding bin evenly. With just raw scores from 1 to 100, accuracy score can be poor (TF-IDF + MultinomialNB). As a result, a continuous range is reduced to a set to four discrete classes (0 - 3) ."
      ]
    },
    {
      "metadata": {
        "id": "htBzuE1BivlG",
        "colab_type": "code",
        "outputId": "4d190150-e5e2-46aa-e452-066df5c7c9bd",
        "colab": {
          "base_uri": "https://localhost:8080/",
          "height": 377
        }
      },
      "cell_type": "code",
      "source": [
        "import matplotlib.pyplot as plt\n",
        "\n",
        "bins = range(100)\n",
        "plt.hist(political_data.political, bins, histtype='bar', rwidth=0.8, cumulative=False )\n",
        "plt.xlabel( \"Political Spectrum (Raw)\" )\n",
        "plt.ylabel( \"Count\")"
      ],
      "execution_count": 0,
      "outputs": [
        {
          "output_type": "execute_result",
          "data": {
            "text/plain": [
              "Text(0,0.5,'Count')"
            ]
          },
          "metadata": {
            "tags": []
          },
          "execution_count": 133
        },
        {
          "output_type": "display_data",
          "data": {
            "image/png": "[encoded data removed]",
            "text/plain": [
              "<matplotlib.figure.Figure at 0x7f58d153cb00>"
            ]
          },
          "metadata": {
            "tags": []
          }
        }
      ]
    },
    {
      "metadata": {
        "id": "3aJ1VQ4apkxb",
        "colab_type": "text"
      },
      "cell_type": "markdown",
      "source": [
        "Applying the boundary ranges `[0-20)`, `[20-40)`, `[40-80)`, and `[80-100)`,"
      ]
    },
    {
      "metadata": {
        "id": "_bhai_bNqFdw",
        "colab_type": "code",
        "colab": {}
      },
      "cell_type": "code",
      "source": [
        "def categorize( raw_score ):\n",
        "  \n",
        "   if raw_score < 20:\n",
        "      ret = 0\n",
        "   elif raw_score < 40:\n",
        "      ret = 1\n",
        "   elif raw_score < 80:\n",
        "      ret = 2\n",
        "   elif raw_score <= 100:\n",
        "      ret = 3\n",
        "   return ret\n",
        "    \n",
        "political_data['politicalDiscrete'] = political_data['political'].apply( categorize )"
      ],
      "execution_count": 0,
      "outputs": []
    },
    {
      "metadata": {
        "id": "oYH4Z8dxksMY",
        "colab_type": "code",
        "outputId": "dc6ec8e6-165b-4ac9-da51-f9dee5e1ff2b",
        "colab": {
          "base_uri": "https://localhost:8080/",
          "height": 34
        }
      },
      "cell_type": "code",
      "source": [
        "political_data.politicalDiscrete[0]"
      ],
      "execution_count": 0,
      "outputs": [
        {
          "output_type": "execute_result",
          "data": {
            "text/plain": [
              "2"
            ]
          },
          "metadata": {
            "tags": []
          },
          "execution_count": 135
        }
      ]
    },
    {
      "metadata": {
        "id": "_EI-1MhzP4gc",
        "colab_type": "text"
      },
      "cell_type": "markdown",
      "source": [
        "To illustrate how the rows are split and distributed using the following historgram,"
      ]
    },
    {
      "metadata": {
        "id": "yw8rQg3t_SuS",
        "colab_type": "code",
        "outputId": "9765351e-8cf8-4e7f-afe1-f448a6a1ff80",
        "colab": {
          "base_uri": "https://localhost:8080/",
          "height": 377
        }
      },
      "cell_type": "code",
      "source": [
        "import matplotlib.pyplot as plt\n",
        "\n",
        "bins = [0, 1, 2, 3, 4 ]\n",
        "plt.hist(political_data.politicalDiscrete, bins, histtype='bar', rwidth=0.8, cumulative=False )\n",
        "plt.xlabel( \"Political Spectrum\" )\n",
        "plt.ylabel( \"Count\")"
      ],
      "execution_count": 0,
      "outputs": [
        {
          "output_type": "execute_result",
          "data": {
            "text/plain": [
              "Text(0,0.5,'Count')"
            ]
          },
          "metadata": {
            "tags": []
          },
          "execution_count": 136
        },
        {
          "output_type": "display_data",
          "data": {
            "image/png": "[encoded data removed]",
            "text/plain": [
              "<matplotlib.figure.Figure at 0x7f58d13a6550>"
            ]
          },
          "metadata": {
            "tags": []
          }
        }
      ]
    },
    {
      "metadata": {
        "id": "3AqMmePHkwTn",
        "colab_type": "code",
        "outputId": "0d5176cc-d2b7-4de9-9617-df094592c0bd",
        "colab": {
          "base_uri": "https://localhost:8080/",
          "height": 1332
        }
      },
      "cell_type": "code",
      "source": [
        "political_data.head(15)"
      ],
      "execution_count": 0,
      "outputs": [
        {
          "output_type": "execute_result",
          "data": {
            "text/html": [
              "<div>\n",
              "<style scoped>\n",
              "    .dataframe tbody tr th:only-of-type {\n",
              "        vertical-align: middle;\n",
              "    }\n",
              "\n",
              "    .dataframe tbody tr th {\n",
              "        vertical-align: top;\n",
              "    }\n",
              "\n",
              "    .dataframe thead th {\n",
              "        text-align: right;\n",
              "    }\n",
              "</style>\n",
              "<table border=\"1\" class=\"dataframe\">\n",
              "  <thead>\n",
              "    <tr style=\"text-align: right;\">\n",
              "      <th></th>\n",
              "      <th>_unit_id</th>\n",
              "      <th>_golden</th>\n",
              "      <th>_unit_state</th>\n",
              "      <th>_trusted_judgments</th>\n",
              "      <th>_last_judgment_at</th>\n",
              "      <th>audience</th>\n",
              "      <th>audience:confidence</th>\n",
              "      <th>bias</th>\n",
              "      <th>bias:confidence</th>\n",
              "      <th>message</th>\n",
              "      <th>...</th>\n",
              "      <th>id</th>\n",
              "      <th>label</th>\n",
              "      <th>message_gold</th>\n",
              "      <th>source</th>\n",
              "      <th>text</th>\n",
              "      <th>biasNumeric</th>\n",
              "      <th>messageNumeric</th>\n",
              "      <th>audienceNumeric</th>\n",
              "      <th>political</th>\n",
              "      <th>politicalDiscrete</th>\n",
              "    </tr>\n",
              "  </thead>\n",
              "  <tbody>\n",
              "    <tr>\n",
              "      <th>0</th>\n",
              "      <td>766192484</td>\n",
              "      <td>False</td>\n",
              "      <td>finalized</td>\n",
              "      <td>1</td>\n",
              "      <td>8/4/15 21:17</td>\n",
              "      <td>national</td>\n",
              "      <td>1.0</td>\n",
              "      <td>partisan</td>\n",
              "      <td>1.0000</td>\n",
              "      <td>policy</td>\n",
              "      <td>...</td>\n",
              "      <td>3.83249E+17</td>\n",
              "      <td>From: Trey Radel (Representative from Florida)</td>\n",
              "      <td>NaN</td>\n",
              "      <td>twitter</td>\n",
              "      <td>RT @nowthisnews: Rep. Trey Radel (R- #FL) slam...</td>\n",
              "      <td>1</td>\n",
              "      <td>4</td>\n",
              "      <td>1</td>\n",
              "      <td>55.0</td>\n",
              "      <td>2</td>\n",
              "    </tr>\n",
              "    <tr>\n",
              "      <th>1</th>\n",
              "      <td>766192485</td>\n",
              "      <td>False</td>\n",
              "      <td>finalized</td>\n",
              "      <td>1</td>\n",
              "      <td>8/4/15 21:20</td>\n",
              "      <td>national</td>\n",
              "      <td>1.0</td>\n",
              "      <td>partisan</td>\n",
              "      <td>1.0000</td>\n",
              "      <td>attack</td>\n",
              "      <td>...</td>\n",
              "      <td>3.11208E+17</td>\n",
              "      <td>From: Mitch McConnell (Senator from Kentucky)</td>\n",
              "      <td>NaN</td>\n",
              "      <td>twitter</td>\n",
              "      <td>VIDEO - #Obamacare:  Full of Higher Costs and ...</td>\n",
              "      <td>1</td>\n",
              "      <td>12</td>\n",
              "      <td>1</td>\n",
              "      <td>95.0</td>\n",
              "      <td>3</td>\n",
              "    </tr>\n",
              "    <tr>\n",
              "      <th>2</th>\n",
              "      <td>766192486</td>\n",
              "      <td>False</td>\n",
              "      <td>finalized</td>\n",
              "      <td>1</td>\n",
              "      <td>8/4/15 21:14</td>\n",
              "      <td>national</td>\n",
              "      <td>1.0</td>\n",
              "      <td>neutral</td>\n",
              "      <td>1.0000</td>\n",
              "      <td>support</td>\n",
              "      <td>...</td>\n",
              "      <td>3.39069E+17</td>\n",
              "      <td>From: Kurt Schrader (Representative from Oregon)</td>\n",
              "      <td>NaN</td>\n",
              "      <td>twitter</td>\n",
              "      <td>Please join me today in remembering our fallen...</td>\n",
              "      <td>0</td>\n",
              "      <td>5</td>\n",
              "      <td>1</td>\n",
              "      <td>30.0</td>\n",
              "      <td>1</td>\n",
              "    </tr>\n",
              "    <tr>\n",
              "      <th>3</th>\n",
              "      <td>766192487</td>\n",
              "      <td>False</td>\n",
              "      <td>finalized</td>\n",
              "      <td>1</td>\n",
              "      <td>8/4/15 21:08</td>\n",
              "      <td>national</td>\n",
              "      <td>1.0</td>\n",
              "      <td>neutral</td>\n",
              "      <td>1.0000</td>\n",
              "      <td>policy</td>\n",
              "      <td>...</td>\n",
              "      <td>2.98528E+17</td>\n",
              "      <td>From: Michael Crapo (Senator from Idaho)</td>\n",
              "      <td>NaN</td>\n",
              "      <td>twitter</td>\n",
              "      <td>RT @SenatorLeahy: 1st step toward Senate debat...</td>\n",
              "      <td>0</td>\n",
              "      <td>4</td>\n",
              "      <td>1</td>\n",
              "      <td>25.0</td>\n",
              "      <td>1</td>\n",
              "    </tr>\n",
              "    <tr>\n",
              "      <th>4</th>\n",
              "      <td>766192488</td>\n",
              "      <td>False</td>\n",
              "      <td>finalized</td>\n",
              "      <td>1</td>\n",
              "      <td>8/4/15 21:26</td>\n",
              "      <td>national</td>\n",
              "      <td>1.0</td>\n",
              "      <td>partisan</td>\n",
              "      <td>1.0000</td>\n",
              "      <td>policy</td>\n",
              "      <td>...</td>\n",
              "      <td>4.07643E+17</td>\n",
              "      <td>From: Mark Udall (Senator from Colorado)</td>\n",
              "      <td>NaN</td>\n",
              "      <td>twitter</td>\n",
              "      <td>.@amazon delivery #drones show need to update ...</td>\n",
              "      <td>1</td>\n",
              "      <td>4</td>\n",
              "      <td>1</td>\n",
              "      <td>55.0</td>\n",
              "      <td>2</td>\n",
              "    </tr>\n",
              "    <tr>\n",
              "      <th>5</th>\n",
              "      <td>766192489</td>\n",
              "      <td>False</td>\n",
              "      <td>finalized</td>\n",
              "      <td>2</td>\n",
              "      <td>8/4/15 21:06</td>\n",
              "      <td>national</td>\n",
              "      <td>1.0</td>\n",
              "      <td>partisan</td>\n",
              "      <td>0.5216</td>\n",
              "      <td>information</td>\n",
              "      <td>...</td>\n",
              "      <td>4.2103E+17</td>\n",
              "      <td>From: Heidi Heitkamp (Senator from North Dakota)</td>\n",
              "      <td>NaN</td>\n",
              "      <td>twitter</td>\n",
              "      <td>Called on the @USDOTFRA to release info about ...</td>\n",
              "      <td>1</td>\n",
              "      <td>0</td>\n",
              "      <td>1</td>\n",
              "      <td>21.0</td>\n",
              "      <td>1</td>\n",
              "    </tr>\n",
              "    <tr>\n",
              "      <th>6</th>\n",
              "      <td>766192490</td>\n",
              "      <td>False</td>\n",
              "      <td>finalized</td>\n",
              "      <td>1</td>\n",
              "      <td>8/4/15 21:07</td>\n",
              "      <td>national</td>\n",
              "      <td>1.0</td>\n",
              "      <td>neutral</td>\n",
              "      <td>1.0000</td>\n",
              "      <td>mobilization</td>\n",
              "      <td>...</td>\n",
              "      <td>4.89407E+17</td>\n",
              "      <td>From: Frederica Wilson (Representative from Fl...</td>\n",
              "      <td>NaN</td>\n",
              "      <td>twitter</td>\n",
              "      <td>@BBCWorld, help us keep the kidnapped Nigerian...</td>\n",
              "      <td>0</td>\n",
              "      <td>6</td>\n",
              "      <td>1</td>\n",
              "      <td>35.0</td>\n",
              "      <td>1</td>\n",
              "    </tr>\n",
              "    <tr>\n",
              "      <th>7</th>\n",
              "      <td>766192491</td>\n",
              "      <td>False</td>\n",
              "      <td>finalized</td>\n",
              "      <td>1</td>\n",
              "      <td>8/4/15 20:51</td>\n",
              "      <td>constituency</td>\n",
              "      <td>1.0</td>\n",
              "      <td>neutral</td>\n",
              "      <td>1.0000</td>\n",
              "      <td>mobilization</td>\n",
              "      <td>...</td>\n",
              "      <td>3.27182E+17</td>\n",
              "      <td>From: Ron Barber (Representative from Arizona)</td>\n",
              "      <td>NaN</td>\n",
              "      <td>twitter</td>\n",
              "      <td>Show your Arizona pride-choose your favorite S...</td>\n",
              "      <td>0</td>\n",
              "      <td>6</td>\n",
              "      <td>2</td>\n",
              "      <td>40.0</td>\n",
              "      <td>2</td>\n",
              "    </tr>\n",
              "    <tr>\n",
              "      <th>8</th>\n",
              "      <td>766192492</td>\n",
              "      <td>False</td>\n",
              "      <td>finalized</td>\n",
              "      <td>1</td>\n",
              "      <td>8/4/15 20:57</td>\n",
              "      <td>national</td>\n",
              "      <td>1.0</td>\n",
              "      <td>neutral</td>\n",
              "      <td>1.0000</td>\n",
              "      <td>personal</td>\n",
              "      <td>...</td>\n",
              "      <td>5.37292E+17</td>\n",
              "      <td>From: Chuck Fleischmann (Representative from T...</td>\n",
              "      <td>NaN</td>\n",
              "      <td>twitter</td>\n",
              "      <td>What a wonderful night at State Senator Ken Ya...</td>\n",
              "      <td>0</td>\n",
              "      <td>1</td>\n",
              "      <td>1</td>\n",
              "      <td>10.0</td>\n",
              "      <td>0</td>\n",
              "    </tr>\n",
              "    <tr>\n",
              "      <th>9</th>\n",
              "      <td>766192493</td>\n",
              "      <td>False</td>\n",
              "      <td>finalized</td>\n",
              "      <td>2</td>\n",
              "      <td>8/4/15 21:14</td>\n",
              "      <td>national</td>\n",
              "      <td>1.0</td>\n",
              "      <td>partisan</td>\n",
              "      <td>1.0000</td>\n",
              "      <td>support</td>\n",
              "      <td>...</td>\n",
              "      <td>2.98815E+17</td>\n",
              "      <td>From: Steny Hoyer (Representative from Maryland)</td>\n",
              "      <td>NaN</td>\n",
              "      <td>twitter</td>\n",
              "      <td>Great op-ed by Pres. Clinton about signing #FM...</td>\n",
              "      <td>1</td>\n",
              "      <td>5</td>\n",
              "      <td>1</td>\n",
              "      <td>60.0</td>\n",
              "      <td>2</td>\n",
              "    </tr>\n",
              "    <tr>\n",
              "      <th>10</th>\n",
              "      <td>766192494</td>\n",
              "      <td>False</td>\n",
              "      <td>finalized</td>\n",
              "      <td>1</td>\n",
              "      <td>8/4/15 20:35</td>\n",
              "      <td>national</td>\n",
              "      <td>1.0</td>\n",
              "      <td>partisan</td>\n",
              "      <td>1.0000</td>\n",
              "      <td>policy</td>\n",
              "      <td>...</td>\n",
              "      <td>4.68472E+17</td>\n",
              "      <td>From: John Fleming (Representative from Louisi...</td>\n",
              "      <td>NaN</td>\n",
              "      <td>twitter</td>\n",
              "      <td>As POTUS golfs, pushes amnesty &amp;amp; ignores K...</td>\n",
              "      <td>1</td>\n",
              "      <td>4</td>\n",
              "      <td>1</td>\n",
              "      <td>55.0</td>\n",
              "      <td>2</td>\n",
              "    </tr>\n",
              "    <tr>\n",
              "      <th>11</th>\n",
              "      <td>766192495</td>\n",
              "      <td>False</td>\n",
              "      <td>finalized</td>\n",
              "      <td>1</td>\n",
              "      <td>8/4/15 21:15</td>\n",
              "      <td>national</td>\n",
              "      <td>1.0</td>\n",
              "      <td>partisan</td>\n",
              "      <td>1.0000</td>\n",
              "      <td>attack</td>\n",
              "      <td>...</td>\n",
              "      <td>5.35478E+17</td>\n",
              "      <td>From: Adam Kinzinger (Representative from Illi...</td>\n",
              "      <td>NaN</td>\n",
              "      <td>twitter</td>\n",
              "      <td>The President doesn۪t get to just decide he do...</td>\n",
              "      <td>1</td>\n",
              "      <td>12</td>\n",
              "      <td>1</td>\n",
              "      <td>95.0</td>\n",
              "      <td>3</td>\n",
              "    </tr>\n",
              "    <tr>\n",
              "      <th>12</th>\n",
              "      <td>766192496</td>\n",
              "      <td>False</td>\n",
              "      <td>finalized</td>\n",
              "      <td>1</td>\n",
              "      <td>8/4/15 21:18</td>\n",
              "      <td>national</td>\n",
              "      <td>1.0</td>\n",
              "      <td>neutral</td>\n",
              "      <td>1.0000</td>\n",
              "      <td>policy</td>\n",
              "      <td>...</td>\n",
              "      <td>4.35829E+17</td>\n",
              "      <td>From: Thomas Carper (Senator from Delaware)</td>\n",
              "      <td>NaN</td>\n",
              "      <td>twitter</td>\n",
              "      <td>FACT: The Recovery Act cut taxes for middle-cl...</td>\n",
              "      <td>0</td>\n",
              "      <td>4</td>\n",
              "      <td>1</td>\n",
              "      <td>25.0</td>\n",
              "      <td>1</td>\n",
              "    </tr>\n",
              "    <tr>\n",
              "      <th>13</th>\n",
              "      <td>766192497</td>\n",
              "      <td>False</td>\n",
              "      <td>finalized</td>\n",
              "      <td>1</td>\n",
              "      <td>8/4/15 20:16</td>\n",
              "      <td>national</td>\n",
              "      <td>1.0</td>\n",
              "      <td>neutral</td>\n",
              "      <td>1.0000</td>\n",
              "      <td>information</td>\n",
              "      <td>...</td>\n",
              "      <td>4.07547E+17</td>\n",
              "      <td>From: Gregg Harper (Representative from Missis...</td>\n",
              "      <td>NaN</td>\n",
              "      <td>twitter</td>\n",
              "      <td>RT @MHA: Telemedicine consults at rural ERs he...</td>\n",
              "      <td>0</td>\n",
              "      <td>0</td>\n",
              "      <td>1</td>\n",
              "      <td>5.0</td>\n",
              "      <td>0</td>\n",
              "    </tr>\n",
              "    <tr>\n",
              "      <th>14</th>\n",
              "      <td>766192498</td>\n",
              "      <td>False</td>\n",
              "      <td>finalized</td>\n",
              "      <td>1</td>\n",
              "      <td>8/4/15 20:55</td>\n",
              "      <td>constituency</td>\n",
              "      <td>1.0</td>\n",
              "      <td>neutral</td>\n",
              "      <td>1.0000</td>\n",
              "      <td>personal</td>\n",
              "      <td>...</td>\n",
              "      <td>5.10236E+17</td>\n",
              "      <td>From: John Dingell (Representative from Michigan)</td>\n",
              "      <td>NaN</td>\n",
              "      <td>twitter</td>\n",
              "      <td>@SkitchP Wouldn't wish that on anyone. Even yo...</td>\n",
              "      <td>0</td>\n",
              "      <td>1</td>\n",
              "      <td>2</td>\n",
              "      <td>15.0</td>\n",
              "      <td>0</td>\n",
              "    </tr>\n",
              "  </tbody>\n",
              "</table>\n",
              "<p>15 rows × 26 columns</p>\n",
              "</div>"
            ],
            "text/plain": [
              "     _unit_id  _golden _unit_state  _trusted_judgments _last_judgment_at  \\\n",
              "0   766192484    False   finalized                   1      8/4/15 21:17   \n",
              "1   766192485    False   finalized                   1      8/4/15 21:20   \n",
              "2   766192486    False   finalized                   1      8/4/15 21:14   \n",
              "3   766192487    False   finalized                   1      8/4/15 21:08   \n",
              "4   766192488    False   finalized                   1      8/4/15 21:26   \n",
              "5   766192489    False   finalized                   2      8/4/15 21:06   \n",
              "6   766192490    False   finalized                   1      8/4/15 21:07   \n",
              "7   766192491    False   finalized                   1      8/4/15 20:51   \n",
              "8   766192492    False   finalized                   1      8/4/15 20:57   \n",
              "9   766192493    False   finalized                   2      8/4/15 21:14   \n",
              "10  766192494    False   finalized                   1      8/4/15 20:35   \n",
              "11  766192495    False   finalized                   1      8/4/15 21:15   \n",
              "12  766192496    False   finalized                   1      8/4/15 21:18   \n",
              "13  766192497    False   finalized                   1      8/4/15 20:16   \n",
              "14  766192498    False   finalized                   1      8/4/15 20:55   \n",
              "\n",
              "        audience  audience:confidence      bias  bias:confidence  \\\n",
              "0       national                  1.0  partisan           1.0000   \n",
              "1       national                  1.0  partisan           1.0000   \n",
              "2       national                  1.0   neutral           1.0000   \n",
              "3       national                  1.0   neutral           1.0000   \n",
              "4       national                  1.0  partisan           1.0000   \n",
              "5       national                  1.0  partisan           0.5216   \n",
              "6       national                  1.0   neutral           1.0000   \n",
              "7   constituency                  1.0   neutral           1.0000   \n",
              "8       national                  1.0   neutral           1.0000   \n",
              "9       national                  1.0  partisan           1.0000   \n",
              "10      national                  1.0  partisan           1.0000   \n",
              "11      national                  1.0  partisan           1.0000   \n",
              "12      national                  1.0   neutral           1.0000   \n",
              "13      national                  1.0   neutral           1.0000   \n",
              "14  constituency                  1.0   neutral           1.0000   \n",
              "\n",
              "         message        ...                  id  \\\n",
              "0         policy        ...         3.83249E+17   \n",
              "1         attack        ...         3.11208E+17   \n",
              "2        support        ...         3.39069E+17   \n",
              "3         policy        ...         2.98528E+17   \n",
              "4         policy        ...         4.07643E+17   \n",
              "5    information        ...          4.2103E+17   \n",
              "6   mobilization        ...         4.89407E+17   \n",
              "7   mobilization        ...         3.27182E+17   \n",
              "8       personal        ...         5.37292E+17   \n",
              "9        support        ...         2.98815E+17   \n",
              "10        policy        ...         4.68472E+17   \n",
              "11        attack        ...         5.35478E+17   \n",
              "12        policy        ...         4.35829E+17   \n",
              "13   information        ...         4.07547E+17   \n",
              "14      personal        ...         5.10236E+17   \n",
              "\n",
              "                                                label  message_gold   source  \\\n",
              "0      From: Trey Radel (Representative from Florida)           NaN  twitter   \n",
              "1       From: Mitch McConnell (Senator from Kentucky)           NaN  twitter   \n",
              "2    From: Kurt Schrader (Representative from Oregon)           NaN  twitter   \n",
              "3            From: Michael Crapo (Senator from Idaho)           NaN  twitter   \n",
              "4            From: Mark Udall (Senator from Colorado)           NaN  twitter   \n",
              "5    From: Heidi Heitkamp (Senator from North Dakota)           NaN  twitter   \n",
              "6   From: Frederica Wilson (Representative from Fl...           NaN  twitter   \n",
              "7      From: Ron Barber (Representative from Arizona)           NaN  twitter   \n",
              "8   From: Chuck Fleischmann (Representative from T...           NaN  twitter   \n",
              "9    From: Steny Hoyer (Representative from Maryland)           NaN  twitter   \n",
              "10  From: John Fleming (Representative from Louisi...           NaN  twitter   \n",
              "11  From: Adam Kinzinger (Representative from Illi...           NaN  twitter   \n",
              "12        From: Thomas Carper (Senator from Delaware)           NaN  twitter   \n",
              "13  From: Gregg Harper (Representative from Missis...           NaN  twitter   \n",
              "14  From: John Dingell (Representative from Michigan)           NaN  twitter   \n",
              "\n",
              "                                                 text biasNumeric  \\\n",
              "0   RT @nowthisnews: Rep. Trey Radel (R- #FL) slam...           1   \n",
              "1   VIDEO - #Obamacare:  Full of Higher Costs and ...           1   \n",
              "2   Please join me today in remembering our fallen...           0   \n",
              "3   RT @SenatorLeahy: 1st step toward Senate debat...           0   \n",
              "4   .@amazon delivery #drones show need to update ...           1   \n",
              "5   Called on the @USDOTFRA to release info about ...           1   \n",
              "6   @BBCWorld, help us keep the kidnapped Nigerian...           0   \n",
              "7   Show your Arizona pride-choose your favorite S...           0   \n",
              "8   What a wonderful night at State Senator Ken Ya...           0   \n",
              "9   Great op-ed by Pres. Clinton about signing #FM...           1   \n",
              "10  As POTUS golfs, pushes amnesty &amp; ignores K...           1   \n",
              "11  The President doesn۪t get to just decide he do...           1   \n",
              "12  FACT: The Recovery Act cut taxes for middle-cl...           0   \n",
              "13  RT @MHA: Telemedicine consults at rural ERs he...           0   \n",
              "14  @SkitchP Wouldn't wish that on anyone. Even yo...           0   \n",
              "\n",
              "   messageNumeric audienceNumeric  political politicalDiscrete  \n",
              "0               4               1       55.0                 2  \n",
              "1              12               1       95.0                 3  \n",
              "2               5               1       30.0                 1  \n",
              "3               4               1       25.0                 1  \n",
              "4               4               1       55.0                 2  \n",
              "5               0               1       21.0                 1  \n",
              "6               6               1       35.0                 1  \n",
              "7               6               2       40.0                 2  \n",
              "8               1               1       10.0                 0  \n",
              "9               5               1       60.0                 2  \n",
              "10              4               1       55.0                 2  \n",
              "11             12               1       95.0                 3  \n",
              "12              4               1       25.0                 1  \n",
              "13              0               1        5.0                 0  \n",
              "14              1               2       15.0                 0  \n",
              "\n",
              "[15 rows x 26 columns]"
            ]
          },
          "metadata": {
            "tags": []
          },
          "execution_count": 137
        }
      ]
    },
    {
      "metadata": {
        "id": "UnOjOIQ7eV7X",
        "colab_type": "text"
      },
      "cell_type": "markdown",
      "source": [
        "### 8.6 Distillation - Tokenization"
      ]
    },
    {
      "metadata": {
        "id": "s4CyJ-3LP-oo",
        "colab_type": "text"
      },
      "cell_type": "markdown",
      "source": [
        "As done in previous sections, standard distillation steps are applied to the new dataset."
      ]
    },
    {
      "metadata": {
        "id": "F5-UD5uXmynL",
        "colab_type": "code",
        "outputId": "4c6ab751-50d1-4304-cbab-78864d65504b",
        "colab": {
          "base_uri": "https://localhost:8080/",
          "height": 101
        }
      },
      "cell_type": "code",
      "source": [
        "political_data.text[:4]"
      ],
      "execution_count": 0,
      "outputs": [
        {
          "output_type": "execute_result",
          "data": {
            "text/plain": [
              "0    RT @nowthisnews: Rep. Trey Radel (R- #FL) slam...\n",
              "1    VIDEO - #Obamacare:  Full of Higher Costs and ...\n",
              "2    Please join me today in remembering our fallen...\n",
              "3    RT @SenatorLeahy: 1st step toward Senate debat...\n",
              "Name: text, dtype: object"
            ]
          },
          "metadata": {
            "tags": []
          },
          "execution_count": 138
        }
      ]
    },
    {
      "metadata": {
        "id": "rH4o5RTWeVGO",
        "colab_type": "code",
        "colab": {}
      },
      "cell_type": "code",
      "source": [
        "political_data['text_distilled'] = political_data['text'].apply(lambda x : re.split('\\W+', str(x).lower()))"
      ],
      "execution_count": 0,
      "outputs": []
    },
    {
      "metadata": {
        "id": "aGUi2mUUl4BD",
        "colab_type": "code",
        "outputId": "5e2f6870-9edd-4534-fe91-9a9cb5945f25",
        "colab": {
          "base_uri": "https://localhost:8080/",
          "height": 101
        }
      },
      "cell_type": "code",
      "source": [
        "political_data.text_distilled[:4]"
      ],
      "execution_count": 0,
      "outputs": [
        {
          "output_type": "execute_result",
          "data": {
            "text/plain": [
              "0    [rt, nowthisnews, rep, trey, radel, r, fl, sla...\n",
              "1    [video, obamacare, full, of, higher, costs, an...\n",
              "2    [please, join, me, today, in, remembering, our...\n",
              "3    [rt, senatorleahy, 1st, step, toward, senate, ...\n",
              "Name: text_distilled, dtype: object"
            ]
          },
          "metadata": {
            "tags": []
          },
          "execution_count": 140
        }
      ]
    },
    {
      "metadata": {
        "id": "74PvkZIEhJbN",
        "colab_type": "text"
      },
      "cell_type": "markdown",
      "source": [
        "### 8.7 Distillation - Lemmatization"
      ]
    },
    {
      "metadata": {
        "id": "4V4KId-dhNaA",
        "colab_type": "code",
        "colab": {}
      },
      "cell_type": "code",
      "source": [
        "political_data['text_distilled'] = political_data['text_distilled'].apply(lemmatize)"
      ],
      "execution_count": 0,
      "outputs": []
    },
    {
      "metadata": {
        "id": "nJxArbsFGQZ7",
        "colab_type": "text"
      },
      "cell_type": "markdown",
      "source": [
        "### 8.8 Distillation - Remove Stop Word"
      ]
    },
    {
      "metadata": {
        "id": "BQK30yjkGbVe",
        "colab_type": "code",
        "colab": {}
      },
      "cell_type": "code",
      "source": [
        "political_data['text_distilled'] = political_data['text_distilled'].apply(remove_stopwords)"
      ],
      "execution_count": 0,
      "outputs": []
    },
    {
      "metadata": {
        "id": "R9kQtVJnV6Ti",
        "colab_type": "text"
      },
      "cell_type": "markdown",
      "source": [
        "### 8.9 Distillation - Remove Non-English Words\n",
        "\n",
        "In the text, there were a number of tokens that are non valid english words such as \"rt\", \"nowthisnews\", \"r\", etc.\n",
        "non-English words are removed from the text."
      ]
    },
    {
      "metadata": {
        "id": "nJn8q8ZeWUs7",
        "colab_type": "code",
        "outputId": "2cd1d9d9-9983-412d-97cd-6d2de6102cd6",
        "colab": {
          "base_uri": "https://localhost:8080/",
          "height": 50
        }
      },
      "cell_type": "code",
      "source": [
        "nltk.download('words')\n",
        "from nltk.corpus import words\n",
        "english = set(words.words())\n",
        "\n",
        "def remove_nonenglish(text):\n",
        "   new_text = []\n",
        "   for word in text:\n",
        "      if word in english:\n",
        "         new_text.append( word )\n",
        "   return new_text\n",
        "\n",
        "political_data['text_distilled'] = political_data['text_distilled'].apply(remove_nonenglish)"
      ],
      "execution_count": 0,
      "outputs": [
        {
          "output_type": "stream",
          "text": [
            "[nltk_data] Downloading package words to /root/nltk_data...\n",
            "[nltk_data]   Unzipping corpora/words.zip.\n"
          ],
          "name": "stdout"
        }
      ]
    },
    {
      "metadata": {
        "id": "hexznd0mhNva",
        "colab_type": "text"
      },
      "cell_type": "markdown",
      "source": [
        "### 8.10 Distillation - Back to String/Text Form\n",
        "\n",
        "The distileld list of tokens are converted back to text joined by spaces for TF-IDF modelling."
      ]
    },
    {
      "metadata": {
        "id": "5zEC-E_zhQ9L",
        "colab_type": "code",
        "colab": {}
      },
      "cell_type": "code",
      "source": [
        "def joiner( tokens ):\n",
        "   return ' '.join( tokens )\n",
        "  \n",
        "political_data['text_distilled'] = political_data['text_distilled'].apply(joiner)"
      ],
      "execution_count": 0,
      "outputs": []
    },
    {
      "metadata": {
        "id": "eEu_tUSMmvc2",
        "colab_type": "code",
        "outputId": "51f8a33a-504d-4eab-814b-950436b5b99d",
        "colab": {
          "base_uri": "https://localhost:8080/",
          "height": 101
        }
      },
      "cell_type": "code",
      "source": [
        "political_data.text_distilled[:4]"
      ],
      "execution_count": 0,
      "outputs": [
        {
          "output_type": "execute_result",
          "data": {
            "text/plain": [
              "0                             rep trey r slam politics\n",
              "1                video full higher cost broken promise\n",
              "2    please join today fallen hero men woman curren...\n",
              "3    step toward senate debate bill senate procedur...\n",
              "Name: text_distilled, dtype: object"
            ]
          },
          "metadata": {
            "tags": []
          },
          "execution_count": 145
        }
      ]
    },
    {
      "metadata": {
        "id": "ZFy27RN4l7Hj",
        "colab_type": "text"
      },
      "cell_type": "markdown",
      "source": [
        "### 8.11 Count Vectorizer\n",
        "\n",
        "Count vectorizer from (https://machinelearningmastery.com/prepare-text-data-machine-learning-scikit-learn/) was applied to the dataset. Eventually, TF-IDF is chosen over count vectorizer due to its ability to apply importance to specific terms over stop words."
      ]
    },
    {
      "metadata": {
        "id": "qhieb_mhyPd8",
        "colab_type": "code",
        "colab": {}
      },
      "cell_type": "code",
      "source": [
        "from sklearn.feature_extraction.text import CountVectorizer\n",
        "\n",
        "v = CountVectorizer()\n",
        "v.fit( political_data[ 'text' ])\n",
        "    \n",
        "def vectorTransform( text ):\n",
        "   return v.transform([text])[0]\n",
        "  \n",
        "political_data['countVector'] = political_data[ 'text' ].apply( vectorTransform )"
      ],
      "execution_count": 0,
      "outputs": []
    },
    {
      "metadata": {
        "id": "mgQxfuL37hry",
        "colab_type": "code",
        "outputId": "0b1db8dd-8cc7-470f-b1c6-8d6c0cd7ecfa",
        "colab": {
          "base_uri": "https://localhost:8080/",
          "height": 276
        }
      },
      "cell_type": "code",
      "source": [
        "political_data.head(2)"
      ],
      "execution_count": 0,
      "outputs": [
        {
          "output_type": "execute_result",
          "data": {
            "text/html": [
              "<div>\n",
              "<style scoped>\n",
              "    .dataframe tbody tr th:only-of-type {\n",
              "        vertical-align: middle;\n",
              "    }\n",
              "\n",
              "    .dataframe tbody tr th {\n",
              "        vertical-align: top;\n",
              "    }\n",
              "\n",
              "    .dataframe thead th {\n",
              "        text-align: right;\n",
              "    }\n",
              "</style>\n",
              "<table border=\"1\" class=\"dataframe\">\n",
              "  <thead>\n",
              "    <tr style=\"text-align: right;\">\n",
              "      <th></th>\n",
              "      <th>_unit_id</th>\n",
              "      <th>_golden</th>\n",
              "      <th>_unit_state</th>\n",
              "      <th>_trusted_judgments</th>\n",
              "      <th>_last_judgment_at</th>\n",
              "      <th>audience</th>\n",
              "      <th>audience:confidence</th>\n",
              "      <th>bias</th>\n",
              "      <th>bias:confidence</th>\n",
              "      <th>message</th>\n",
              "      <th>...</th>\n",
              "      <th>message_gold</th>\n",
              "      <th>source</th>\n",
              "      <th>text</th>\n",
              "      <th>biasNumeric</th>\n",
              "      <th>messageNumeric</th>\n",
              "      <th>audienceNumeric</th>\n",
              "      <th>political</th>\n",
              "      <th>politicalDiscrete</th>\n",
              "      <th>text_distilled</th>\n",
              "      <th>countVector</th>\n",
              "    </tr>\n",
              "  </thead>\n",
              "  <tbody>\n",
              "    <tr>\n",
              "      <th>0</th>\n",
              "      <td>766192484</td>\n",
              "      <td>False</td>\n",
              "      <td>finalized</td>\n",
              "      <td>1</td>\n",
              "      <td>8/4/15 21:17</td>\n",
              "      <td>national</td>\n",
              "      <td>1.0</td>\n",
              "      <td>partisan</td>\n",
              "      <td>1.0</td>\n",
              "      <td>policy</td>\n",
              "      <td>...</td>\n",
              "      <td>NaN</td>\n",
              "      <td>twitter</td>\n",
              "      <td>RT @nowthisnews: Rep. Trey Radel (R- #FL) slam...</td>\n",
              "      <td>1</td>\n",
              "      <td>4</td>\n",
              "      <td>1</td>\n",
              "      <td>55.0</td>\n",
              "      <td>2</td>\n",
              "      <td>rep trey r slam politics</td>\n",
              "      <td>(0, 3973)\\t1\\n  (0, 6729)\\t1\\n  (0, 8239)\\t1...</td>\n",
              "    </tr>\n",
              "    <tr>\n",
              "      <th>1</th>\n",
              "      <td>766192485</td>\n",
              "      <td>False</td>\n",
              "      <td>finalized</td>\n",
              "      <td>1</td>\n",
              "      <td>8/4/15 21:20</td>\n",
              "      <td>national</td>\n",
              "      <td>1.0</td>\n",
              "      <td>partisan</td>\n",
              "      <td>1.0</td>\n",
              "      <td>attack</td>\n",
              "      <td>...</td>\n",
              "      <td>NaN</td>\n",
              "      <td>twitter</td>\n",
              "      <td>VIDEO - #Obamacare:  Full of Higher Costs and ...</td>\n",
              "      <td>1</td>\n",
              "      <td>12</td>\n",
              "      <td>1</td>\n",
              "      <td>95.0</td>\n",
              "      <td>3</td>\n",
              "      <td>video full higher cost broken promise</td>\n",
              "      <td>(0, 1917)\\t1\\n  (0, 3126)\\t1\\n  (0, 3973)\\t1...</td>\n",
              "    </tr>\n",
              "  </tbody>\n",
              "</table>\n",
              "<p>2 rows × 28 columns</p>\n",
              "</div>"
            ],
            "text/plain": [
              "    _unit_id  _golden _unit_state  _trusted_judgments _last_judgment_at  \\\n",
              "0  766192484    False   finalized                   1      8/4/15 21:17   \n",
              "1  766192485    False   finalized                   1      8/4/15 21:20   \n",
              "\n",
              "   audience  audience:confidence      bias  bias:confidence message  \\\n",
              "0  national                  1.0  partisan              1.0  policy   \n",
              "1  national                  1.0  partisan              1.0  attack   \n",
              "\n",
              "                         ...                          message_gold   source  \\\n",
              "0                        ...                                   NaN  twitter   \n",
              "1                        ...                                   NaN  twitter   \n",
              "\n",
              "                                                text  biasNumeric  \\\n",
              "0  RT @nowthisnews: Rep. Trey Radel (R- #FL) slam...            1   \n",
              "1  VIDEO - #Obamacare:  Full of Higher Costs and ...            1   \n",
              "\n",
              "  messageNumeric audienceNumeric political politicalDiscrete  \\\n",
              "0              4               1      55.0                 2   \n",
              "1             12               1      95.0                 3   \n",
              "\n",
              "                          text_distilled  \\\n",
              "0               rep trey r slam politics   \n",
              "1  video full higher cost broken promise   \n",
              "\n",
              "                                         countVector  \n",
              "0    (0, 3973)\\t1\\n  (0, 6729)\\t1\\n  (0, 8239)\\t1...  \n",
              "1    (0, 1917)\\t1\\n  (0, 3126)\\t1\\n  (0, 3973)\\t1...  \n",
              "\n",
              "[2 rows x 28 columns]"
            ]
          },
          "metadata": {
            "tags": []
          },
          "execution_count": 147
        }
      ]
    },
    {
      "metadata": {
        "id": "PqDWjYJWyPF0",
        "colab_type": "text"
      },
      "cell_type": "markdown",
      "source": [
        "### 8.12 Using TF-IDF Vectorizer\n",
        "\n",
        "TD-IDF optimizes by diminishing the significance of stop words, and prioritize words that are frequent **within** the document, relative to the entire corpus."
      ]
    },
    {
      "metadata": {
        "id": "yEdhjvry8AJs",
        "colab_type": "code",
        "outputId": "b7c39e67-655b-489f-869b-2e6cd516bb6c",
        "colab": {
          "base_uri": "https://localhost:8080/",
          "height": 34
        }
      },
      "cell_type": "code",
      "source": [
        "from sklearn.feature_extraction.text import TfidfVectorizer\n",
        "\n",
        "tdv = TfidfVectorizer()\n",
        "tdv.fit( political_data[ 'text' ])\n",
        "dim_row = len(tdv.transform([political_data[ 'text' ][0]]).toarray())\n",
        "dim_col = len(tdv.transform([political_data[ 'text' ][0]]).toarray()[0])\n",
        "\n",
        "misscount = 0\n",
        "def vectorTFidTransform( text ):\n",
        "   if len(  tdv.transform([text]).toarray() ) == dim_row:\n",
        "      if len(  tdv.transform([text]).toarray()[0] ) == dim_col: \n",
        "         return list(tdv.transform([text]).toarray()[0])\n",
        "   misscount += 1\n",
        "   return np.zeros(dim_col)\n",
        "  \n",
        "political_data['tfidVector'] = political_data[ 'text' ].apply( vectorTFidTransform )\n",
        "dim_row, dim_col, misscount"
      ],
      "execution_count": 0,
      "outputs": [
        {
          "output_type": "execute_result",
          "data": {
            "text/plain": [
              "(1, 18073, 0)"
            ]
          },
          "metadata": {
            "tags": []
          },
          "execution_count": 148
        }
      ]
    },
    {
      "metadata": {
        "id": "fkOlOyH1T8fI",
        "colab_type": "code",
        "outputId": "ce0d75b7-1fb9-4047-e4c7-0d8eb12937b0",
        "colab": {
          "base_uri": "https://localhost:8080/",
          "height": 16909
        }
      },
      "cell_type": "code",
      "source": [
        "tdv.vocabulary_"
      ],
      "execution_count": 0,
      "outputs": [
        {
          "output_type": "execute_result",
          "data": {
            "text/plain": [
              "{'rt': 14143,\n",
              " 'nowthisnews': 11491,\n",
              " 'rep': 13588,\n",
              " 'trey': 16408,\n",
              " 'radel': 13161,\n",
              " 'fl': 6729,\n",
              " 'slams': 14951,\n",
              " 'obamacare': 11595,\n",
              " 'politics': 12530,\n",
              " 'https': 8239,\n",
              " 'co': 3973,\n",
              " 'zvywmg8yih': 18068,\n",
              " 'video': 17099,\n",
              " 'full': 7027,\n",
              " 'of': 11674,\n",
              " 'higher': 7977,\n",
              " 'costs': 4509,\n",
              " 'and': 1917,\n",
              " 'broken': 3126,\n",
              " 'promises': 12874,\n",
              " 'http': 8238,\n",
              " 'dn3vzqirwf': 5461,\n",
              " 'please': 12474,\n",
              " 'join': 9096,\n",
              " 'me': 10498,\n",
              " 'today': 16215,\n",
              " 'in': 8489,\n",
              " 'remembering': 13551,\n",
              " 'our': 11901,\n",
              " 'fallen': 6469,\n",
              " 'heroes': 7939,\n",
              " 'honoring': 8114,\n",
              " 'the': 16014,\n",
              " 'men': 10585,\n",
              " 'women': 17652,\n",
              " 'currently': 4745,\n",
              " 'military': 10730,\n",
              " 'service': 14651,\n",
              " 'for': 6836,\n",
              " 'their': 16037,\n",
              " 'sacrifices': 14232,\n",
              " 'senatorleahy': 14577,\n",
              " '1st': 427,\n",
              " 'step': 15376,\n",
              " 'toward': 16296,\n",
              " 'senate': 14555,\n",
              " 'debate': 4934,\n",
              " 'on': 11765,\n",
              " 'leahy': 9679,\n",
              " 'crapo': 4600,\n",
              " 'vawa': 17009,\n",
              " 'bill': 2742,\n",
              " 'is': 8855,\n",
              " 'procedural': 12809,\n",
              " 'vote': 17193,\n",
              " 'at': 2243,\n",
              " '30': 657,\n",
              " 'pm': 12490,\n",
              " 'amazon': 1841,\n",
              " 'delivery': 5067,\n",
              " 'drones': 5609,\n",
              " 'show': 14818,\n",
              " 'need': 11220,\n",
              " 'to': 16209,\n",
              " 'update': 16815,\n",
              " 'law': 9637,\n",
              " 'promote': 12877,\n",
              " 'innovation': 8636,\n",
              " 'amp': 1895,\n",
              " 'protect': 12913,\n",
              " 'privacy': 12790,\n",
              " 'my': 11062,\n",
              " 'uas': 16584,\n",
              " 'does': 5490,\n",
              " 'that': 16013,\n",
              " 'l9ta5skq6u': 9517,\n",
              " 'called': 3340,\n",
              " 'usdotfra': 16874,\n",
              " 'release': 13517,\n",
              " 'info': 8600,\n",
              " 'about': 1400,\n",
              " 'inspections': 8665,\n",
              " 'before': 2604,\n",
              " 'casseltonderailment': 3483,\n",
              " 'review': 13891,\n",
              " 'quality': 13095,\n",
              " 'rails': 13177,\n",
              " 'bbcworld': 2555,\n",
              " 'help': 7912,\n",
              " 'us': 16851,\n",
              " 'keep': 9272,\n",
              " 'kidnapped': 9337,\n",
              " 'nigerian': 11335,\n",
              " 'school': 14401,\n",
              " 'girls': 7287,\n",
              " 'story': 15450,\n",
              " 'out': 11904,\n",
              " 'front': 6992,\n",
              " 'bringbackourgirls': 3101,\n",
              " 'joinrepwilson': 9099,\n",
              " 'zqzvt80mga': 18059,\n",
              " 'your': 17955,\n",
              " 'arizona': 2122,\n",
              " 'pride': 12764,\n",
              " 'choose': 3769,\n",
              " 'favorite': 6541,\n",
              " 'az': 2371,\n",
              " 'picture': 12372,\n",
              " 'facebook': 6424,\n",
              " 'cover': 4561,\n",
              " 'photo': 12346,\n",
              " 'retweet': 13869,\n",
              " 'spread': 15229,\n",
              " 'word': 17674,\n",
              " '7phhiga8nd': 1136,\n",
              " 'what': 17477,\n",
              " 'wonderful': 17661,\n",
              " 'night': 11336,\n",
              " 'state': 15337,\n",
              " 'senator': 14566,\n",
              " 'ken': 9287,\n",
              " 'yager': 17877,\n",
              " 'chili': 3751,\n",
              " 'supper': 15652,\n",
              " 'benefitting': 2651,\n",
              " 'boys': 2993,\n",
              " 'clubs': 3953,\n",
              " 'roane': 14012,\n",
              " 'county': 4539,\n",
              " 'dsyoafzvkr': 5630,\n",
              " 'great': 7473,\n",
              " 'op': 11790,\n",
              " 'ed': 5759,\n",
              " 'by': 3270,\n",
              " 'pres': 12694,\n",
              " 'clinton': 3934,\n",
              " 'signing': 14863,\n",
              " 'fmla': 6796,\n",
              " '20': 447,\n",
              " 'yrs': 17974,\n",
              " 'ago': 1667,\n",
              " 'an': 1906,\n",
              " 'important': 8468,\n",
              " 'protecting': 12915,\n",
              " 'workers': 17681,\n",
              " 'csyev7o4': 4694,\n",
              " 'hoyerheadlines': 8194,\n",
              " 'as': 2170,\n",
              " 'potus': 12611,\n",
              " 'golfs': 7354,\n",
              " 'pushes': 13008,\n",
              " 'amnesty': 1889,\n",
              " 'ignores': 8382,\n",
              " 'keystone': 9314,\n",
              " 'american': 1864,\n",
              " 'people': 12238,\n",
              " 'are': 2102,\n",
              " 'concerned': 4206,\n",
              " 'jobs': 9072,\n",
              " 'econ': 5744,\n",
              " 'health': 7858,\n",
              " 'care': 3431,\n",
              " 'p9spdyoaca': 11999,\n",
              " 'president': 12715,\n",
              " 'doesn': 5491,\n",
              " 'get': 7236,\n",
              " 'just': 9185,\n",
              " 'decide': 4958,\n",
              " 'he': 7842,\n",
              " 'like': 9853,\n",
              " 'congress': 4269,\n",
              " 'do': 5465,\n",
              " 'his': 8019,\n",
              " 'own': 11969,\n",
              " 'thing': 16072,\n",
              " 'jmclkjuzsg': 9059,\n",
              " 'fact': 6432,\n",
              " 'recovery': 13368,\n",
              " 'act': 1490,\n",
              " 'cut': 4759,\n",
              " 'taxes': 15869,\n",
              " 'middle': 10691,\n",
              " 'class': 3890,\n",
              " 'families': 6483,\n",
              " 'kept': 9297,\n",
              " 'teachers': 15892,\n",
              " 'classroom': 3894,\n",
              " 'police': 12517,\n",
              " 'firefighters': 6681,\n",
              " 'streets': 15470,\n",
              " 'mha': 10657,\n",
              " 'telemedicine': 15930,\n",
              " 'consults': 4340,\n",
              " 'rural': 14173,\n",
              " 'ers': 6124,\n",
              " 'helps': 7917,\n",
              " 'prevent': 12741,\n",
              " 'prescription': 12698,\n",
              " 'errors': 6123,\n",
              " 'via': 17083,\n",
              " 'genevrapittman': 7213,\n",
              " 'medcitynews': 10524,\n",
              " 'veyo4scm3g': 17074,\n",
              " 'skitchp': 14945,\n",
              " 'wouldn': 17708,\n",
              " 'wish': 17598,\n",
              " 'anyone': 1982,\n",
              " 'even': 6208,\n",
              " 'you': 17950,\n",
              " 'skitch': 14944,\n",
              " '45pm': 831,\n",
              " 'sen': 14552,\n",
              " 'corybooker': 4494,\n",
              " 'will': 17551,\n",
              " 'give': 7293,\n",
              " 'maiden': 10199,\n",
              " 'speech': 15179,\n",
              " 'renewui': 13578,\n",
              " 'such': 15579,\n",
              " 'impt': 8486,\n",
              " 'issue': 8883,\n",
              " 'follow': 6812,\n",
              " 'senbookerofc': 14585,\n",
              " 'livetweets': 9929,\n",
              " 'if': 8376,\n",
              " 'have': 7810,\n",
              " 'come': 4078,\n",
              " 'because': 2590,\n",
              " 'liberation': 9815,\n",
              " 'bound': 2976,\n",
              " 'up': 16812,\n",
              " 'with': 17602,\n",
              " 'mine': 10755,\n",
              " 'then': 16048,\n",
              " 'let': 9764,\n",
              " 'work': 17677,\n",
              " 'together': 16226,\n",
              " 'lilla': 9862,\n",
              " 'watson': 17357,\n",
              " '6wpxw9qum0': 1068,\n",
              " 'coverage': 4562,\n",
              " 'starting': 15330,\n",
              " 'jan': 8954,\n",
              " 'must': 11052,\n",
              " 'sign': 14855,\n",
              " 'accesshealthct': 1445,\n",
              " 'end': 5960,\n",
              " 'fs7mnrppmb': 7005,\n",
              " 'getenrolled': 7241,\n",
              " 'house': 8166,\n",
              " 'this': 16085,\n",
              " 'week': 17413,\n",
              " 'defundobamacare': 5027,\n",
              " 'government': 7398,\n",
              " 'open': 11793,\n",
              " 'tks': 16194,\n",
              " 'margaret': 10307,\n",
              " 'joining': 9098,\n",
              " 'dc': 4901,\n",
              " 'share': 14728,\n",
              " 'successes': 15576,\n",
              " 'niskayuna': 11359,\n",
              " 'ncap': 11184,\n",
              " 'saw': 14351,\n",
              " 'education': 5786,\n",
              " 'prevention': 12746,\n",
              " 'substance': 15565,\n",
              " 'abuse': 1417,\n",
              " 'kvs6kakjyt': 9483,\n",
              " 'look': 10008,\n",
              " 'back': 2405,\n",
              " 'idaho': 8351,\n",
              " 'native': 11147,\n",
              " 'tribes': 16417,\n",
              " '1863': 257,\n",
              " 'idpol': 8372,\n",
              " 'idaho150': 8352,\n",
              " 'ktvb': 9470,\n",
              " 'jsxswvpdpv': 9140,\n",
              " 'otd': 11890,\n",
              " '1969': 305,\n",
              " 'astronaut': 2239,\n",
              " 'neil': 11240,\n",
              " 'armstrong': 2136,\n",
              " 'stepped': 15384,\n",
              " 'off': 11677,\n",
              " 'lunar': 10105,\n",
              " 'landing': 9567,\n",
              " 'module': 10862,\n",
              " 'eagle': 5691,\n",
              " 'walked': 17272,\n",
              " 'surface': 15671,\n",
              " 'moon': 10911,\n",
              " 'agree': 1670,\n",
              " 'it': 8889,\n",
              " 'time': 16159,\n",
              " 'actonclimate': 1505,\n",
              " 'change': 3654,\n",
              " 'more': 10920,\n",
              " 'nca2014': 11182,\n",
              " 'released': 13518,\n",
              " 'sdcnkyudvj': 14457,\n",
              " 'we': 17382,\n",
              " 'working': 17684,\n",
              " 'flexibility': 6753,\n",
              " 'would': 17707,\n",
              " 'how': 8186,\n",
              " 're': 13270,\n",
              " 'comp': 4151,\n",
              " 'overtime': 11954,\n",
              " 'yourtime': 17960,\n",
              " 'reminder': 13558,\n",
              " 'next': 11296,\n",
              " 'office': 11684,\n",
              " 'be': 2567,\n",
              " 'holding': 8064,\n",
              " 'mobile': 10845,\n",
              " 'hours': 8165,\n",
              " 'sachse': 14227,\n",
              " 'wylie': 17790,\n",
              " 'learn': 9687,\n",
              " '38p28m2o0i': 736,\n",
              " 'tx32': 16542,\n",
              " 'wk': 17619,\n",
              " 'min': 10750,\n",
              " 'expanding': 6307,\n",
              " 'medicaid': 10530,\n",
              " 'wv': 17767,\n",
              " 'so': 15031,\n",
              " 'many': 10283,\n",
              " 'affordable': 1630,\n",
              " 'vdumx9r4x5': 17016,\n",
              " 'thinking': 16076,\n",
              " 'all': 1781,\n",
              " 'those': 16097,\n",
              " 'affected': 1620,\n",
              " 'severe': 14680,\n",
              " 'weather': 17399,\n",
              " 'especially': 6141,\n",
              " 'oklahoma': 11733,\n",
              " 'stay': 15358,\n",
              " 'safe': 14239,\n",
              " 'remember': 13548,\n",
              " 'friends': 6983,\n",
              " 'stuck': 15514,\n",
              " 'senatorreid': 14579,\n",
              " 'desk': 5188,\n",
              " '4jobs': 877,\n",
              " '0dcnu1r3g7': 41,\n",
              " 'slashing': 14954,\n",
              " 'amtrak': 1900,\n",
              " 'funding': 7040,\n",
              " 'increasing': 8532,\n",
              " 'ridership': 13946,\n",
              " 'hurt': 8289,\n",
              " 'pa': 12000,\n",
              " 'economy': 5753,\n",
              " 'dqtbbksslg': 5569,\n",
              " '4y6igwxwnr': 897,\n",
              " 'energy': 5993,\n",
              " 'production': 12832,\n",
              " 'creating': 4610,\n",
              " 'prices': 12760,\n",
              " 'down': 5558,\n",
              " 'promoting': 12879,\n",
              " 'independence': 8543,\n",
              " 'pw6cdxrhir': 13019,\n",
              " 'spawning': 15158,\n",
              " 'new': 11266,\n",
              " 'concept': 4202,\n",
              " 'medical': 10531,\n",
              " 'homelessness': 8090,\n",
              " 'mmupzzkmqj': 10829,\n",
              " 'read': 13280,\n",
              " 'from': 6991,\n",
              " 'marcthiessen': 10305,\n",
              " 'libyan': 9829,\n",
              " 'prime': 12768,\n",
              " 'minister': 10761,\n",
              " 'pays': 12178,\n",
              " 'price': 12758,\n",
              " 'obama': 11593,\n",
              " 'leak': 9680,\n",
              " 'mhhab1v0xd': 10658,\n",
              " 'delaying': 5048,\n",
              " 'or': 11838,\n",
              " 'refusing': 13443,\n",
              " 'has': 7783,\n",
              " 'real': 13294,\n",
              " 'life': 9839,\n",
              " 'consequences': 4299,\n",
              " 'million': 10743,\n",
              " 'americans': 1872,\n",
              " 'srprczh2dg': 15251,\n",
              " 'fyzwgvwkxz': 7075,\n",
              " 'uscapitol': 16863,\n",
              " 'mcconnell': 10466,\n",
              " 'congratulated': 4264,\n",
              " 'welcomed': 17431,\n",
              " 'elect': 5843,\n",
              " 'cassidy': 3484,\n",
              " 'fyzy42ddzp': 7076,\n",
              " 'houseofcards': 8179,\n",
              " 'don': 5512,\n",
              " 'long': 9997,\n",
              " 'island': 8868,\n",
              " 'wine': 17572,\n",
              " 'suggest': 15595,\n",
              " 'giving': 7297,\n",
              " 'flxwinecountry': 6787,\n",
              " 'niagwinetrail': 11318,\n",
              " 'wines': 17573,\n",
              " 'try': 16462,\n",
              " 'six': 14919,\n",
              " 'enrolled': 6032,\n",
              " 'site': 14913,\n",
              " 'day': 4892,\n",
              " 'politico': 12529,\n",
              " 'trainwreck': 16345,\n",
              " 'ng4ozr3pab': 11307,\n",
              " '10m': 88,\n",
              " 'federal': 6575,\n",
              " 'funds': 7043,\n",
              " 'relieve': 13528,\n",
              " 'congestion': 4259,\n",
              " 'around': 2143,\n",
              " 'ftmeademd': 7013,\n",
              " 'biop5x3hyx': 2771,\n",
              " 'job': 9069,\n",
              " 'well': 17436,\n",
              " 'done': 5519,\n",
              " 'members': 10574,\n",
              " 'sc': 14367,\n",
              " 'representatives': 13716,\n",
              " 'who': 17511,\n",
              " 'voted': 17196,\n",
              " 'expansion': 6310,\n",
              " 'yesterday': 17916,\n",
              " 'scnews': 14422,\n",
              " 'gearing': 7192,\n",
              " 'coffee': 4003,\n",
              " 'constituents': 4323,\n",
              " 'morning': 10928,\n",
              " 'gretna': 7501,\n",
              " 'cafe': 3316,\n",
              " 'sure': 15669,\n",
              " 'stop': 15430,\n",
              " 'looking': 10011,\n",
              " 'forward': 6891,\n",
              " 'speaking': 15166,\n",
              " 'folks': 6811,\n",
              " 'askgeorge': 2186,\n",
              " 'been': 2602,\n",
              " 'dedicated': 4982,\n",
              " 'public': 12969,\n",
              " 'servant': 14646,\n",
              " 'leadership': 9675,\n",
              " 'edworkforcedems': 5796,\n",
              " 'missed': 10793,\n",
              " 'him': 8004,\n",
              " 'best': 2684,\n",
              " 'retirement': 13859,\n",
              " 'florida': 6772,\n",
              " 'tale': 15815,\n",
              " 'went': 17444,\n",
              " 'right': 13955,\n",
              " 'barack': 2486,\n",
              " 'overhaul': 11940,\n",
              " 'despite': 5196,\n",
              " 'gop': 7367,\n",
              " 'opposition': 11826,\n",
              " 'bhsacu3wje': 2713,\n",
              " 'tomorrow': 16242,\n",
              " 'want': 17289,\n",
              " 'makegovernmentwork': 10220,\n",
              " 'problemsolvers': 12808,\n",
              " 'showing': 14822,\n",
              " 'america': 1863,\n",
              " 'some': 15079,\n",
              " 'here': 7932,\n",
              " 'fixnotfight': 6719,\n",
              " 'delegation': 5052,\n",
              " 'shining': 14774,\n",
              " 'spotlight': 15222,\n",
              " 'va': 16950,\n",
              " 'sunshine': 15632,\n",
              " 'cdeexuc1c5': 3549,\n",
              " 'meeting': 10548,\n",
              " 'press': 12722,\n",
              " 'jerusalem': 9018,\n",
              " 'grahamblog': 7436,\n",
              " 'israel': 8878,\n",
              " 'fibhbopswh': 6624,\n",
              " 'floor': 6769,\n",
              " 'rejecting': 13501,\n",
              " 'gopbudget': 7369,\n",
              " 'cuts': 4761,\n",
              " 'wi': 17523,\n",
              " 'turns': 16504,\n",
              " 'medicare': 10533,\n",
              " 'into': 8768,\n",
              " 'voucher': 17207,\n",
              " 'titixbrf4c': 16185,\n",
              " 'other': 11892,\n",
              " 'options': 11835,\n",
              " 'there': 16057,\n",
              " 'raising': 13190,\n",
              " '350': 701,\n",
              " 'billion': 2749,\n",
              " 'negligible': 11229,\n",
              " 'impact': 8447,\n",
              " 'main': 10206,\n",
              " 'street': 15468,\n",
              " 'businesses': 3247,\n",
              " 'thanks': 16007,\n",
              " 'li': 9806,\n",
              " 'farm': 6502,\n",
              " 'bureau': 3218,\n",
              " 'hosting': 8153,\n",
              " 'speak': 15161,\n",
              " 'directly': 5326,\n",
              " 'farmers': 6505,\n",
              " 'issues': 8886,\n",
              " 'most': 10939,\n",
              " 'them': 16044,\n",
              " 'ttbdljimjd': 16471,\n",
              " '23': 522,\n",
              " 'years': 17906,\n",
              " 'disabilities': 5332,\n",
              " 'opening': 11797,\n",
              " 'doors': 5534,\n",
              " 'tens': 15956,\n",
              " 'millions': 10745,\n",
              " 'tezfwz1is1': 15994,\n",
              " 'delight': 5060,\n",
              " 'terror': 15972,\n",
              " 'mt': 11007,\n",
              " 'lyndawoolard': 10138,\n",
              " 'can': 3362,\n",
              " 'see': 14506,\n",
              " 'when': 17488,\n",
              " 'cory': 4492,\n",
              " 'taught': 15860,\n",
              " 'take': 15806,\n",
              " 'selfie': 14537,\n",
              " 'gjd2pmcmoy': 7301,\n",
              " 'aaas_news': 1347,\n",
              " 'basic': 2525,\n",
              " 'science': 14413,\n",
              " 'riskier': 13979,\n",
              " 'investment': 8793,\n",
              " 'compared': 4155,\n",
              " 'applied': 2032,\n",
              " 'research': 13775,\n",
              " 'but': 3254,\n",
              " 'one': 11770,\n",
              " 'larger': 9589,\n",
              " 'potential': 12608,\n",
              " 'payoffs': 12177,\n",
              " 'oped': 11792,\n",
              " 'promising': 12875,\n",
              " 'fanniemae': 6493,\n",
              " 'paying': 12173,\n",
              " 'taxpayers': 15875,\n",
              " 'reinforces': 13490,\n",
              " 'after': 1646,\n",
              " 'crash': 4601,\n",
              " 'gsereform': 7552,\n",
              " 'another': 1958,\n",
              " 'bailout': 2440,\n",
              " 'kxl': 9489,\n",
              " 'oil': 11719,\n",
              " 'export': 6357,\n",
              " 'strategy': 15461,\n",
              " 'makes': 10223,\n",
              " 'man': 10243,\n",
              " 'worsens': 17700,\n",
              " 'climatechange': 3926,\n",
              " 'shld': 14782,\n",
              " 'reject': 13499,\n",
              " 'z8fihvgcko': 18010,\n",
              " 'p4pk9gfw4r': 11992,\n",
              " 'wtvw': 17761,\n",
              " 'tv': 16509,\n",
              " 'report': 13702,\n",
              " 'sponsors': 15213,\n",
              " 'sunscreen': 15630,\n",
              " 'playlist': 12464,\n",
              " 'j0yoowhftr': 8918,\n",
              " 'kentucky': 9295,\n",
              " 'find': 6668,\n",
              " 'solutions': 15071,\n",
              " 'fixthedebt': 6721,\n",
              " 'thecankicksback': 16020,\n",
              " '5hxcsgtn79': 979,\n",
              " 'congrats': 4262,\n",
              " 'coleg': 4021,\n",
              " 'last': 9606,\n",
              " 'session': 14660,\n",
              " 'demandar': 5080,\n",
              " 'un': 16636,\n",
              " 'recuento': 13376,\n",
              " 'en': 5942,\n",
              " 'venezuela': 17041,\n",
              " 'creo': 4623,\n",
              " 'deber_a': 4940,\n",
              " 'lee': 9708,\n",
              " 'mi': 10663,\n",
              " 'carta': 3467,\n",
              " 'tweet': 16516,\n",
              " 'whitehouse': 17509,\n",
              " 'para': 12054,\n",
              " 'decirle': 4962,\n",
              " 'lo': 9953,\n",
              " 'piensas': 12381,\n",
              " 'wrhmjlbkzh': 17734,\n",
              " 'repjoegarcia': 13658,\n",
              " 'says': 14356,\n",
              " 'isn': 8875,\n",
              " 'everything': 6222,\n",
              " 'each': 5688,\n",
              " 'side': 14845,\n",
              " 'wants': 17291,\n",
              " 'point': 12507,\n",
              " 'reasonable': 13309,\n",
              " 'bipartisan': 2774,\n",
              " 'support': 15658,\n",
              " 'fix': 6713,\n",
              " 'system': 15770,\n",
              " 'icymi': 8349,\n",
              " 'spoke': 15207,\n",
              " 'wolfblitzer': 17649,\n",
              " 'tonight': 16247,\n",
              " 'sonyhack': 15094,\n",
              " 'north': 11437,\n",
              " 'korea': 9436,\n",
              " 'prvjk3nb3c': 12952,\n",
              " 'colorado30': 4054,\n",
              " 'group': 7532,\n",
              " 'hill': 7999,\n",
              " 'strengthening': 15475,\n",
              " 'connections': 4288,\n",
              " 'leaders': 9674,\n",
              " 'national': 11130,\n",
              " 'defense': 5011,\n",
              " 'wjp0yun2af': 17617,\n",
              " 'fwd': 7063,\n",
              " 'thirteensoldiers': 16083,\n",
              " 'book': 2930,\n",
              " 'changinghands': 3659,\n",
              " 'bookstore': 2933,\n",
              " 'tempe': 15943,\n",
              " 'tvuwi3xbuz': 16513,\n",
              " 'marks': 10350,\n",
              " '4th': 888,\n",
              " 'legal': 9719,\n",
              " 'deadline': 4916,\n",
              " 'submit': 15551,\n",
              " 'budget': 3184,\n",
              " 'plan': 12443,\n",
              " 'rivwkvg1': 13992,\n",
              " 'requireaplan': 13764,\n",
              " 'fed': 6574,\n",
              " 'agencies': 1655,\n",
              " 'hrs': 8227,\n",
              " 'th': 15998,\n",
              " '11am': 116,\n",
              " '12': 127,\n",
              " '30pm': 667,\n",
              " 'acacia': 1427,\n",
              " 'library': 9825,\n",
              " '750': 1097,\n",
              " 'townley': 16303,\n",
              " 'ave': 2324,\n",
              " 'phx': 12357,\n",
              " '83jgojkirc': 1173,\n",
              " 'cutting': 4764,\n",
              " 'hardworking': 7749,\n",
              " 'yaguzrvj6i': 17878,\n",
              " 'ft': 7008,\n",
              " 'monroe': 10890,\n",
              " 'authority': 2305,\n",
              " 'ex': 6236,\n",
              " 'dir': 5321,\n",
              " 'oder': 11668,\n",
              " 'dr': 5570,\n",
              " 'wagner': 17260,\n",
              " 'koch': 9424,\n",
              " 'region': 13454,\n",
              " 'presentation': 12703,\n",
              " 'hpt': 8201,\n",
              " 'dtpxkjwbsi': 5633,\n",
              " 'foxmorningnews': 6914,\n",
              " 'roanoke': 14013,\n",
              " '8am': 1204,\n",
              " 'hope': 8123,\n",
              " 'll': 9935,\n",
              " 'tune': 16489,\n",
              " 'va06': 16951,\n",
              " 'rke': 13998,\n",
              " 'jaketapper': 8947,\n",
              " 'pentagon': 12237,\n",
              " 'sgt': 14702,\n",
              " 'stephen': 15379,\n",
              " '29': 607,\n",
              " 'bartlett': 2515,\n",
              " 'tn': 16200,\n",
              " 'died': 5290,\n",
              " 'july': 9167,\n",
              " '28': 595,\n",
              " 'bagram': 2434,\n",
              " 'unit': 16737,\n",
              " 'was': 17320,\n",
              " 'attacked': 2259,\n",
              " 'small': 14985,\n",
              " 'arms': 2135,\n",
              " 'fire': 6678,\n",
              " 'dod': 5483,\n",
              " 'secy': 14504,\n",
              " 'chuck': 3804,\n",
              " 'hagel': 7652,\n",
              " 'reportedly': 13704,\n",
              " 'charge': 3668,\n",
              " 'bergdahl': 2665,\n",
              " 'exchange': 6259,\n",
              " 'claimed': 3871,\n",
              " 'know': 9414,\n",
              " 'freebeacon': 6956,\n",
              " 'tlimg8aslt': 16195,\n",
              " 'any': 1980,\n",
              " 'clearer': 3907,\n",
              " 'lerner': 9754,\n",
              " 'irs': 8849,\n",
              " 'were': 17445,\n",
              " 'covering': 4566,\n",
              " 'tracks': 16322,\n",
              " 'c2p3nsokp9': 3285,\n",
              " 'hear': 7867,\n",
              " 'recent': 13333,\n",
              " 'discussion': 5379,\n",
              " 'syria': 15767,\n",
              " 'ireland': 8837,\n",
              " 'rtenews': 14144,\n",
              " 'begins': 2609,\n",
              " '45': 827,\n",
              " 'vkeyereuj4': 17167,\n",
              " 'tell': 15937,\n",
              " 'buck': 3170,\n",
              " 'stops': 15439,\n",
              " 'n8t627wxcn': 11086,\n",
              " 'irsscandal': 8850,\n",
              " 'benghazi': 2652,\n",
              " 'raise': 13186,\n",
              " 'mcdonald': 10475,\n",
              " 'haroldmeyerson': 7763,\n",
              " 'washingtonpost': 17327,\n",
              " 'zh4cva5txz': 18036,\n",
              " 'strikefastfood': 15485,\n",
              " 'number': 11523,\n",
              " 'insurance': 8699,\n",
              " 'continues': 4371,\n",
              " 'increase': 8529,\n",
              " 'househomeland': 8175,\n",
              " 'chairman': 3631,\n",
              " 'mccaulpressshop': 10463,\n",
              " 'cbsthismorning': 3532,\n",
              " 'boston': 2964,\n",
              " 'bombing': 2920,\n",
              " 'investigation': 8789,\n",
              " 'hearing': 7869,\n",
              " 'mayornoak': 10446,\n",
              " 'willcounty': 17552,\n",
              " 'larry': 9594,\n",
              " 'walsh': 17283,\n",
              " 'lewisuniversity': 9789,\n",
              " 'airport': 1716,\n",
              " 'good': 7360,\n",
              " 'news': 11274,\n",
              " 'txst4jgjel': 16546,\n",
              " 'thoughts': 16102,\n",
              " 'prayers': 12651,\n",
              " 'innocent': 8633,\n",
              " 'israeli': 8879,\n",
              " 'teens': 15920,\n",
              " 'abbas': 1370,\n",
              " 'denounce': 5114,\n",
              " 'terrorism': 15973,\n",
              " 'bring': 3099,\n",
              " 'responsible': 13822,\n",
              " 'justice': 9186,\n",
              " 'wanted': 17290,\n",
              " 'things': 16073,\n",
              " 'gun': 7585,\n",
              " 'control': 4397,\n",
              " 'ban': 2464,\n",
              " 'assault': 2207,\n",
              " 'weapons': 17394,\n",
              " 'limit': 9867,\n",
              " 'magazine': 10186,\n",
              " 'sizes': 14924,\n",
              " 'expand': 6305,\n",
              " 'background': 2411,\n",
              " 'checks': 3705,\n",
              " 'lose': 10025,\n",
              " 'happening': 7720,\n",
              " 'now': 11486,\n",
              " 'ways': 17367,\n",
              " 'means': 10507,\n",
              " 'commissioner': 4120,\n",
              " 'koskinen': 9440,\n",
              " 'u9cjet2oml': 16574,\n",
              " 'question': 13111,\n",
              " 'aca': 1426,\n",
              " 'tax': 15864,\n",
              " 'concerns': 4209,\n",
              " 'forget': 6863,\n",
              " 'cast': 3485,\n",
              " 'fl17': 6731,\n",
              " 'congressional': 4273,\n",
              " 'art': 2151,\n",
              " 'competition': 4169,\n",
              " 'winner': 17578,\n",
              " 'hang': 7702,\n",
              " 'capitol': 3407,\n",
              " 'hrhzbbgi8w': 8225,\n",
              " 'sayfie': 14354,\n",
              " 'seanhannity': 14469,\n",
              " 'radio': 13166,\n",
              " '05pm': 26,\n",
              " 'et': 6176,\n",
              " 'listen': 9897,\n",
              " 'live': 9918,\n",
              " 'bwxap3kjkv': 3268,\n",
              " 'passes': 12115,\n",
              " 'reauthorization': 13313,\n",
              " '78': 1109,\n",
              " '22': 506,\n",
              " 'attending': 2270,\n",
              " 'union': 16733,\n",
              " 'nkfjfwzz': 11372,\n",
              " 'manage': 10244,\n",
              " 'rule': 14156,\n",
              " 'govt': 7408,\n",
              " 'troops': 16441,\n",
              " '7plgqhx4g4': 1137,\n",
              " 'honor': 8107,\n",
              " 'privilege': 12794,\n",
              " 'visit': 17146,\n",
              " 'thank': 16001,\n",
              " 'wyoguard': 17793,\n",
              " 'stationed': 15350,\n",
              " 'bahrain': 2437,\n",
              " 'weekend': 17414,\n",
              " 'rx1rdulmyx': 14193,\n",
              " 'mess': 10629,\n",
              " 'inhouse': 8617,\n",
              " 'republican': 13748,\n",
              " 'hardliners': 7744,\n",
              " 'block': 2836,\n",
              " 'avoid': 2338,\n",
              " 'shutdown': 14834,\n",
              " 'arxkbe8bbk': 2169,\n",
              " 'talked': 15821,\n",
              " 'mydesert': 11064,\n",
              " 'pass': 12108,\n",
              " 'strong': 15499,\n",
              " 'cir': 3827,\n",
              " '1syj2gev4c': 429,\n",
              " 'parents': 12063,\n",
              " 'kids': 9339,\n",
              " 'place': 12430,\n",
              " 'qualified': 13091,\n",
              " 'providers': 12938,\n",
              " 'ccdbg': 3540,\n",
              " 'essential': 6149,\n",
              " 'childcareprotection': 3745,\n",
              " 'wxfvagfe2l': 17784,\n",
              " 'should': 14812,\n",
              " 'utah': 16903,\n",
              " 'forced': 6842,\n",
              " 'epa': 6079,\n",
              " 'lower': 10056,\n",
              " 'ozone': 11984,\n",
              " 'levels': 9779,\n",
              " 'below': 2634,\n",
              " 'naturally': 11154,\n",
              " 'occurring': 11655,\n",
              " 'level': 9778,\n",
              " 'ongfkqxokk': 11775,\n",
              " 'utahpoliticohub': 16904,\n",
              " 'utpol': 16916,\n",
              " 'landrieu': 9571,\n",
              " 'still': 15407,\n",
              " 'only': 11779,\n",
              " 'chance': 3650,\n",
              " 'winning': 17580,\n",
              " 'her': 7928,\n",
              " 'incumbent': 8539,\n",
              " 'status': 15356,\n",
              " 'included': 8516,\n",
              " 'dtcgthynv8': 5631,\n",
              " 'lasen': 9604,\n",
              " 'matthewwymt': 10423,\n",
              " 'michellewymt': 10682,\n",
              " 'stopped': 15436,\n",
              " 'earlier': 5696,\n",
              " 'talk': 15820,\n",
              " 'rxdrugabuse': 14195,\n",
              " 'watch': 17340,\n",
              " 'wymt': 17792,\n",
              " '6pm': 1061,\n",
              " '28tcnbgfca': 604,\n",
              " 'very': 17060,\n",
              " 'sad': 14234,\n",
              " 'passing': 12116,\n",
              " 'jim': 9041,\n",
              " 'ragsdale': 13173,\n",
              " 'true': 16452,\n",
              " 'professional': 12838,\n",
              " 'kind': 9361,\n",
              " 'soul': 15112,\n",
              " 'greatly': 7478,\n",
              " 'balboa': 2449,\n",
              " 'park': 12067,\n",
              " 'usa': 16854,\n",
              " 'major': 10216,\n",
              " 'cultural': 4725,\n",
              " 'institutions': 8689,\n",
              " 'sq': 15240,\n",
              " 'mile': 10724,\n",
              " 'arts': 2166,\n",
              " 'cc': 3534,\n",
              " 'repsusandavis': 13736,\n",
              " 'xggrkdi9iv': 17824,\n",
              " 'joined': 9097,\n",
              " 'world': 17692,\n",
              " 'interesting': 8733,\n",
              " 'landmines': 9569,\n",
              " 'event': 6210,\n",
              " 'cap': 3394,\n",
              " '6cvbofvnlu': 1052,\n",
              " 'ri': 13927,\n",
              " 'cong': 4256,\n",
              " 'mayors': 10447,\n",
              " 'tenygross': 15958,\n",
              " 'guns': 7589,\n",
              " 'present': 12701,\n",
              " 'unified': 16723,\n",
              " 'voice': 17175,\n",
              " 'safety': 14247,\n",
              " '9e78icsvoq': 1300,\n",
              " 'hanscom_afb': 7712,\n",
              " 'ied': 8374,\n",
              " 'team': 15895,\n",
              " 'detecting': 5215,\n",
              " 'destroying': 5205,\n",
              " 'ieds': 8375,\n",
              " 'earned': 5702,\n",
              " 'theodore': 16051,\n",
              " 'von': 17190,\n",
              " 'karman': 9239,\n",
              " 'award': 2345,\n",
              " '2woil3arpt': 654,\n",
              " 'since': 14891,\n",
              " '1970': 307,\n",
              " 'spending': 15188,\n",
              " 'grown': 7542,\n",
              " '288': 601,\n",
              " 'while': 17499,\n",
              " 'median': 10528,\n",
              " 'income': 8521,\n",
              " '24': 536,\n",
              " 'difference': 5295,\n",
              " '264': 571,\n",
              " 'g5q55bwi': 7082,\n",
              " 'tcot': 15882,\n",
              " 'mandela': 10261,\n",
              " 'chg': 3728,\n",
              " 'south': 15123,\n",
              " 'africa': 1643,\n",
              " 'inspired': 8673,\n",
              " 'hearts': 7880,\n",
              " 'minds': 10753,\n",
              " 'condolences': 4224,\n",
              " 'family': 6485,\n",
              " 'african': 1644,\n",
              " 'got': 7388,\n",
              " 'oysters': 11981,\n",
              " 'clams': 3878,\n",
              " 'sound': 15114,\n",
              " 'these': 16063,\n",
              " 'guys': 7605,\n",
              " 'rendezvous': 13570,\n",
              " 'white': 17507,\n",
              " 'fresh': 6973,\n",
              " 'garlic': 7142,\n",
              " 'shallots': 14716,\n",
              " 'pepper': 12242,\n",
              " 'think': 16074,\n",
              " 'succeeds': 15574,\n",
              " ...}"
            ]
          },
          "metadata": {
            "tags": []
          },
          "execution_count": 149
        }
      ]
    },
    {
      "metadata": {
        "id": "PPWKzpwT8SE8",
        "colab_type": "code",
        "outputId": "126a33c1-ffb2-45a4-869c-a0a098ea4819",
        "colab": {
          "base_uri": "https://localhost:8080/",
          "height": 293
        }
      },
      "cell_type": "code",
      "source": [
        "political_data.head(2)"
      ],
      "execution_count": 0,
      "outputs": [
        {
          "output_type": "execute_result",
          "data": {
            "text/html": [
              "<div>\n",
              "<style scoped>\n",
              "    .dataframe tbody tr th:only-of-type {\n",
              "        vertical-align: middle;\n",
              "    }\n",
              "\n",
              "    .dataframe tbody tr th {\n",
              "        vertical-align: top;\n",
              "    }\n",
              "\n",
              "    .dataframe thead th {\n",
              "        text-align: right;\n",
              "    }\n",
              "</style>\n",
              "<table border=\"1\" class=\"dataframe\">\n",
              "  <thead>\n",
              "    <tr style=\"text-align: right;\">\n",
              "      <th></th>\n",
              "      <th>_unit_id</th>\n",
              "      <th>_golden</th>\n",
              "      <th>_unit_state</th>\n",
              "      <th>_trusted_judgments</th>\n",
              "      <th>_last_judgment_at</th>\n",
              "      <th>audience</th>\n",
              "      <th>audience:confidence</th>\n",
              "      <th>bias</th>\n",
              "      <th>bias:confidence</th>\n",
              "      <th>message</th>\n",
              "      <th>...</th>\n",
              "      <th>source</th>\n",
              "      <th>text</th>\n",
              "      <th>biasNumeric</th>\n",
              "      <th>messageNumeric</th>\n",
              "      <th>audienceNumeric</th>\n",
              "      <th>political</th>\n",
              "      <th>politicalDiscrete</th>\n",
              "      <th>text_distilled</th>\n",
              "      <th>countVector</th>\n",
              "      <th>tfidVector</th>\n",
              "    </tr>\n",
              "  </thead>\n",
              "  <tbody>\n",
              "    <tr>\n",
              "      <th>0</th>\n",
              "      <td>766192484</td>\n",
              "      <td>False</td>\n",
              "      <td>finalized</td>\n",
              "      <td>1</td>\n",
              "      <td>8/4/15 21:17</td>\n",
              "      <td>national</td>\n",
              "      <td>1.0</td>\n",
              "      <td>partisan</td>\n",
              "      <td>1.0</td>\n",
              "      <td>policy</td>\n",
              "      <td>...</td>\n",
              "      <td>twitter</td>\n",
              "      <td>RT @nowthisnews: Rep. Trey Radel (R- #FL) slam...</td>\n",
              "      <td>1</td>\n",
              "      <td>4</td>\n",
              "      <td>1</td>\n",
              "      <td>55.0</td>\n",
              "      <td>2</td>\n",
              "      <td>rep trey r slam politics</td>\n",
              "      <td>(0, 3973)\\t1\\n  (0, 6729)\\t1\\n  (0, 8239)\\t1...</td>\n",
              "      <td>[0.0, 0.0, 0.0, 0.0, 0.0, 0.0, 0.0, 0.0, 0.0, ...</td>\n",
              "    </tr>\n",
              "    <tr>\n",
              "      <th>1</th>\n",
              "      <td>766192485</td>\n",
              "      <td>False</td>\n",
              "      <td>finalized</td>\n",
              "      <td>1</td>\n",
              "      <td>8/4/15 21:20</td>\n",
              "      <td>national</td>\n",
              "      <td>1.0</td>\n",
              "      <td>partisan</td>\n",
              "      <td>1.0</td>\n",
              "      <td>attack</td>\n",
              "      <td>...</td>\n",
              "      <td>twitter</td>\n",
              "      <td>VIDEO - #Obamacare:  Full of Higher Costs and ...</td>\n",
              "      <td>1</td>\n",
              "      <td>12</td>\n",
              "      <td>1</td>\n",
              "      <td>95.0</td>\n",
              "      <td>3</td>\n",
              "      <td>video full higher cost broken promise</td>\n",
              "      <td>(0, 1917)\\t1\\n  (0, 3126)\\t1\\n  (0, 3973)\\t1...</td>\n",
              "      <td>[0.0, 0.0, 0.0, 0.0, 0.0, 0.0, 0.0, 0.0, 0.0, ...</td>\n",
              "    </tr>\n",
              "  </tbody>\n",
              "</table>\n",
              "<p>2 rows × 29 columns</p>\n",
              "</div>"
            ],
            "text/plain": [
              "    _unit_id  _golden _unit_state  _trusted_judgments _last_judgment_at  \\\n",
              "0  766192484    False   finalized                   1      8/4/15 21:17   \n",
              "1  766192485    False   finalized                   1      8/4/15 21:20   \n",
              "\n",
              "   audience  audience:confidence      bias  bias:confidence message  \\\n",
              "0  national                  1.0  partisan              1.0  policy   \n",
              "1  national                  1.0  partisan              1.0  attack   \n",
              "\n",
              "                         ...                           source  \\\n",
              "0                        ...                          twitter   \n",
              "1                        ...                          twitter   \n",
              "\n",
              "                                                text  biasNumeric  \\\n",
              "0  RT @nowthisnews: Rep. Trey Radel (R- #FL) slam...            1   \n",
              "1  VIDEO - #Obamacare:  Full of Higher Costs and ...            1   \n",
              "\n",
              "   messageNumeric audienceNumeric political politicalDiscrete  \\\n",
              "0               4               1      55.0                 2   \n",
              "1              12               1      95.0                 3   \n",
              "\n",
              "                          text_distilled  \\\n",
              "0               rep trey r slam politics   \n",
              "1  video full higher cost broken promise   \n",
              "\n",
              "                                         countVector  \\\n",
              "0    (0, 3973)\\t1\\n  (0, 6729)\\t1\\n  (0, 8239)\\t1...   \n",
              "1    (0, 1917)\\t1\\n  (0, 3126)\\t1\\n  (0, 3973)\\t1...   \n",
              "\n",
              "                                          tfidVector  \n",
              "0  [0.0, 0.0, 0.0, 0.0, 0.0, 0.0, 0.0, 0.0, 0.0, ...  \n",
              "1  [0.0, 0.0, 0.0, 0.0, 0.0, 0.0, 0.0, 0.0, 0.0, ...  \n",
              "\n",
              "[2 rows x 29 columns]"
            ]
          },
          "metadata": {
            "tags": []
          },
          "execution_count": 150
        }
      ]
    },
    {
      "metadata": {
        "id": "RqtlJRJg8TYx",
        "colab_type": "text"
      },
      "cell_type": "markdown",
      "source": [
        "### 8.13  Prediction Algorithm (Multinomial Naive Bayes)\n",
        "\n",
        "MultinomialNB classifier is trained to predict political spectrum (column \"political\")  from the tfidf values. MultinomialNB model is used to map the fake and non-fake news articles to political bias score."
      ]
    },
    {
      "metadata": {
        "id": "9qoXB4iWF7QJ",
        "colab_type": "code",
        "outputId": "ea2e8f82-2e9a-4040-fc5d-6406f151fce8",
        "colab": {
          "base_uri": "https://localhost:8080/",
          "height": 34
        }
      },
      "cell_type": "code",
      "source": [
        "len( political_data[ 'tfidVector' ] )"
      ],
      "execution_count": 0,
      "outputs": [
        {
          "output_type": "execute_result",
          "data": {
            "text/plain": [
              "5000"
            ]
          },
          "metadata": {
            "tags": []
          },
          "execution_count": 151
        }
      ]
    },
    {
      "metadata": {
        "id": "mRCvYF7KM89D",
        "colab_type": "code",
        "outputId": "8dcb7371-8650-4956-a912-6a6f63f4ca35",
        "colab": {
          "base_uri": "https://localhost:8080/",
          "height": 34
        }
      },
      "cell_type": "code",
      "source": [
        "len( political_data[ 'politicalDiscrete' ] )"
      ],
      "execution_count": 0,
      "outputs": [
        {
          "output_type": "execute_result",
          "data": {
            "text/plain": [
              "5000"
            ]
          },
          "metadata": {
            "tags": []
          },
          "execution_count": 152
        }
      ]
    },
    {
      "metadata": {
        "id": "oF0VseEiSweh",
        "colab_type": "code",
        "outputId": "69334811-78f5-425d-8867-e362b8a42b34",
        "colab": {
          "base_uri": "https://localhost:8080/",
          "height": 371
        }
      },
      "cell_type": "code",
      "source": [
        "political_data['tfidVector'][:20]"
      ],
      "execution_count": 0,
      "outputs": [
        {
          "output_type": "execute_result",
          "data": {
            "text/plain": [
              "0     [0.0, 0.0, 0.0, 0.0, 0.0, 0.0, 0.0, 0.0, 0.0, ...\n",
              "1     [0.0, 0.0, 0.0, 0.0, 0.0, 0.0, 0.0, 0.0, 0.0, ...\n",
              "2     [0.0, 0.0, 0.0, 0.0, 0.0, 0.0, 0.0, 0.0, 0.0, ...\n",
              "3     [0.0, 0.0, 0.0, 0.0, 0.0, 0.0, 0.0, 0.0, 0.0, ...\n",
              "4     [0.0, 0.0, 0.0, 0.0, 0.0, 0.0, 0.0, 0.0, 0.0, ...\n",
              "5     [0.0, 0.0, 0.0, 0.0, 0.0, 0.0, 0.0, 0.0, 0.0, ...\n",
              "6     [0.0, 0.0, 0.0, 0.0, 0.0, 0.0, 0.0, 0.0, 0.0, ...\n",
              "7     [0.0, 0.0, 0.0, 0.0, 0.0, 0.0, 0.0, 0.0, 0.0, ...\n",
              "8     [0.0, 0.0, 0.0, 0.0, 0.0, 0.0, 0.0, 0.0, 0.0, ...\n",
              "9     [0.0, 0.0, 0.0, 0.0, 0.0, 0.0, 0.0, 0.0, 0.0, ...\n",
              "10    [0.0, 0.0, 0.0, 0.0, 0.0, 0.0, 0.0, 0.0, 0.0, ...\n",
              "11    [0.0, 0.0, 0.0, 0.0, 0.0, 0.0, 0.0, 0.0, 0.0, ...\n",
              "12    [0.0, 0.0, 0.0, 0.0, 0.0, 0.0, 0.0, 0.0, 0.0, ...\n",
              "13    [0.0, 0.0, 0.0, 0.0, 0.0, 0.0, 0.0, 0.0, 0.0, ...\n",
              "14    [0.0, 0.0, 0.0, 0.0, 0.0, 0.0, 0.0, 0.0, 0.0, ...\n",
              "15    [0.0, 0.0, 0.0, 0.0, 0.0, 0.0, 0.0, 0.0, 0.0, ...\n",
              "16    [0.0, 0.0, 0.0, 0.0, 0.0, 0.0, 0.0, 0.0, 0.0, ...\n",
              "17    [0.0, 0.0, 0.0, 0.0, 0.0, 0.0, 0.0, 0.0, 0.0, ...\n",
              "18    [0.0, 0.0, 0.0, 0.0, 0.0, 0.0, 0.0, 0.0, 0.0, ...\n",
              "19    [0.0, 0.0, 0.0, 0.0, 0.0, 0.0, 0.0, 0.0, 0.0, ...\n",
              "Name: tfidVector, dtype: object"
            ]
          },
          "metadata": {
            "tags": []
          },
          "execution_count": 153
        }
      ]
    },
    {
      "metadata": {
        "id": "P61hq69kaoCF",
        "colab_type": "code",
        "outputId": "02d13106-c5c9-4b83-a679-dd7354d6a6c1",
        "colab": {
          "base_uri": "https://localhost:8080/",
          "height": 371
        }
      },
      "cell_type": "code",
      "source": [
        "political_data['politicalDiscrete'][:20]"
      ],
      "execution_count": 0,
      "outputs": [
        {
          "output_type": "execute_result",
          "data": {
            "text/plain": [
              "0     2\n",
              "1     3\n",
              "2     1\n",
              "3     1\n",
              "4     2\n",
              "5     1\n",
              "6     1\n",
              "7     2\n",
              "8     0\n",
              "9     2\n",
              "10    2\n",
              "11    3\n",
              "12    1\n",
              "13    0\n",
              "14    0\n",
              "15    2\n",
              "16    0\n",
              "17    1\n",
              "18    1\n",
              "19    2\n",
              "Name: politicalDiscrete, dtype: int64"
            ]
          },
          "metadata": {
            "tags": []
          },
          "execution_count": 154
        }
      ]
    },
    {
      "metadata": {
        "id": "2DTS2CuLAm_g",
        "colab_type": "code",
        "colab": {}
      },
      "cell_type": "code",
      "source": [
        "from sklearn.naive_bayes import MultinomialNB\n",
        "from sklearn.model_selection import train_test_split\n",
        "\n",
        "X = political_data[ 'tfidVector' ]\n",
        "Y = political_data[ 'politicalDiscrete' ]\n",
        "\n",
        "X_train, X_test, Y_train, Y_test = train_test_split(X, Y, test_size=0.33, random_state=42)"
      ],
      "execution_count": 0,
      "outputs": []
    },
    {
      "metadata": {
        "id": "QBLGd8Y-Nl2c",
        "colab_type": "code",
        "outputId": "4ccbd456-4fe3-412a-efa1-b643837e50d8",
        "colab": {
          "base_uri": "https://localhost:8080/",
          "height": 34
        }
      },
      "cell_type": "code",
      "source": [
        "len( X_train ), len( Y_train )"
      ],
      "execution_count": 0,
      "outputs": [
        {
          "output_type": "execute_result",
          "data": {
            "text/plain": [
              "(3350, 3350)"
            ]
          },
          "metadata": {
            "tags": []
          },
          "execution_count": 156
        }
      ]
    },
    {
      "metadata": {
        "id": "CqT9Z8doJj07",
        "colab_type": "text"
      },
      "cell_type": "markdown",
      "source": [
        "Using MultinomialNB, we can create a classifier (alpha is chosen to optimize accuracy).  Multinomial NB gave the best overal accuracy."
      ]
    },
    {
      "metadata": {
        "id": "E1JtWW0eOSQQ",
        "colab_type": "code",
        "outputId": "61a32cd0-6276-4bd2-ac54-e2c74ccadae9",
        "colab": {
          "base_uri": "https://localhost:8080/",
          "height": 34
        }
      },
      "cell_type": "code",
      "source": [
        "m  = MultinomialNB(alpha=0.001)\n",
        "m.fit( X_train.tolist(), Y_train.tolist() )"
      ],
      "execution_count": 0,
      "outputs": [
        {
          "output_type": "execute_result",
          "data": {
            "text/plain": [
              "MultinomialNB(alpha=0.001, class_prior=None, fit_prior=True)"
            ]
          },
          "metadata": {
            "tags": []
          },
          "execution_count": 157
        }
      ]
    },
    {
      "metadata": {
        "id": "JIai2Zx1bc7G",
        "colab_type": "code",
        "colab": {}
      },
      "cell_type": "code",
      "source": [
        "predicted = m.predict( X_test.tolist())"
      ],
      "execution_count": 0,
      "outputs": []
    },
    {
      "metadata": {
        "id": "MUSTlpmEboVu",
        "colab_type": "code",
        "outputId": "38809bae-04f2-4faf-f713-1964e868edc4",
        "colab": {
          "base_uri": "https://localhost:8080/",
          "height": 34
        }
      },
      "cell_type": "code",
      "source": [
        "predicted"
      ],
      "execution_count": 0,
      "outputs": [
        {
          "output_type": "execute_result",
          "data": {
            "text/plain": [
              "array([2, 0, 2, ..., 2, 0, 1])"
            ]
          },
          "metadata": {
            "tags": []
          },
          "execution_count": 159
        }
      ]
    },
    {
      "metadata": {
        "id": "re3TgRUuooiA",
        "colab_type": "code",
        "outputId": "98e5f3c0-2c5e-468f-ff5b-d7264e3db678",
        "colab": {
          "base_uri": "https://localhost:8080/",
          "height": 34
        }
      },
      "cell_type": "code",
      "source": [
        "from sklearn import metrics\n",
        "\n",
        "'Accuracy', metrics.accuracy_score(Y_test, predicted)"
      ],
      "execution_count": 0,
      "outputs": [
        {
          "output_type": "execute_result",
          "data": {
            "text/plain": [
              "('Accuracy', 0.4212121212121212)"
            ]
          },
          "metadata": {
            "tags": []
          },
          "execution_count": 160
        }
      ]
    },
    {
      "metadata": {
        "id": "V3WB9iUvlZHP",
        "colab_type": "code",
        "outputId": "99501d9e-7ed9-45a4-bb80-51515b2ce3e1",
        "colab": {
          "base_uri": "https://localhost:8080/",
          "height": 236
        }
      },
      "cell_type": "code",
      "source": [
        "metrics.confusion_matrix(y_test, y_pred)"
      ],
      "execution_count": 0,
      "outputs": [
        {
          "output_type": "execute_result",
          "data": {
            "text/plain": [
              "array([[298,   1,   0,   2,   0,   0,   0,   0,   0,   0,   0,   0,   0],\n",
              "       [  5,   3,   0,   0,   0,   0,   0,   0,   0,   0,   0,   0,   0],\n",
              "       [  3,   0,   2,   1,   1,   0,   0,   0,   0,   0,   0,   0,   0],\n",
              "       [  0,   0,   0,   0,   0,   0,   0,   0,   0,   0,   0,   0,   0],\n",
              "       [  0,   0,   0,   0,   2,   0,   1,   0,   0,   0,   0,   0,   0],\n",
              "       [  0,   0,   0,   0,   2,   1,   0,   0,   0,   0,   0,   0,   0],\n",
              "       [  0,   0,   0,   0,   0,   0,   0,   0,   0,   1,   0,   0,   0],\n",
              "       [  0,   0,   0,   0,   0,   0,   0,   2,   0,   0,   0,   0,   0],\n",
              "       [  0,   0,   0,   0,   0,   0,   0,   0,   0,   0,   0,   0,   1],\n",
              "       [  0,   0,   0,   0,   0,   0,   0,   0,   0,   0,   0,   0,   1],\n",
              "       [  0,   0,   0,   0,   0,   0,   0,   0,   2,   0,   0,   0,   0],\n",
              "       [  0,   0,   0,   0,   0,   0,   0,   0,   0,   0,   0,   0,   1],\n",
              "       [  0,   0,   0,   0,   0,   0,   0,   0,   0,   0,   0,   0,   0]])"
            ]
          },
          "metadata": {
            "tags": []
          },
          "execution_count": 161
        }
      ]
    },
    {
      "metadata": {
        "id": "SKjnUA0HQlTX",
        "colab_type": "text"
      },
      "cell_type": "markdown",
      "source": [
        "### 8.14 Random Forrest Classifier\n",
        "\n",
        "Using a different classifier to see if it possible to get a better accuracy score,\n"
      ]
    },
    {
      "metadata": {
        "id": "hRBuoZkHQrm2",
        "colab_type": "code",
        "outputId": "51fed825-f9f5-4ed3-d9b9-c09e28183b19",
        "colab": {
          "base_uri": "https://localhost:8080/",
          "height": 50
        }
      },
      "cell_type": "code",
      "source": [
        "from sklearn.ensemble import RandomForestClassifier\n",
        "\n",
        "X_train, X_test, y_train, y_test = train_test_split(X, Y, test_size=0.33, random_state=42)\n",
        "print(\"train:\" , X_train.shape)\n",
        "print(\"test:\" , X_test.shape)"
      ],
      "execution_count": 0,
      "outputs": [
        {
          "output_type": "stream",
          "text": [
            "train: (3350,)\n",
            "test: (1650,)\n"
          ],
          "name": "stdout"
        }
      ]
    },
    {
      "metadata": {
        "id": "U15-qlllQ2VC",
        "colab_type": "code",
        "colab": {}
      },
      "cell_type": "code",
      "source": [
        "f = RandomForestClassifier(n_estimators=10)\n",
        "f.fit(X_train.tolist(),y_train.tolist())\n",
        "y_pred = f.predict(X_test.tolist())\n"
      ],
      "execution_count": 0,
      "outputs": []
    },
    {
      "metadata": {
        "id": "XZd95yCARTnf",
        "colab_type": "code",
        "outputId": "652ab771-94fc-42a0-a9f6-cf3b54e8134d",
        "colab": {
          "base_uri": "https://localhost:8080/",
          "height": 34
        }
      },
      "cell_type": "code",
      "source": [
        "'Accuracy', metrics.accuracy_score(y_test, y_pred)"
      ],
      "execution_count": 0,
      "outputs": [
        {
          "output_type": "execute_result",
          "data": {
            "text/plain": [
              "('Accuracy', 0.41515151515151516)"
            ]
          },
          "metadata": {
            "tags": []
          },
          "execution_count": 164
        }
      ]
    },
    {
      "metadata": {
        "id": "4Zqa0i5BIwGm",
        "colab_type": "code",
        "outputId": "8e2d9ce5-d85d-417c-94bf-4c70a20f97a2",
        "colab": {
          "base_uri": "https://localhost:8080/",
          "height": 84
        }
      },
      "cell_type": "code",
      "source": [
        "metrics.confusion_matrix(y_test, y_pred)"
      ],
      "execution_count": 0,
      "outputs": [
        {
          "output_type": "execute_result",
          "data": {
            "text/plain": [
              "array([[220, 301,  38,   0],\n",
              "       [223, 409,  60,   1],\n",
              "       [ 74, 211,  55,   2],\n",
              "       [  9,  31,  15,   1]])"
            ]
          },
          "metadata": {
            "tags": []
          },
          "execution_count": 165
        }
      ]
    },
    {
      "metadata": {
        "id": "pD3o68_gnGJA",
        "colab_type": "text"
      },
      "cell_type": "markdown",
      "source": [
        "### 8.15  Using SVM Classifier\n",
        "\n",
        "Now let us use a different classifier to see if we get a better accuracy score."
      ]
    },
    {
      "metadata": {
        "id": "iu8gGqtsn-gu",
        "colab_type": "code",
        "outputId": "e173c945-4407-4a9a-dc57-570c3396d0e2",
        "colab": {
          "base_uri": "https://localhost:8080/",
          "height": 50
        }
      },
      "cell_type": "code",
      "source": [
        "from sklearn.svm import SVC\n",
        "\n",
        "X_train, X_test, y_train, y_test = train_test_split(X, Y, test_size=0.33, random_state=42)\n",
        "print(\"train:\" , X_train.shape)\n",
        "print(\"test:\" , X_test.shape)"
      ],
      "execution_count": 0,
      "outputs": [
        {
          "output_type": "stream",
          "text": [
            "train: (3350,)\n",
            "test: (1650,)\n"
          ],
          "name": "stdout"
        }
      ]
    },
    {
      "metadata": {
        "id": "hsdSlnAhoKTv",
        "colab_type": "code",
        "colab": {}
      },
      "cell_type": "code",
      "source": [
        "t = SVC()\n",
        "t.fit(X_train.tolist(),y_train.tolist())\n",
        "y_pred = t.predict(X_test.tolist())"
      ],
      "execution_count": 0,
      "outputs": []
    },
    {
      "metadata": {
        "id": "Xs_ghVfUoTMF",
        "colab_type": "code",
        "outputId": "1fd8ca3d-bd38-4d77-94da-55eb37207e91",
        "colab": {
          "base_uri": "https://localhost:8080/",
          "height": 34
        }
      },
      "cell_type": "code",
      "source": [
        "'Accuracy', metrics.accuracy_score(y_test, y_pred)"
      ],
      "execution_count": 0,
      "outputs": [
        {
          "output_type": "execute_result",
          "data": {
            "text/plain": [
              "('Accuracy', 0.42)"
            ]
          },
          "metadata": {
            "tags": []
          },
          "execution_count": 168
        }
      ]
    },
    {
      "metadata": {
        "id": "SL6gDkn2GcFO",
        "colab_type": "text"
      },
      "cell_type": "markdown",
      "source": [
        "### 8.16 Applying to Fake News Dataset"
      ]
    },
    {
      "metadata": {
        "id": "y0KNkN-psP9n",
        "colab_type": "text"
      },
      "cell_type": "markdown",
      "source": [
        "Applying the trained model (multinomial NB) onto unseen data in the fake news dataset,"
      ]
    },
    {
      "metadata": {
        "id": "-uHMyne7Gnsz",
        "colab_type": "code",
        "outputId": "71fd8923-f5f7-4453-ce82-2d7e1bc4b3da",
        "colab": {
          "base_uri": "https://localhost:8080/",
          "height": 1063
        }
      },
      "cell_type": "code",
      "source": [
        "data_kaggle[ 'text_distilled' ] = data_kaggle[ 'text_distilled' ].apply( remove_nonenglish )\n",
        "data_kaggle[ 'text_distilled_joined' ] = data_kaggle[ 'text_distilled' ].apply( lambda x : ' '.join(x) )\n",
        "data_kaggle[ 'text_distilled_joined' ]"
      ],
      "execution_count": 0,
      "outputs": [
        {
          "output_type": "execute_result",
          "data": {
            "text/plain": [
              "0      busted stole millions print pay back money plu...\n",
              "1      attorney general lynch plead fifth attorney ge...\n",
              "2      breaking investigation red state fox news morn...\n",
              "3      pin drop speech father daughter j trump prison...\n",
              "4      fantastic trump point plan reform bombshell re...\n",
              "5      goes absolutely berserk protester rally video ...\n",
              "6      breaking ready make case island least times mo...\n",
              "7      wow chilling story massive voter fraud trump c...\n",
              "8      breaking last minute trick energize base said ...\n",
              "9      evil yell f trump burn truck daddy fishing yr ...\n",
              "10                                       goes dean video\n",
              "11     say leave u let hold comedian would move buy h...\n",
              "12     give safe cry trump win threaten pro trump exp...\n",
              "13     boom math trump would beaten election republic...\n",
              "14     boom president handled negotiate negotiate vid...\n",
              "15     trump supporter got reporter covering anti tru...\n",
              "16     special message said move canada trump video c...\n",
              "17     punch trump face anti trump support new movie ...\n",
              "18     never sold original painting one going white h...\n",
              "19     sorry stop win popular vote article dear woman...\n",
              "20     mark event doubt market really video mark made...\n",
              "21     trump supporter whose brutal beating black mob...\n",
              "22     wow white suggest stupid get figure use video ...\n",
              "23     wife actor said never president trump presiden...\n",
              "24     epic tucker councilman sanctuary video article...\n",
              "25     funny solution democrat election denial safe s...\n",
              "26     trump meeting press real fake news everyone li...\n",
              "27     crybaby pence video trump media transition upd...\n",
              "28     white trump live interview n word video articl...\n",
              "29     boom boom barracuda brigade love woman one sma...\n",
              "                             ...                        \n",
              "970    industrial dough kneader kill bakery oven used...\n",
              "971    north supporter voting multiple times supporte...\n",
              "972    area report voting wrong noted wrongly voter c...\n",
              "973    exposed plan bribe let corruption like endless...\n",
              "974    manipulate extent allies manipulate serve demo...\n",
              "975    brad tired taking money voting trump need unem...\n",
              "976    industrial dough kneader kill bakery oven used...\n",
              "977    trump musket former congressman former congres...\n",
              "978    insider bill word nickname dirty bad wonder bi...\n",
              "979    declare war also known growing increasingly an...\n",
              "980    fear trump bush property non extradition bill ...\n",
              "981    north supporter voting multiple times supporte...\n",
              "982    area report voting wrong noted wrongly voter c...\n",
              "983    exposed plan bribe let corruption like endless...\n",
              "984    brad tired taking money voting trump need unem...\n",
              "985    mason untrustworthy serve bathroom attendant s...\n",
              "986    insider bill word nickname dirty bad wonder bi...\n",
              "987    declare war also known growing increasingly an...\n",
              "988    fear trump bush property non extradition bill ...\n",
              "989    mason untrustworthy serve bathroom attendant s...\n",
              "990    manipulate extent allies manipulate serve demo...\n",
              "991    north sacred nuclear war country continue supp...\n",
              "992    north sacred nuclear war country continue supp...\n",
              "993    trump musket former congressman former congres...\n",
              "994    death millions forgotten war times made refere...\n",
              "995    primary media candidate system excitement elec...\n",
              "996    airport targeted ansar set fire informed sourc...\n",
              "997    possible king tried law according law governme...\n",
              "998    possible king tried law according law governme...\n",
              "999    death millions forgotten war times made refere...\n",
              "Name: text_distilled_joined, Length: 1000, dtype: object"
            ]
          },
          "metadata": {
            "tags": []
          },
          "execution_count": 169
        }
      ]
    },
    {
      "metadata": {
        "id": "eTO4f90bR7jy",
        "colab_type": "code",
        "outputId": "efd371e7-20db-4d09-fabf-a4980ad21d77",
        "colab": {
          "base_uri": "https://localhost:8080/",
          "height": 377
        }
      },
      "cell_type": "code",
      "source": [
        "XB = data_kaggle[ 'text_distilled_joined' ].apply( vectorTFidTransform )\n",
        "\n",
        "predicted = m.predict( XB.tolist())\n",
        "plt.hist(predicted, bins, histtype='bar', rwidth=0.8, cumulative=False )\n",
        "plt.xlabel( \"Political Spectrum\" )\n",
        "plt.ylabel( \"Count\")"
      ],
      "execution_count": 0,
      "outputs": [
        {
          "output_type": "execute_result",
          "data": {
            "text/plain": [
              "Text(0,0.5,'Count')"
            ]
          },
          "metadata": {
            "tags": []
          },
          "execution_count": 170
        },
        {
          "output_type": "display_data",
          "data": {
            "image/png": "[encoded data removed]",
            "text/plain": [
              "<matplotlib.figure.Figure at 0x7f58d1123588>"
            ]
          },
          "metadata": {
            "tags": []
          }
        }
      ]
    },
    {
      "metadata": {
        "id": "s7xcxWwelm7A",
        "colab_type": "text"
      },
      "cell_type": "markdown",
      "source": [
        "### 8.17 Using doc2vec"
      ]
    },
    {
      "metadata": {
        "id": "j223rSGmlx23",
        "colab_type": "text"
      },
      "cell_type": "markdown",
      "source": [
        "Using term frequency approach (TF-IDF) we get many entries with very sparse vectors. Because the resultant vectors are difficult to distinguish we have very low resultant accuracy score. word2vec may give us more dense vectors to work with. However, word2vec is specific to individual words. To apply at tocument/text level we should use doc2vec. Let us use doc2vec to see if we get better prediction model.\n",
        "\n",
        "The key with doc2vector is to have large dimension, and use random forrest with many subtrees."
      ]
    },
    {
      "metadata": {
        "id": "WSVOtASnl7QU",
        "colab_type": "code",
        "outputId": "e9d6889b-06a4-4b83-f9c6-2195ee23de4c",
        "colab": {
          "base_uri": "https://localhost:8080/",
          "height": 70
        }
      },
      "cell_type": "code",
      "source": [
        "from gensim.models import Doc2Vec\n",
        "from gensim.models.doc2vec import TaggedDocument\n",
        "\n",
        "def taggedDocuments( text ):\n",
        "   return TaggedDocument(words=text.split(), tags=[u'a']) \n",
        "  \n",
        "political_data[ 'text_distilled_tagged' ] = political_data.text_distilled.apply( taggedDocuments )\n",
        "   \n",
        "m = Doc2Vec( political_data[ 'text_distilled_tagged' ], dm=0, epoch=100, alpha=0.3, size= 800, min_alpha=0.025)"
      ],
      "execution_count": 0,
      "outputs": [
        {
          "output_type": "stream",
          "text": [
            "/usr/local/lib/python3.6/dist-packages/gensim/models/doc2vec.py:570: UserWarning: The parameter `size` is deprecated, will be removed in 4.0.0, use `vector_size` instead.\n",
            "  warnings.warn(\"The parameter `size` is deprecated, will be removed in 4.0.0, use `vector_size` instead.\")\n"
          ],
          "name": "stderr"
        }
      ]
    },
    {
      "metadata": {
        "id": "K0fZ_5S3fMFc",
        "colab_type": "text"
      },
      "cell_type": "markdown",
      "source": [
        "Test the model with some test words."
      ]
    },
    {
      "metadata": {
        "id": "IW0lFdTDfRId",
        "colab_type": "code",
        "outputId": "8a30fb68-2338-4590-de99-153a4b20b7f3",
        "colab": {
          "base_uri": "https://localhost:8080/",
          "height": 273
        }
      },
      "cell_type": "code",
      "source": [
        "m.most_similar('test')"
      ],
      "execution_count": 0,
      "outputs": [
        {
          "output_type": "stream",
          "text": [
            "/usr/local/lib/python3.6/dist-packages/ipykernel_launcher.py:1: DeprecationWarning: Call to deprecated `most_similar` (Method will be removed in 4.0.0, use self.wv.most_similar() instead).\n",
            "  \"\"\"Entry point for launching an IPython kernel.\n",
            "/usr/local/lib/python3.6/dist-packages/gensim/matutils.py:737: FutureWarning: Conversion of the second argument of issubdtype from `int` to `np.signedinteger` is deprecated. In future, it will be treated as `np.int64 == np.dtype(int).type`.\n",
            "  if np.issubdtype(vec.dtype, np.int):\n"
          ],
          "name": "stderr"
        },
        {
          "output_type": "execute_result",
          "data": {
            "text/plain": [
              "[('sustainable', 0.15260544419288635),\n",
              " ('warning', 0.12006232142448425),\n",
              " ('little', 0.10804597288370132),\n",
              " ('meet', 0.10648909211158752),\n",
              " ('sell', 0.09959084540605545),\n",
              " ('make', 0.09690513461828232),\n",
              " ('dealing', 0.09671814739704132),\n",
              " ('helping', 0.09656314551830292),\n",
              " ('gilbert', 0.09463967382907867),\n",
              " ('remain', 0.0939127653837204)]"
            ]
          },
          "metadata": {
            "tags": []
          },
          "execution_count": 172
        }
      ]
    },
    {
      "metadata": {
        "id": "CC-dTK1dfWn0",
        "colab_type": "code",
        "outputId": "25466b92-c980-4669-90d0-a49d1af4f79f",
        "colab": {
          "base_uri": "https://localhost:8080/",
          "height": 273
        }
      },
      "cell_type": "code",
      "source": [
        "m.most_similar('issue')"
      ],
      "execution_count": 0,
      "outputs": [
        {
          "output_type": "stream",
          "text": [
            "/usr/local/lib/python3.6/dist-packages/ipykernel_launcher.py:1: DeprecationWarning: Call to deprecated `most_similar` (Method will be removed in 4.0.0, use self.wv.most_similar() instead).\n",
            "  \"\"\"Entry point for launching an IPython kernel.\n",
            "/usr/local/lib/python3.6/dist-packages/gensim/matutils.py:737: FutureWarning: Conversion of the second argument of issubdtype from `int` to `np.signedinteger` is deprecated. In future, it will be treated as `np.int64 == np.dtype(int).type`.\n",
            "  if np.issubdtype(vec.dtype, np.int):\n"
          ],
          "name": "stderr"
        },
        {
          "output_type": "execute_result",
          "data": {
            "text/plain": [
              "[('minimum', 0.11455125361680984),\n",
              " ('energy', 0.1042715460062027),\n",
              " ('choose', 0.1012926772236824),\n",
              " ('way', 0.10079152882099152),\n",
              " ('pete', 0.09716001152992249),\n",
              " ('coalition', 0.0961112231016159),\n",
              " ('remind', 0.09480765461921692),\n",
              " ('quickly', 0.0942106544971466),\n",
              " ('productive', 0.09287691116333008),\n",
              " ('dark', 0.09286034107208252)]"
            ]
          },
          "metadata": {
            "tags": []
          },
          "execution_count": 173
        }
      ]
    },
    {
      "metadata": {
        "id": "H_VpK6fUeIqI",
        "colab_type": "text"
      },
      "cell_type": "markdown",
      "source": [
        "Now train the model using doc2vec"
      ]
    },
    {
      "metadata": {
        "id": "nXPLutlhguMq",
        "colab_type": "code",
        "colab": {}
      },
      "cell_type": "code",
      "source": [
        "import numpy as np\n",
        "\n",
        "def encodeFirstColumn( text ):\n",
        "   return m.infer_vector( text.split(), alpha=0.1, epochs=1 )\n",
        "   \n",
        "political_data[ 'vector' ] = political_data.text_distilled.apply( encodeFirstColumn )"
      ],
      "execution_count": 0,
      "outputs": []
    },
    {
      "metadata": {
        "id": "uf0NVFFCiNuz",
        "colab_type": "text"
      },
      "cell_type": "markdown",
      "source": [
        "Verify the contents of `political_Data['vector']`"
      ]
    },
    {
      "metadata": {
        "id": "ICRqARrQiQyD",
        "colab_type": "code",
        "outputId": "8d63294c-0fa7-44e7-c757-f898509e3bdd",
        "colab": {
          "base_uri": "https://localhost:8080/",
          "height": 118
        }
      },
      "cell_type": "code",
      "source": [
        "political_data[ 'vector' ].head(5)"
      ],
      "execution_count": 0,
      "outputs": [
        {
          "output_type": "execute_result",
          "data": {
            "text/plain": [
              "0    [0.02627542, -0.010603811, 0.008526943, -0.012...\n",
              "1    [0.047775775, -0.019378832, 0.012831894, -0.02...\n",
              "2    [0.046100736, -0.017791303, 0.009148796, -0.02...\n",
              "3    [0.00013170607, -0.0013320881, -0.0031535323, ...\n",
              "4    [0.06406267, -0.028716525, 0.012423496, -0.035...\n",
              "Name: vector, dtype: object"
            ]
          },
          "metadata": {
            "tags": []
          },
          "execution_count": 175
        }
      ]
    },
    {
      "metadata": {
        "id": "VezdK2c8j-yz",
        "colab_type": "code",
        "colab": {}
      },
      "cell_type": "code",
      "source": [
        "for i in range( len( political_data[ 'vector' ] ) ):\n",
        "   assert len(political_data[ 'vector' ][0]) == len(political_data[ 'vector' ][i]) "
      ],
      "execution_count": 0,
      "outputs": []
    },
    {
      "metadata": {
        "id": "rrDe62z1iqxR",
        "colab_type": "text"
      },
      "cell_type": "markdown",
      "source": [
        "### 8.18. Using Random Forrest Classifier on Doc2vec Embeddings\n",
        "\n",
        "Let us now use Random Forrest Classifier on Doc2Vec Embeddings"
      ]
    },
    {
      "metadata": {
        "id": "zJ5429Cbiw9_",
        "colab_type": "code",
        "outputId": "f7df1845-3264-414b-f72b-508dc0240b40",
        "colab": {
          "base_uri": "https://localhost:8080/",
          "height": 127
        }
      },
      "cell_type": "code",
      "source": [
        "# First split the vectors of word2vec into individual columns\n",
        "\n",
        "X_D2V_prep = political_data[['vector']]\n",
        "d2vector_dim = len(X_D2V_prep.vector[0])\n",
        "\n",
        "def select(d2vec, idx):\n",
        "   return d2vec[idx]\n",
        "\n",
        "d2v_prep_dict = {}\n",
        "for i in range( d2vector_dim ):\n",
        "   d2v_prep_dict[str(i)] = []\n",
        "    \n",
        "X_D2V = pd.DataFrame(d2v_prep_dict)\n",
        "\n",
        "for i in range( d2vector_dim ):\n",
        "   X_D2V[str(i)] = X_D2V_prep.vector.apply( lambda x : select(x, i ) )\n",
        "    \n",
        "X_D2V.head(1)"
      ],
      "execution_count": 0,
      "outputs": [
        {
          "output_type": "execute_result",
          "data": {
            "text/html": [
              "<div>\n",
              "<style scoped>\n",
              "    .dataframe tbody tr th:only-of-type {\n",
              "        vertical-align: middle;\n",
              "    }\n",
              "\n",
              "    .dataframe tbody tr th {\n",
              "        vertical-align: top;\n",
              "    }\n",
              "\n",
              "    .dataframe thead th {\n",
              "        text-align: right;\n",
              "    }\n",
              "</style>\n",
              "<table border=\"1\" class=\"dataframe\">\n",
              "  <thead>\n",
              "    <tr style=\"text-align: right;\">\n",
              "      <th></th>\n",
              "      <th>0</th>\n",
              "      <th>1</th>\n",
              "      <th>10</th>\n",
              "      <th>100</th>\n",
              "      <th>101</th>\n",
              "      <th>102</th>\n",
              "      <th>103</th>\n",
              "      <th>104</th>\n",
              "      <th>105</th>\n",
              "      <th>106</th>\n",
              "      <th>...</th>\n",
              "      <th>90</th>\n",
              "      <th>91</th>\n",
              "      <th>92</th>\n",
              "      <th>93</th>\n",
              "      <th>94</th>\n",
              "      <th>95</th>\n",
              "      <th>96</th>\n",
              "      <th>97</th>\n",
              "      <th>98</th>\n",
              "      <th>99</th>\n",
              "    </tr>\n",
              "  </thead>\n",
              "  <tbody>\n",
              "    <tr>\n",
              "      <th>0</th>\n",
              "      <td>0.026275</td>\n",
              "      <td>-0.010604</td>\n",
              "      <td>0.024562</td>\n",
              "      <td>-0.002734</td>\n",
              "      <td>0.001917</td>\n",
              "      <td>-0.068802</td>\n",
              "      <td>-0.006514</td>\n",
              "      <td>-0.036223</td>\n",
              "      <td>-0.059496</td>\n",
              "      <td>-0.002922</td>\n",
              "      <td>...</td>\n",
              "      <td>-0.032039</td>\n",
              "      <td>-0.022412</td>\n",
              "      <td>0.022635</td>\n",
              "      <td>-0.035098</td>\n",
              "      <td>-0.027277</td>\n",
              "      <td>0.021377</td>\n",
              "      <td>0.06749</td>\n",
              "      <td>-0.016717</td>\n",
              "      <td>0.042036</td>\n",
              "      <td>-0.064385</td>\n",
              "    </tr>\n",
              "  </tbody>\n",
              "</table>\n",
              "<p>1 rows × 800 columns</p>\n",
              "</div>"
            ],
            "text/plain": [
              "          0         1        10       100       101       102       103  \\\n",
              "0  0.026275 -0.010604  0.024562 -0.002734  0.001917 -0.068802 -0.006514   \n",
              "\n",
              "        104       105       106    ...           90        91        92  \\\n",
              "0 -0.036223 -0.059496 -0.002922    ...    -0.032039 -0.022412  0.022635   \n",
              "\n",
              "         93        94        95       96        97        98        99  \n",
              "0 -0.035098 -0.027277  0.021377  0.06749 -0.016717  0.042036 -0.064385  \n",
              "\n",
              "[1 rows x 800 columns]"
            ]
          },
          "metadata": {
            "tags": []
          },
          "execution_count": 177
        }
      ]
    },
    {
      "metadata": {
        "id": "XoQN9Gyykfd1",
        "colab_type": "text"
      },
      "cell_type": "markdown",
      "source": [
        "Now let us get the labels (Y)"
      ]
    },
    {
      "metadata": {
        "id": "UJav5XONnXuk",
        "colab_type": "code",
        "colab": {}
      },
      "cell_type": "code",
      "source": [
        "Y_D2V = political_data['politicalDiscrete']"
      ],
      "execution_count": 0,
      "outputs": []
    },
    {
      "metadata": {
        "id": "Dy8N2bUxnoEY",
        "colab_type": "text"
      },
      "cell_type": "markdown",
      "source": [
        "Using Random Forrest Classifier,"
      ]
    },
    {
      "metadata": {
        "id": "Uh683AZ4nqCq",
        "colab_type": "code",
        "outputId": "89af893e-5562-454e-a35a-5a718a981d01",
        "colab": {
          "base_uri": "https://localhost:8080/",
          "height": 50
        }
      },
      "cell_type": "code",
      "source": [
        "from sklearn.ensemble import RandomForestClassifier\n",
        "\n",
        "X_train, X_test, y_train, y_test = train_test_split(X_D2V, Y_D2V, test_size=0.33, random_state=42)\n",
        "print(\"train:\" , X_train.shape)\n",
        "print(\"test:\" , X_test.shape)"
      ],
      "execution_count": 0,
      "outputs": [
        {
          "output_type": "stream",
          "text": [
            "train: (3350, 800)\n",
            "test: (1650, 800)\n"
          ],
          "name": "stdout"
        }
      ]
    },
    {
      "metadata": {
        "id": "b1bs1KTynuoM",
        "colab_type": "code",
        "colab": {}
      },
      "cell_type": "code",
      "source": [
        "f = RandomForestClassifier(n_estimators=100)\n",
        "f.fit(X_train,y_train)\n",
        "y_pred = f.predict(X_test)"
      ],
      "execution_count": 0,
      "outputs": []
    },
    {
      "metadata": {
        "id": "dGQRxc26n795",
        "colab_type": "text"
      },
      "cell_type": "markdown",
      "source": [
        "Accuracy score is around 40%, as shown below"
      ]
    },
    {
      "metadata": {
        "id": "OXm2wC7Tn9w7",
        "colab_type": "code",
        "outputId": "6a506ba5-08e2-427b-cf88-83c07e7e5c28",
        "colab": {
          "base_uri": "https://localhost:8080/",
          "height": 34
        }
      },
      "cell_type": "code",
      "source": [
        "'Accuracy', metrics.accuracy_score(y_test, y_pred)"
      ],
      "execution_count": 0,
      "outputs": [
        {
          "output_type": "execute_result",
          "data": {
            "text/plain": [
              "('Accuracy', 0.44)"
            ]
          },
          "metadata": {
            "tags": []
          },
          "execution_count": 181
        }
      ]
    },
    {
      "metadata": {
        "id": "demxO78luMuk",
        "colab_type": "code",
        "outputId": "9d3c1ee3-ddaa-4a4e-c631-9d508c5f7fdc",
        "colab": {
          "base_uri": "https://localhost:8080/",
          "height": 34
        }
      },
      "cell_type": "code",
      "source": [
        "# For caculating approximate time to process notebook (IGNORE)\n",
        "import datetime\n",
        "datetime.datetime.now()"
      ],
      "execution_count": 0,
      "outputs": [
        {
          "output_type": "execute_result",
          "data": {
            "text/plain": [
              "datetime.datetime(2018, 12, 9, 20, 23, 4, 200678)"
            ]
          },
          "metadata": {
            "tags": []
          },
          "execution_count": 182
        }
      ]
    },
    {
      "metadata": {
        "id": "fkzIohC5pBQS",
        "colab_type": "text"
      },
      "cell_type": "markdown",
      "source": [
        "## 9 Preparing for the Polynomial (News Coverage Score)\n",
        "\n",
        "To prepare for polynomial equation, we should apply the rank to the combined dataset of fake and non-fake news, prepared by Gene. Here are several reasons news coverage score has been chosen:\n",
        "\n",
        "- More accurate model\n",
        "- Clear difference between all news data set and fakenews dataset\n",
        "- Interest of time and resources"
      ]
    },
    {
      "metadata": {
        "id": "uf6lwvd-YZ3t",
        "colab_type": "text"
      },
      "cell_type": "markdown",
      "source": [
        "#### 9.1 Cleaning Up Exiting Data"
      ]
    },
    {
      "metadata": {
        "id": "7AmiK2Atuyyp",
        "colab_type": "code",
        "outputId": "31825ba2-7af0-47ca-c212-fb4a8d3d85b3",
        "colab": {
          "base_uri": "https://localhost:8080/",
          "height": 197
        }
      },
      "cell_type": "code",
      "source": [
        "# Clean up some existing data\n",
        "\n",
        "all_kaggle = all_kaggle.iloc[0:0]\n",
        "data_kaggle = data_kaggle.iloc[0:0] "
      ],
      "execution_count": 0,
      "outputs": [
        {
          "output_type": "error",
          "ename": "NameError",
          "evalue": "ignored",
          "traceback": [
            "\u001b[0;31m---------------------------------------------------------------------------\u001b[0m",
            "\u001b[0;31mNameError\u001b[0m                                 Traceback (most recent call last)",
            "\u001b[0;32m<ipython-input-2-705e776832de>\u001b[0m in \u001b[0;36m<module>\u001b[0;34m()\u001b[0m\n\u001b[1;32m      1\u001b[0m \u001b[0;34m\u001b[0m\u001b[0m\n\u001b[0;32m----> 2\u001b[0;31m \u001b[0mall_kaggle\u001b[0m \u001b[0;34m=\u001b[0m \u001b[0mall_kaggle\u001b[0m\u001b[0;34m.\u001b[0m\u001b[0miloc\u001b[0m\u001b[0;34m[\u001b[0m\u001b[0;36m0\u001b[0m\u001b[0;34m:\u001b[0m\u001b[0;36m0\u001b[0m\u001b[0;34m]\u001b[0m\u001b[0;34m\u001b[0m\u001b[0;34m\u001b[0m\u001b[0m\n\u001b[0m\u001b[1;32m      3\u001b[0m \u001b[0mdata_kaggle\u001b[0m \u001b[0;34m=\u001b[0m \u001b[0mdata_kaggle\u001b[0m\u001b[0;34m.\u001b[0m\u001b[0miloc\u001b[0m\u001b[0;34m[\u001b[0m\u001b[0;36m0\u001b[0m\u001b[0;34m:\u001b[0m\u001b[0;36m0\u001b[0m\u001b[0;34m]\u001b[0m\u001b[0;34m\u001b[0m\u001b[0;34m\u001b[0m\u001b[0m\n",
            "\u001b[0;31mNameError\u001b[0m: name 'all_kaggle' is not defined"
          ]
        }
      ]
    },
    {
      "metadata": {
        "id": "C2Ydtpy1YiyL",
        "colab_type": "text"
      },
      "cell_type": "markdown",
      "source": [
        "### 9.2 Uniform Data Preparation (By Gene)\n",
        "\n",
        "We need to apply our trained model on Gene's prepared data. No training is required. We just need to apply our model to this dataset."
      ]
    },
    {
      "metadata": {
        "id": "MgkthGJX5AKG",
        "colab_type": "code",
        "outputId": "a48203f6-9464-48ab-8a54-7e55cdd6858e",
        "colab": {
          "base_uri": "https://localhost:8080/",
          "height": 729
        }
      },
      "cell_type": "code",
      "source": [
        "!pip install gensim"
      ],
      "execution_count": 0,
      "outputs": [
        {
          "output_type": "stream",
          "text": [
            "Collecting gensim\n",
            "\u001b[?25l  Downloading https://files.pythonhosted.org/packages/27/a4/d10c0acc8528d838cda5eede0ee9c784caa598dbf40bd0911ff8d067a7eb/gensim-3.6.0-cp36-cp36m-manylinux1_x86_64.whl (23.6MB)\n",
            "\u001b[K    100% |████████████████████████████████| 23.6MB 1.9MB/s \n",
            "\u001b[?25hRequirement already satisfied: scipy>=0.18.1 in /usr/local/lib/python3.6/dist-packages (from gensim) (1.1.0)\n",
            "Requirement already satisfied: six>=1.5.0 in /usr/local/lib/python3.6/dist-packages (from gensim) (1.11.0)\n",
            "Collecting smart-open>=1.2.1 (from gensim)\n",
            "  Downloading https://files.pythonhosted.org/packages/4b/1f/6f27e3682124de63ac97a0a5876da6186de6c19410feab66c1543afab055/smart_open-1.7.1.tar.gz\n",
            "Requirement already satisfied: numpy>=1.11.3 in /usr/local/lib/python3.6/dist-packages (from gensim) (1.14.6)\n",
            "Collecting boto>=2.32 (from smart-open>=1.2.1->gensim)\n",
            "\u001b[?25l  Downloading https://files.pythonhosted.org/packages/23/10/c0b78c27298029e4454a472a1919bde20cb182dab1662cec7f2ca1dcc523/boto-2.49.0-py2.py3-none-any.whl (1.4MB)\n",
            "\u001b[K    100% |████████████████████████████████| 1.4MB 16.9MB/s \n",
            "\u001b[?25hCollecting bz2file (from smart-open>=1.2.1->gensim)\n",
            "  Downloading https://files.pythonhosted.org/packages/61/39/122222b5e85cd41c391b68a99ee296584b2a2d1d233e7ee32b4532384f2d/bz2file-0.98.tar.gz\n",
            "Requirement already satisfied: requests in /usr/local/lib/python3.6/dist-packages (from smart-open>=1.2.1->gensim) (2.18.4)\n",
            "Collecting boto3 (from smart-open>=1.2.1->gensim)\n",
            "\u001b[?25l  Downloading https://files.pythonhosted.org/packages/9c/b9/7df67f1775d240ac8d111211f967fa75ecc9968ae79ffa0594e36345445f/boto3-1.9.62-py2.py3-none-any.whl (128kB)\n",
            "\u001b[K    100% |████████████████████████████████| 133kB 29.2MB/s \n",
            "\u001b[?25hRequirement already satisfied: certifi>=2017.4.17 in /usr/local/lib/python3.6/dist-packages (from requests->smart-open>=1.2.1->gensim) (2018.11.29)\n",
            "Requirement already satisfied: chardet<3.1.0,>=3.0.2 in /usr/local/lib/python3.6/dist-packages (from requests->smart-open>=1.2.1->gensim) (3.0.4)\n",
            "Requirement already satisfied: idna<2.7,>=2.5 in /usr/local/lib/python3.6/dist-packages (from requests->smart-open>=1.2.1->gensim) (2.6)\n",
            "Requirement already satisfied: urllib3<1.23,>=1.21.1 in /usr/local/lib/python3.6/dist-packages (from requests->smart-open>=1.2.1->gensim) (1.22)\n",
            "Collecting jmespath<1.0.0,>=0.7.1 (from boto3->smart-open>=1.2.1->gensim)\n",
            "  Downloading https://files.pythonhosted.org/packages/b7/31/05c8d001f7f87f0f07289a5fc0fc3832e9a57f2dbd4d3b0fee70e0d51365/jmespath-0.9.3-py2.py3-none-any.whl\n",
            "Collecting s3transfer<0.2.0,>=0.1.10 (from boto3->smart-open>=1.2.1->gensim)\n",
            "\u001b[?25l  Downloading https://files.pythonhosted.org/packages/d7/14/2a0004d487464d120c9fb85313a75cd3d71a7506955be458eebfe19a6b1d/s3transfer-0.1.13-py2.py3-none-any.whl (59kB)\n",
            "\u001b[K    100% |████████████████████████████████| 61kB 24.4MB/s \n",
            "\u001b[?25hCollecting botocore<1.13.0,>=1.12.62 (from boto3->smart-open>=1.2.1->gensim)\n",
            "\u001b[?25l  Downloading https://files.pythonhosted.org/packages/e2/77/35e82076e3beb506280f94213a258819378115f174e516ce69b3a2336e1c/botocore-1.12.62-py2.py3-none-any.whl (5.1MB)\n",
            "\u001b[K    100% |████████████████████████████████| 5.1MB 7.3MB/s \n",
            "\u001b[?25hRequirement already satisfied: python-dateutil<3.0.0,>=2.1; python_version >= \"2.7\" in /usr/local/lib/python3.6/dist-packages (from botocore<1.13.0,>=1.12.62->boto3->smart-open>=1.2.1->gensim) (2.5.3)\n",
            "Collecting docutils>=0.10 (from botocore<1.13.0,>=1.12.62->boto3->smart-open>=1.2.1->gensim)\n",
            "\u001b[?25l  Downloading https://files.pythonhosted.org/packages/36/fa/08e9e6e0e3cbd1d362c3bbee8d01d0aedb2155c4ac112b19ef3cae8eed8d/docutils-0.14-py3-none-any.whl (543kB)\n",
            "\u001b[K    100% |████████████████████████████████| 552kB 24.8MB/s \n",
            "\u001b[?25hBuilding wheels for collected packages: smart-open, bz2file\n",
            "  Running setup.py bdist_wheel for smart-open ... \u001b[?25l-\b \bdone\n",
            "\u001b[?25h  Stored in directory: /root/.cache/pip/wheels/23/00/44/e5b939f7a80c04e32297dbd6d96fa3065af89ecf57e2b5f89f\n",
            "  Running setup.py bdist_wheel for bz2file ... \u001b[?25l-\b \bdone\n",
            "\u001b[?25h  Stored in directory: /root/.cache/pip/wheels/81/75/d6/e1317bf09bf1af5a30befc2a007869fa6e1f516b8f7c591cb9\n",
            "Successfully built smart-open bz2file\n",
            "Installing collected packages: boto, bz2file, jmespath, docutils, botocore, s3transfer, boto3, smart-open, gensim\n",
            "Successfully installed boto-2.49.0 boto3-1.9.62 botocore-1.12.62 bz2file-0.98 docutils-0.14 gensim-3.6.0 jmespath-0.9.3 s3transfer-0.1.13 smart-open-1.7.1\n"
          ],
          "name": "stdout"
        }
      ]
    },
    {
      "metadata": {
        "id": "LPc-q4aGpgtl",
        "colab_type": "code",
        "outputId": "67c50aa4-110b-4ae3-b5cd-3e9fd9ebe2bc",
        "colab": {
          "base_uri": "https://localhost:8080/",
          "height": 152
        }
      },
      "cell_type": "code",
      "source": [
        "##### PREPARED BY GENE #####\n",
        "# dependencies\n",
        "import pandas as pd\n",
        "import nltk\n",
        "import numpy as np\n",
        "import io\n",
        "import requests\n",
        "from sklearn.feature_extraction.text import TfidfVectorizer\n",
        "from nltk import word_tokenize\n",
        "from nltk.corpus import stopwords\n",
        "# from sklearn.pipeline import Pipeline\n",
        "from sklearn.decomposition import TruncatedSVD\n",
        "from sklearn.feature_selection import chi2\n",
        "from string import punctuation\n",
        "from nltk import PorterStemmer\n",
        "import copy \n",
        "import re, math\n",
        "from sklearn.model_selection import train_test_split\n",
        "from nltk import WordNetLemmatizer\n",
        "from nltk import bigrams\n",
        "from nltk.util import ngrams\n",
        "from nltk.sentiment.vader import SentimentIntensityAnalyzer\n",
        "from gensim.models.ldamodel import LdaModel\n",
        "from gensim.corpora import Dictionary\n",
        "import pickle\n",
        "from collections import Counter\n",
        "from sklearn.ensemble import RandomForestClassifier\n",
        "from sklearn.svm import SVC\n",
        "from sklearn.linear_model import LogisticRegression\n",
        "from sklearn.naive_bayes import GaussianNB\n",
        "from sklearn.metrics import accuracy_score, confusion_matrix, roc_auc_score\n",
        "from xgboost import XGBClassifier\n",
        "\n",
        "nltk.download('vader_lexicon')\n",
        "nltk.download('punkt')\n",
        "nltk.download('stopwords')\n",
        "nltk.download('wordnet')"
      ],
      "execution_count": 0,
      "outputs": [
        {
          "output_type": "stream",
          "text": [
            "[nltk_data] Downloading package vader_lexicon to /root/nltk_data...\n",
            "[nltk_data] Downloading package punkt to /root/nltk_data...\n",
            "[nltk_data]   Unzipping tokenizers/punkt.zip.\n",
            "[nltk_data] Downloading package stopwords to /root/nltk_data...\n",
            "[nltk_data]   Unzipping corpora/stopwords.zip.\n",
            "[nltk_data] Downloading package wordnet to /root/nltk_data...\n",
            "[nltk_data]   Unzipping corpora/wordnet.zip.\n"
          ],
          "name": "stdout"
        },
        {
          "output_type": "execute_result",
          "data": {
            "text/plain": [
              "True"
            ]
          },
          "metadata": {
            "tags": []
          },
          "execution_count": 7
        }
      ]
    },
    {
      "metadata": {
        "id": "yHe-bOHApmVA",
        "colab_type": "code",
        "outputId": "bec9a649-464f-43c0-a4fd-1d0ae875d30d",
        "colab": {
          "base_uri": "https://localhost:8080/",
          "height": 104
        }
      },
      "cell_type": "code",
      "source": [
        "##### PREPARED BY GENE #####\n",
        "def get_parsed_data2(url):\n",
        "    return pd.read_csv(io.StringIO(requests.get(url, verify=False).content.decode('utf-8')), sep=',', header='infer')\n",
        "\n",
        "# download and parse the dataset...\n",
        "data_kg_fake_news = get_parsed_data2('https://github.com/synle/machine-learning-sample-dataset/raw/master/liar_dataset/kaggle/kaggle-fake.csv')"
      ],
      "execution_count": 0,
      "outputs": [
        {
          "output_type": "stream",
          "text": [
            "/usr/local/lib/python3.6/dist-packages/urllib3/connectionpool.py:858: InsecureRequestWarning: Unverified HTTPS request is being made. Adding certificate verification is strongly advised. See: https://urllib3.readthedocs.io/en/latest/advanced-usage.html#ssl-warnings\n",
            "  InsecureRequestWarning)\n",
            "/usr/local/lib/python3.6/dist-packages/urllib3/connectionpool.py:858: InsecureRequestWarning: Unverified HTTPS request is being made. Adding certificate verification is strongly advised. See: https://urllib3.readthedocs.io/en/latest/advanced-usage.html#ssl-warnings\n",
            "  InsecureRequestWarning)\n"
          ],
          "name": "stderr"
        }
      ]
    },
    {
      "metadata": {
        "id": "AtR9cJxFpsAZ",
        "colab_type": "code",
        "outputId": "24706b80-3a16-4e3a-a1a0-1668f54beab6",
        "colab": {
          "base_uri": "https://localhost:8080/",
          "height": 70
        }
      },
      "cell_type": "code",
      "source": [
        "##### PREPARED BY GENE #####\n",
        "data_kg_nonfake_news = get_parsed_data2('https://dock2.hyunwookshin.com/public/cmpe257_a1/articles1.csv')"
      ],
      "execution_count": 0,
      "outputs": [
        {
          "output_type": "stream",
          "text": [
            "/usr/local/lib/python3.6/dist-packages/urllib3/connectionpool.py:858: InsecureRequestWarning: Unverified HTTPS request is being made. Adding certificate verification is strongly advised. See: https://urllib3.readthedocs.io/en/latest/advanced-usage.html#ssl-warnings\n",
            "  InsecureRequestWarning)\n"
          ],
          "name": "stderr"
        }
      ]
    },
    {
      "metadata": {
        "id": "P4XaxlhWpwy2",
        "colab_type": "code",
        "colab": {}
      },
      "cell_type": "code",
      "source": [
        "#### PREPARED BY GENE (MODIFIED) #####\n",
        "def tokenize2(text):\n",
        "    cachedStopWords = set(stopwords.words('english') + list(punctuation))\n",
        "    min_length = 3\n",
        "    # tokenize\n",
        "    # convert to lower case\n",
        "    words = map(lambda word: word.lower(), word_tokenize(text))\n",
        "    # remove stop words\n",
        "    words = [word for word in words if word not in cachedStopWords]\n",
        "    # steming\n",
        "    #tokens = list(map(lambda token: PorterStemmer().stem(token), words))\n",
        "    # lemmatize\n",
        "    lemmas = [WordNetLemmatizer().lemmatize(word) for word in words]\n",
        "    # only focus on alphabetic words\n",
        "    p = re.compile('[a-zA-Z]+')\n",
        "    \n",
        "    filtered_lemmas = list(filter(lambda lemma: p.match(lemma) and len(lemma) >= min_length, lemmas))\n",
        "    return filtered_lemmas\n"
      ],
      "execution_count": 0,
      "outputs": []
    },
    {
      "metadata": {
        "id": "K5w6iiEZ0JTR",
        "colab_type": "code",
        "colab": {}
      },
      "cell_type": "code",
      "source": [
        "### PREPARED BY GENE (MODIFIED)\n",
        "data_kg_nonfake_news.rename(columns={\"content\": \"text\"}, inplace=True)\n",
        "data_kg_nonfake_news['type'] = 0\n",
        "data_kg_fake_news.loc[data_kg_fake_news['type']!='bs', 'type'] = 0\n",
        "data_kg_fake_news.loc[data_kg_fake_news['type']=='bs', 'type'] = 1\n",
        "\n",
        "\n",
        "### From Earlier Part of the assignment\n",
        "def setDate( published ):\n",
        "   return published.split( \"T\" )[0]\n",
        "  \n",
        "data_kg_fake_news[ 'date' ] = data_kg_fake_news.published.apply( setDate )\n",
        "\n",
        "all_data = pd.concat([data_kg_fake_news[['date', 'title','text','type']], data_kg_nonfake_news[['date', 'title','text','type']]])"
      ],
      "execution_count": 0,
      "outputs": []
    },
    {
      "metadata": {
        "id": "aceO8aMm5-bM",
        "colab_type": "code",
        "outputId": "ace66214-77c5-485c-e098-67d11529688a",
        "colab": {
          "base_uri": "https://localhost:8080/",
          "height": 67
        }
      },
      "cell_type": "code",
      "source": [
        "all_data.type.value_counts()"
      ],
      "execution_count": 0,
      "outputs": [
        {
          "output_type": "execute_result",
          "data": {
            "text/plain": [
              "0    51507\n",
              "1    11492\n",
              "Name: type, dtype: int64"
            ]
          },
          "metadata": {
            "tags": []
          },
          "execution_count": 18
        }
      ]
    },
    {
      "metadata": {
        "id": "dg9ucgHo6lUe",
        "colab_type": "code",
        "colab": {}
      },
      "cell_type": "code",
      "source": [
        "all_data_to_export = all_data[[\"title\"]]\n",
        "all_data_to_export.to_csv('all_data_mini.csv', 'w' )\n",
        "from google.colab import files\n",
        "\n",
        "files.download('all_data_mini.csv')"
      ],
      "execution_count": 0,
      "outputs": []
    },
    {
      "metadata": {
        "id": "LGwTsk1gp62l",
        "colab_type": "code",
        "colab": {}
      },
      "cell_type": "code",
      "source": [
        "##### PREPARED BY GENE #####\n",
        "all_data['text_clean']=all_data['text'].astype('U').apply(tokenize2)\n",
        "#all_data['title_clean']=all_data['title'].astype('U').apply(tokenize2)"
      ],
      "execution_count": 0,
      "outputs": []
    },
    {
      "metadata": {
        "id": "gToCjmRTrEDe",
        "colab_type": "text"
      },
      "cell_type": "markdown",
      "source": [
        "Please refer to section 7.9 - 14 for explanations"
      ]
    },
    {
      "metadata": {
        "id": "npXQ9HDU3Nsl",
        "colab_type": "code",
        "colab": {}
      },
      "cell_type": "code",
      "source": [
        "all_data.text_clean.head(2)"
      ],
      "execution_count": 0,
      "outputs": []
    },
    {
      "metadata": {
        "id": "53nejRhj6IbI",
        "colab_type": "code",
        "colab": {}
      },
      "cell_type": "code",
      "source": [
        "all_data.type.value_counts()"
      ],
      "execution_count": 0,
      "outputs": []
    },
    {
      "metadata": {
        "id": "auh3CfmuZFsL",
        "colab_type": "text"
      },
      "cell_type": "markdown",
      "source": [
        "### 9.3 Applying LDA (as done before)"
      ]
    },
    {
      "metadata": {
        "id": "SUk43bSXqsZw",
        "colab_type": "code",
        "colab": {}
      },
      "cell_type": "code",
      "source": [
        "#all_data['text_distilled'] = all_data[ 'text_clean' ].apply( lambda x : x.split())\n",
        "from gensim.models.ldamodel import LdaModel\n",
        "from gensim.corpora import Dictionary\n",
        "\n",
        "def topics(tokenized_words):\n",
        "    if len( tokenized_words ) == 0 :\n",
        "      return []\n",
        "    d = Dictionary([tokenized_words])\n",
        "    c = [d.doc2bow(tokenized_words)]\n",
        "    m = LdaModel(c, num_topics=1, id2word=d)\n",
        "    return list(m.print_topics(num_words=2))\n",
        "  \n",
        "all_data['topics'] = all_data['text_clean'].apply(topics)\n"
      ],
      "execution_count": 0,
      "outputs": []
    },
    {
      "metadata": {
        "id": "fAVl3EZk5wHR",
        "colab_type": "code",
        "colab": {}
      },
      "cell_type": "code",
      "source": [
        "all_data['topics'].head(20)"
      ],
      "execution_count": 0,
      "outputs": []
    },
    {
      "metadata": {
        "id": "iA6Uytjb5rIe",
        "colab_type": "code",
        "colab": {}
      },
      "cell_type": "code",
      "source": [
        "\n",
        "def parseTopics(topics):\n",
        "   output = []\n",
        "   if len( topics ) >= 1 :\n",
        "      words = topics[0][1].split( '+' )\n",
        "   else:\n",
        "      return []\n",
        "   for word in words:\n",
        "       if '*' not in word:\n",
        "           print(word)\n",
        "           output.append( word )\n",
        "       else:\n",
        "           output.append( word.split('*')[1].replace( '\"', '' ) )\n",
        "   if len( output ) < 2:\n",
        "      output.append( output[0] )\n",
        "   if len( output ) != 2:\n",
        "      return output[:2]\n",
        "   if not isinstance( output[0], str ) or not isinstance( output[1], str ):\n",
        "      print( output )\n",
        "      assert isinstance( output[0], str )\n",
        "      assert isinstance( output[1], str )\n",
        "   return output"
      ],
      "execution_count": 0,
      "outputs": []
    },
    {
      "metadata": {
        "id": "uIpZ2p7orDIc",
        "colab_type": "code",
        "colab": {}
      },
      "cell_type": "code",
      "source": [
        "all_data['topics'] = all_data['topics'].apply(parseTopics)"
      ],
      "execution_count": 0,
      "outputs": []
    },
    {
      "metadata": {
        "id": "pDHoVJiOY9-_",
        "colab_type": "text"
      },
      "cell_type": "markdown",
      "source": [
        "### 9.4 Encoding Topics using word2vec (Same Practice)"
      ]
    },
    {
      "metadata": {
        "id": "SMHYRuc3rStb",
        "colab_type": "code",
        "colab": {}
      },
      "cell_type": "code",
      "source": [
        "m = Word2Vec( all_data[ 'text_clean' ] )\n",
        "vector_dim = len(m[list(m.wv.vocab)[0]])\n",
        "\n",
        "def encodeFirstColumn( topics ):\n",
        "   if len(topics) == 0:\n",
        "      return np.zeros( len(m[list(m.wv.vocab)[0]]) ).tolist()\n",
        "   topic = topics[0].strip()\n",
        "   if topic in m:\n",
        "      return m[topic].tolist()\n",
        "   else:\n",
        "      return np.zeros( len(m[list(m.wv.vocab)[0]]) ).tolist()\n",
        "    \n",
        "def encodeSecondColumn( topics ):\n",
        "   if len(topics) == 0:\n",
        "      return np.zeros( len(m[list(m.wv.vocab)[0]]) ).tolist()\n",
        "   topic = topics[0].strip()\n",
        "   if topic in m:\n",
        "      return m[topic].tolist()\n",
        "   else:\n",
        "      return np.zeros( len(m[list(m.wv.vocab)[0]]) ).tolist()\n",
        "    \n",
        "all_data[ 'topic_0' ] = all_data.topics.apply( encodeFirstColumn )\n",
        "all_data[ 'topic_1' ] = all_data.topics.apply( encodeSecondColumn )"
      ],
      "execution_count": 0,
      "outputs": []
    },
    {
      "metadata": {
        "id": "G1uM8QhQG886",
        "colab_type": "code",
        "colab": {}
      },
      "cell_type": "code",
      "source": [
        "all_data.head(2)"
      ],
      "execution_count": 0,
      "outputs": []
    },
    {
      "metadata": {
        "id": "M8qvjQz5voEd",
        "colab_type": "code",
        "colab": {}
      },
      "cell_type": "code",
      "source": [
        "all_data[ 'date_int' ] = all_data.date.apply( setNumericDate )"
      ],
      "execution_count": 0,
      "outputs": []
    },
    {
      "metadata": {
        "id": "-YjzryxOHEDx",
        "colab_type": "code",
        "outputId": "5353c3d4-43d2-473d-8352-f35d20bbfd58",
        "colab": {
          "base_uri": "https://localhost:8080/",
          "height": 217
        }
      },
      "cell_type": "code",
      "source": [
        "all_data.head(1)"
      ],
      "execution_count": 0,
      "outputs": [
        {
          "output_type": "execute_result",
          "data": {
            "text/html": [
              "<div>\n",
              "<style scoped>\n",
              "    .dataframe tbody tr th:only-of-type {\n",
              "        vertical-align: middle;\n",
              "    }\n",
              "\n",
              "    .dataframe tbody tr th {\n",
              "        vertical-align: top;\n",
              "    }\n",
              "\n",
              "    .dataframe thead th {\n",
              "        text-align: right;\n",
              "    }\n",
              "</style>\n",
              "<table border=\"1\" class=\"dataframe\">\n",
              "  <thead>\n",
              "    <tr style=\"text-align: right;\">\n",
              "      <th></th>\n",
              "      <th>date</th>\n",
              "      <th>title</th>\n",
              "      <th>text</th>\n",
              "      <th>type</th>\n",
              "      <th>text_clean</th>\n",
              "      <th>topics</th>\n",
              "      <th>topic_0</th>\n",
              "      <th>topic_1</th>\n",
              "      <th>date_int</th>\n",
              "    </tr>\n",
              "  </thead>\n",
              "  <tbody>\n",
              "    <tr>\n",
              "      <th>0</th>\n",
              "      <td>2016-10-26</td>\n",
              "      <td>Muslims BUSTED: They Stole Millions In Gov’t B...</td>\n",
              "      <td>Print They should pay all the back all the mon...</td>\n",
              "      <td>0</td>\n",
              "      <td>[print, pay, back, money, plus, interest, enti...</td>\n",
              "      <td>[government , group]</td>\n",
              "      <td>[0.33058086037635803, 2.121378183364868, 1.218...</td>\n",
              "      <td>[0.33058086037635803, 2.121378183364868, 1.218...</td>\n",
              "      <td>201610</td>\n",
              "    </tr>\n",
              "  </tbody>\n",
              "</table>\n",
              "</div>"
            ],
            "text/plain": [
              "         date                                              title  \\\n",
              "0  2016-10-26  Muslims BUSTED: They Stole Millions In Gov’t B...   \n",
              "\n",
              "                                                text  type  \\\n",
              "0  Print They should pay all the back all the mon...     0   \n",
              "\n",
              "                                          text_clean                topics  \\\n",
              "0  [print, pay, back, money, plus, interest, enti...  [government , group]   \n",
              "\n",
              "                                             topic_0  \\\n",
              "0  [0.33058086037635803, 2.121378183364868, 1.218...   \n",
              "\n",
              "                                             topic_1  date_int  \n",
              "0  [0.33058086037635803, 2.121378183364868, 1.218...    201610  "
            ]
          },
          "metadata": {
            "tags": []
          },
          "execution_count": 279
        }
      ]
    },
    {
      "metadata": {
        "id": "m2Aj0rzQwwuB",
        "colab_type": "code",
        "colab": {}
      },
      "cell_type": "code",
      "source": [
        "for i in range( vector_dim ):\n",
        "   all_data[str(i)] = all_data.topic_0.apply( lambda x : select(x, i ) )\n",
        "    \n",
        "for i in range( vector_dim ):\n",
        "   all_data[str(vector_dim + i)] = all_data.topic_0.apply( lambda x : select(x, i ) )"
      ],
      "execution_count": 0,
      "outputs": []
    },
    {
      "metadata": {
        "id": "m7N75jLuHXmh",
        "colab_type": "code",
        "outputId": "7e346056-754b-439b-92a5-2d7281a56714",
        "colab": {
          "base_uri": "https://localhost:8080/",
          "height": 394
        }
      },
      "cell_type": "code",
      "source": [
        "all_data.head(2)"
      ],
      "execution_count": 0,
      "outputs": [
        {
          "output_type": "execute_result",
          "data": {
            "text/html": [
              "<div>\n",
              "<style scoped>\n",
              "    .dataframe tbody tr th:only-of-type {\n",
              "        vertical-align: middle;\n",
              "    }\n",
              "\n",
              "    .dataframe tbody tr th {\n",
              "        vertical-align: top;\n",
              "    }\n",
              "\n",
              "    .dataframe thead th {\n",
              "        text-align: right;\n",
              "    }\n",
              "</style>\n",
              "<table border=\"1\" class=\"dataframe\">\n",
              "  <thead>\n",
              "    <tr style=\"text-align: right;\">\n",
              "      <th></th>\n",
              "      <th>date</th>\n",
              "      <th>title</th>\n",
              "      <th>text</th>\n",
              "      <th>type</th>\n",
              "      <th>text_clean</th>\n",
              "      <th>topics</th>\n",
              "      <th>topic_0</th>\n",
              "      <th>topic_1</th>\n",
              "      <th>date_int</th>\n",
              "      <th>0</th>\n",
              "      <th>...</th>\n",
              "      <th>190</th>\n",
              "      <th>191</th>\n",
              "      <th>192</th>\n",
              "      <th>193</th>\n",
              "      <th>194</th>\n",
              "      <th>195</th>\n",
              "      <th>196</th>\n",
              "      <th>197</th>\n",
              "      <th>198</th>\n",
              "      <th>199</th>\n",
              "    </tr>\n",
              "  </thead>\n",
              "  <tbody>\n",
              "    <tr>\n",
              "      <th>0</th>\n",
              "      <td>2016-10-26</td>\n",
              "      <td>Muslims BUSTED: They Stole Millions In Gov’t B...</td>\n",
              "      <td>Print They should pay all the back all the mon...</td>\n",
              "      <td>0</td>\n",
              "      <td>[print, pay, back, money, plus, interest, enti...</td>\n",
              "      <td>[government , group]</td>\n",
              "      <td>[0.33058086037635803, 2.121378183364868, 1.218...</td>\n",
              "      <td>[0.33058086037635803, 2.121378183364868, 1.218...</td>\n",
              "      <td>201610</td>\n",
              "      <td>0.330581</td>\n",
              "      <td>...</td>\n",
              "      <td>-0.397654</td>\n",
              "      <td>0.025636</td>\n",
              "      <td>0.737945</td>\n",
              "      <td>2.932276</td>\n",
              "      <td>0.489395</td>\n",
              "      <td>3.265204</td>\n",
              "      <td>-0.984716</td>\n",
              "      <td>1.315373</td>\n",
              "      <td>0.548298</td>\n",
              "      <td>0.633810</td>\n",
              "    </tr>\n",
              "    <tr>\n",
              "      <th>1</th>\n",
              "      <td>2016-10-29</td>\n",
              "      <td>Re: Why Did Attorney General Loretta Lynch Ple...</td>\n",
              "      <td>Why Did Attorney General Loretta Lynch Plead T...</td>\n",
              "      <td>0</td>\n",
              "      <td>[attorney, general, loretta, lynch, plead, fif...</td>\n",
              "      <td>[lynch , cash]</td>\n",
              "      <td>[-3.171513319015503, 2.4711062908172607, 0.836...</td>\n",
              "      <td>[-3.171513319015503, 2.4711062908172607, 0.836...</td>\n",
              "      <td>201610</td>\n",
              "      <td>-3.171513</td>\n",
              "      <td>...</td>\n",
              "      <td>-2.044656</td>\n",
              "      <td>-1.452841</td>\n",
              "      <td>-0.370701</td>\n",
              "      <td>-0.980904</td>\n",
              "      <td>1.364580</td>\n",
              "      <td>-0.213651</td>\n",
              "      <td>2.013889</td>\n",
              "      <td>2.158167</td>\n",
              "      <td>1.535949</td>\n",
              "      <td>1.817538</td>\n",
              "    </tr>\n",
              "  </tbody>\n",
              "</table>\n",
              "<p>2 rows × 209 columns</p>\n",
              "</div>"
            ],
            "text/plain": [
              "         date                                              title  \\\n",
              "0  2016-10-26  Muslims BUSTED: They Stole Millions In Gov’t B...   \n",
              "1  2016-10-29  Re: Why Did Attorney General Loretta Lynch Ple...   \n",
              "\n",
              "                                                text  type  \\\n",
              "0  Print They should pay all the back all the mon...     0   \n",
              "1  Why Did Attorney General Loretta Lynch Plead T...     0   \n",
              "\n",
              "                                          text_clean                topics  \\\n",
              "0  [print, pay, back, money, plus, interest, enti...  [government , group]   \n",
              "1  [attorney, general, loretta, lynch, plead, fif...        [lynch , cash]   \n",
              "\n",
              "                                             topic_0  \\\n",
              "0  [0.33058086037635803, 2.121378183364868, 1.218...   \n",
              "1  [-3.171513319015503, 2.4711062908172607, 0.836...   \n",
              "\n",
              "                                             topic_1  date_int         0  \\\n",
              "0  [0.33058086037635803, 2.121378183364868, 1.218...    201610  0.330581   \n",
              "1  [-3.171513319015503, 2.4711062908172607, 0.836...    201610 -3.171513   \n",
              "\n",
              "     ...          190       191       192       193       194       195  \\\n",
              "0    ...    -0.397654  0.025636  0.737945  2.932276  0.489395  3.265204   \n",
              "1    ...    -2.044656 -1.452841 -0.370701 -0.980904  1.364580 -0.213651   \n",
              "\n",
              "        196       197       198       199  \n",
              "0 -0.984716  1.315373  0.548298  0.633810  \n",
              "1  2.013889  2.158167  1.535949  1.817538  \n",
              "\n",
              "[2 rows x 209 columns]"
            ]
          },
          "metadata": {
            "tags": []
          },
          "execution_count": 281
        }
      ]
    },
    {
      "metadata": {
        "id": "WSoCBKpCOD57",
        "colab_type": "text"
      },
      "cell_type": "markdown",
      "source": [
        "### 9.5 Generating coverage score"
      ]
    },
    {
      "metadata": {
        "id": "41I3GaynODQ4",
        "colab_type": "code",
        "colab": {}
      },
      "cell_type": "code",
      "source": [
        "keys = [str(i) for i in range(200)]\n",
        "X_Actual = all_data[['date_int'] + keys ]\n",
        "Y_Predict = f_cov.predict(X_Actual)"
      ],
      "execution_count": 0,
      "outputs": []
    },
    {
      "metadata": {
        "id": "sEElzGLGPcew",
        "colab_type": "code",
        "colab": {}
      },
      "cell_type": "code",
      "source": [
        "all_data['Coverage'] = Y_Predict "
      ],
      "execution_count": 0,
      "outputs": []
    },
    {
      "metadata": {
        "id": "0iSBauwTPtFW",
        "colab_type": "code",
        "outputId": "a3437bc6-eae7-44c9-83c6-df3b6659b8cd",
        "colab": {
          "base_uri": "https://localhost:8080/",
          "height": 34
        }
      },
      "cell_type": "code",
      "source": [
        "sorted(Y_Predict, reverse=True )[:10]"
      ],
      "execution_count": 0,
      "outputs": [
        {
          "output_type": "execute_result",
          "data": {
            "text/plain": [
              "[18, 18, 18, 18, 18, 18, 18, 18, 18, 18]"
            ]
          },
          "metadata": {
            "tags": []
          },
          "execution_count": 292
        }
      ]
    },
    {
      "metadata": {
        "id": "U2w2EU_u45jA",
        "colab_type": "code",
        "outputId": "7db94590-d136-4d8f-c8dc-87bc4de45e74",
        "colab": {
          "base_uri": "https://localhost:8080/",
          "height": 163
        }
      },
      "cell_type": "code",
      "source": [
        "all_data.type.value_counts()"
      ],
      "execution_count": 0,
      "outputs": [
        {
          "output_type": "error",
          "ename": "NameError",
          "evalue": "ignored",
          "traceback": [
            "\u001b[0;31m---------------------------------------------------------------------------\u001b[0m",
            "\u001b[0;31mNameError\u001b[0m                                 Traceback (most recent call last)",
            "\u001b[0;32m<ipython-input-1-0ff3763ac326>\u001b[0m in \u001b[0;36m<module>\u001b[0;34m()\u001b[0m\n\u001b[0;32m----> 1\u001b[0;31m \u001b[0mall_data\u001b[0m\u001b[0;34m.\u001b[0m\u001b[0mtype\u001b[0m\u001b[0;34m.\u001b[0m\u001b[0mvalue_counts\u001b[0m\u001b[0;34m(\u001b[0m\u001b[0;34m)\u001b[0m\u001b[0;34m\u001b[0m\u001b[0;34m\u001b[0m\u001b[0m\n\u001b[0m",
            "\u001b[0;31mNameError\u001b[0m: name 'all_data' is not defined"
          ]
        }
      ]
    },
    {
      "metadata": {
        "id": "z5C-YY4vPm6J",
        "colab_type": "code",
        "outputId": "60c71ec2-dc98-43a8-bc3b-a858c8fbff74",
        "colab": {
          "base_uri": "https://localhost:8080/",
          "height": 394
        }
      },
      "cell_type": "code",
      "source": [
        "all_data.head(2)"
      ],
      "execution_count": 0,
      "outputs": [
        {
          "output_type": "execute_result",
          "data": {
            "text/html": [
              "<div>\n",
              "<style scoped>\n",
              "    .dataframe tbody tr th:only-of-type {\n",
              "        vertical-align: middle;\n",
              "    }\n",
              "\n",
              "    .dataframe tbody tr th {\n",
              "        vertical-align: top;\n",
              "    }\n",
              "\n",
              "    .dataframe thead th {\n",
              "        text-align: right;\n",
              "    }\n",
              "</style>\n",
              "<table border=\"1\" class=\"dataframe\">\n",
              "  <thead>\n",
              "    <tr style=\"text-align: right;\">\n",
              "      <th></th>\n",
              "      <th>date</th>\n",
              "      <th>title</th>\n",
              "      <th>text</th>\n",
              "      <th>type</th>\n",
              "      <th>text_clean</th>\n",
              "      <th>topics</th>\n",
              "      <th>topic_0</th>\n",
              "      <th>topic_1</th>\n",
              "      <th>date_int</th>\n",
              "      <th>0</th>\n",
              "      <th>...</th>\n",
              "      <th>191</th>\n",
              "      <th>192</th>\n",
              "      <th>193</th>\n",
              "      <th>194</th>\n",
              "      <th>195</th>\n",
              "      <th>196</th>\n",
              "      <th>197</th>\n",
              "      <th>198</th>\n",
              "      <th>199</th>\n",
              "      <th>Coverage</th>\n",
              "    </tr>\n",
              "  </thead>\n",
              "  <tbody>\n",
              "    <tr>\n",
              "      <th>0</th>\n",
              "      <td>2016-10-26</td>\n",
              "      <td>Muslims BUSTED: They Stole Millions In Gov’t B...</td>\n",
              "      <td>Print They should pay all the back all the mon...</td>\n",
              "      <td>0</td>\n",
              "      <td>[print, pay, back, money, plus, interest, enti...</td>\n",
              "      <td>[government , group]</td>\n",
              "      <td>[0.33058086037635803, 2.121378183364868, 1.218...</td>\n",
              "      <td>[0.33058086037635803, 2.121378183364868, 1.218...</td>\n",
              "      <td>201610</td>\n",
              "      <td>0.330581</td>\n",
              "      <td>...</td>\n",
              "      <td>0.025636</td>\n",
              "      <td>0.737945</td>\n",
              "      <td>2.932276</td>\n",
              "      <td>0.489395</td>\n",
              "      <td>3.265204</td>\n",
              "      <td>-0.984716</td>\n",
              "      <td>1.315373</td>\n",
              "      <td>0.548298</td>\n",
              "      <td>0.633810</td>\n",
              "      <td>0</td>\n",
              "    </tr>\n",
              "    <tr>\n",
              "      <th>1</th>\n",
              "      <td>2016-10-29</td>\n",
              "      <td>Re: Why Did Attorney General Loretta Lynch Ple...</td>\n",
              "      <td>Why Did Attorney General Loretta Lynch Plead T...</td>\n",
              "      <td>0</td>\n",
              "      <td>[attorney, general, loretta, lynch, plead, fif...</td>\n",
              "      <td>[lynch , cash]</td>\n",
              "      <td>[-3.171513319015503, 2.4711062908172607, 0.836...</td>\n",
              "      <td>[-3.171513319015503, 2.4711062908172607, 0.836...</td>\n",
              "      <td>201610</td>\n",
              "      <td>-3.171513</td>\n",
              "      <td>...</td>\n",
              "      <td>-1.452841</td>\n",
              "      <td>-0.370701</td>\n",
              "      <td>-0.980904</td>\n",
              "      <td>1.364580</td>\n",
              "      <td>-0.213651</td>\n",
              "      <td>2.013889</td>\n",
              "      <td>2.158167</td>\n",
              "      <td>1.535949</td>\n",
              "      <td>1.817538</td>\n",
              "      <td>0</td>\n",
              "    </tr>\n",
              "  </tbody>\n",
              "</table>\n",
              "<p>2 rows × 210 columns</p>\n",
              "</div>"
            ],
            "text/plain": [
              "         date                                              title  \\\n",
              "0  2016-10-26  Muslims BUSTED: They Stole Millions In Gov’t B...   \n",
              "1  2016-10-29  Re: Why Did Attorney General Loretta Lynch Ple...   \n",
              "\n",
              "                                                text  type  \\\n",
              "0  Print They should pay all the back all the mon...     0   \n",
              "1  Why Did Attorney General Loretta Lynch Plead T...     0   \n",
              "\n",
              "                                          text_clean                topics  \\\n",
              "0  [print, pay, back, money, plus, interest, enti...  [government , group]   \n",
              "1  [attorney, general, loretta, lynch, plead, fif...        [lynch , cash]   \n",
              "\n",
              "                                             topic_0  \\\n",
              "0  [0.33058086037635803, 2.121378183364868, 1.218...   \n",
              "1  [-3.171513319015503, 2.4711062908172607, 0.836...   \n",
              "\n",
              "                                             topic_1  date_int         0  \\\n",
              "0  [0.33058086037635803, 2.121378183364868, 1.218...    201610  0.330581   \n",
              "1  [-3.171513319015503, 2.4711062908172607, 0.836...    201610 -3.171513   \n",
              "\n",
              "     ...          191       192       193       194       195       196  \\\n",
              "0    ...     0.025636  0.737945  2.932276  0.489395  3.265204 -0.984716   \n",
              "1    ...    -1.452841 -0.370701 -0.980904  1.364580 -0.213651  2.013889   \n",
              "\n",
              "        197       198       199  Coverage  \n",
              "0  1.315373  0.548298  0.633810         0  \n",
              "1  2.158167  1.535949  1.817538         0  \n",
              "\n",
              "[2 rows x 210 columns]"
            ]
          },
          "metadata": {
            "tags": []
          },
          "execution_count": 293
        }
      ]
    },
    {
      "metadata": {
        "id": "jmhUTyQSQdrD",
        "colab_type": "text"
      },
      "cell_type": "markdown",
      "source": [
        "### 9.6 Exporting csv file"
      ]
    },
    {
      "metadata": {
        "id": "jDU7r-jeQfdU",
        "colab_type": "code",
        "colab": {}
      },
      "cell_type": "code",
      "source": [
        "all_data_to_export = all_data[[\"title\", \"Coverage\"]]\n",
        "all_data_to_export.to_csv('all_data_coverage_condensed.csv', 'w' )"
      ],
      "execution_count": 0,
      "outputs": []
    },
    {
      "metadata": {
        "id": "R8ANQnadYPry",
        "colab_type": "code",
        "colab": {}
      },
      "cell_type": "code",
      "source": [
        "from google.colab import files\n",
        "\n",
        "files.download('all_data_coverage_condensed.csv')"
      ],
      "execution_count": 0,
      "outputs": []
    },
    {
      "metadata": {
        "id": "ZmFpmsBReluz",
        "colab_type": "text"
      },
      "cell_type": "markdown",
      "source": [
        "### 9.7 Plotting results for visualization"
      ]
    },
    {
      "metadata": {
        "id": "BXdP1JmmfaSp",
        "colab_type": "code",
        "outputId": "4e97d064-8358-4882-bf89-5137ecb52092",
        "colab": {
          "base_uri": "https://localhost:8080/",
          "height": 377
        }
      },
      "cell_type": "code",
      "source": [
        "import matplotlib.pyplot as plt\n",
        "\n",
        "bins = range(20)\n",
        "plt.hist(all_data.Coverage, bins, histtype='bar', rwidth=0.8, cumulative=False )\n",
        "plt.xlabel( \"Coverage Score\" )\n",
        "plt.ylabel( \"Count\")"
      ],
      "execution_count": 0,
      "outputs": [
        {
          "output_type": "execute_result",
          "data": {
            "text/plain": [
              "Text(0,0.5,'Count')"
            ]
          },
          "metadata": {
            "tags": []
          },
          "execution_count": 299
        },
        {
          "output_type": "display_data",
          "data": {
            "image/png": "[encoded data removed]",
            "text/plain": [
              "<matplotlib.figure.Figure at 0x7f579bf3ba58>"
            ]
          },
          "metadata": {
            "tags": []
          }
        }
      ]
    },
    {
      "metadata": {
        "id": "Lp0uOhGEnKmj",
        "colab_type": "code",
        "outputId": "d79540d2-9244-4b08-8fcd-7b7adb5a7fee",
        "colab": {
          "base_uri": "https://localhost:8080/",
          "height": 377
        }
      },
      "cell_type": "code",
      "source": [
        "plt.scatter(all_data.date_int, all_data.Coverage )\n",
        "plt.xlabel( \"Date (Integer/Concatenated Form)\" )\n",
        "plt.ylabel( \"Coverage Score\" )"
      ],
      "execution_count": 0,
      "outputs": [
        {
          "output_type": "execute_result",
          "data": {
            "text/plain": [
              "Text(0,0.5,'Coverage Score')"
            ]
          },
          "metadata": {
            "tags": []
          },
          "execution_count": 302
        },
        {
          "output_type": "display_data",
          "data": {
            "image/png": "[encoded data removed]",
            "text/plain": [
              "<matplotlib.figure.Figure at 0x7f57b1f33160>"
            ]
          },
          "metadata": {
            "tags": []
          }
        }
      ]
    },
    {
      "metadata": {
        "id": "VdXbya-ulkvZ",
        "colab_type": "text"
      },
      "cell_type": "markdown",
      "source": [
        "<h2>9 Works Cited</h2>\n",
        "\n",
        "Arsanjani, A. (2018, November 18). Notes : [Notes under #weekly-notes on slack]. Retrieved November 20, 2018. \n",
        "\n",
        "Classifier comparison¶. (n.d.). Retrieved November 20, 2018, from https://scikit-learn.org/stable/auto_examples/classification/plot_classifier_comparison.html \n",
        "\n",
        "Eight, F. (2016, November 20). Political Social Media Posts. Retrieved November 20, 2018, from https://www.kaggle.com/crowdflower/political-social-media-posts \n",
        "\n",
        "Li, S. (2018, May 31). Topic Modeling and Latent Dirichlet Allocation (LDA) in Python. Retrieved November 20, 2018, from https://towardsdatascience.com/topic-modeling-and-latent-dirichlet-allocation-in-python-9bf156893c24\n",
        "\n",
        "Martin, B., & Koufos, N. (n.d.). Sentiment Analysis on Reddit News Headlines with Python's Natural Language Toolkit (NLTK). Retrieved December 8, 2018, from https://www.learndatasci.com/tutorials/sentiment-analysis-reddit-headlines-pythons-nltk/\n",
        "\n",
        "News API. (n.d.). News API - A JSON API for live news and blog articles. Retrieved November 20, 2018, from https://newsapi.org/ \n",
        "\n",
        "Risdal, M. (2016, November 25). Getting Real about Fake News. Retrieved November 20, 2018, from https://www.kaggle.com/mrisdal/fake-news \n",
        "\n",
        "Shu, K., Sliva, A., Wang, S., Tang, J., & Liu, H. (2017). Fake News Detection on Social Media. ACM SIGKDD Explorations Newsletter, 19(1), 22-36. doi:10.1145/3137597.3137600 \n",
        "\n",
        "Thompson, A. (2017, August 20). All the news. Retrieved November 20, 2018, from https://www.kaggle.com/snapcrack/all-the-news \n",
        "\n",
        "Rehurek, R. (2018, September 20). Gensim: Topic modelling for humans. Retrieved December 4, 2018, from https://radimrehurek.com/gensim/models/doc2vec.html\n",
        "\n",
        "Budhiraja, A. (2018, May 14). A simple explanation of document embeddings generated using Doc2Vec. Retrieved December 4, 2018, from https://medium.com/@amarbudhiraja/understanding-document-embeddings-of-doc2vec-bfe7237a26da\n",
        "\n",
        "Rachuta, K. (2016, May 27). Importing and exporting CSV files in Python – Kasia Rachuta – Medium. Retrieved December 9, 2018, from https://medium.com/@kasiarachuta/importing-and-exporting-csv-files-in-python-7fa6e4d9f408\n",
        "\n",
        "RaRe-Technologies. (2018, October 4). RaRe-Technologies/gensim. Retrieved December 4, 2018, from https://github.com/RaRe-Technologies/gensim/blob/develop/gensim/models/doc2vec.py\n",
        "\n",
        "<h2> 10 Image Credits</h2>\n",
        "\n",
        "Pixabay. (n.d.). Newspaper Lot. Retrieved November 20, 2018, from https://www.pexels.com/photo/administration-articles-bank-black-and-white-261949/ \n",
        "\n",
        "Rawpixel.com. (n.d.). Person Reading the Daily Fake News Newspaper Sitting on Gray Couch. Retrieved November 20, 2018, from https://www.pexels.com/photo/person-reading-the-daily-fake-news-newspaper-sitting-on-gray-couch-1327218/ \n"
      ]
    }
  ]
}